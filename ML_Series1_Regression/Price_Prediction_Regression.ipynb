{
 "cells": [
  {
   "cell_type": "markdown",
   "id": "51a3e11d",
   "metadata": {},
   "source": [
    "<a href='https://fihm.ai/' target='_blank'><img src='https://i.postimg.cc/Y25KhxPM/q.png' border='0' width = 250 alt='q'/></a>"
   ]
  },
  {
   "cell_type": "markdown",
   "id": "5e3ea58d",
   "metadata": {},
   "source": [
    "## `Linear Regression - سلسلة فهم لتعلم الآلة - الجزء الأول `\n",
    "## `Fihm Series for Machine Learning - Part 1 - Linear Regression`\n",
    "## `توقع أسعار المركبات - Vehicle Price Prediction`"
   ]
  },
  {
   "cell_type": "markdown",
   "id": "dc9335a6",
   "metadata": {},
   "source": [
    "___\n",
    "### `مقدمة`\n",
    "\n",
    "`\n",
    "أهلا بكم في سلسلة فهم لتعلم الآلة والتي سوف نقوم - بإذن الله تعالى - فيها بتقديم عدة مشاريع مرتبطة بالحياة الواقعية لتوضيح كيفية استخدام خوارزميات تعلم الآلة، و ماهي الخطوات اللازمة في صناعة النماذج وكيفية اختيار النموذج المناسب. مشروعنا الأول هو توقع أسعار السيارات عن طريق الإنحدار الخطي و المعروف بـ  \n",
    "Regression`"
   ]
  },
  {
   "cell_type": "markdown",
   "id": "738769d5",
   "metadata": {},
   "source": [
    "___\n",
    "### `هل الذكاء الاصطناعي هو تعلم الآلة؟`\n",
    "`في بداية السلسلة، سوف نقوم بالإجابة على السؤال الذي يتكرر كثيرا: هل الذكاء الاصطناعي هو تعلم الآلة؟ والإجابة هي أن الذكاء الاصطناعي يتضمن جزء تعلم الآلة وأيضا يحتوي على أجزاء أخرى ليست بتعلم الآلة. ولذلك نستطيع القول أن كل نموذج تعلم آلة يعتبر ذكاء اصطناعي وليس العكس`\n",
    "\n",
    "<div>\n",
    "<img src=\"https://i.ibb.co/FJZs87V/Screen-Shot-2022-11-18-at-04-44-42.png\" width = 550>\n",
    "</div>\n",
    "\n",
    "\n",
    "`وللتوضيح أكثر، إن تعريف الذكاء الاصطناعي هو محاولة جعل أجهزة الحاسوب تقوم بمحاكاة المنطق البشري في اتخاذ القرارت دون تدخل مباشر من المستخدم مثل السيارات الذاتية القيادة. وقد يكون الذكاء الاصطناعي بالغ التعقيد أو بسيطًا جدًا، إحدى الأمثلة البسيطة على الذكاء الاصطناعي هو برمجة أجهزة التكييف للإنطفاء ذاتيا عند وصول درجة برودة محددة، فهنا نحن نحاكي منطق الإنسان في إطفاء جهاز التكييف عند وصول درجة البرودة المحددة وعن طريق الأتمتة جعلنا جهاز التكييف ينطفئ ذاتيا دون تدخل بشري. وعلى الرغم من أن هذا التطبيق يعتبر ذكاء اصطناعي إلا أنه لا يحتوي على تعلم الآلة`"
   ]
  },
  {
   "cell_type": "markdown",
   "id": "74e5c7c1",
   "metadata": {},
   "source": [
    "___\n",
    "### ` إذا ماهو تعلم الآلة؟`\n",
    "\n",
    "`\n",
    "إن تعلم الآلة هو طريقة لجعل الحاسب الآلي يقوم بحل مشكلات معينة عن طريق التعلم من البيانات المجمعة. ولذلك لابد من وجود بيانات من أجل التعلم منها واكتساب (الخبرة) من أجل اتخاذ القرارات من دون تدخل بشري. و في الحقيقة إن تعلم الآلة هو عبارة عن معادلات رياضية بحيث تكون البيانات هي المدخلات والمخرجات هي القرارت التي يتخذها الحاسوب. وهذه القرارات تختلف بحسب المشروع، وأشهرها ما يلي \n",
    "`\n",
    "\n",
    "#####   `توقع قيمة مستقبلية مثل قيمة الأسهم أو أسعار العقار • `\n",
    "#####     ` تصنيف الأشياء تحت أصناف محددة مثل هل الخلية سرطانية أم لا •`\n",
    "#####     `  تجميع البيانات المتشابهة مثل بيانات العملاء في مجموعات •`\n",
    "#####     `  تزويد توصيات للمستخدمين مثل اقتراحات اليوتيوب •`\n",
    "#####     `Siri و Alexa معالجة اللغات التي نتحدث فيها مثل  •`\n",
    "\n",
    "___\n",
    "### ` ماهي أنواع تعلم الآلة؟`\n",
    "\n",
    "`حسنا لقد استنتجت أن تعلم الآلة يستخدم في تطبيقات كثيرة في حياتنا الواقعية، وأنه بحسب الهدف من التطبيق نستطيع تحديد ماهو نوع تعلم الآلة (الخوارزمية) المناسب للمشروع وهذا استنتاج صحيح تمام. إذا ماهي أنواع تعلم الآلة؟ إن الجدول الذي بالأسفل يقوم بتوضيح أهم أنواع تعلم الآلة كما يلي `"
   ]
  },
  {
   "cell_type": "markdown",
   "id": "4e608ce5",
   "metadata": {},
   "source": [
    "| مثال | التعريف | النوع |\n",
    " --- | --- | --- |\n",
    "| أسعار السيارات والعقار حيث أننا نعلم أسعار السيارات الموجودة حاليا، وسوف نستخدم هذه المعرفة في توقع أسعار السيارات الجديدة | في هذا النوع من نماذج تعلم الآلة، يكون لدينا عامود محدد نعلم قيمه السابقة ونريد توقع القيم المستقبلية فيه | التعلم الآلي الخاضع للإشراف |\n",
    "| توزيع عملاء شركة الاتصالات إلى مجموعات مختلفة حيث أنه لا يوجد عامود يحدد ماهي مجموعات العملاء الحالية، ومن ثم وضع إعلانات مناسبة لكل مجموعة | في هذا النوع من تعلم الآلة، لا يوجد لدينا عامود محدد نستطيع بناء التوقعات عليه | التعلم الآلي الغير خاضع للإشراف |\n",
    "إيجاد الفيديوهات المتشابهة مثل توصيات اليوتيوب |هي الأنواع التي تكون إما خليط من النوعين الأولين أو أنها تعتمد على طرق أخرى | الأنواع الأخرى |\n",
    "\n",
    "`في هذه السلسلة سيكون تركيزنا على تغطية النوعين الأساسيين، وفي البداية سوف نستكشف سويًا خوارزميات تعلم الآلة الخاضعة للإشراف. حيث أن موضوع اليوم هو استخدام الإنحدار الخطي وهو نوع من أنواع التعلم الخاضع للإشراف لأننا نعلم ما نريد توقعه ألا وهو السعر`\n",
    "___\n",
    "### ` ما نوع البيانات المستخدم في تعلم الآلة؟`\n",
    "` عند بناء نماذج تعلم الآلة نقوم باستخدام البيانات المنظمة ثنائية الأبعاد والمعروفة بالجداول. حيث أن جداول البيانات تحتوي على أعمدة وصفوف تستخدم في تدريب (بناء خبرة) النماذج`\n",
    "\n",
    "`إذا، ماذا تمثل هذه الصفوف والأعمدة؟ لنتفرض أن لديك كشف درجات طلاب الفصل، سوف تلاحظ أن كل صف يمثل طالب محدد، وأن كل عامود يمثل درجته في مادة محددة. وبذلك نستنتج أن كل صف يمثل إدخال جديد لجدول البيانات مستقل عن غيره، وأن الأعمدة تسمى صفات الصفوف وذلك لأنها توضح معلومات عن الصفوف كما هو موضح في الجدول بالأسفل `\n",
    "\n",
    "<div>\n",
    "<img src=\"https://i.ibb.co/wg8mhn1/Screen-Shot-2022-11-14-at-04-13-06.png\" width = 550>\n",
    "</div>\n",
    "\n"
   ]
  },
  {
   "cell_type": "markdown",
   "id": "a8b01aa2",
   "metadata": {},
   "source": [
    "___\n",
    "### `ماهي مصطلحات تعلم الآلة؟`\n",
    "`خلال رحلتنا في هذه السلسلة، سوف نقوم بتقديم مصطلحات جديدة تستخدم عند بناء نماذج تعلم الآلة. وسوف نقوم بذكرها باللغة الإنجليزية وترجمتها باللغة العربية. في هذا المشروع سوف نستخدم المصطلحات التالية: `\n",
    "\n",
    "`1 - Instance: صف`\n",
    "\n",
    "`كل صف يمثل وحدة جديدة في الجدول، وكلما ازدادت عدد الصفوف كل ما زادت دقة نماذج تعلم الآلة (إلى حد معين فقط ثم يصبح التأثير سلبي) و بامكاننا اعتبار عدد الصفوف كالخبرة، كلما ازدادت كلما زادت الخبرة`\n",
    "\n",
    "`2 - Feature, Column, Attribute: صفة، عامود، ميزة`\n",
    "\n",
    "`الأعمدة أو الصفات أو الميزات هي مصطلحات تصف نفس الشيء، ألا وهو الأعمدة في جدول البيانات، وفي العادة هناك نوعين من الأعمدة، أعمدة مستقلة وأعمدة مستهدفة `\n",
    "\n",
    "`3 - Target column: العامود المستهدف`\n",
    "\n",
    "`هو العامود الذي نريد توقع قيمته وهو يعتمد على قيمة الأعمدة الأخرى`\n",
    "\n",
    "`4 - Independent columns: أعمدة مستقلة`\n",
    "\n",
    "`هذه هي الأعمدة الي تستخدم لتوقع قيمة العامود المستهدف`"
   ]
  },
  {
   "cell_type": "markdown",
   "id": "5a7317be",
   "metadata": {},
   "source": [
    "___\n",
    "### `ماذا نريد أن نفعل؟`\n",
    "\n",
    "`\n",
    "في هذا المشروع، أنت عالم بيانات لشركة مهتمة في دخول سوق السيارات حيث أنها تريد معرفة تكلفة التصنيع وأسعار البيع من أجل إيجاد هامش الربح. مهمتك هي بناء نموذج تعلم الآلة يتوقع سعر السيارة بناء على البيانات المزودة لديك، حيث أن الشركة من خلال هذا النموذج تستطيع تقدير تكلفة صناعة السيارة وماهي الأرباح المتوقعة  \n",
    "`\n",
    "\n",
    "\n",
    "`تستطيع تحميل البيانات من هنا`\n",
    "\n",
    "https://github.com/KAFSALAH/Fihm_Lessons/blob/master/ML_Series1_Regression/CarPrices.csv\n",
    "\n",
    "`أو من الرابط الأصلي مصدر البيانات`\n",
    "\n",
    "https://www.kaggle.com/datasets/goyalshalini93/car-data?select=CarPrice_Assignment.csv\n"
   ]
  },
  {
   "cell_type": "markdown",
   "id": "c666783b",
   "metadata": {},
   "source": [
    "___\n",
    "### `Step One: Explore Data — الخطوة الأولى: استكشاف البيانات المستخدمة`"
   ]
  },
  {
   "cell_type": "code",
   "execution_count": 1,
   "id": "74c59677",
   "metadata": {},
   "outputs": [
    {
     "name": "stdout",
     "output_type": "stream",
     "text": [
      "——————————————————————————\n",
      "أول ثلاثة صفوف في الجدول هي\n"
     ]
    },
    {
     "data": {
      "text/html": [
       "<div>\n",
       "<style scoped>\n",
       "    .dataframe tbody tr th:only-of-type {\n",
       "        vertical-align: middle;\n",
       "    }\n",
       "\n",
       "    .dataframe tbody tr th {\n",
       "        vertical-align: top;\n",
       "    }\n",
       "\n",
       "    .dataframe thead th {\n",
       "        text-align: right;\n",
       "    }\n",
       "</style>\n",
       "<table border=\"1\" class=\"dataframe\">\n",
       "  <thead>\n",
       "    <tr style=\"text-align: right;\">\n",
       "      <th></th>\n",
       "      <th>car_ID</th>\n",
       "      <th>symboling</th>\n",
       "      <th>CarName</th>\n",
       "      <th>fueltype</th>\n",
       "      <th>aspiration</th>\n",
       "      <th>doornumber</th>\n",
       "      <th>carbody</th>\n",
       "      <th>drivewheel</th>\n",
       "      <th>enginelocation</th>\n",
       "      <th>wheelbase</th>\n",
       "      <th>...</th>\n",
       "      <th>enginesize</th>\n",
       "      <th>fuelsystem</th>\n",
       "      <th>boreratio</th>\n",
       "      <th>stroke</th>\n",
       "      <th>compressionratio</th>\n",
       "      <th>horsepower</th>\n",
       "      <th>peakrpm</th>\n",
       "      <th>citympg</th>\n",
       "      <th>highwaympg</th>\n",
       "      <th>price</th>\n",
       "    </tr>\n",
       "  </thead>\n",
       "  <tbody>\n",
       "    <tr>\n",
       "      <th>0</th>\n",
       "      <td>1</td>\n",
       "      <td>3</td>\n",
       "      <td>alfa-romero giulia</td>\n",
       "      <td>gas</td>\n",
       "      <td>std</td>\n",
       "      <td>two</td>\n",
       "      <td>convertible</td>\n",
       "      <td>rwd</td>\n",
       "      <td>front</td>\n",
       "      <td>88.6</td>\n",
       "      <td>...</td>\n",
       "      <td>130</td>\n",
       "      <td>mpfi</td>\n",
       "      <td>3.47</td>\n",
       "      <td>2.68</td>\n",
       "      <td>9.0</td>\n",
       "      <td>111</td>\n",
       "      <td>5000</td>\n",
       "      <td>21</td>\n",
       "      <td>27</td>\n",
       "      <td>13495.0</td>\n",
       "    </tr>\n",
       "    <tr>\n",
       "      <th>1</th>\n",
       "      <td>2</td>\n",
       "      <td>3</td>\n",
       "      <td>alfa-romero stelvio</td>\n",
       "      <td>gas</td>\n",
       "      <td>std</td>\n",
       "      <td>two</td>\n",
       "      <td>convertible</td>\n",
       "      <td>rwd</td>\n",
       "      <td>front</td>\n",
       "      <td>88.6</td>\n",
       "      <td>...</td>\n",
       "      <td>130</td>\n",
       "      <td>mpfi</td>\n",
       "      <td>3.47</td>\n",
       "      <td>2.68</td>\n",
       "      <td>9.0</td>\n",
       "      <td>111</td>\n",
       "      <td>5000</td>\n",
       "      <td>21</td>\n",
       "      <td>27</td>\n",
       "      <td>16500.0</td>\n",
       "    </tr>\n",
       "    <tr>\n",
       "      <th>2</th>\n",
       "      <td>3</td>\n",
       "      <td>1</td>\n",
       "      <td>alfa-romero Quadrifoglio</td>\n",
       "      <td>gas</td>\n",
       "      <td>std</td>\n",
       "      <td>two</td>\n",
       "      <td>hatchback</td>\n",
       "      <td>rwd</td>\n",
       "      <td>front</td>\n",
       "      <td>94.5</td>\n",
       "      <td>...</td>\n",
       "      <td>152</td>\n",
       "      <td>mpfi</td>\n",
       "      <td>2.68</td>\n",
       "      <td>3.47</td>\n",
       "      <td>9.0</td>\n",
       "      <td>154</td>\n",
       "      <td>5000</td>\n",
       "      <td>19</td>\n",
       "      <td>26</td>\n",
       "      <td>16500.0</td>\n",
       "    </tr>\n",
       "  </tbody>\n",
       "</table>\n",
       "<p>3 rows × 26 columns</p>\n",
       "</div>"
      ],
      "text/plain": [
       "   car_ID  symboling                   CarName fueltype aspiration doornumber  \\\n",
       "0       1          3        alfa-romero giulia      gas        std        two   \n",
       "1       2          3       alfa-romero stelvio      gas        std        two   \n",
       "2       3          1  alfa-romero Quadrifoglio      gas        std        two   \n",
       "\n",
       "       carbody drivewheel enginelocation  wheelbase  ...  enginesize  \\\n",
       "0  convertible        rwd          front       88.6  ...         130   \n",
       "1  convertible        rwd          front       88.6  ...         130   \n",
       "2    hatchback        rwd          front       94.5  ...         152   \n",
       "\n",
       "   fuelsystem  boreratio  stroke compressionratio horsepower  peakrpm citympg  \\\n",
       "0        mpfi       3.47    2.68              9.0        111     5000      21   \n",
       "1        mpfi       3.47    2.68              9.0        111     5000      21   \n",
       "2        mpfi       2.68    3.47              9.0        154     5000      19   \n",
       "\n",
       "   highwaympg    price  \n",
       "0          27  13495.0  \n",
       "1          27  16500.0  \n",
       "2          26  16500.0  \n",
       "\n",
       "[3 rows x 26 columns]"
      ]
     },
     "metadata": {},
     "output_type": "display_data"
    },
    {
     "name": "stdout",
     "output_type": "stream",
     "text": [
      "——————————————————————————\n",
      "آخر ثلاثة صفوف في الجدول هي\n"
     ]
    },
    {
     "data": {
      "text/html": [
       "<div>\n",
       "<style scoped>\n",
       "    .dataframe tbody tr th:only-of-type {\n",
       "        vertical-align: middle;\n",
       "    }\n",
       "\n",
       "    .dataframe tbody tr th {\n",
       "        vertical-align: top;\n",
       "    }\n",
       "\n",
       "    .dataframe thead th {\n",
       "        text-align: right;\n",
       "    }\n",
       "</style>\n",
       "<table border=\"1\" class=\"dataframe\">\n",
       "  <thead>\n",
       "    <tr style=\"text-align: right;\">\n",
       "      <th></th>\n",
       "      <th>car_ID</th>\n",
       "      <th>symboling</th>\n",
       "      <th>CarName</th>\n",
       "      <th>fueltype</th>\n",
       "      <th>aspiration</th>\n",
       "      <th>doornumber</th>\n",
       "      <th>carbody</th>\n",
       "      <th>drivewheel</th>\n",
       "      <th>enginelocation</th>\n",
       "      <th>wheelbase</th>\n",
       "      <th>...</th>\n",
       "      <th>enginesize</th>\n",
       "      <th>fuelsystem</th>\n",
       "      <th>boreratio</th>\n",
       "      <th>stroke</th>\n",
       "      <th>compressionratio</th>\n",
       "      <th>horsepower</th>\n",
       "      <th>peakrpm</th>\n",
       "      <th>citympg</th>\n",
       "      <th>highwaympg</th>\n",
       "      <th>price</th>\n",
       "    </tr>\n",
       "  </thead>\n",
       "  <tbody>\n",
       "    <tr>\n",
       "      <th>202</th>\n",
       "      <td>203</td>\n",
       "      <td>-1</td>\n",
       "      <td>volvo 244dl</td>\n",
       "      <td>gas</td>\n",
       "      <td>std</td>\n",
       "      <td>four</td>\n",
       "      <td>sedan</td>\n",
       "      <td>rwd</td>\n",
       "      <td>front</td>\n",
       "      <td>109.1</td>\n",
       "      <td>...</td>\n",
       "      <td>173</td>\n",
       "      <td>mpfi</td>\n",
       "      <td>3.58</td>\n",
       "      <td>2.87</td>\n",
       "      <td>8.8</td>\n",
       "      <td>134</td>\n",
       "      <td>5500</td>\n",
       "      <td>18</td>\n",
       "      <td>23</td>\n",
       "      <td>21485.0</td>\n",
       "    </tr>\n",
       "    <tr>\n",
       "      <th>203</th>\n",
       "      <td>204</td>\n",
       "      <td>-1</td>\n",
       "      <td>volvo 246</td>\n",
       "      <td>diesel</td>\n",
       "      <td>turbo</td>\n",
       "      <td>four</td>\n",
       "      <td>sedan</td>\n",
       "      <td>rwd</td>\n",
       "      <td>front</td>\n",
       "      <td>109.1</td>\n",
       "      <td>...</td>\n",
       "      <td>145</td>\n",
       "      <td>idi</td>\n",
       "      <td>3.01</td>\n",
       "      <td>3.40</td>\n",
       "      <td>23.0</td>\n",
       "      <td>106</td>\n",
       "      <td>4800</td>\n",
       "      <td>26</td>\n",
       "      <td>27</td>\n",
       "      <td>22470.0</td>\n",
       "    </tr>\n",
       "    <tr>\n",
       "      <th>204</th>\n",
       "      <td>205</td>\n",
       "      <td>-1</td>\n",
       "      <td>volvo 264gl</td>\n",
       "      <td>gas</td>\n",
       "      <td>turbo</td>\n",
       "      <td>four</td>\n",
       "      <td>sedan</td>\n",
       "      <td>rwd</td>\n",
       "      <td>front</td>\n",
       "      <td>109.1</td>\n",
       "      <td>...</td>\n",
       "      <td>141</td>\n",
       "      <td>mpfi</td>\n",
       "      <td>3.78</td>\n",
       "      <td>3.15</td>\n",
       "      <td>9.5</td>\n",
       "      <td>114</td>\n",
       "      <td>5400</td>\n",
       "      <td>19</td>\n",
       "      <td>25</td>\n",
       "      <td>22625.0</td>\n",
       "    </tr>\n",
       "  </tbody>\n",
       "</table>\n",
       "<p>3 rows × 26 columns</p>\n",
       "</div>"
      ],
      "text/plain": [
       "     car_ID  symboling      CarName fueltype aspiration doornumber carbody  \\\n",
       "202     203         -1  volvo 244dl      gas        std       four   sedan   \n",
       "203     204         -1    volvo 246   diesel      turbo       four   sedan   \n",
       "204     205         -1  volvo 264gl      gas      turbo       four   sedan   \n",
       "\n",
       "    drivewheel enginelocation  wheelbase  ...  enginesize  fuelsystem  \\\n",
       "202        rwd          front      109.1  ...         173        mpfi   \n",
       "203        rwd          front      109.1  ...         145         idi   \n",
       "204        rwd          front      109.1  ...         141        mpfi   \n",
       "\n",
       "     boreratio  stroke compressionratio horsepower  peakrpm citympg  \\\n",
       "202       3.58    2.87              8.8        134     5500      18   \n",
       "203       3.01    3.40             23.0        106     4800      26   \n",
       "204       3.78    3.15              9.5        114     5400      19   \n",
       "\n",
       "     highwaympg    price  \n",
       "202          23  21485.0  \n",
       "203          27  22470.0  \n",
       "204          25  22625.0  \n",
       "\n",
       "[3 rows x 26 columns]"
      ]
     },
     "metadata": {},
     "output_type": "display_data"
    },
    {
     "name": "stdout",
     "output_type": "stream",
     "text": [
      "——————————————————————————\n",
      "عدد الصفوف والأعمدة في الجدول هي\n"
     ]
    },
    {
     "data": {
      "text/plain": [
       "(205, 26)"
      ]
     },
     "metadata": {},
     "output_type": "display_data"
    },
    {
     "name": "stdout",
     "output_type": "stream",
     "text": [
      "——————————————————————————\n",
      "أنواع الأعمدة المستخدمة هي\n",
      "<class 'pandas.core.frame.DataFrame'>\n",
      "RangeIndex: 205 entries, 0 to 204\n",
      "Data columns (total 26 columns):\n",
      " #   Column            Non-Null Count  Dtype  \n",
      "---  ------            --------------  -----  \n",
      " 0   car_ID            205 non-null    int64  \n",
      " 1   symboling         205 non-null    int64  \n",
      " 2   CarName           205 non-null    object \n",
      " 3   fueltype          205 non-null    object \n",
      " 4   aspiration        205 non-null    object \n",
      " 5   doornumber        205 non-null    object \n",
      " 6   carbody           205 non-null    object \n",
      " 7   drivewheel        205 non-null    object \n",
      " 8   enginelocation    205 non-null    object \n",
      " 9   wheelbase         205 non-null    float64\n",
      " 10  carlength         205 non-null    float64\n",
      " 11  carwidth          205 non-null    float64\n",
      " 12  carheight         205 non-null    float64\n",
      " 13  curbweight        205 non-null    int64  \n",
      " 14  enginetype        205 non-null    object \n",
      " 15  cylindernumber    205 non-null    object \n",
      " 16  enginesize        205 non-null    int64  \n",
      " 17  fuelsystem        205 non-null    object \n",
      " 18  boreratio         205 non-null    float64\n",
      " 19  stroke            205 non-null    float64\n",
      " 20  compressionratio  205 non-null    float64\n",
      " 21  horsepower        205 non-null    int64  \n",
      " 22  peakrpm           205 non-null    int64  \n",
      " 23  citympg           205 non-null    int64  \n",
      " 24  highwaympg        205 non-null    int64  \n",
      " 25  price             205 non-null    float64\n",
      "dtypes: float64(8), int64(8), object(10)\n",
      "memory usage: 41.8+ KB\n"
     ]
    },
    {
     "data": {
      "text/plain": [
       "None"
      ]
     },
     "metadata": {},
     "output_type": "display_data"
    },
    {
     "name": "stdout",
     "output_type": "stream",
     "text": [
      "——————————————————————————\n",
      "توزيع البيانات بالنسبة للأعمدة التي تحتوي على قيم أرقام\n"
     ]
    },
    {
     "data": {
      "text/html": [
       "<div>\n",
       "<style scoped>\n",
       "    .dataframe tbody tr th:only-of-type {\n",
       "        vertical-align: middle;\n",
       "    }\n",
       "\n",
       "    .dataframe tbody tr th {\n",
       "        vertical-align: top;\n",
       "    }\n",
       "\n",
       "    .dataframe thead th {\n",
       "        text-align: right;\n",
       "    }\n",
       "</style>\n",
       "<table border=\"1\" class=\"dataframe\">\n",
       "  <thead>\n",
       "    <tr style=\"text-align: right;\">\n",
       "      <th></th>\n",
       "      <th>car_ID</th>\n",
       "      <th>symboling</th>\n",
       "      <th>wheelbase</th>\n",
       "      <th>carlength</th>\n",
       "      <th>carwidth</th>\n",
       "      <th>carheight</th>\n",
       "      <th>curbweight</th>\n",
       "      <th>enginesize</th>\n",
       "      <th>boreratio</th>\n",
       "      <th>stroke</th>\n",
       "      <th>compressionratio</th>\n",
       "      <th>horsepower</th>\n",
       "      <th>peakrpm</th>\n",
       "      <th>citympg</th>\n",
       "      <th>highwaympg</th>\n",
       "      <th>price</th>\n",
       "    </tr>\n",
       "  </thead>\n",
       "  <tbody>\n",
       "    <tr>\n",
       "      <th>count</th>\n",
       "      <td>205.000000</td>\n",
       "      <td>205.000000</td>\n",
       "      <td>205.000000</td>\n",
       "      <td>205.000000</td>\n",
       "      <td>205.000000</td>\n",
       "      <td>205.000000</td>\n",
       "      <td>205.000000</td>\n",
       "      <td>205.000000</td>\n",
       "      <td>205.000000</td>\n",
       "      <td>205.000000</td>\n",
       "      <td>205.000000</td>\n",
       "      <td>205.000000</td>\n",
       "      <td>205.000000</td>\n",
       "      <td>205.000000</td>\n",
       "      <td>205.000000</td>\n",
       "      <td>205.000000</td>\n",
       "    </tr>\n",
       "    <tr>\n",
       "      <th>mean</th>\n",
       "      <td>103.000000</td>\n",
       "      <td>0.834146</td>\n",
       "      <td>98.756585</td>\n",
       "      <td>174.049268</td>\n",
       "      <td>65.907805</td>\n",
       "      <td>53.724878</td>\n",
       "      <td>2555.565854</td>\n",
       "      <td>126.907317</td>\n",
       "      <td>3.329756</td>\n",
       "      <td>3.255415</td>\n",
       "      <td>10.142537</td>\n",
       "      <td>104.117073</td>\n",
       "      <td>5125.121951</td>\n",
       "      <td>25.219512</td>\n",
       "      <td>30.751220</td>\n",
       "      <td>13276.710571</td>\n",
       "    </tr>\n",
       "    <tr>\n",
       "      <th>std</th>\n",
       "      <td>59.322565</td>\n",
       "      <td>1.245307</td>\n",
       "      <td>6.021776</td>\n",
       "      <td>12.337289</td>\n",
       "      <td>2.145204</td>\n",
       "      <td>2.443522</td>\n",
       "      <td>520.680204</td>\n",
       "      <td>41.642693</td>\n",
       "      <td>0.270844</td>\n",
       "      <td>0.313597</td>\n",
       "      <td>3.972040</td>\n",
       "      <td>39.544167</td>\n",
       "      <td>476.985643</td>\n",
       "      <td>6.542142</td>\n",
       "      <td>6.886443</td>\n",
       "      <td>7988.852332</td>\n",
       "    </tr>\n",
       "    <tr>\n",
       "      <th>min</th>\n",
       "      <td>1.000000</td>\n",
       "      <td>-2.000000</td>\n",
       "      <td>86.600000</td>\n",
       "      <td>141.100000</td>\n",
       "      <td>60.300000</td>\n",
       "      <td>47.800000</td>\n",
       "      <td>1488.000000</td>\n",
       "      <td>61.000000</td>\n",
       "      <td>2.540000</td>\n",
       "      <td>2.070000</td>\n",
       "      <td>7.000000</td>\n",
       "      <td>48.000000</td>\n",
       "      <td>4150.000000</td>\n",
       "      <td>13.000000</td>\n",
       "      <td>16.000000</td>\n",
       "      <td>5118.000000</td>\n",
       "    </tr>\n",
       "    <tr>\n",
       "      <th>25%</th>\n",
       "      <td>52.000000</td>\n",
       "      <td>0.000000</td>\n",
       "      <td>94.500000</td>\n",
       "      <td>166.300000</td>\n",
       "      <td>64.100000</td>\n",
       "      <td>52.000000</td>\n",
       "      <td>2145.000000</td>\n",
       "      <td>97.000000</td>\n",
       "      <td>3.150000</td>\n",
       "      <td>3.110000</td>\n",
       "      <td>8.600000</td>\n",
       "      <td>70.000000</td>\n",
       "      <td>4800.000000</td>\n",
       "      <td>19.000000</td>\n",
       "      <td>25.000000</td>\n",
       "      <td>7788.000000</td>\n",
       "    </tr>\n",
       "    <tr>\n",
       "      <th>50%</th>\n",
       "      <td>103.000000</td>\n",
       "      <td>1.000000</td>\n",
       "      <td>97.000000</td>\n",
       "      <td>173.200000</td>\n",
       "      <td>65.500000</td>\n",
       "      <td>54.100000</td>\n",
       "      <td>2414.000000</td>\n",
       "      <td>120.000000</td>\n",
       "      <td>3.310000</td>\n",
       "      <td>3.290000</td>\n",
       "      <td>9.000000</td>\n",
       "      <td>95.000000</td>\n",
       "      <td>5200.000000</td>\n",
       "      <td>24.000000</td>\n",
       "      <td>30.000000</td>\n",
       "      <td>10295.000000</td>\n",
       "    </tr>\n",
       "    <tr>\n",
       "      <th>75%</th>\n",
       "      <td>154.000000</td>\n",
       "      <td>2.000000</td>\n",
       "      <td>102.400000</td>\n",
       "      <td>183.100000</td>\n",
       "      <td>66.900000</td>\n",
       "      <td>55.500000</td>\n",
       "      <td>2935.000000</td>\n",
       "      <td>141.000000</td>\n",
       "      <td>3.580000</td>\n",
       "      <td>3.410000</td>\n",
       "      <td>9.400000</td>\n",
       "      <td>116.000000</td>\n",
       "      <td>5500.000000</td>\n",
       "      <td>30.000000</td>\n",
       "      <td>34.000000</td>\n",
       "      <td>16503.000000</td>\n",
       "    </tr>\n",
       "    <tr>\n",
       "      <th>max</th>\n",
       "      <td>205.000000</td>\n",
       "      <td>3.000000</td>\n",
       "      <td>120.900000</td>\n",
       "      <td>208.100000</td>\n",
       "      <td>72.300000</td>\n",
       "      <td>59.800000</td>\n",
       "      <td>4066.000000</td>\n",
       "      <td>326.000000</td>\n",
       "      <td>3.940000</td>\n",
       "      <td>4.170000</td>\n",
       "      <td>23.000000</td>\n",
       "      <td>288.000000</td>\n",
       "      <td>6600.000000</td>\n",
       "      <td>49.000000</td>\n",
       "      <td>54.000000</td>\n",
       "      <td>45400.000000</td>\n",
       "    </tr>\n",
       "  </tbody>\n",
       "</table>\n",
       "</div>"
      ],
      "text/plain": [
       "           car_ID   symboling   wheelbase   carlength    carwidth   carheight  \\\n",
       "count  205.000000  205.000000  205.000000  205.000000  205.000000  205.000000   \n",
       "mean   103.000000    0.834146   98.756585  174.049268   65.907805   53.724878   \n",
       "std     59.322565    1.245307    6.021776   12.337289    2.145204    2.443522   \n",
       "min      1.000000   -2.000000   86.600000  141.100000   60.300000   47.800000   \n",
       "25%     52.000000    0.000000   94.500000  166.300000   64.100000   52.000000   \n",
       "50%    103.000000    1.000000   97.000000  173.200000   65.500000   54.100000   \n",
       "75%    154.000000    2.000000  102.400000  183.100000   66.900000   55.500000   \n",
       "max    205.000000    3.000000  120.900000  208.100000   72.300000   59.800000   \n",
       "\n",
       "        curbweight  enginesize   boreratio      stroke  compressionratio  \\\n",
       "count   205.000000  205.000000  205.000000  205.000000        205.000000   \n",
       "mean   2555.565854  126.907317    3.329756    3.255415         10.142537   \n",
       "std     520.680204   41.642693    0.270844    0.313597          3.972040   \n",
       "min    1488.000000   61.000000    2.540000    2.070000          7.000000   \n",
       "25%    2145.000000   97.000000    3.150000    3.110000          8.600000   \n",
       "50%    2414.000000  120.000000    3.310000    3.290000          9.000000   \n",
       "75%    2935.000000  141.000000    3.580000    3.410000          9.400000   \n",
       "max    4066.000000  326.000000    3.940000    4.170000         23.000000   \n",
       "\n",
       "       horsepower      peakrpm     citympg  highwaympg         price  \n",
       "count  205.000000   205.000000  205.000000  205.000000    205.000000  \n",
       "mean   104.117073  5125.121951   25.219512   30.751220  13276.710571  \n",
       "std     39.544167   476.985643    6.542142    6.886443   7988.852332  \n",
       "min     48.000000  4150.000000   13.000000   16.000000   5118.000000  \n",
       "25%     70.000000  4800.000000   19.000000   25.000000   7788.000000  \n",
       "50%     95.000000  5200.000000   24.000000   30.000000  10295.000000  \n",
       "75%    116.000000  5500.000000   30.000000   34.000000  16503.000000  \n",
       "max    288.000000  6600.000000   49.000000   54.000000  45400.000000  "
      ]
     },
     "metadata": {},
     "output_type": "display_data"
    }
   ],
   "source": [
    "import pandas as pd\n",
    "df = pd.read_csv('https://github.com/KAFSALAH/Fihm_Lessons/raw/master/ML_Series1_Regression/CarPrices.csv')\n",
    "\n",
    "# General info about the data - معلومات عامة عن البيانات\n",
    "print('——————————————————————————')\n",
    "print('أول ثلاثة صفوف في الجدول هي')\n",
    "display(df.head(3))\n",
    "print('——————————————————————————')\n",
    "print('آخر ثلاثة صفوف في الجدول هي')\n",
    "display(df.tail(3))\n",
    "print('——————————————————————————')\n",
    "print('عدد الصفوف والأعمدة في الجدول هي')\n",
    "display(df.shape)\n",
    "print('——————————————————————————')\n",
    "print('أنواع الأعمدة المستخدمة هي')\n",
    "display(df.info())\n",
    "print('——————————————————————————')\n",
    "print('توزيع البيانات بالنسبة للأعمدة التي تحتوي على قيم أرقام')\n",
    "display(df.describe())"
   ]
  },
  {
   "cell_type": "markdown",
   "id": "d74dc72f",
   "metadata": {},
   "source": [
    "___\n",
    "### `Step Two: Preprocess Data — الخطوة الثانية: معالجة البيانات`\n",
    "`إن معالجة البيانات هو جزء أساسي من تعلم الآلة بل هو الجزء الأهم والذي يمثل 80% من عملية بناء النماذج، حيث أن جودة البيانات هي ما تحدد جودة نماذج تعلم الآلة ودقتها. والذي نقصده بمعالجة البيانات هو تحضيرها لكي تصبح جاهزة لاستخدامها في نماذج تعلم الآلة. إذا كيف نتأكد من جاهزية البيانات؟ في البداية نستطيع التحقق إذا ما كانت هناك أية عامود يحتوي على معلومات ناقصة أم لا؟`"
   ]
  },
  {
   "cell_type": "code",
   "execution_count": 2,
   "id": "df373388",
   "metadata": {},
   "outputs": [
    {
     "data": {
      "text/plain": [
       "car_ID              0\n",
       "symboling           0\n",
       "CarName             0\n",
       "fueltype            0\n",
       "aspiration          0\n",
       "doornumber          0\n",
       "carbody             0\n",
       "drivewheel          0\n",
       "enginelocation      0\n",
       "wheelbase           0\n",
       "carlength           0\n",
       "carwidth            0\n",
       "carheight           0\n",
       "curbweight          0\n",
       "enginetype          0\n",
       "cylindernumber      0\n",
       "enginesize          0\n",
       "fuelsystem          0\n",
       "boreratio           0\n",
       "stroke              0\n",
       "compressionratio    0\n",
       "horsepower          0\n",
       "peakrpm             0\n",
       "citympg             0\n",
       "highwaympg          0\n",
       "price               0\n",
       "dtype: int64"
      ]
     },
     "execution_count": 2,
     "metadata": {},
     "output_type": "execute_result"
    }
   ],
   "source": [
    "df.isnull().sum()"
   ]
  },
  {
   "cell_type": "markdown",
   "id": "ddcedf7d",
   "metadata": {},
   "source": [
    "` لقد تحققنا وبالفعل لا يوجد لدينا أي عامود يحتوي على معلومات ناقصة. الآن سوف نقوم بالتحقق من أنواع الأعمدةالمستخدمة كالتالي`"
   ]
  },
  {
   "cell_type": "code",
   "execution_count": 3,
   "id": "67cd1a43",
   "metadata": {},
   "outputs": [
    {
     "data": {
      "text/plain": [
       "car_ID                int64\n",
       "symboling             int64\n",
       "CarName              object\n",
       "fueltype             object\n",
       "aspiration           object\n",
       "doornumber           object\n",
       "carbody              object\n",
       "drivewheel           object\n",
       "enginelocation       object\n",
       "wheelbase           float64\n",
       "carlength           float64\n",
       "carwidth            float64\n",
       "carheight           float64\n",
       "curbweight            int64\n",
       "enginetype           object\n",
       "cylindernumber       object\n",
       "enginesize            int64\n",
       "fuelsystem           object\n",
       "boreratio           float64\n",
       "stroke              float64\n",
       "compressionratio    float64\n",
       "horsepower            int64\n",
       "peakrpm               int64\n",
       "citympg               int64\n",
       "highwaympg            int64\n",
       "price               float64\n",
       "dtype: object"
      ]
     },
     "execution_count": 3,
     "metadata": {},
     "output_type": "execute_result"
    }
   ],
   "source": [
    "df.dtypes"
   ]
  },
  {
   "cell_type": "markdown",
   "id": "ad02ce40",
   "metadata": {},
   "source": [
    "___\n",
    "`، لاحظ كيف أن كل عامود لابد أن يحتوي عى نوع واحد فقط، ونلاحظ أنه يوجد لدنيا ثلاثة أنواع من البيانات  `\n",
    "\n",
    "`int64: integers أرقام صحيحة مثل عامود عدد الأحصنة\n",
    "`\n",
    "\n",
    "`float64: decimal أرقام تحتوي على فواصل مثل عامود السعر\n",
    "`\n",
    "\n",
    "`object: nominal كتابة مثل نوع السيارة أو نوع المحرك\n",
    "`\n",
    "\n",
    "___\n",
    "\n",
    "`وفي العموم نستطيع أن نقول أن هناك أربعة أنواع من البيانات`\n",
    "\n",
    "`1 - Numerical data [integer]`\n",
    "\n",
    "`2 - Numerical data [float]`\n",
    "\n",
    "`3 - Object data [nominal]`\n",
    "\n",
    "`4 - Object data [ordinal]`\n",
    "\n",
    "`إن النوع الأول هو الأعداد الصحيحة وهي الأعداد التي لا تحتوي على فواصل. أما النوع الثاني فهو أيضا أعداد ولكنها تحتوي على فواصل. إن النوع الأول والثاني نستطيع استخدامهم في تعلم الآلة دون مشاكل. أما النوع الثالث فهو بيانات تكون مكتوبة باستخدام الحروف ولكن لا يوجد ترتيب فيها مثل جنس العميل (ذكر أو أنثى). والنوع الآخير هو البيانات التي تكون أيضا مكتوبة باستخدام الحروف ولكن الترتيب مهم فيها مثل (تقييم أربع نجوم و ثلاث نجوم) حيث أننا نريد أن نعطي قيمة أكبر للأربع نجوم مقارنة بالثلاثة نجوم. وعلى العموم إن لكل نوع طريقة معينة للتعامل معه. `\n",
    "\n",
    "\n",
    "` تذكر أن نماذج تعلم الآلة ماهي إلا معادلات رياضية تستخدم لتوقع نتيجة معينة. ولإدخال البيانات في نموذج تعلم الآلة لابد أن تكون جميع الأعمدة مكونة عن أرقام. ولذلك سنقوم بأخذ الأعمدة التي تحتوي على حروف وتحويلها إلى أعمدة تحتوي على أرقام مع الحفاظ على البيانات دون فقدانها كما في المثال التالي`"
   ]
  },
  {
   "cell_type": "code",
   "execution_count": 4,
   "id": "6b74bd31",
   "metadata": {},
   "outputs": [
    {
     "data": {
      "text/html": [
       "<div>\n",
       "<style scoped>\n",
       "    .dataframe tbody tr th:only-of-type {\n",
       "        vertical-align: middle;\n",
       "    }\n",
       "\n",
       "    .dataframe tbody tr th {\n",
       "        vertical-align: top;\n",
       "    }\n",
       "\n",
       "    .dataframe thead th {\n",
       "        text-align: right;\n",
       "    }\n",
       "</style>\n",
       "<table border=\"1\" class=\"dataframe\">\n",
       "  <thead>\n",
       "    <tr style=\"text-align: right;\">\n",
       "      <th></th>\n",
       "      <th>customer_id</th>\n",
       "      <th>customer_age</th>\n",
       "      <th>customer_gender</th>\n",
       "    </tr>\n",
       "  </thead>\n",
       "  <tbody>\n",
       "    <tr>\n",
       "      <th>0</th>\n",
       "      <td>1</td>\n",
       "      <td>20</td>\n",
       "      <td>M</td>\n",
       "    </tr>\n",
       "    <tr>\n",
       "      <th>1</th>\n",
       "      <td>2</td>\n",
       "      <td>44</td>\n",
       "      <td>F</td>\n",
       "    </tr>\n",
       "    <tr>\n",
       "      <th>2</th>\n",
       "      <td>3</td>\n",
       "      <td>27</td>\n",
       "      <td>F</td>\n",
       "    </tr>\n",
       "    <tr>\n",
       "      <th>3</th>\n",
       "      <td>4</td>\n",
       "      <td>32</td>\n",
       "      <td>M</td>\n",
       "    </tr>\n",
       "    <tr>\n",
       "      <th>4</th>\n",
       "      <td>5</td>\n",
       "      <td>29</td>\n",
       "      <td>F</td>\n",
       "    </tr>\n",
       "  </tbody>\n",
       "</table>\n",
       "</div>"
      ],
      "text/plain": [
       "   customer_id  customer_age customer_gender\n",
       "0            1            20               M\n",
       "1            2            44               F\n",
       "2            3            27               F\n",
       "3            4            32               M\n",
       "4            5            29               F"
      ]
     },
     "execution_count": 4,
     "metadata": {},
     "output_type": "execute_result"
    }
   ],
   "source": [
    "# Create a table with 5 customers' info about their age and gender\n",
    "#  انظر إلى الجدول الافتراضي أدناه سوف تلاحظ بيانات العمر والجنس لخمسة عملاء\n",
    "Customers = {\n",
    "    'customer_id' : [1,2,3,4,5],\n",
    "    'customer_age' : [20, 44, 27,32,29],\n",
    "    'customer_gender' : ['M','F','F','M','F']\n",
    "            }\n",
    "Customers_df = pd.DataFrame(Customers)\n",
    "Customers_df"
   ]
  },
  {
   "cell_type": "markdown",
   "id": "c9b121c0",
   "metadata": {},
   "source": [
    "`بما أن ميزة العمر (عامود العمر) عبارة عن أرقام، نستطيع استخدامها في نموذج تعلم الآلة ولكن من الناحية الأخرى لا نستطيع استخدام جنس العميل لأنه ليس ممثل عن طريق الأرقام بل عن طريق الحروف. ولتمثيله عن طريق الأرقام نقوم باستخدام وظيفة في مكتبة البانداز معروفة بـ\n",
    "get_dummies`\n",
    "\n",
    "`Encoding لتقوم بعملية ترميز الأعمدة الكتابية والمعروفة بعملية الـ\n",
    "`\n",
    "\n"
   ]
  },
  {
   "cell_type": "code",
   "execution_count": 5,
   "id": "61596bd6",
   "metadata": {},
   "outputs": [
    {
     "data": {
      "text/html": [
       "<div>\n",
       "<style scoped>\n",
       "    .dataframe tbody tr th:only-of-type {\n",
       "        vertical-align: middle;\n",
       "    }\n",
       "\n",
       "    .dataframe tbody tr th {\n",
       "        vertical-align: top;\n",
       "    }\n",
       "\n",
       "    .dataframe thead th {\n",
       "        text-align: right;\n",
       "    }\n",
       "</style>\n",
       "<table border=\"1\" class=\"dataframe\">\n",
       "  <thead>\n",
       "    <tr style=\"text-align: right;\">\n",
       "      <th></th>\n",
       "      <th>customer_id</th>\n",
       "      <th>customer_age</th>\n",
       "      <th>customer_gender_F</th>\n",
       "      <th>customer_gender_M</th>\n",
       "    </tr>\n",
       "  </thead>\n",
       "  <tbody>\n",
       "    <tr>\n",
       "      <th>0</th>\n",
       "      <td>1</td>\n",
       "      <td>20</td>\n",
       "      <td>0</td>\n",
       "      <td>1</td>\n",
       "    </tr>\n",
       "    <tr>\n",
       "      <th>1</th>\n",
       "      <td>2</td>\n",
       "      <td>44</td>\n",
       "      <td>1</td>\n",
       "      <td>0</td>\n",
       "    </tr>\n",
       "    <tr>\n",
       "      <th>2</th>\n",
       "      <td>3</td>\n",
       "      <td>27</td>\n",
       "      <td>1</td>\n",
       "      <td>0</td>\n",
       "    </tr>\n",
       "    <tr>\n",
       "      <th>3</th>\n",
       "      <td>4</td>\n",
       "      <td>32</td>\n",
       "      <td>0</td>\n",
       "      <td>1</td>\n",
       "    </tr>\n",
       "    <tr>\n",
       "      <th>4</th>\n",
       "      <td>5</td>\n",
       "      <td>29</td>\n",
       "      <td>1</td>\n",
       "      <td>0</td>\n",
       "    </tr>\n",
       "  </tbody>\n",
       "</table>\n",
       "</div>"
      ],
      "text/plain": [
       "   customer_id  customer_age  customer_gender_F  customer_gender_M\n",
       "0            1            20                  0                  1\n",
       "1            2            44                  1                  0\n",
       "2            3            27                  1                  0\n",
       "3            4            32                  0                  1\n",
       "4            5            29                  1                  0"
      ]
     },
     "execution_count": 5,
     "metadata": {},
     "output_type": "execute_result"
    }
   ],
   "source": [
    "# We will use get_dummies to encode object-nominal values into numerical\n",
    "# سوف نقوم بترميز الأعمدة التي تحتوي على كتابات باستخدام الكود التالي\n",
    "Customers_df = pd.get_dummies(Customers_df)\n",
    "Customers_df"
   ]
  },
  {
   "cell_type": "markdown",
   "id": "c42a0ba0",
   "metadata": {},
   "source": [
    "___\n",
    "`الذي قمنا بعمله هو تحويل العامود الذي يحتوي على كتابة (عامود الجنس) إلى عامودين`\n",
    "\n",
    "`1 - customer_gender_F`\n",
    "\n",
    "`إذا كانت القيمة 1 في هذا العامود فهذا يعني أن العميل أنثى`\n",
    "\n",
    "`2 - customer_gender_M`\n",
    "\n",
    "`إذا كانت القيمة 1 في هذا العامود فهذا يعني أن العميل ذكر`\n",
    "\n",
    "___\n",
    "`لاحظ كيف أن الجدول مازال يقدم كامل المعلومات ولكن هذه المرة عن طريق الأرقام فقط. وأيضا سوف تنتبه أن كل قيمة مميزة في العامود الكتابي انقسمت إلى عامود خاص بها. على سبيل المثال انظر إلى جدول السيارات المصغر التالي` "
   ]
  },
  {
   "cell_type": "code",
   "execution_count": 6,
   "id": "50832431",
   "metadata": {},
   "outputs": [
    {
     "data": {
      "text/html": [
       "<div>\n",
       "<style scoped>\n",
       "    .dataframe tbody tr th:only-of-type {\n",
       "        vertical-align: middle;\n",
       "    }\n",
       "\n",
       "    .dataframe tbody tr th {\n",
       "        vertical-align: top;\n",
       "    }\n",
       "\n",
       "    .dataframe thead th {\n",
       "        text-align: right;\n",
       "    }\n",
       "</style>\n",
       "<table border=\"1\" class=\"dataframe\">\n",
       "  <thead>\n",
       "    <tr style=\"text-align: right;\">\n",
       "      <th></th>\n",
       "      <th>car_id</th>\n",
       "      <th>Type</th>\n",
       "    </tr>\n",
       "  </thead>\n",
       "  <tbody>\n",
       "    <tr>\n",
       "      <th>0</th>\n",
       "      <td>1</td>\n",
       "      <td>BMW</td>\n",
       "    </tr>\n",
       "    <tr>\n",
       "      <th>1</th>\n",
       "      <td>2</td>\n",
       "      <td>Mercedes</td>\n",
       "    </tr>\n",
       "    <tr>\n",
       "      <th>2</th>\n",
       "      <td>3</td>\n",
       "      <td>Toyota</td>\n",
       "    </tr>\n",
       "    <tr>\n",
       "      <th>3</th>\n",
       "      <td>4</td>\n",
       "      <td>Mercedes</td>\n",
       "    </tr>\n",
       "  </tbody>\n",
       "</table>\n",
       "</div>"
      ],
      "text/plain": [
       "   car_id      Type\n",
       "0       1       BMW\n",
       "1       2  Mercedes\n",
       "2       3    Toyota\n",
       "3       4  Mercedes"
      ]
     },
     "metadata": {},
     "output_type": "display_data"
    },
    {
     "name": "stdout",
     "output_type": "stream",
     "text": [
      "بعد التحويل تصبح كالتالي\n"
     ]
    },
    {
     "data": {
      "text/html": [
       "<div>\n",
       "<style scoped>\n",
       "    .dataframe tbody tr th:only-of-type {\n",
       "        vertical-align: middle;\n",
       "    }\n",
       "\n",
       "    .dataframe tbody tr th {\n",
       "        vertical-align: top;\n",
       "    }\n",
       "\n",
       "    .dataframe thead th {\n",
       "        text-align: right;\n",
       "    }\n",
       "</style>\n",
       "<table border=\"1\" class=\"dataframe\">\n",
       "  <thead>\n",
       "    <tr style=\"text-align: right;\">\n",
       "      <th></th>\n",
       "      <th>car_id</th>\n",
       "      <th>Type_BMW</th>\n",
       "      <th>Type_Mercedes</th>\n",
       "      <th>Type_Toyota</th>\n",
       "    </tr>\n",
       "  </thead>\n",
       "  <tbody>\n",
       "    <tr>\n",
       "      <th>0</th>\n",
       "      <td>1</td>\n",
       "      <td>1</td>\n",
       "      <td>0</td>\n",
       "      <td>0</td>\n",
       "    </tr>\n",
       "    <tr>\n",
       "      <th>1</th>\n",
       "      <td>2</td>\n",
       "      <td>0</td>\n",
       "      <td>1</td>\n",
       "      <td>0</td>\n",
       "    </tr>\n",
       "    <tr>\n",
       "      <th>2</th>\n",
       "      <td>3</td>\n",
       "      <td>0</td>\n",
       "      <td>0</td>\n",
       "      <td>1</td>\n",
       "    </tr>\n",
       "    <tr>\n",
       "      <th>3</th>\n",
       "      <td>4</td>\n",
       "      <td>0</td>\n",
       "      <td>1</td>\n",
       "      <td>0</td>\n",
       "    </tr>\n",
       "  </tbody>\n",
       "</table>\n",
       "</div>"
      ],
      "text/plain": [
       "   car_id  Type_BMW  Type_Mercedes  Type_Toyota\n",
       "0       1         1              0            0\n",
       "1       2         0              1            0\n",
       "2       3         0              0            1\n",
       "3       4         0              1            0"
      ]
     },
     "metadata": {},
     "output_type": "display_data"
    }
   ],
   "source": [
    "cars = {\n",
    "    'car_id': [1,2,3,4],\n",
    "    'Type': ['BMW','Mercedes','Toyota','Mercedes']\n",
    "}\n",
    "\n",
    "cars_df = pd.DataFrame(cars)\n",
    "display(cars_df)\n",
    "\n",
    "print('بعد التحويل تصبح كالتالي')\n",
    "display(pd.get_dummies(cars_df))"
   ]
  },
  {
   "cell_type": "markdown",
   "id": "bd1ef55d",
   "metadata": {},
   "source": [
    "___\n",
    "`وما نكتشفه أن عامود نوع السيارة تم حذفه وفصله إلى ثلاثة عواميد، لأن العامود الأصلي يحتوي على ثلاثة قيم مميزة، ونستنتج من هذا أننا نقوم بفصل العامود الذي يحتوي على كتابة إلى أعمدة متعددة بحيث يحتوي كل عامود على 0/1 من أجل تمثيل نوع واحد فقط وبذلك يكون عدد العواميد الناتج مساوي لعدد الأنواع التي كانت في العامود سابقا `\n",
    "\n",
    "`إذا: عدد الأعمدة الناتجة من عملية الترميز يساوي عدد القيم المميزة - ١ لأننا سوف نحذف العامود الأصلي`\n",
    "\n",
    "`Number of generated columns = Number of unique intities in the column - 1`\n",
    "\n",
    "`للتنويه: إن هناك طرق أخرى للترميز وذات جودة أفضل وسوف نتطرق لها في المشاريع اللاحقة`"
   ]
  },
  {
   "cell_type": "markdown",
   "id": "76cc9742",
   "metadata": {},
   "source": [
    "___\n",
    "`والآن فلنقم بالتحقق من القيم المميزة في كل عامود كتابي (أوبجكت) من أجل التحقق من كمية الأعمدة التي سوف تنتج بعد عملية الترميز`"
   ]
  },
  {
   "cell_type": "code",
   "execution_count": 7,
   "id": "c3264182",
   "metadata": {},
   "outputs": [
    {
     "name": "stdout",
     "output_type": "stream",
     "text": [
      "Object columns are as follows\n"
     ]
    },
    {
     "data": {
      "text/plain": [
       "Index(['CarName', 'fueltype', 'aspiration', 'doornumber', 'carbody',\n",
       "       'drivewheel', 'enginelocation', 'enginetype', 'cylindernumber',\n",
       "       'fuelsystem'],\n",
       "      dtype='object')"
      ]
     },
     "execution_count": 7,
     "metadata": {},
     "output_type": "execute_result"
    }
   ],
   "source": [
    "# To identify object columns - لتحديد أسماء الأعمدة التي تحتوي على كتابات\n",
    "print('Object columns are as follows')\n",
    "df.loc[:,df.dtypes==object].columns"
   ]
  },
  {
   "cell_type": "code",
   "execution_count": 8,
   "id": "68b9f8c3",
   "metadata": {
    "scrolled": true
   },
   "outputs": [
    {
     "name": "stdout",
     "output_type": "stream",
     "text": [
      "Number of unique elements in CarName is 147\n",
      "Number of unique elements in fueltype is 2\n",
      "Number of unique elements in aspiration is 2\n",
      "Number of unique elements in doornumber is 2\n",
      "Number of unique elements in carbody is 5\n",
      "Number of unique elements in drivewheel is 3\n",
      "Number of unique elements in enginelocation is 2\n",
      "Number of unique elements in enginetype is 7\n",
      "Number of unique elements in cylindernumber is 7\n",
      "Number of unique elements in fuelsystem is 8\n"
     ]
    }
   ],
   "source": [
    "# Store them in a list - حفظها في قائمة\n",
    "object_columns = df.loc[:,df.dtypes==object].columns.tolist()\n",
    "# Identify number of unique elements in each object-nominal columns\n",
    "# سنقوم بتحديد عدد العناصر المميزة في كل عامود كتابي\n",
    "for i in object_columns:\n",
    "    print('Number of unique elements in' , i, 'is', len(df.loc[:,i].unique()))"
   ]
  },
  {
   "cell_type": "markdown",
   "id": "492aab5f",
   "metadata": {},
   "source": [
    "`حسنًا، لقد استطعنا تحديد عدد القيم المميزة في كل عامود كتابي، ونلاحظ أن في عامود (اسم السيارة) يوجد لدينا 147 قيمة مميزة، مما يعني أنه سوف يكون لدينا 146 عامود جديد إضافي فقط من هذا العامود بعد عملية الترميز. ونحن نريد تجنب هذا العدد الكبير من الأعمدة لأنه يتطلب قوة حسابية عالية بل ربما يضر في دقة النموذج. ومن أجل حل هذه المشكلة، سوف نقوم باستخدام اسم الشركة فقط بدلا من اسم كل سيارة من أجل تقليل عدد الأعمدة الذي سوف ينتج من الترميز`"
   ]
  },
  {
   "cell_type": "code",
   "execution_count": 9,
   "id": "5b107f3e",
   "metadata": {},
   "outputs": [
    {
     "data": {
      "text/html": [
       "<div>\n",
       "<style scoped>\n",
       "    .dataframe tbody tr th:only-of-type {\n",
       "        vertical-align: middle;\n",
       "    }\n",
       "\n",
       "    .dataframe tbody tr th {\n",
       "        vertical-align: top;\n",
       "    }\n",
       "\n",
       "    .dataframe thead th {\n",
       "        text-align: right;\n",
       "    }\n",
       "</style>\n",
       "<table border=\"1\" class=\"dataframe\">\n",
       "  <thead>\n",
       "    <tr style=\"text-align: right;\">\n",
       "      <th></th>\n",
       "      <th>car_ID</th>\n",
       "      <th>symboling</th>\n",
       "      <th>companyname</th>\n",
       "      <th>fueltype</th>\n",
       "      <th>aspiration</th>\n",
       "      <th>doornumber</th>\n",
       "      <th>carbody</th>\n",
       "      <th>drivewheel</th>\n",
       "      <th>enginelocation</th>\n",
       "      <th>wheelbase</th>\n",
       "      <th>...</th>\n",
       "      <th>enginesize</th>\n",
       "      <th>fuelsystem</th>\n",
       "      <th>boreratio</th>\n",
       "      <th>stroke</th>\n",
       "      <th>compressionratio</th>\n",
       "      <th>horsepower</th>\n",
       "      <th>peakrpm</th>\n",
       "      <th>citympg</th>\n",
       "      <th>highwaympg</th>\n",
       "      <th>price</th>\n",
       "    </tr>\n",
       "  </thead>\n",
       "  <tbody>\n",
       "    <tr>\n",
       "      <th>0</th>\n",
       "      <td>1</td>\n",
       "      <td>3</td>\n",
       "      <td>alfa-romero</td>\n",
       "      <td>gas</td>\n",
       "      <td>std</td>\n",
       "      <td>two</td>\n",
       "      <td>convertible</td>\n",
       "      <td>rwd</td>\n",
       "      <td>front</td>\n",
       "      <td>88.6</td>\n",
       "      <td>...</td>\n",
       "      <td>130</td>\n",
       "      <td>mpfi</td>\n",
       "      <td>3.47</td>\n",
       "      <td>2.68</td>\n",
       "      <td>9.0</td>\n",
       "      <td>111</td>\n",
       "      <td>5000</td>\n",
       "      <td>21</td>\n",
       "      <td>27</td>\n",
       "      <td>13495.0</td>\n",
       "    </tr>\n",
       "    <tr>\n",
       "      <th>1</th>\n",
       "      <td>2</td>\n",
       "      <td>3</td>\n",
       "      <td>alfa-romero</td>\n",
       "      <td>gas</td>\n",
       "      <td>std</td>\n",
       "      <td>two</td>\n",
       "      <td>convertible</td>\n",
       "      <td>rwd</td>\n",
       "      <td>front</td>\n",
       "      <td>88.6</td>\n",
       "      <td>...</td>\n",
       "      <td>130</td>\n",
       "      <td>mpfi</td>\n",
       "      <td>3.47</td>\n",
       "      <td>2.68</td>\n",
       "      <td>9.0</td>\n",
       "      <td>111</td>\n",
       "      <td>5000</td>\n",
       "      <td>21</td>\n",
       "      <td>27</td>\n",
       "      <td>16500.0</td>\n",
       "    </tr>\n",
       "    <tr>\n",
       "      <th>2</th>\n",
       "      <td>3</td>\n",
       "      <td>1</td>\n",
       "      <td>alfa-romero</td>\n",
       "      <td>gas</td>\n",
       "      <td>std</td>\n",
       "      <td>two</td>\n",
       "      <td>hatchback</td>\n",
       "      <td>rwd</td>\n",
       "      <td>front</td>\n",
       "      <td>94.5</td>\n",
       "      <td>...</td>\n",
       "      <td>152</td>\n",
       "      <td>mpfi</td>\n",
       "      <td>2.68</td>\n",
       "      <td>3.47</td>\n",
       "      <td>9.0</td>\n",
       "      <td>154</td>\n",
       "      <td>5000</td>\n",
       "      <td>19</td>\n",
       "      <td>26</td>\n",
       "      <td>16500.0</td>\n",
       "    </tr>\n",
       "  </tbody>\n",
       "</table>\n",
       "<p>3 rows × 26 columns</p>\n",
       "</div>"
      ],
      "text/plain": [
       "   car_ID  symboling  companyname fueltype aspiration doornumber      carbody  \\\n",
       "0       1          3  alfa-romero      gas        std        two  convertible   \n",
       "1       2          3  alfa-romero      gas        std        two  convertible   \n",
       "2       3          1  alfa-romero      gas        std        two    hatchback   \n",
       "\n",
       "  drivewheel enginelocation  wheelbase  ...  enginesize  fuelsystem  \\\n",
       "0        rwd          front       88.6  ...         130        mpfi   \n",
       "1        rwd          front       88.6  ...         130        mpfi   \n",
       "2        rwd          front       94.5  ...         152        mpfi   \n",
       "\n",
       "   boreratio  stroke compressionratio horsepower  peakrpm citympg  highwaympg  \\\n",
       "0       3.47    2.68              9.0        111     5000      21          27   \n",
       "1       3.47    2.68              9.0        111     5000      21          27   \n",
       "2       2.68    3.47              9.0        154     5000      19          26   \n",
       "\n",
       "     price  \n",
       "0  13495.0  \n",
       "1  16500.0  \n",
       "2  16500.0  \n",
       "\n",
       "[3 rows x 26 columns]"
      ]
     },
     "execution_count": 9,
     "metadata": {},
     "output_type": "execute_result"
    }
   ],
   "source": [
    "# Split compnay name and store it in a new column \n",
    "# فصل اسم الشركة عن اسم السيارة وحفظه في عامود جديد\n",
    "companyname = df['CarName'].apply(lambda x : x.split(' ')[0])\n",
    "\n",
    "# Store the 'companename' column in the dataset \n",
    "# تخزين العامود الجديد 'اسم السيارة' في قاعدة البيانات\n",
    "df.insert(3,\"companyname\",companyname)\n",
    "\n",
    "# Drop the 'CarName' column \n",
    "# التخلص من عامود اسم السيارة\n",
    "df.drop(['CarName'], axis=1, inplace=True)\n",
    "df.head(3)"
   ]
  },
  {
   "cell_type": "code",
   "execution_count": 10,
   "id": "c55b15a8",
   "metadata": {
    "scrolled": false
   },
   "outputs": [
    {
     "name": "stdout",
     "output_type": "stream",
     "text": [
      "['alfa-romero' 'audi' 'bmw' 'chevrolet' 'dodge' 'honda' 'isuzu' 'jaguar'\n",
      " 'maxda' 'mazda' 'buick' 'mercury' 'mitsubishi' 'Nissan' 'nissan'\n",
      " 'peugeot' 'plymouth' 'porsche' 'porcshce' 'renault' 'saab' 'subaru'\n",
      " 'toyota' 'toyouta' 'vokswagen' 'volkswagen' 'vw' 'volvo']\n"
     ]
    }
   ],
   "source": [
    "# To check companies names in the column - للتحقق من أسماء الشركات الموجودة\n",
    "print(df.companyname.unique())"
   ]
  },
  {
   "cell_type": "markdown",
   "id": "87201a31",
   "metadata": {},
   "source": [
    "`نلاحظ التالي: أن هناك بعض أسماء السيارات متكرر مثل شركة تويوتا وفولكسواجن ولكن بطريقة كتابة أخرى، أو أن تكون نفس الكتابة ولكن بعضها بحروف كبيرة وآخر بالصغيرة مثل شركة نيسان. وإن جودة البيانات تنص على وجود قيمة واحدة فقط لكل عنصر. ولذلك سوف نعيد تسمية بعد العناصر من أجل توحيد التسمية وتقليل عدد العناصر المميزة`"
   ]
  },
  {
   "cell_type": "code",
   "execution_count": 11,
   "id": "5d497370",
   "metadata": {},
   "outputs": [],
   "source": [
    "df.companyname = df.companyname.str.lower() # Make all letters in smallcase -  جعل جميع الحروف بالكتابة الصغيرة\n",
    "\n",
    "# Define a function to replace names  - تعريف وظيفة لإعادة تسمية بعض الشركات \n",
    "def replace_name(a,b):\n",
    "    df.companyname.replace(a,b,inplace=True)\n",
    "\n",
    "# Rename unique elements - إعادة تسمية العناصر المميزة \n",
    "replace_name('alfa-romero','alfa-romeo')\n",
    "replace_name('maxda','mazda')\n",
    "replace_name('porcshce','porsche')\n",
    "replace_name('toyouta','toyota')\n",
    "replace_name('vokswagen','volkswagen')\n",
    "replace_name('vw','volkswagen')\n",
    "\n"
   ]
  },
  {
   "cell_type": "code",
   "execution_count": 12,
   "id": "247f3e15",
   "metadata": {
    "scrolled": true
   },
   "outputs": [
    {
     "name": "stdout",
     "output_type": "stream",
     "text": [
      "Number of unique elements in companyname is 22\n",
      "Number of unique elements in fueltype is 2\n",
      "Number of unique elements in aspiration is 2\n",
      "Number of unique elements in doornumber is 2\n",
      "Number of unique elements in carbody is 5\n",
      "Number of unique elements in drivewheel is 3\n",
      "Number of unique elements in enginelocation is 2\n",
      "Number of unique elements in enginetype is 7\n",
      "Number of unique elements in cylindernumber is 7\n",
      "Number of unique elements in fuelsystem is 8\n",
      "get_dummies will generate: 50\n"
     ]
    }
   ],
   "source": [
    "# Now we will calculate the total number of unique elements per object-column\n",
    "# الآن سوف نقوم بالتحقق من عدد العناصر في كل عامود من نوع كتابي\n",
    "object_columns = df.loc[:,df.dtypes==object].columns.tolist()\n",
    "total_generated_columns = 0\n",
    "for i in object_columns:\n",
    "    print('Number of unique elements in' , i, 'is', len(df.loc[:,i].unique()))\n",
    "    total_generated_columns = total_generated_columns + len(df.loc[:,i].unique()) - 1 \n",
    "    \n",
    "\n",
    "print('get_dummies will generate:',total_generated_columns)"
   ]
  },
  {
   "cell_type": "markdown",
   "id": "efff36be",
   "metadata": {},
   "source": [
    "`سوف نقوم بالتحقق أيضا إذا ماكان هناك صفوف متكررة كالتالي`"
   ]
  },
  {
   "cell_type": "code",
   "execution_count": 13,
   "id": "d2e8c0c3",
   "metadata": {},
   "outputs": [
    {
     "data": {
      "text/html": [
       "<div>\n",
       "<style scoped>\n",
       "    .dataframe tbody tr th:only-of-type {\n",
       "        vertical-align: middle;\n",
       "    }\n",
       "\n",
       "    .dataframe tbody tr th {\n",
       "        vertical-align: top;\n",
       "    }\n",
       "\n",
       "    .dataframe thead th {\n",
       "        text-align: right;\n",
       "    }\n",
       "</style>\n",
       "<table border=\"1\" class=\"dataframe\">\n",
       "  <thead>\n",
       "    <tr style=\"text-align: right;\">\n",
       "      <th></th>\n",
       "      <th>car_ID</th>\n",
       "      <th>symboling</th>\n",
       "      <th>companyname</th>\n",
       "      <th>fueltype</th>\n",
       "      <th>aspiration</th>\n",
       "      <th>doornumber</th>\n",
       "      <th>carbody</th>\n",
       "      <th>drivewheel</th>\n",
       "      <th>enginelocation</th>\n",
       "      <th>wheelbase</th>\n",
       "      <th>...</th>\n",
       "      <th>enginesize</th>\n",
       "      <th>fuelsystem</th>\n",
       "      <th>boreratio</th>\n",
       "      <th>stroke</th>\n",
       "      <th>compressionratio</th>\n",
       "      <th>horsepower</th>\n",
       "      <th>peakrpm</th>\n",
       "      <th>citympg</th>\n",
       "      <th>highwaympg</th>\n",
       "      <th>price</th>\n",
       "    </tr>\n",
       "  </thead>\n",
       "  <tbody>\n",
       "  </tbody>\n",
       "</table>\n",
       "<p>0 rows × 26 columns</p>\n",
       "</div>"
      ],
      "text/plain": [
       "Empty DataFrame\n",
       "Columns: [car_ID, symboling, companyname, fueltype, aspiration, doornumber, carbody, drivewheel, enginelocation, wheelbase, carlength, carwidth, carheight, curbweight, enginetype, cylindernumber, enginesize, fuelsystem, boreratio, stroke, compressionratio, horsepower, peakrpm, citympg, highwaympg, price]\n",
       "Index: []\n",
       "\n",
       "[0 rows x 26 columns]"
      ]
     },
     "execution_count": 13,
     "metadata": {},
     "output_type": "execute_result"
    }
   ],
   "source": [
    "# To check if there is any duplicated rows - للتحقق إن كانت هناك سيارة سجلت مرتين\n",
    "df.loc[df.duplicated()]"
   ]
  },
  {
   "cell_type": "markdown",
   "id": "d79b0a93",
   "metadata": {},
   "source": [
    "___\n",
    "### `Step Three: EDA  — الخطوة الثالثة: استكشاف البيانات`\n",
    "`الآن وقبل أن نبني نموذج تعلم الآلة، سوف نستخدم الرسم لاستكشاف البيانات ومعرفة ماذا تمثل وماهو الاستخدام الأمثل لها؟`"
   ]
  },
  {
   "cell_type": "markdown",
   "id": "232d9bcc",
   "metadata": {},
   "source": [
    "#### `Plot 1 - Prices Distribution`"
   ]
  },
  {
   "cell_type": "code",
   "execution_count": 14,
   "id": "b5b795ce",
   "metadata": {},
   "outputs": [
    {
     "data": {
      "image/png": "[encoded data removed]",
      "text/plain": [
       "<Figure size 1152x576 with 1 Axes>"
      ]
     },
     "metadata": {
      "needs_background": "light"
     },
     "output_type": "display_data"
    },
    {
     "name": "stdout",
     "output_type": "stream",
     "text": [
      "count      205.000000\n",
      "mean     13276.710571\n",
      "std       7988.852332\n",
      "min       5118.000000\n",
      "25%       7788.000000\n",
      "50%      10295.000000\n",
      "75%      16503.000000\n",
      "85%      18500.000000\n",
      "90%      22563.000000\n",
      "100%     45400.000000\n",
      "max      45400.000000\n",
      "Name: price, dtype: float64\n"
     ]
    }
   ],
   "source": [
    "import matplotlib.pyplot as plt  # For plotting 1 - المكتبة الأولى للرسم\n",
    "import seaborn as sns            # For plotting 2 - المكتبة الثانية للرسم\n",
    "plt.figure(figsize=(16,8))\n",
    "plt.title('Prices Distribution')\n",
    "sns.histplot(df.price)\n",
    "plt.show()\n",
    "print(df.price.describe(percentiles = [0.25,0.50,0.75,0.85,0.90,1]))"
   ]
  },
  {
   "cell_type": "markdown",
   "id": "a25e76cf",
   "metadata": {},
   "source": [
    "`نلاحظ أن لدينا سعر 205 سيارة. وعلى الرغم من أسعار السيارات المتوسط هو 13,276 إلا أن الإنحراف المعياري\n",
    "std`\n",
    "\n",
    "`عالي القيمة مما يعني أن هناك تباين كبير في القيم، وهو ما يمكن ملاحظته حين النظر إلى الطرف اليمين من الرسمة سوف نلاحظ وجود سيارات سعرها أعلى من 40,000`"
   ]
  },
  {
   "cell_type": "markdown",
   "id": "4fc5c43f",
   "metadata": {},
   "source": [
    "#### `Plot 2 - Cars Companies and Types`"
   ]
  },
  {
   "cell_type": "code",
   "execution_count": 15,
   "id": "b334c463",
   "metadata": {},
   "outputs": [
    {
     "data": {
      "image/png": "[encoded data removed]",
      "text/plain": [
       "<Figure size 1152x432 with 2 Axes>"
      ]
     },
     "metadata": {
      "needs_background": "light"
     },
     "output_type": "display_data"
    }
   ],
   "source": [
    "plt.figure(figsize=(16, 6))\n",
    "plt.subplot(1,2,1)\n",
    "df.companyname.value_counts().plot(kind  = 'bar', color = 'darkblue')\n",
    "plt.title('Companies')\n",
    "plt.xlabel('Car company')\n",
    "plt.ylabel('Count')\n",
    "plt.subplot(1,2,2)\n",
    "df.carbody.value_counts().plot(kind = 'bar', color = 'purple')\n",
    "plt.title('Cars types')\n",
    "plt.xlabel('Car type')\n",
    "plt.ylabel('Count')\n",
    "plt.show()"
   ]
  },
  {
   "cell_type": "markdown",
   "id": "26165e17",
   "metadata": {},
   "source": [
    "#### `Plot 3 - Used Fuel`"
   ]
  },
  {
   "cell_type": "code",
   "execution_count": 16,
   "id": "39f9c6fe",
   "metadata": {},
   "outputs": [
    {
     "data": {
      "image/png": "[encoded data removed]",
      "text/plain": [
       "<Figure size 576x288 with 1 Axes>"
      ]
     },
     "metadata": {
      "needs_background": "light"
     },
     "output_type": "display_data"
    }
   ],
   "source": [
    "plt.figure(figsize=(8, 4))\n",
    "df.fueltype.value_counts().plot(kind = 'bar', color = 'darkred')\n",
    "plt.title('Fuel Types')\n",
    "plt.xlabel('Fuel')\n",
    "plt.ylabel('Count')\n",
    "plt.show()"
   ]
  },
  {
   "cell_type": "markdown",
   "id": "14e96b5c",
   "metadata": {},
   "source": [
    "`نستنتج من الرسمات أن معظم السيارات في إطار البيانات المستخدم هي من شركة تويوتا، وأكثر نوع متكرر هو نوع السيدان (أربع أبواب) وأكثر نوع للوقود تكرر هو البنزين. من هذا نستطيع أن نقول بشكل مبدئي أن هذا النموذج مناسب لتوقع أسعار السيارات ذات الأربع أبواب التي تستهلك البنزين ومشابهة لسيارات التويوتا`"
   ]
  },
  {
   "cell_type": "markdown",
   "id": "cd346aba",
   "metadata": {},
   "source": [
    "___\n",
    "### `Step Four: Prepare Data for Machine Learning Training — الخطوة الرابعة: تحضير البيانات من أجل تدريب النماذج`\n",
    "`الآن تأتي الخطوات الأخيرة قبل بناء النموذج وهي تحضير البيانات بالشكل المناسب وسوف نقوم بذلك عن طريق التالي`\n",
    "\n",
    "`car_IDأولا سوف نقوم بإزالة عامود`\n",
    "\n",
    "`لأن هذا العامود لا يعطي أية معلومات حقيقة تأثر على سعر السيارة`"
   ]
  },
  {
   "cell_type": "code",
   "execution_count": 17,
   "id": "62033a62",
   "metadata": {},
   "outputs": [],
   "source": [
    "df.drop('car_ID',axis = 1, inplace = True)"
   ]
  },
  {
   "cell_type": "markdown",
   "id": "45b0937b",
   "metadata": {},
   "source": [
    "___"
   ]
  },
  {
   "cell_type": "markdown",
   "id": "86400fef",
   "metadata": {},
   "source": [
    "` Encoding nominal values`\n",
    "\n",
    "`ثم كما تناقشنا سابقا، سوف نقوم بترميز الأعمدة الكتابة وتحويلها إلى أرقام`"
   ]
  },
  {
   "cell_type": "code",
   "execution_count": 18,
   "id": "8063d7a0",
   "metadata": {
    "scrolled": true
   },
   "outputs": [
    {
     "name": "stdout",
     "output_type": "stream",
     "text": [
      "The new df is\n"
     ]
    },
    {
     "data": {
      "text/html": [
       "<div>\n",
       "<style scoped>\n",
       "    .dataframe tbody tr th:only-of-type {\n",
       "        vertical-align: middle;\n",
       "    }\n",
       "\n",
       "    .dataframe tbody tr th {\n",
       "        vertical-align: top;\n",
       "    }\n",
       "\n",
       "    .dataframe thead th {\n",
       "        text-align: right;\n",
       "    }\n",
       "</style>\n",
       "<table border=\"1\" class=\"dataframe\">\n",
       "  <thead>\n",
       "    <tr style=\"text-align: right;\">\n",
       "      <th></th>\n",
       "      <th>symboling</th>\n",
       "      <th>wheelbase</th>\n",
       "      <th>carlength</th>\n",
       "      <th>carwidth</th>\n",
       "      <th>carheight</th>\n",
       "      <th>curbweight</th>\n",
       "      <th>enginesize</th>\n",
       "      <th>boreratio</th>\n",
       "      <th>stroke</th>\n",
       "      <th>compressionratio</th>\n",
       "      <th>...</th>\n",
       "      <th>cylindernumber_twelve</th>\n",
       "      <th>cylindernumber_two</th>\n",
       "      <th>fuelsystem_1bbl</th>\n",
       "      <th>fuelsystem_2bbl</th>\n",
       "      <th>fuelsystem_4bbl</th>\n",
       "      <th>fuelsystem_idi</th>\n",
       "      <th>fuelsystem_mfi</th>\n",
       "      <th>fuelsystem_mpfi</th>\n",
       "      <th>fuelsystem_spdi</th>\n",
       "      <th>fuelsystem_spfi</th>\n",
       "    </tr>\n",
       "  </thead>\n",
       "  <tbody>\n",
       "    <tr>\n",
       "      <th>0</th>\n",
       "      <td>3</td>\n",
       "      <td>88.6</td>\n",
       "      <td>168.8</td>\n",
       "      <td>64.1</td>\n",
       "      <td>48.8</td>\n",
       "      <td>2548</td>\n",
       "      <td>130</td>\n",
       "      <td>3.47</td>\n",
       "      <td>2.68</td>\n",
       "      <td>9.0</td>\n",
       "      <td>...</td>\n",
       "      <td>0</td>\n",
       "      <td>0</td>\n",
       "      <td>0</td>\n",
       "      <td>0</td>\n",
       "      <td>0</td>\n",
       "      <td>0</td>\n",
       "      <td>0</td>\n",
       "      <td>1</td>\n",
       "      <td>0</td>\n",
       "      <td>0</td>\n",
       "    </tr>\n",
       "    <tr>\n",
       "      <th>1</th>\n",
       "      <td>3</td>\n",
       "      <td>88.6</td>\n",
       "      <td>168.8</td>\n",
       "      <td>64.1</td>\n",
       "      <td>48.8</td>\n",
       "      <td>2548</td>\n",
       "      <td>130</td>\n",
       "      <td>3.47</td>\n",
       "      <td>2.68</td>\n",
       "      <td>9.0</td>\n",
       "      <td>...</td>\n",
       "      <td>0</td>\n",
       "      <td>0</td>\n",
       "      <td>0</td>\n",
       "      <td>0</td>\n",
       "      <td>0</td>\n",
       "      <td>0</td>\n",
       "      <td>0</td>\n",
       "      <td>1</td>\n",
       "      <td>0</td>\n",
       "      <td>0</td>\n",
       "    </tr>\n",
       "    <tr>\n",
       "      <th>2</th>\n",
       "      <td>1</td>\n",
       "      <td>94.5</td>\n",
       "      <td>171.2</td>\n",
       "      <td>65.5</td>\n",
       "      <td>52.4</td>\n",
       "      <td>2823</td>\n",
       "      <td>152</td>\n",
       "      <td>2.68</td>\n",
       "      <td>3.47</td>\n",
       "      <td>9.0</td>\n",
       "      <td>...</td>\n",
       "      <td>0</td>\n",
       "      <td>0</td>\n",
       "      <td>0</td>\n",
       "      <td>0</td>\n",
       "      <td>0</td>\n",
       "      <td>0</td>\n",
       "      <td>0</td>\n",
       "      <td>1</td>\n",
       "      <td>0</td>\n",
       "      <td>0</td>\n",
       "    </tr>\n",
       "  </tbody>\n",
       "</table>\n",
       "<p>3 rows × 75 columns</p>\n",
       "</div>"
      ],
      "text/plain": [
       "   symboling  wheelbase  carlength  carwidth  carheight  curbweight  \\\n",
       "0          3       88.6      168.8      64.1       48.8        2548   \n",
       "1          3       88.6      168.8      64.1       48.8        2548   \n",
       "2          1       94.5      171.2      65.5       52.4        2823   \n",
       "\n",
       "   enginesize  boreratio  stroke  compressionratio  ...  \\\n",
       "0         130       3.47    2.68               9.0  ...   \n",
       "1         130       3.47    2.68               9.0  ...   \n",
       "2         152       2.68    3.47               9.0  ...   \n",
       "\n",
       "   cylindernumber_twelve  cylindernumber_two  fuelsystem_1bbl  \\\n",
       "0                      0                   0                0   \n",
       "1                      0                   0                0   \n",
       "2                      0                   0                0   \n",
       "\n",
       "   fuelsystem_2bbl  fuelsystem_4bbl  fuelsystem_idi  fuelsystem_mfi  \\\n",
       "0                0                0               0               0   \n",
       "1                0                0               0               0   \n",
       "2                0                0               0               0   \n",
       "\n",
       "   fuelsystem_mpfi  fuelsystem_spdi  fuelsystem_spfi  \n",
       "0                1                0                0  \n",
       "1                1                0                0  \n",
       "2                1                0                0  \n",
       "\n",
       "[3 rows x 75 columns]"
      ]
     },
     "metadata": {},
     "output_type": "display_data"
    },
    {
     "name": "stdout",
     "output_type": "stream",
     "text": [
      "The size of the dataframe is\n",
      " We have 205 rows, and 75 columns\n"
     ]
    }
   ],
   "source": [
    "ecnoded_df = pd.get_dummies(df)\n",
    "print('The new df is')\n",
    "display(ecnoded_df.head(3))\n",
    "print('The size of the dataframe is')\n",
    "print(' We have', ecnoded_df.shape[0], 'rows, and', ecnoded_df.shape[1], 'columns')"
   ]
  },
  {
   "cell_type": "markdown",
   "id": "7087e029",
   "metadata": {},
   "source": [
    "___"
   ]
  },
  {
   "cell_type": "markdown",
   "id": "1a2210b5",
   "metadata": {},
   "source": [
    "`الآن، سوف نقوم بفصل البيانات على مرتين: الفصل الأول سنقوم بفصل العامود المستهدف (السعر) عن باقي الأعمدة (المتغيرات المستقلة) عن طريق التالي`"
   ]
  },
  {
   "cell_type": "code",
   "execution_count": 19,
   "id": "ce2b6119",
   "metadata": {},
   "outputs": [],
   "source": [
    "# Create X & y - فصل البيانات إلى مجموعة س و ص\n",
    "# X represetns the independet variables - س يمثل المتغيرات المستقلة التي تستخدم لتوقع السعر\n",
    "X = ecnoded_df.drop('price', axis = 1) \n",
    "\n",
    "# Targer variable - المتغير الذي نريد توقعه وهو السعر\n",
    "y = ecnoded_df['price']"
   ]
  },
  {
   "cell_type": "markdown",
   "id": "e212d987",
   "metadata": {},
   "source": [
    "`والسبب وراء هذا الفصل هو أننا نريد استخدام الأعمدة المستقلة (مثل نوع الوقود، واسم الشركة) لتوقع قيمة العمود المستهدف (عامود السيارة)`\n",
    "\n",
    "`X(Columns)*(Parameters) >> leads to Y(Predictions)`"
   ]
  },
  {
   "cell_type": "markdown",
   "id": "d3da3f82",
   "metadata": {},
   "source": [
    "___\n",
    "`الآن الفصل الثاني هو فصل (التدريب/الاختبار) والذي نقوم به في هذا الفصل هو أخذ نسبة من البيانات وفصلها عن طريق عدم وضعها في مرحلة تدريب النموذج. والسبب في قيام ذلك هو أننا نريد اختبار دقة عمل النموذج في الحياة الواقعية وإذا اختبرنا النموذج على نفس البيانات التي دربناه عليها سوف يحرز نتائج عالية بسهولة. ومن أجل ذلك نحن نبقي جزء من البيانات من غير تدريب لإجراء الاختبارات عليه بحيادية`"
   ]
  },
  {
   "cell_type": "code",
   "execution_count": 20,
   "id": "f47857f0",
   "metadata": {},
   "outputs": [],
   "source": [
    "from sklearn.model_selection import train_test_split # for splitting the data - الكود المستخدم لفصل البيانات\n",
    "\n",
    "# We will make the test size = 30% - سنقوم بعمل حجم الاختبار مساوي لـ30 بالمئة\n",
    "X_train, X_test, y_train, y_test = train_test_split(X, y, test_size=0.30, random_state=1204)"
   ]
  },
  {
   "cell_type": "markdown",
   "id": "6c417013",
   "metadata": {},
   "source": [
    "\n",
    "`نلاحظ أن عملية الفصل انتجت لنا 4 متغيرات ووصفهم كالتالي`\n",
    "\n",
    "`X_train: هي الصفوف (السيارات) التي سوف نستخدمها في تدريب النموذج`\n",
    "\n",
    "`y_train: هي أسعار الصفوف التي سوف ندرب النموذج عليها(أسعار صفوف التدريب)`\n",
    "\n",
    "`X_test:  هي الصفوف التي نريد توقعها من أجل اختبار دقة النموذج `\n",
    "\n",
    "`y_test: هي أسعار الصفوف الحقيقة والتي سوف نقارن توقعات النموذج بها`"
   ]
  },
  {
   "cell_type": "markdown",
   "id": "dbaccd56",
   "metadata": {},
   "source": [
    "___\n",
    "`scaling الآن سوف نقوم بخطوة أخيرة قبل التدريب: ألا وهي توحيد المقاييس`\n",
    "\n",
    "` لماذا نقوم بتوحيد المقاييس؟ حسنا انظر إلى الجدول الذي بالأسفل` \n",
    "\n",
    "\n",
    "\n",
    "<div>\n",
    "<img src=\"https://i.ibb.co/0DD5Vbt/Screen-Shot-2022-11-15-at-02-10-55.png\" width = 450>\n",
    "</div>\n",
    "\n",
    "\n",
    "`CC سوف تلاحظ أن لدينا عامودين لتوقع سعر السيارة: أحدهم حجم المحرك ويقاس بوحدة الـ\n",
    " `\n"
   ]
  },
  {
   "cell_type": "markdown",
   "id": "462215f7",
   "metadata": {},
   "source": [
    "`والعامود الثاني هو عدد الاسطوانات والتي تكون قيمتها 4,6,8. نحن نعلم أن كلا من حجم المحرك وعدد الاسطوانات هي معايير مهمة في تحديد سعر السيارة. ولكن إن لم نقم بتوحيد المقاييس سوف يكون أثر حجم المحرك أكبر بكثير من عدد الاسطوانات لأن قيم حجم المحرك بالآلاف أما قيمة عدد الاسطوانات  بالآحاد . ولحل هذه المشكلة نقوم بتوحيد المقاييس كالتالي `\n",
    "\n",
    "<div>\n",
    "<img src=\"https://androidkt.com/wp-content/uploads/2020/10/Selection_060.png\" width = 250>\n",
    "</div>\n",
    "\n",
    "\n",
    "\n",
    "`والذي سوف ينتج قيم جديدة للأعمدة تتراوح ما بين الصفر والواحد. حيث أن صفر تمثل أقل قيمة وواحد تمثل أعلى قيمة. وبذلك، نحن نجعل أثر كل عامود في توقع السعر متساوي مع الأعمدة الأخرى لأن كل قيم الأعمدة تتراوح ما بين0-1`"
   ]
  },
  {
   "cell_type": "code",
   "execution_count": 21,
   "id": "6c966d0c",
   "metadata": {},
   "outputs": [],
   "source": [
    "from sklearn.preprocessing import MinMaxScaler # To scale columns - لتوحيد المقاييس\n",
    "\n",
    "s = MinMaxScaler()\n",
    "X_train_s = s.fit_transform(X_train)\n",
    "X_test_s = s.transform(X_test) "
   ]
  },
  {
   "cell_type": "markdown",
   "id": "b90e25f4",
   "metadata": {},
   "source": [
    "___\n",
    "### `Step Five: Train and Evaluate the ML Models  —   الخطوة الخامسة: تدريب النماذج وتقييم أداؤها `\n",
    "` حسنا! لقد وصلنا إلى الخطوة الأهم ألا وهو اختيار النموذج المناسب لهدفنا. إن هدفنا في هذا المشروع هو توقع أسعار السيارات، ولو نظرنا إلى نوع هذا العامود، لوجدنا أن نوعه هو عبارة عن عامود رقمي متصل أي يحتوي على أرقام. وإحد النماذج التي تستخدم لتوقع القيم المتصلة الرقمية هو الإنحدار الخطي والمعروف بـ\n",
    "Regression`\n",
    "\n",
    "`\n",
    "وفي هذا المشروع، سوف نستخدم نوعين من الإنحدار الخطي، ألا وهم\n",
    "Lasso and Ridge\n",
    "وسوف نختار الذي سوف يحرز نتيجة أعلى في اختبار تقييم الأداء\n",
    "`\n",
    "___\n",
    "` تقييم أداء الانحدار الخطي في هذا المشروع سيكون عن طريق معيارين وهم `\n",
    "\n",
    "`R2:  قيمة تتراوح بين 0-1 كلما اقتربنا من 1 كل ما كان توقعنا قريب من القيمة الحقيقية`\n",
    "\n",
    "`RMSE: قيمة تمثل كمية الخطأ في توقعنا، كلما أخطأنا كلما ارتفعت`"
   ]
  },
  {
   "cell_type": "code",
   "execution_count": 22,
   "id": "4195b64e",
   "metadata": {},
   "outputs": [],
   "source": [
    "from sklearn.linear_model import  Lasso, Ridge # for regression - لتدريب نموذج الانحدار الخطي\n",
    "from sklearn.metrics import r2_score, mean_squared_error # for evaluation - لتقييم الآداء\n",
    "import numpy as np"
   ]
  },
  {
   "cell_type": "code",
   "execution_count": 23,
   "id": "abc36862",
   "metadata": {},
   "outputs": [
    {
     "name": "stdout",
     "output_type": "stream",
     "text": [
      "R2 value is 0.8789021957699282\n",
      "RMSE value is 2911.53212901985\n"
     ]
    }
   ],
   "source": [
    "# Lasso regression model - نموذج لاسو\n",
    "Lasso = Lasso() # initiate lasso object - نقوم أولا بتحضير النموذج\n",
    "Lasso.fit(X_train_s, y_train) # Train the model using training data -  نقوم بتدريب النموذج باستخدام بيانات التدريب\n",
    "Lasso_pred = Lasso.predict(X_test_s) # Predict the price of testing rows - الآن نقوم بتوقع أسعار السيارات في صفوف الاختبار   \n",
    "\n",
    "\n",
    "#Evalaute Lasso model performance - تقييم أداء نموذج لاسو\n",
    "print('R2 value is', r2_score(y_test, Lasso_pred))\n",
    "print('RMSE value is', np.sqrt(mean_squared_error(y_test, Lasso_pred)))"
   ]
  },
  {
   "cell_type": "code",
   "execution_count": 24,
   "id": "abd4959d",
   "metadata": {},
   "outputs": [
    {
     "name": "stdout",
     "output_type": "stream",
     "text": [
      "R2 value is 0.9319482284094119\n",
      "RMSE value is 2182.59507321917\n"
     ]
    }
   ],
   "source": [
    "# Ridge regression model\n",
    "Ridge = Ridge() # Initiate ridge object\n",
    "Ridge.fit(X_train_s, y_train)\n",
    "Ridge_pred = Ridge.predict(X_test_s)\n",
    "print('R2 value is', r2_score(y_test, Ridge_pred))\n",
    "print('RMSE value is', np.sqrt(mean_squared_error(y_test, Ridge_pred)))"
   ]
  },
  {
   "cell_type": "markdown",
   "id": "e21c7c53",
   "metadata": {},
   "source": [
    "`نستنتج أن أداء نموذج الردج كان أعلى من نموذج اللاسو، ولذلك سوف نعتمده في مشروعنا هذا. في الأسفل مقارنة بين الأسعار المتوقعة عن طريق نموذج الردج والحقيقية، كل ما كان الخط مستقيم كل ما كان النموذج أكثر دقة`"
   ]
  },
  {
   "cell_type": "code",
   "execution_count": 25,
   "id": "531336f6",
   "metadata": {
    "scrolled": true
   },
   "outputs": [
    {
     "data": {
      "image/png": "[encoded data removed]",
      "text/plain": [
       "<Figure size 864x576 with 1 Axes>"
      ]
     },
     "metadata": {
      "needs_background": "light"
     },
     "output_type": "display_data"
    }
   ],
   "source": [
    "figure = plt.figure(figsize=(12,8))\n",
    "\n",
    "ax = plt.axes()\n",
    "ax.plot(y_test, Ridge_pred, \n",
    "         marker='o', ls='', ms=3.0,color='sienna')\n",
    "\n",
    "lim = (0, y_test.max())\n",
    "\n",
    "ax.set(xlabel='Actual Price', \n",
    "       ylabel='Predicted Price', \n",
    "       xlim=lim,\n",
    "       ylim=lim)\n",
    "plt.title('Ridge Regression Model Results', fontsize=14)\n",
    "ax.xaxis.label.set_size(14);\n",
    "ax.yaxis.label.set_size(14);"
   ]
  },
  {
   "cell_type": "markdown",
   "id": "91f983df",
   "metadata": {},
   "source": [
    "___\n",
    "### `Bonus Step: Highest Correlated Values with Price —  خطوة إضافية: إيجاد الصفات الأكثر توافقا مع السعر `\n"
   ]
  },
  {
   "cell_type": "markdown",
   "id": "fccb71f1",
   "metadata": {},
   "source": [
    "`لرسم التوافق بين جميع الأعمدة نستخدم الكود التالي`"
   ]
  },
  {
   "cell_type": "code",
   "execution_count": 26,
   "id": "6101199d",
   "metadata": {
    "scrolled": true
   },
   "outputs": [
    {
     "data": {
      "image/png": "[encoded data removed]",
      "text/plain": [
       "<Figure size 1440x1152 with 2 Axes>"
      ]
     },
     "metadata": {
      "needs_background": "light"
     },
     "output_type": "display_data"
    }
   ],
   "source": [
    "corr = ecnoded_df.corr()\n",
    "plt.figure(figsize=(20,16))\n",
    "plt.title('Correlation Map')\n",
    "sns.heatmap(corr, annot=False, cmap=\"GnBu\");"
   ]
  },
  {
   "cell_type": "markdown",
   "id": "2314f531",
   "metadata": {},
   "source": [
    "`هذه الرسمة تمثل التوافق بين كل الأعمدة، الذي يهمنا هو صف (السعر). عند النظر إليه، نلاحظ أن قيم توافقه مع باقي الأعمدة تتراوح ما بين -1,1. إذا كانت القيمة قريبة من 1 فهذا يعني أن ارتفاع قيمة هذا العامود سيؤدي إلى ارتفاع السعر، والعكس صحيح.`"
   ]
  },
  {
   "cell_type": "markdown",
   "id": "f21f2e83",
   "metadata": {},
   "source": [
    "` نستطيع أيجاد ماهي أعلى القيم المتوافقة مع قيمة سعر السيارة إما إيجابيا أو سلبيا عن طريق التالي`"
   ]
  },
  {
   "cell_type": "code",
   "execution_count": 27,
   "id": "f60c9cfc",
   "metadata": {},
   "outputs": [
    {
     "data": {
      "text/plain": [
       "enginesize    0.874145\n",
       "curbweight    0.835305\n",
       "horsepower    0.808139\n",
       "carwidth      0.759325\n",
       "carlength     0.682920\n",
       "Name: price, dtype: float64"
      ]
     },
     "execution_count": 27,
     "metadata": {},
     "output_type": "execute_result"
    }
   ],
   "source": [
    "# Top 5 features that icnrease car price\n",
    "# أكثر 5 قيم التي ترفع من قيمة سعر السيارة\n",
    "corr.price.sort_values(ascending=False)[1:6]"
   ]
  },
  {
   "cell_type": "code",
   "execution_count": 28,
   "id": "82694653",
   "metadata": {},
   "outputs": [
    {
     "data": {
      "text/plain": [
       "highwaympg        -0.697599\n",
       "citympg           -0.685751\n",
       "drivewheel_fwd    -0.601950\n",
       "fuelsystem_2bbl   -0.501374\n",
       "enginetype_ohc    -0.344270\n",
       "Name: price, dtype: float64"
      ]
     },
     "execution_count": 28,
     "metadata": {},
     "output_type": "execute_result"
    }
   ],
   "source": [
    "# Top 5 features that decrease car price\n",
    "# أكثر 5 القيم التي تنقص من قيمة السيارة\n",
    "corr.price.sort_values(ascending=True)[1:6]"
   ]
  },
  {
   "cell_type": "markdown",
   "id": "6a721fc0",
   "metadata": {},
   "source": [
    "___\n",
    "##  `نصيحة فهم للتعلم`\n",
    "`إن كنت متمرس في تعلم الآلة سوف تجد أن هذا الموضوع يساعدك في مراجعة أساسيات تعلم الآلة. وفي حالة كنت جديدًا في هذا المجال، ستجد أن هناك الكثير لتعلمه وربما الآن تشعر بالحيرة والقلق بسبب كثرة الخطوات.  ونصيحتنا هي ألا تقلق أبدًا،  فكلنا بدأنا من الصفر وتعلم الذكاء الاصطناعي ممتع ولكنه يستغرق بعض الوقت. كلما تدربت على مشاريع تعلم آلة كل ماأصبحت خبرتك ومهارتك أحسن. ونحن في فهم سنسعى لتقديم مشاريع متنوعة تستطيع التدرب عليها. وأيضا تستطيع زيارة موقع`\n",
    "\n",
    "`kaggle`\n",
    "\n",
    "`وهو موقع متخصص لعلماء البيانات تستطيع من خلاله الوصول إلى مئات من مشاريع تعلم الآلة والذكاء الاصطناعي والتعلم من خبرات الآخرين. فإذا انتهيت من هذا المشروع، تستطيع زيارة موقع كاجل والتدرب على المشاريع المتنوعة في الانحدار الخطي بناء على الحلول المزودة هناك`"
   ]
  },
  {
   "cell_type": "markdown",
   "id": "1b631238",
   "metadata": {},
   "source": [
    "___\n",
    "##  `ماذا تعلمنا؟`\n",
    "#####     `تعلم الآلة هو جزء من الذكاء الاصطناعي ولها تطبيقات كثيرة ومتعددة • `\n",
    "#####   `تعلم الآلة هو استخدام البيانات كمدخلات من أجل إيجاد مخرجات عن طريق الرياضيات • `\n",
    "#####   `مخرجات تعلم الآلة كثيرة، وهي تعتمد على نوع التطبيق مثل توقع المستقبل أو تصنيف نوع العميل • ` \n",
    "#####     `من تطبيقات تعلم الآلة هو توقع الأسعار، وحين توقع الأسعار نستطيع استخدام نماذج الانحدار الخطي • ` \n",
    "#####     `  إن صناعة النماذج الجيدة تعتمد بشكل مباشر على معالجة البيانات وهي الخطوة التي تأخذ معظم الوقت •`\n",
    "#####     `  معالجة البيانات تتضمن التحقق من سلامة البيانات من أية بيانات محذوفة، أو خاطئة، أو متتكرة •`\n",
    "#####     `  معالجة البيانات تتضمن أيضا ترميز الأعمدة التي تحتوي على أعمدة مكتوبة بالحروف وتحويلها إلى أرقام •`\n",
    "#####     `  معالجة البيانات تتضمن أيضا توحيد القياسات بين الأعمدة من أجل المساواة بين أثر الأعمدة •`"
   ]
  }
 ],
 "metadata": {
  "kernelspec": {
   "display_name": "Python 3 (ipykernel)",
   "language": "python",
   "name": "python3"
  },
  "language_info": {
   "codemirror_mode": {
    "name": "ipython",
    "version": 3
   },
   "file_extension": ".py",
   "mimetype": "text/x-python",
   "name": "python",
   "nbconvert_exporter": "python",
   "pygments_lexer": "ipython3",
   "version": "3.9.12"
  }
 },
 "nbformat": 4,
 "nbformat_minor": 5
}
