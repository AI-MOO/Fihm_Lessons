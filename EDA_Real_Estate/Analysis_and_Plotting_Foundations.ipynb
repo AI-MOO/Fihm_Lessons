{
 "cells": [
  {
   "cell_type": "markdown",
   "id": "7a67814d",
   "metadata": {},
   "source": [
    "<a href='https://fihm.ai/' target='_blank'><img src='https://i.postimg.cc/Y25KhxPM/q.png' border='0' width = 250 alt='q'/></a>"
   ]
  },
  {
   "cell_type": "markdown",
   "id": "7ad7e5bc",
   "metadata": {},
   "source": [
    "# `أساسيات تحليل ورسم البيانات - تطبيق عملي على العقار `\n",
    "# `Data Analysis and Plotting Foundations - Real Estate Practical Implementation`"
   ]
  },
  {
   "cell_type": "markdown",
   "id": "a80f9815",
   "metadata": {},
   "source": [
    "## `مقدمة`\n",
    "`إن البيانات اليوم تمثل ثروة نستطيع من خلالها الوصول إلى قرارات حاسمة ومهمة لنجاح المشاريع والأعمال. بل إن البعض يصف البيانات بالنفط الجديد من حيث الأهمية والثروة. ولكن مثل ما أن النفط ترتفع قيمته بعد معالجته وتصفيته، كذلك الحال في البيانات عندما يتم معالجتها وتحليلها. ونحن كعلماء أو محللي بيانات، علينا مهمة أخذ البيانات وتمثيلها بطريقة سلسة وواضحة، يستطيع من خلالها المختص وغير المختص فهم ماذا حصل وماذا تمثل هذه البيانات`\n",
    "\n",
    "`بمعنى آخر، إن من أجل صناعة القرار بناء على البيانات، لابد من فهم البيانات بوضوح، ومجرد النظر إلى أرقام مخزنة في جداول لن يعطينا نظرة شاملة تجعلنا نفهم تمام ماذا حصل. و من أجل تبسيط البيانات وفهم معناها بطريقة شاملة، نقوم بترجمة البيانات من خلال رسمها برسوم بيانية.  فرسم البيانات يعتبر إحدى الركائز في مهمة تحليل البيانات من أجل استنباط فوائد ملموسة واستنتاجات منطقية، حيث أن الرسم يسهل علينا معرفة ماذا حصل، وماهي الأنماط الي تشكلت، وهل هناك قيم متطرفة أم لا`"
   ]
  },
  {
   "cell_type": "markdown",
   "id": "538a8d32",
   "metadata": {},
   "source": [
    "##  `أهداف الدرس` \n",
    "#####   `معالجة وإعادة تسمية البيانات من اللغة العربية إلى الإنجليزية • `\n",
    "#####     ` القيام بعمل تحليل بيانات استكشافي باستخدام مكتبتي •`\n",
    "#####     ` (Matplotlip, Seaborn)`  \n",
    "#####     ` الوصول لاستنتاجات مفيدة بناء على الرسومات •`"
   ]
  },
  {
   "cell_type": "markdown",
   "id": "caece5e5",
   "metadata": {},
   "source": [
    "##  `ماهي البيانات المستخدمة؟`\n",
    "`لنفترض أنك محلل بيانات في شركة استثمارات عقارية، وقد طلب منك تحليل سوق العقار السعودي في بداية عام 2022. مهمتك هي الحصول على البيانات الملائمة ووضعها في رسوم بيانية سهلة الاستيعاب كي تساعد مجلس الإدارة في أخذ القرارات الصحيحة. موقع البيانات السعودية المفتوحة يقدم بيانات عقارية مفتوحة المصدر (أي متاحة للاستخدام بشكل مجاني)، وهي تمثل الصفقات العقارية التي تمت في السعودية في عام 2022 من شهر يناير إلى منتصف شهر إبريل، وهي أيضا إطار البيانات المستخدم في هذا الدرس`\n",
    "\n",
    "**https://data.gov.sa/Data/ar/dataset/realestate**\n",
    "\n",
    "`بعد الدخول على الرابط ستجد البيانات في صيغ مختلفة مثل السي اس في والإكسل. قم بتحميل صيغة السي اس في`\n",
    "\n",
    "`CSV`\n",
    "\n",
    "`أو قم بتحميلها من الرابط التالي`\n",
    "\n",
    "**https://drive.google.com/file/d/1y68Ylu1khRk7XuM5y3K8bJJHpzUBLYzo**"
   ]
  },
  {
   "cell_type": "markdown",
   "id": "7db75a66",
   "metadata": {},
   "source": [
    "##  `ماذا نريد أن نفعل؟` \n",
    "#####   `أولا: سوف نتحقق من البيانات الموجودة في إطار البيانات المزود  • ` \n",
    "#####     `ثانيا: سنختار الأعمدة الملائمة لإجراء التحليلات عليها •` \n",
    "#####     `آخيرا: الخروج باستنتاجات منطقية بناء على الرسوم البيانية •`"
   ]
  },
  {
   "cell_type": "markdown",
   "id": "ce09843f",
   "metadata": {},
   "source": [
    "### `Step one: Import necessary libraries — الخطوة الأولى: استدعاء المكتبات اللازمة`"
   ]
  },
  {
   "cell_type": "code",
   "execution_count": 1,
   "id": "eb6e4789",
   "metadata": {},
   "outputs": [],
   "source": [
    "import pandas as pd              # For dataframe manipulation - لإجراء التعديلات اللازمة على البيانات\n",
    "import numpy as np               # For specifying ranges in plots - لتحديد المدى في الرسمات\n",
    "import matplotlib.pyplot as plt  # For plotting 1 - المكتبة الأولى للرسم\n",
    "import seaborn as sns            # For plotting 2 - المكتبة الثانية للرسم"
   ]
  },
  {
   "cell_type": "markdown",
   "id": "1366acbe",
   "metadata": {},
   "source": [
    "### `Step two: Inspect Data — الخطوة الثانية: فحص البيانات`"
   ]
  },
  {
   "cell_type": "code",
   "execution_count": 2,
   "id": "348a3be6",
   "metadata": {},
   "outputs": [
    {
     "data": {
      "text/html": [
       "<div>\n",
       "<style scoped>\n",
       "    .dataframe tbody tr th:only-of-type {\n",
       "        vertical-align: middle;\n",
       "    }\n",
       "\n",
       "    .dataframe tbody tr th {\n",
       "        vertical-align: top;\n",
       "    }\n",
       "\n",
       "    .dataframe thead th {\n",
       "        text-align: right;\n",
       "    }\n",
       "</style>\n",
       "<table border=\"1\" class=\"dataframe\">\n",
       "  <thead>\n",
       "    <tr style=\"text-align: right;\">\n",
       "      <th></th>\n",
       "      <th>رقم مرجعي</th>\n",
       "      <th>المنطقة</th>\n",
       "      <th>المدينة</th>\n",
       "      <th>الحي</th>\n",
       "      <th>المخطط</th>\n",
       "      <th>رقم القطعة</th>\n",
       "      <th>التاريخ</th>\n",
       "      <th>تصنيف العقار</th>\n",
       "      <th>نوع العقار</th>\n",
       "      <th>عدد العقارات</th>\n",
       "      <th>السعر بالريال السعودي</th>\n",
       "      <th>المساحة</th>\n",
       "      <th>سعر المتر المربع</th>\n",
       "    </tr>\n",
       "  </thead>\n",
       "  <tbody>\n",
       "    <tr>\n",
       "      <th>0</th>\n",
       "      <td>16074562</td>\n",
       "      <td>منطقة الرياض</td>\n",
       "      <td>الافلاج</td>\n",
       "      <td>حي/الخالدية</td>\n",
       "      <td>مخطط/349</td>\n",
       "      <td>قطعة 255</td>\n",
       "      <td>2/1/2022</td>\n",
       "      <td>سكني</td>\n",
       "      <td>قطعة أرض</td>\n",
       "      <td>1</td>\n",
       "      <td>70000</td>\n",
       "      <td>820.53</td>\n",
       "      <td>85.3107</td>\n",
       "    </tr>\n",
       "    <tr>\n",
       "      <th>1</th>\n",
       "      <td>16077290</td>\n",
       "      <td>منطقة الرياض</td>\n",
       "      <td>البجاديه</td>\n",
       "      <td>حي/11 بالدخل المحدود غرب البجادية</td>\n",
       "      <td>مخطط/أخرى</td>\n",
       "      <td>قطعة 448</td>\n",
       "      <td>2/1/2022</td>\n",
       "      <td>سكني</td>\n",
       "      <td>قطعة أرض</td>\n",
       "      <td>1</td>\n",
       "      <td>10000</td>\n",
       "      <td>625.00</td>\n",
       "      <td>16.0000</td>\n",
       "    </tr>\n",
       "    <tr>\n",
       "      <th>2</th>\n",
       "      <td>16077316</td>\n",
       "      <td>منطقة الرياض</td>\n",
       "      <td>الخرج</td>\n",
       "      <td>حي/60حى اليرموك مخطط 1009 الجزء الثانى</td>\n",
       "      <td>مخطط/أخرى</td>\n",
       "      <td>قطعة 1063</td>\n",
       "      <td>2/1/2022</td>\n",
       "      <td>سكني</td>\n",
       "      <td>قطعة أرض</td>\n",
       "      <td>1</td>\n",
       "      <td>100000</td>\n",
       "      <td>624.07</td>\n",
       "      <td>160.2384</td>\n",
       "    </tr>\n",
       "    <tr>\n",
       "      <th>3</th>\n",
       "      <td>16073025</td>\n",
       "      <td>منطقة الرياض</td>\n",
       "      <td>الخرج</td>\n",
       "      <td>حي/68 حى اليرموك مخطط 1009/ 2</td>\n",
       "      <td>مخطط/أخرى</td>\n",
       "      <td>قطعة 1222</td>\n",
       "      <td>2/1/2022</td>\n",
       "      <td>تجاري</td>\n",
       "      <td>قطعة أرض</td>\n",
       "      <td>1</td>\n",
       "      <td>110000</td>\n",
       "      <td>581.05</td>\n",
       "      <td>189.3124</td>\n",
       "    </tr>\n",
       "    <tr>\n",
       "      <th>4</th>\n",
       "      <td>16069867</td>\n",
       "      <td>منطقة الرياض</td>\n",
       "      <td>الخرج</td>\n",
       "      <td>حي/827 حى هجرة الصاع</td>\n",
       "      <td>مخطط/أخرى</td>\n",
       "      <td>قطعة 1071</td>\n",
       "      <td>2/1/2022</td>\n",
       "      <td>سكني</td>\n",
       "      <td>قطعة أرض</td>\n",
       "      <td>1</td>\n",
       "      <td>40000</td>\n",
       "      <td>630.00</td>\n",
       "      <td>63.4920</td>\n",
       "    </tr>\n",
       "  </tbody>\n",
       "</table>\n",
       "</div>"
      ],
      "text/plain": [
       "   رقم مرجعي       المنطقة   المدينة                                    الحي  \\\n",
       "0   16074562  منطقة الرياض   الافلاج                             حي/الخالدية   \n",
       "1   16077290  منطقة الرياض  البجاديه       حي/11 بالدخل المحدود غرب البجادية   \n",
       "2   16077316  منطقة الرياض     الخرج  حي/60حى اليرموك مخطط 1009 الجزء الثانى   \n",
       "3   16073025  منطقة الرياض     الخرج           حي/68 حى اليرموك مخطط 1009/ 2   \n",
       "4   16069867  منطقة الرياض     الخرج                    حي/827 حى هجرة الصاع   \n",
       "\n",
       "      المخطط  رقم القطعة   التاريخ تصنيف العقار نوع العقار  عدد العقارات  \\\n",
       "0   مخطط/349    قطعة 255  2/1/2022         سكني   قطعة أرض             1   \n",
       "1  مخطط/أخرى    قطعة 448  2/1/2022         سكني   قطعة أرض             1   \n",
       "2  مخطط/أخرى   قطعة 1063  2/1/2022         سكني   قطعة أرض             1   \n",
       "3  مخطط/أخرى   قطعة 1222  2/1/2022        تجاري   قطعة أرض             1   \n",
       "4  مخطط/أخرى   قطعة 1071  2/1/2022         سكني   قطعة أرض             1   \n",
       "\n",
       "   السعر بالريال السعودي  المساحة   سعر المتر المربع  \n",
       "0                  70000    820.53           85.3107  \n",
       "1                  10000    625.00           16.0000  \n",
       "2                 100000    624.07          160.2384  \n",
       "3                 110000    581.05          189.3124  \n",
       "4                  40000    630.00           63.4920  "
      ]
     },
     "execution_count": 2,
     "metadata": {},
     "output_type": "execute_result"
    }
   ],
   "source": [
    "df = pd.read_csv('realestate.csv') # Read the CSV file - قم بقراءة ملف السي اس في\n",
    "df.head()"
   ]
  },
  {
   "cell_type": "code",
   "execution_count": 3,
   "id": "883670fa",
   "metadata": {
    "scrolled": true
   },
   "outputs": [
    {
     "data": {
      "text/plain": [
       "Index(['رقم مرجعي', 'المنطقة', 'المدينة', 'الحي', 'المخطط', 'رقم القطعة',\n",
       "       'التاريخ', 'تصنيف العقار', 'نوع العقار', 'عدد العقارات',\n",
       "       'السعر بالريال السعودي', 'المساحة ', 'سعر المتر المربع'],\n",
       "      dtype='object')"
      ]
     },
     "execution_count": 3,
     "metadata": {},
     "output_type": "execute_result"
    }
   ],
   "source": [
    "# Let us check the columns' names in the dataframe - فلنتحقق من أسماء الأعمدة في إطار البيانات المستخدم\n",
    "df.columns"
   ]
  },
  {
   "cell_type": "markdown",
   "id": "aca2aabb",
   "metadata": {},
   "source": [
    "`كما هو واضح أمامنا، إن جميع أسماء المزايا (الأعمدة) المستخدمة في إطار البيانات مسمى باللغة العربية. ومن أجل سهولة تحليل ورسم البيانات، يستحسن تحويل الأسماء والبيانات من اللغة العربية إلى الإنجليزية`"
   ]
  },
  {
   "cell_type": "markdown",
   "id": "2e1cc05b",
   "metadata": {},
   "source": [
    "### `Step three: Translate columns names to English — الخطوة الثالثة: ترجمة أسماء الأعمدة إلى اللغة الإنجليزية`"
   ]
  },
  {
   "cell_type": "code",
   "execution_count": 4,
   "id": "c4f437ff",
   "metadata": {},
   "outputs": [
    {
     "data": {
      "text/html": [
       "<div>\n",
       "<style scoped>\n",
       "    .dataframe tbody tr th:only-of-type {\n",
       "        vertical-align: middle;\n",
       "    }\n",
       "\n",
       "    .dataframe tbody tr th {\n",
       "        vertical-align: top;\n",
       "    }\n",
       "\n",
       "    .dataframe thead th {\n",
       "        text-align: right;\n",
       "    }\n",
       "</style>\n",
       "<table border=\"1\" class=\"dataframe\">\n",
       "  <thead>\n",
       "    <tr style=\"text-align: right;\">\n",
       "      <th></th>\n",
       "      <th>Reference_Num</th>\n",
       "      <th>State</th>\n",
       "      <th>City</th>\n",
       "      <th>District</th>\n",
       "      <th>Area</th>\n",
       "      <th>Land_Number</th>\n",
       "      <th>Date</th>\n",
       "      <th>Category</th>\n",
       "      <th>Type</th>\n",
       "      <th>Num_of_Properties</th>\n",
       "      <th>Price_SAR</th>\n",
       "      <th>Land_Area</th>\n",
       "      <th>SM_Price</th>\n",
       "    </tr>\n",
       "  </thead>\n",
       "  <tbody>\n",
       "    <tr>\n",
       "      <th>0</th>\n",
       "      <td>16074562</td>\n",
       "      <td>منطقة الرياض</td>\n",
       "      <td>الافلاج</td>\n",
       "      <td>حي/الخالدية</td>\n",
       "      <td>مخطط/349</td>\n",
       "      <td>قطعة 255</td>\n",
       "      <td>2/1/2022</td>\n",
       "      <td>سكني</td>\n",
       "      <td>قطعة أرض</td>\n",
       "      <td>1</td>\n",
       "      <td>70000</td>\n",
       "      <td>820.53</td>\n",
       "      <td>85.3107</td>\n",
       "    </tr>\n",
       "    <tr>\n",
       "      <th>1</th>\n",
       "      <td>16077290</td>\n",
       "      <td>منطقة الرياض</td>\n",
       "      <td>البجاديه</td>\n",
       "      <td>حي/11 بالدخل المحدود غرب البجادية</td>\n",
       "      <td>مخطط/أخرى</td>\n",
       "      <td>قطعة 448</td>\n",
       "      <td>2/1/2022</td>\n",
       "      <td>سكني</td>\n",
       "      <td>قطعة أرض</td>\n",
       "      <td>1</td>\n",
       "      <td>10000</td>\n",
       "      <td>625.00</td>\n",
       "      <td>16.0000</td>\n",
       "    </tr>\n",
       "  </tbody>\n",
       "</table>\n",
       "</div>"
      ],
      "text/plain": [
       "   Reference_Num         State      City                           District  \\\n",
       "0       16074562  منطقة الرياض   الافلاج                        حي/الخالدية   \n",
       "1       16077290  منطقة الرياض  البجاديه  حي/11 بالدخل المحدود غرب البجادية   \n",
       "\n",
       "        Area Land_Number      Date Category      Type  Num_of_Properties  \\\n",
       "0   مخطط/349    قطعة 255  2/1/2022     سكني  قطعة أرض                  1   \n",
       "1  مخطط/أخرى    قطعة 448  2/1/2022     سكني  قطعة أرض                  1   \n",
       "\n",
       "   Price_SAR  Land_Area  SM_Price  \n",
       "0      70000     820.53   85.3107  \n",
       "1      10000     625.00   16.0000  "
      ]
     },
     "execution_count": 4,
     "metadata": {},
     "output_type": "execute_result"
    }
   ],
   "source": [
    "# Firstly, we rename columns names - أولا، سنقوم بإعادة تسمية أسماء الأعمدة\n",
    "df = df.rename(columns={'رقم مرجعي':'Reference_Num','المنطقة':'State','المدينة':'City',\n",
    "                         'الحي':'District','المخطط':'Area','رقم القطعة':'Land_Number',\n",
    "                         'التاريخ':'Date','تصنيف العقار':'Category','نوع العقار':'Type',\n",
    "                         'عدد العقارات':'Num_of_Properties','السعر بالريال السعودي':'Price_SAR',\n",
    "                         'المساحة ':'Land_Area','سعر المتر المربع':'SM_Price'})\n",
    "\n",
    "# Let us check the new columns names - فلنقم بالتحقق من الأسماء الجديدة\n",
    "df.head(2)"
   ]
  },
  {
   "cell_type": "markdown",
   "id": "fed5d40f",
   "metadata": {},
   "source": [
    "### `Step four: Drop unnecessary columns — الخطوة الرابعة: التخلص من الأعمدة الغير مهمة`\n",
    "\n",
    "`نحن كمحللي بيانات. نعلم أن كل عامود يمثل صفة (فيتشر) معينة في جدول البيانات. وإنه من الطبيعي أن تختلف أهمية كل عامود عن الآخر. فبحسب الهدف من تحليل البيانات، يمكننا تحديد ماهي الأعمدة التي نحتاج إليها. وإن محلل البيانات الماهر يتخلص من الأعمدة التي لا حاجة لها من أجل الحفاظ على الذاكرة وسلاسة التحليل`"
   ]
  },
  {
   "cell_type": "code",
   "execution_count": 5,
   "id": "413c94a4",
   "metadata": {
    "scrolled": true
   },
   "outputs": [
    {
     "data": {
      "text/html": [
       "<div>\n",
       "<style scoped>\n",
       "    .dataframe tbody tr th:only-of-type {\n",
       "        vertical-align: middle;\n",
       "    }\n",
       "\n",
       "    .dataframe tbody tr th {\n",
       "        vertical-align: top;\n",
       "    }\n",
       "\n",
       "    .dataframe thead th {\n",
       "        text-align: right;\n",
       "    }\n",
       "</style>\n",
       "<table border=\"1\" class=\"dataframe\">\n",
       "  <thead>\n",
       "    <tr style=\"text-align: right;\">\n",
       "      <th></th>\n",
       "      <th>State</th>\n",
       "      <th>City</th>\n",
       "      <th>Date</th>\n",
       "      <th>Category</th>\n",
       "      <th>Type</th>\n",
       "      <th>Price_SAR</th>\n",
       "      <th>Land_Area</th>\n",
       "      <th>SM_Price</th>\n",
       "    </tr>\n",
       "  </thead>\n",
       "  <tbody>\n",
       "    <tr>\n",
       "      <th>0</th>\n",
       "      <td>منطقة الرياض</td>\n",
       "      <td>الافلاج</td>\n",
       "      <td>2/1/2022</td>\n",
       "      <td>سكني</td>\n",
       "      <td>قطعة أرض</td>\n",
       "      <td>70000</td>\n",
       "      <td>820.53</td>\n",
       "      <td>85.3107</td>\n",
       "    </tr>\n",
       "    <tr>\n",
       "      <th>1</th>\n",
       "      <td>منطقة الرياض</td>\n",
       "      <td>البجاديه</td>\n",
       "      <td>2/1/2022</td>\n",
       "      <td>سكني</td>\n",
       "      <td>قطعة أرض</td>\n",
       "      <td>10000</td>\n",
       "      <td>625.00</td>\n",
       "      <td>16.0000</td>\n",
       "    </tr>\n",
       "    <tr>\n",
       "      <th>2</th>\n",
       "      <td>منطقة الرياض</td>\n",
       "      <td>الخرج</td>\n",
       "      <td>2/1/2022</td>\n",
       "      <td>سكني</td>\n",
       "      <td>قطعة أرض</td>\n",
       "      <td>100000</td>\n",
       "      <td>624.07</td>\n",
       "      <td>160.2384</td>\n",
       "    </tr>\n",
       "    <tr>\n",
       "      <th>3</th>\n",
       "      <td>منطقة الرياض</td>\n",
       "      <td>الخرج</td>\n",
       "      <td>2/1/2022</td>\n",
       "      <td>تجاري</td>\n",
       "      <td>قطعة أرض</td>\n",
       "      <td>110000</td>\n",
       "      <td>581.05</td>\n",
       "      <td>189.3124</td>\n",
       "    </tr>\n",
       "    <tr>\n",
       "      <th>4</th>\n",
       "      <td>منطقة الرياض</td>\n",
       "      <td>الخرج</td>\n",
       "      <td>2/1/2022</td>\n",
       "      <td>سكني</td>\n",
       "      <td>قطعة أرض</td>\n",
       "      <td>40000</td>\n",
       "      <td>630.00</td>\n",
       "      <td>63.4920</td>\n",
       "    </tr>\n",
       "  </tbody>\n",
       "</table>\n",
       "</div>"
      ],
      "text/plain": [
       "          State      City      Date Category      Type  Price_SAR  Land_Area  \\\n",
       "0  منطقة الرياض   الافلاج  2/1/2022     سكني  قطعة أرض      70000     820.53   \n",
       "1  منطقة الرياض  البجاديه  2/1/2022     سكني  قطعة أرض      10000     625.00   \n",
       "2  منطقة الرياض     الخرج  2/1/2022     سكني  قطعة أرض     100000     624.07   \n",
       "3  منطقة الرياض     الخرج  2/1/2022    تجاري  قطعة أرض     110000     581.05   \n",
       "4  منطقة الرياض     الخرج  2/1/2022     سكني  قطعة أرض      40000     630.00   \n",
       "\n",
       "   SM_Price  \n",
       "0   85.3107  \n",
       "1   16.0000  \n",
       "2  160.2384  \n",
       "3  189.3124  \n",
       "4   63.4920  "
      ]
     },
     "execution_count": 5,
     "metadata": {},
     "output_type": "execute_result"
    }
   ],
   "source": [
    "# We will drop 5 columns as follows - سنقوم بإزالة ٥ عواميد كالتالي\n",
    "df = df.drop(['Reference_Num','District','Area','Land_Number','Num_of_Properties'],axis = 1)\n",
    "df.head()"
   ]
  },
  {
   "cell_type": "markdown",
   "id": "67b58a34",
   "metadata": {},
   "source": [
    "`تذكر أن تخلصنا من هذه الأعمدة الخمسة لا يعني بالضرورة أن هذه الأعمدة غير مهمة إطلاقا. بل ربما هذه الصفات ذات أهمية كبيرة في مشاريع تحليل البيانات الأخرى مثل صنع نماذج تعلم الآلة. لقد تخلصنا من هذه الأعمدة فقط لأننا نريد أن نضع تركيزنا على تحليل الأعمدة الآخرى ورسم رسومات بيانية مناسبة لها`"
   ]
  },
  {
   "cell_type": "markdown",
   "id": "f00509b5",
   "metadata": {},
   "source": [
    "### `Step five: Translate data to English — الخطوة الخامسة: ترجمة البيانات إلى اللغة الإنجليزية`\n",
    "\n",
    "`قمنا بالسابق بترجمة أسماء الأعمدة، والآن سوف نقوم بترجمة البيانات داخل الأعمدة. نحن نقوم بترجمة البيانات لأن مكتبتي الرسم المستخدمة في الرسم لا تدعم اللغة العربية جيدًا. ولذلك، بما أن الترجمة لا تستغرق وقت كثيرا منا في عملية معالجة البيانات. سنقوم بالترجمة من أجل سهولة استخدام مكتبتي الرسم`\n",
    "\n",
    "`matplotlib و seaborn`\n"
   ]
  },
  {
   "cell_type": "code",
   "execution_count": 6,
   "id": "6fd25025",
   "metadata": {},
   "outputs": [
    {
     "data": {
      "text/plain": [
       "array(['منطقة الرياض', 'منطقة مكة المكرمة', 'منطقة المدينة المنورة',\n",
       "       'منطقة القصيم', 'المنطقة الشرقية', 'منطقة عسير', 'منطقة تبوك',\n",
       "       'منطقة حائل', 'منطقة الحدود الشمالية', 'منطقة جازان',\n",
       "       'منطقة نجران', 'منطقة الباحة', 'منطقة الجوف'], dtype=object)"
      ]
     },
     "metadata": {},
     "output_type": "display_data"
    },
    {
     "name": "stdout",
     "output_type": "stream",
     "text": [
      "Number of unique entities in \"State\" column is 13\n",
      "--------\n"
     ]
    },
    {
     "data": {
      "text/plain": [
       "array(['سكني', 'تجاري', 'زراعي', 'صناعي'], dtype=object)"
      ]
     },
     "metadata": {},
     "output_type": "display_data"
    },
    {
     "name": "stdout",
     "output_type": "stream",
     "text": [
      "Number of unique entities in \"Category\" column is 4\n",
      "--------\n"
     ]
    },
    {
     "data": {
      "text/plain": [
       "array(['قطعة أرض', 'أرض زراعية', 'بيت', 'شقة', 'معرض/محل', 'فيلا', 'مرفق',\n",
       "       'إستراحة', 'مركز تجاري', 'عمارة'], dtype=object)"
      ]
     },
     "metadata": {},
     "output_type": "display_data"
    },
    {
     "name": "stdout",
     "output_type": "stream",
     "text": [
      "Number of unique entities in \"Type\" column is 10\n",
      "--------\n"
     ]
    },
    {
     "data": {
      "text/plain": [
       "array(['الافلاج', 'البجاديه', 'الخرج', 'الدرعيه', 'الدلم', 'الدوادمي',\n",
       "       'الرياض', 'الرين', 'الزلفي', 'الغاط', 'المزاحميه', 'حريملاء',\n",
       "       'حوطة بني تميم', 'حوطة سدير', 'رماح', 'شقراء', 'ضرماء', 'عفيف',\n",
       "       'مرات', 'وادي الدواسر', 'الخرمه', 'الطائف', 'القنفذه', 'الليث',\n",
       "       'المويه', 'تربه', 'جده', 'رابغ', 'رنيه', 'مكة المكرمة', 'الحناكية',\n",
       "       'المدينة المنورة', 'وادي الفرع', 'البدائع', 'البكيريه', 'الرس',\n",
       "       'المذنب', 'بريده', 'ابقيق', 'الاحساء', 'الجبيل', 'الخبر', 'الخفجي',\n",
       "       'الدمام', 'القطيف', 'النعيريه', 'حفر الباطن', 'ابها', 'احد رفيده',\n",
       "       'النماص', 'بلقرن', 'بيشه', 'تثليت', 'خميس مشيط', 'سراة عبيده',\n",
       "       'ظهران الجنوب', 'محايل عسير', 'تبوك', 'حقل', 'ضباء', 'الحائط',\n",
       "       'بقعاء', 'حائل', 'العويقيله', 'طريف', 'عرعر', 'ابو عريش', 'بيش',\n",
       "       'جيزان', 'صامطه', 'ثار', 'شروره', 'نجران', 'الباحه', 'المخواة',\n",
       "       'بلجرشي', 'القريات', 'دومة الجندل', 'سكاكا', 'طبرجل', 'السليل',\n",
       "       'ثادق', 'المهد', 'عنيزه', 'العيون', 'رأس تنوره', 'تيماء', 'الشنان',\n",
       "       'رفحاء', 'نصاب', 'الدرب', 'يدمه', 'ميسان', 'ضريه', 'عقلة الصقور',\n",
       "       'حرض', 'العلا', 'العرضيه الجنوبيه', 'قرية العليا', 'فرسان', 'أضم',\n",
       "       'لينه', 'رفائع الجمش', 'احد المسارحه', 'جبه', 'سميراء'],\n",
       "      dtype=object)"
      ]
     },
     "metadata": {},
     "output_type": "display_data"
    },
    {
     "name": "stdout",
     "output_type": "stream",
     "text": [
      "Number of unique entities in \"City\" column is 106\n"
     ]
    }
   ],
   "source": [
    "# We will use 'unique' code to identify the 'unique' entities in each column\n",
    "# سوف نقوم باستخدام كود 'يونيك' من إجل معرفة العناصر المميزة في كل عامود والتي تحتاج إلى ترجمة\n",
    "\n",
    "display(df.State.unique())\n",
    "print('Number of unique entities in \"State\" column is', len(df.State.unique()))\n",
    "print('--------')\n",
    "\n",
    "display(df.Category.unique())\n",
    "print('Number of unique entities in \"Category\" column is', len(df.Category.unique()))\n",
    "print('--------')\n",
    "\n",
    "display(df.Type.unique())\n",
    "print('Number of unique entities in \"Type\" column is', len(df.Type.unique()))\n",
    "print('--------')\n",
    "\n",
    "display(df.City.unique())\n",
    "print('Number of unique entities in \"City\" column is', len(df.City.unique()))"
   ]
  },
  {
   "cell_type": "markdown",
   "id": "6de3f3a0",
   "metadata": {},
   "source": [
    "___________\n",
    "`العناصر التي تحتاج إلى ترجمة في عامود المنطقة هو ١٣ عنصر •`\n",
    "\n",
    "`13 Entities in 'State' column`\n",
    "__________\n",
    "`العناصر التي تحتاج إلى ترجمة في عامود تصنيف العقار هو ٤ عناصر •`\n",
    "\n",
    "`4 Entities in 'Category' column `\n",
    "___________\n",
    "`العناصر التي تحتاج إلى ترجمة في عامود النوع هو ١٠ عناصر •`\n",
    "\n",
    "`10 Entities in 'Type' column`\n",
    "___________\n",
    "`العناصر التي تحتاج إلى ترجمة في عامود المدينة هو ١٠٦ عنصر •`\n",
    "\n",
    "`106 Entities in 'City' column`\n",
    "____________"
   ]
  },
  {
   "cell_type": "markdown",
   "id": "7411d979",
   "metadata": {},
   "source": [
    "**`بناء على ما وجدنا. سنقوم بترجمة ثلاث عواميد، وهي المنطقة، تصنيف العقار، والنوع. ولن نقوم بترجمة عامود المدينة لحفظ الوقت. ولكن سنعود لاحقا إلى عامود المدينة وسنتعامل معه بطريقة أخرى`**"
   ]
  },
  {
   "cell_type": "code",
   "execution_count": 7,
   "id": "a478b73e",
   "metadata": {},
   "outputs": [
    {
     "data": {
      "text/plain": [
       "array(['Riyadh', 'Makkah', 'Al-Madinah', 'Al-Qassim', 'Estern', 'Aseer',\n",
       "       'Tabuk', 'Hail', 'Northern Borders', 'Jazan', 'Najran', 'Al-Bahah',\n",
       "       'Al-Jowf'], dtype=object)"
      ]
     },
     "execution_count": 7,
     "metadata": {},
     "output_type": "execute_result"
    }
   ],
   "source": [
    "# We translate by using the following method - نقوم بالترجمة بالطريقة التالية \n",
    "\n",
    "## First we use .loc to locate the cells which include the state name, then we replace them with the new value\n",
    "## نقوم أولا بتحديد مكان الخلايا التي تحتوي على اسم المنطقة باللغة العربية، ثم نقوم باستبدالها باسمها الإنجليزي\n",
    "\n",
    "df.loc[df['State']=='منطقة المدينة المنورة','State'] = 'Al-Madinah'\n",
    "df.loc[df['State']=='منطقة مكة المكرمة','State'] = 'Makkah'\n",
    "df.loc[df['State']=='منطقة الرياض','State'] = 'Riyadh'\n",
    "df.loc[df['State']=='منطقة تبوك','State'] = 'Tabuk'\n",
    "df.loc[df['State']=='منطقة عسير','State'] = 'Aseer'\n",
    "df.loc[df['State']=='المنطقة الشرقية','State'] = 'Estern'\n",
    "df.loc[df['State']=='منطقة القصيم','State'] = 'Al-Qassim'\n",
    "df.loc[df['State']=='منطقة جازان','State'] = 'Jazan'\n",
    "df.loc[df['State']=='منطقة الحدود الشمالية','State'] = 'Northern Borders'\n",
    "df.loc[df['State']=='منطقة حائل','State'] = 'Hail'\n",
    "df.loc[df['State']=='منطقة الجوف','State'] = 'Al-Jowf'\n",
    "df.loc[df['State']=='منطقة الباحة','State'] = 'Al-Bahah'\n",
    "df.loc[df['State']=='منطقة نجران','State'] = 'Najran'\n",
    "\n",
    "# Then we use .unique to check if the all entities has been translated successfully.\n",
    "# سوف نقوم بالتحقق أن جميع عناصر عامود \"المنطقة\" (ستيت) قد تمت ترجمته بنجاح\n",
    "\n",
    "df.State.unique()"
   ]
  },
  {
   "cell_type": "code",
   "execution_count": 8,
   "id": "07629f94",
   "metadata": {},
   "outputs": [
    {
     "data": {
      "text/plain": [
       "array(['Residential', 'Commercial', 'Agricultural', 'Industrial'],\n",
       "      dtype=object)"
      ]
     },
     "metadata": {},
     "output_type": "display_data"
    },
    {
     "data": {
      "text/plain": [
       "array(['empty land', 'agricultural land', 'house', 'apartment',\n",
       "       'showroom/store', 'villa', 'annex house', 'resort',\n",
       "       'shopping mall', 'building'], dtype=object)"
      ]
     },
     "metadata": {},
     "output_type": "display_data"
    }
   ],
   "source": [
    "# We do the same process with Category column - نقوم بنفس الخطوات مع عامود التصنيف\n",
    "\n",
    "df.loc[df['Category']=='سكني','Category'] = 'Residential'\n",
    "df.loc[df['Category']=='تجاري','Category'] = 'Commercial'\n",
    "df.loc[df['Category']=='زراعي','Category'] = 'Agricultural'\n",
    "df.loc[df['Category']=='صناعي','Category'] = 'Industrial'\n",
    "display(df.Category.unique())\n",
    "\n",
    "# And we do the same process with Type column - نقوم بنفس الخطوات مع عامود النوع\n",
    "\n",
    "df.loc[df['Type'] =='مرفق','Type'] = 'annex house'\n",
    "df.loc[df['Type'] =='فيلا','Type'] = 'villa'\n",
    "df.loc[df['Type'] =='معرض/محل','Type'] = 'showroom/store'\n",
    "df.loc[df['Type'] =='شقة','Type'] = 'apartment'\n",
    "df.loc[df['Type'] =='بيت','Type'] = 'house'\n",
    "df.loc[df['Type'] =='أرض زراعية','Type'] = 'agricultural land'\n",
    "df.loc[df['Type'] =='قطعة أرض','Type'] = 'empty land'\n",
    "df.loc[df['Type'] =='عمارة','Type'] = 'building'\n",
    "df.loc[df['Type'] =='مركز تجاري','Type'] = 'shopping mall'\n",
    "df.loc[df['Type'] =='إستراحة','Type'] = 'resort'\n",
    "\n",
    "display(df.Type.unique())"
   ]
  },
  {
   "cell_type": "code",
   "execution_count": 9,
   "id": "204bd34f",
   "metadata": {},
   "outputs": [
    {
     "data": {
      "text/html": [
       "<div>\n",
       "<style scoped>\n",
       "    .dataframe tbody tr th:only-of-type {\n",
       "        vertical-align: middle;\n",
       "    }\n",
       "\n",
       "    .dataframe tbody tr th {\n",
       "        vertical-align: top;\n",
       "    }\n",
       "\n",
       "    .dataframe thead th {\n",
       "        text-align: right;\n",
       "    }\n",
       "</style>\n",
       "<table border=\"1\" class=\"dataframe\">\n",
       "  <thead>\n",
       "    <tr style=\"text-align: right;\">\n",
       "      <th></th>\n",
       "      <th>State</th>\n",
       "      <th>City</th>\n",
       "      <th>Date</th>\n",
       "      <th>Category</th>\n",
       "      <th>Type</th>\n",
       "      <th>Price_SAR</th>\n",
       "      <th>Land_Area</th>\n",
       "      <th>SM_Price</th>\n",
       "    </tr>\n",
       "  </thead>\n",
       "  <tbody>\n",
       "    <tr>\n",
       "      <th>22049</th>\n",
       "      <td>Makkah</td>\n",
       "      <td>الطائف</td>\n",
       "      <td>2/24/2022</td>\n",
       "      <td>Commercial</td>\n",
       "      <td>empty land</td>\n",
       "      <td>500000</td>\n",
       "      <td>1168.53</td>\n",
       "      <td>427.8880</td>\n",
       "    </tr>\n",
       "    <tr>\n",
       "      <th>30733</th>\n",
       "      <td>Hail</td>\n",
       "      <td>حائل</td>\n",
       "      <td>3/6/2022</td>\n",
       "      <td>Residential</td>\n",
       "      <td>empty land</td>\n",
       "      <td>240000</td>\n",
       "      <td>400.00</td>\n",
       "      <td>600.0000</td>\n",
       "    </tr>\n",
       "    <tr>\n",
       "      <th>35651</th>\n",
       "      <td>Riyadh</td>\n",
       "      <td>الخرج</td>\n",
       "      <td>3/13/2022</td>\n",
       "      <td>Residential</td>\n",
       "      <td>empty land</td>\n",
       "      <td>450000</td>\n",
       "      <td>369.00</td>\n",
       "      <td>1219.5121</td>\n",
       "    </tr>\n",
       "    <tr>\n",
       "      <th>26971</th>\n",
       "      <td>Riyadh</td>\n",
       "      <td>الرياض</td>\n",
       "      <td>3/2/2022</td>\n",
       "      <td>Residential</td>\n",
       "      <td>empty land</td>\n",
       "      <td>1400000</td>\n",
       "      <td>500.00</td>\n",
       "      <td>2800.0000</td>\n",
       "    </tr>\n",
       "    <tr>\n",
       "      <th>40111</th>\n",
       "      <td>Najran</td>\n",
       "      <td>نجران</td>\n",
       "      <td>3/17/2022</td>\n",
       "      <td>Residential</td>\n",
       "      <td>empty land</td>\n",
       "      <td>20000</td>\n",
       "      <td>640.00</td>\n",
       "      <td>31.2500</td>\n",
       "    </tr>\n",
       "    <tr>\n",
       "      <th>43464</th>\n",
       "      <td>Riyadh</td>\n",
       "      <td>الدرعيه</td>\n",
       "      <td>3/23/2022</td>\n",
       "      <td>Agricultural</td>\n",
       "      <td>agricultural land</td>\n",
       "      <td>700000</td>\n",
       "      <td>10000.00</td>\n",
       "      <td>70.0000</td>\n",
       "    </tr>\n",
       "    <tr>\n",
       "      <th>20905</th>\n",
       "      <td>Makkah</td>\n",
       "      <td>جده</td>\n",
       "      <td>2/23/2022</td>\n",
       "      <td>Agricultural</td>\n",
       "      <td>apartment</td>\n",
       "      <td>990000</td>\n",
       "      <td>208.90</td>\n",
       "      <td>4739.1096</td>\n",
       "    </tr>\n",
       "    <tr>\n",
       "      <th>3227</th>\n",
       "      <td>Al-Qassim</td>\n",
       "      <td>بريده</td>\n",
       "      <td>2/3/2022</td>\n",
       "      <td>Residential</td>\n",
       "      <td>empty land</td>\n",
       "      <td>119048</td>\n",
       "      <td>400.00</td>\n",
       "      <td>297.6200</td>\n",
       "    </tr>\n",
       "    <tr>\n",
       "      <th>53602</th>\n",
       "      <td>Al-Madinah</td>\n",
       "      <td>وادي الفرع</td>\n",
       "      <td>4/5/2022</td>\n",
       "      <td>Residential</td>\n",
       "      <td>empty land</td>\n",
       "      <td>50000</td>\n",
       "      <td>939.68</td>\n",
       "      <td>53.2096</td>\n",
       "    </tr>\n",
       "    <tr>\n",
       "      <th>18348</th>\n",
       "      <td>Aseer</td>\n",
       "      <td>خميس مشيط</td>\n",
       "      <td>2/20/2022</td>\n",
       "      <td>Residential</td>\n",
       "      <td>empty land</td>\n",
       "      <td>850000</td>\n",
       "      <td>505.00</td>\n",
       "      <td>1683.1683</td>\n",
       "    </tr>\n",
       "  </tbody>\n",
       "</table>\n",
       "</div>"
      ],
      "text/plain": [
       "            State        City       Date      Category               Type  \\\n",
       "22049      Makkah      الطائف  2/24/2022    Commercial         empty land   \n",
       "30733        Hail        حائل   3/6/2022   Residential         empty land   \n",
       "35651      Riyadh       الخرج  3/13/2022   Residential         empty land   \n",
       "26971      Riyadh      الرياض   3/2/2022   Residential         empty land   \n",
       "40111      Najran       نجران  3/17/2022   Residential         empty land   \n",
       "43464      Riyadh     الدرعيه  3/23/2022  Agricultural  agricultural land   \n",
       "20905      Makkah         جده  2/23/2022  Agricultural          apartment   \n",
       "3227    Al-Qassim       بريده   2/3/2022   Residential         empty land   \n",
       "53602  Al-Madinah  وادي الفرع   4/5/2022   Residential         empty land   \n",
       "18348       Aseer   خميس مشيط  2/20/2022   Residential         empty land   \n",
       "\n",
       "       Price_SAR  Land_Area   SM_Price  \n",
       "22049     500000    1168.53   427.8880  \n",
       "30733     240000     400.00   600.0000  \n",
       "35651     450000     369.00  1219.5121  \n",
       "26971    1400000     500.00  2800.0000  \n",
       "40111      20000     640.00    31.2500  \n",
       "43464     700000   10000.00    70.0000  \n",
       "20905     990000     208.90  4739.1096  \n",
       "3227      119048     400.00   297.6200  \n",
       "53602      50000     939.68    53.2096  \n",
       "18348     850000     505.00  1683.1683  "
      ]
     },
     "execution_count": 9,
     "metadata": {},
     "output_type": "execute_result"
    }
   ],
   "source": [
    "# Now, we pull 10 random rows to check our df - الآن نقوم بسحب عشرة أعمدة بشكل عشوائي من أجل التحقق من إطار البيانات الحالي\n",
    "df.sample(10)"
   ]
  },
  {
   "cell_type": "markdown",
   "id": "c74131eb",
   "metadata": {},
   "source": [
    "### `Step six: EDA analysis via plotting — الخطوة السادسة:عمل تحليل بيانات استكشافي عن طريق الرسم`\n",
    "**`أولا: فلنقم بالتحقق من عدد المبيعات بالنسبة للمناطق في السعودية. حيث أن كل صف في إطار البيانات يمثل عملية بيع/شراء لقطعة عقار في السعودية`**"
   ]
  },
  {
   "cell_type": "code",
   "execution_count": 10,
   "id": "792c01b9",
   "metadata": {},
   "outputs": [],
   "source": [
    "# pd.set_option('display.float_format', '{:.2f}'.format)\n",
    "# df.describe().T\n",
    "# df.SM_Price.plot(kind='bar')\n",
    "# df[df.State=='Riyadh'].SM_Price.mean()"
   ]
  },
  {
   "cell_type": "code",
   "execution_count": 11,
   "id": "2f6c5799",
   "metadata": {
    "scrolled": true
   },
   "outputs": [
    {
     "data": {
      "text/plain": [
       "Riyadh              21592\n",
       "Makkah              13592\n",
       "Estern               7217\n",
       "Al-Qassim            6351\n",
       "Al-Madinah           2586\n",
       "Aseer                2202\n",
       "Hail                 1778\n",
       "Tabuk                 973\n",
       "Al-Jowf               933\n",
       "Jazan                 903\n",
       "Najran                710\n",
       "Northern Borders      684\n",
       "Al-Bahah              325\n",
       "Name: State, dtype: int64"
      ]
     },
     "execution_count": 11,
     "metadata": {},
     "output_type": "execute_result"
    }
   ],
   "source": [
    "# We will use value_counts method to count the occurance of a state. \n",
    "# سنقوم باستخدام كود (فاليو كاونتس) من أجل عد عدد المرات التي ذكرت فيه منطقة معينة\n",
    "df.State.value_counts()"
   ]
  },
  {
   "cell_type": "markdown",
   "id": "68312b89",
   "metadata": {},
   "source": [
    "_________\n",
    "`نلاحظ التالي: تم بيع 21,592 عقار في الرياض خلال المدة الزمنية (شهر يناير إلى منتصف شهر إبريل) وهي المنطقة الأكثر مبيعا. يليها بالمرتبة الثانية منطقة مكة المكرمة ب13,592 عقار وهكذا. نستطيع تمثيل العلاقة بين المناطق بالنسبة لعدد مرات بيع العقار عن  طريق استخدام شريط الرسم البياني (بار شارت) كالتالي`\n",
    "_________"
   ]
  },
  {
   "cell_type": "code",
   "execution_count": 12,
   "id": "142db7f0",
   "metadata": {},
   "outputs": [
    {
     "data": {
      "image/png": "[encoded data removed]",
      "text/plain": [
       "<Figure size 1008x576 with 1 Axes>"
      ]
     },
     "metadata": {
      "needs_background": "light"
     },
     "output_type": "display_data"
    }
   ],
   "source": [
    " # First we difne a proper size for the figure - أولا نقوم بتعريف حجم مناسب للرسمة\n",
    "plt.figure(figsize=(14,8))\n",
    "\n",
    "# We add .plot(kind = 'bar') to plot the bars - نقول بتحويل البيانات إلى رسمة عن طريق الكود .بلوت\n",
    "df.State.value_counts().plot(kind = 'bar', color = 'navy')\n",
    "\n",
    "# We specify labels and ticks as follows - نقوم بحديد العنوانين للرسمة كالتالي\n",
    "plt.title('Real Estate Sales per State (2022 - January to mid April)', fontsize=14) # Figure label - عنوان الرسمة\n",
    "plt.xlabel('State', fontsize=14) # X-axis label - عنوان خط س\n",
    "plt.ylabel('Number of Sales', fontsize=14) # Y-axis label - عنوان خط ص\n",
    "plt.yticks(np.arange(0, 23000, 1000)) # Y-axis range - تحديد مدى خط ص\n",
    "plt.show() # To show the plot - لإظهار الرسمة"
   ]
  },
  {
   "cell_type": "markdown",
   "id": "835419b6",
   "metadata": {},
   "source": [
    "`لاحظ كيف أن تحويلنا للبيانات من مجرد أرقام إلى رسوم بيانية سهل علينا فهم ماذا حصل، حيث أن تمثيل عدد المبيعات خلال الفترة الزمنية بالنسبة للمنطقة عن طريق الأعمدة وضح لنا ماهي المناطق الأكثر مبيعا، وماهي الأقل، وأصبح من السهل جدا المقارنة بين منطقتين في المملكة العربية السعودية`\n",
    "_____\n",
    "\n",
    "**`ثانيا: الآن سوف نقوم بعمل نفس الرسمة بالنسبة لعامودي النوع والصنف، ولكن هذه المرة سوف نجمعهم برسمة واحدة عن طريق استخدام كود (سوب بلوت)`**"
   ]
  },
  {
   "cell_type": "code",
   "execution_count": 13,
   "id": "3761a4e4",
   "metadata": {},
   "outputs": [
    {
     "data": {
      "image/png": "[encoded data removed]",
      "text/plain": [
       "<Figure size 1152x576 with 2 Axes>"
      ]
     },
     "metadata": {
      "needs_background": "light"
     },
     "output_type": "display_data"
    }
   ],
   "source": [
    "plt.figure(figsize=(16,8))# Figure size - حجم الرسمة\n",
    "plt.subplot(2,2,1) # initiate box 1 - نقوم بتهيئة الصندوق الأول \n",
    "df.Category.value_counts().plot(kind = 'bar', color = 'teal') # Plot in the 1st box - نقوم بالرسم بالصندوق الأول\n",
    "plt.title('Category')\n",
    "plt.ylabel('Number of Sales')\n",
    "\n",
    "plt.subplot(2,2,2) # Initiate box 2 - نقوم بتهيئة الصندوق الثاني\n",
    "df.Type.value_counts().plot(kind = 'bar', color = 'indigo') # Plot in the 2nd box - نقوم بالرسم بالصندوق الثاني\n",
    "plt.title('Type')\n",
    "plt.ylabel('Number of Sales');"
   ]
  },
  {
   "cell_type": "markdown",
   "id": "b9f62f07",
   "metadata": {},
   "source": [
    "`لقد قمنا بدمج رسمتين سويا في هذه الصورة. حيث أن الصورة الأولى توضح عدد المبيعات بالنسبة لتصنيف العقار(كاتيجوري)، والرسمة الثانية تبين نوع العقار المباع(تايب). نلاحظ من الرسمة الأولى أن صنف العقار السكني هو الأكثر مبيعا، يليه التجاري ثم الزراعي وآخيرا وبأعداد محدودة جدًا العقار الصناعي. ومن الناحية الآخرى، فإن نوع العقار المباع في أغلب الأحيان هو قطع أرض لم يتم البناء عليها بعد ثم يليها بالمرتبة الثانية نوع الشقة، وأقل نوع هو نوع الإستراحات`\n",
    "__________\n"
   ]
  },
  {
   "cell_type": "markdown",
   "id": "29c49cc2",
   "metadata": {},
   "source": [
    "**`ثالثا: ماهي أكثر المدن التي تمت فيها عمليات البيع؟`**\n",
    "\n",
    "`تذكر أننا في السابق وجدنا أنه هناك ١٠٦ مدينة تم بيع عقار فيها خلال المدة الزمنية. إن ترجمة ١٠٦ اسم مدينة يستغرق جهدا طويلا، بل إن وضعهم جميعا في رسمة واحدة قد يجعل الرسمة غير واضحة المعالم وغير مفهومة. ولذلك، نحن سوف نقوم بأخذ أعلى خمس مدن فقط وتمثيلها برسم بياني كالتالي`"
   ]
  },
  {
   "cell_type": "code",
   "execution_count": 14,
   "id": "3de92797",
   "metadata": {
    "scrolled": true
   },
   "outputs": [
    {
     "data": {
      "text/plain": [
       "الرياض             13621\n",
       "جده                 8255\n",
       "بريده               4067\n",
       "مكة المكرمة         2891\n",
       "المدينة المنورة     2003\n",
       "Name: City, dtype: int64"
      ]
     },
     "execution_count": 14,
     "metadata": {},
     "output_type": "execute_result"
    }
   ],
   "source": [
    "df.City.value_counts().head() # To find out the top 5 cities - لإيجاد أعلى خمس مدن تم بيع العقار فيها "
   ]
  },
  {
   "cell_type": "code",
   "execution_count": 15,
   "id": "f200895f",
   "metadata": {},
   "outputs": [
    {
     "data": {
      "image/png": "[encoded data removed]",
      "text/plain": [
       "<Figure size 864x576 with 1 Axes>"
      ]
     },
     "metadata": {},
     "output_type": "display_data"
    }
   ],
   "source": [
    "# Now we create two lists, the first list encompasses cities names, the second list contains number of sales\n",
    "# الآن سوف نقوم بعمل قائمتين، القائمة الآولى تحتوي على اسم المدن، والثانية تحتوي على أعداد عمليات البيع\n",
    "\n",
    "Cities = ['Riyadh','Jeddah','Buraidah','Makkah','Medina']\n",
    "Sales = [13621,8255,4067,2891,2003]\n",
    "\n",
    "# This time, we will plot the pie plot to show the percentages of each city\n",
    "# في هذه المرة، سنقوم برسم رسمة (الباي)من أجل إظهار نسبة كل مدينة من المدن\n",
    "plt.figure(figsize =(12, 8))\n",
    "plt.pie(Sales, labels = Cities, autopct =' %1.1f%%', startangle=90)\n",
    "plt.title('Top 5 Cities 2022 - January to mid April')\n",
    "plt.show()"
   ]
  },
  {
   "cell_type": "markdown",
   "id": "bcbc0ef9",
   "metadata": {},
   "source": [
    "`لاحظ كيف أن الرسمة الدائرية مناسبة لمقارنة النسب بين أعلى خمس مدن في المملكة العربية السعودية`"
   ]
  },
  {
   "cell_type": "markdown",
   "id": "a7a7ebf5",
   "metadata": {},
   "source": [
    "________\n",
    "**`رابعا: تحليل أسعار العقار`**\n",
    "\n",
    "`.SM_Priceنلاحظ في إطار البيانات الموجود لدينا. أن هناك عامود يمثل سعر المتر المربع والمسمى بـ`\n",
    "\n",
    "`إن هذا العامود محط اهتامام لدينا، حيث أنه من خلاله، نستطيع معرفة طبيعة الأسعار في المناطق أو المدن كالتالي`"
   ]
  },
  {
   "cell_type": "code",
   "execution_count": 16,
   "id": "f1115329",
   "metadata": {
    "scrolled": true
   },
   "outputs": [
    {
     "data": {
      "text/plain": [
       "count     59846.000000\n",
       "mean       1302.610391\n",
       "std        2185.538330\n",
       "min           0.010000\n",
       "25%         207.429475\n",
       "50%         646.106700\n",
       "75%        1600.000000\n",
       "max      139854.706400\n",
       "Name: SM_Price, dtype: float64"
      ]
     },
     "execution_count": 16,
     "metadata": {},
     "output_type": "execute_result"
    }
   ],
   "source": [
    "# We will use 'describe' code to find out the measures of central tendency\n",
    "# نقوم باستخدام كود 'ديسكرايب' لاكتشاف كيفية توزيع القيم في العامود\n",
    "df.SM_Price.describe()"
   ]
  },
  {
   "cell_type": "markdown",
   "id": "6e837f76",
   "metadata": {},
   "source": [
    "`نلاحظ من النتيجة التي ظهرت لدينا ما يلي: أنه في المملكة العربية السعودية تمت  59,846 عملية بيع للعقار خلال الفترة الزمنية، ومتوسط السعر للمتر المربع هو 1,302.61 ريالا سعودي. وقد كانت أعلى قيمة للمتر المربع بـ139,854 ريالا سعوديا. إن هذه القيمة الكبيرة جدًا أمر مثير للاهتمام، فلنرى في أي منطقة تمت عملية البيع هذه `"
   ]
  },
  {
   "cell_type": "code",
   "execution_count": 17,
   "id": "ff287eb1",
   "metadata": {},
   "outputs": [
    {
     "data": {
      "text/html": [
       "<div>\n",
       "<style scoped>\n",
       "    .dataframe tbody tr th:only-of-type {\n",
       "        vertical-align: middle;\n",
       "    }\n",
       "\n",
       "    .dataframe tbody tr th {\n",
       "        vertical-align: top;\n",
       "    }\n",
       "\n",
       "    .dataframe thead th {\n",
       "        text-align: right;\n",
       "    }\n",
       "</style>\n",
       "<table border=\"1\" class=\"dataframe\">\n",
       "  <thead>\n",
       "    <tr style=\"text-align: right;\">\n",
       "      <th></th>\n",
       "      <th>State</th>\n",
       "      <th>City</th>\n",
       "      <th>Date</th>\n",
       "      <th>Category</th>\n",
       "      <th>Type</th>\n",
       "      <th>Price_SAR</th>\n",
       "      <th>Land_Area</th>\n",
       "      <th>SM_Price</th>\n",
       "    </tr>\n",
       "  </thead>\n",
       "  <tbody>\n",
       "    <tr>\n",
       "      <th>50865</th>\n",
       "      <td>Makkah</td>\n",
       "      <td>مكة المكرمة</td>\n",
       "      <td>3/31/2022</td>\n",
       "      <td>Residential</td>\n",
       "      <td>empty land</td>\n",
       "      <td>180000000</td>\n",
       "      <td>1287.05</td>\n",
       "      <td>139854.7064</td>\n",
       "    </tr>\n",
       "  </tbody>\n",
       "</table>\n",
       "</div>"
      ],
      "text/plain": [
       "        State         City       Date     Category        Type  Price_SAR  \\\n",
       "50865  Makkah  مكة المكرمة  3/31/2022  Residential  empty land  180000000   \n",
       "\n",
       "       Land_Area     SM_Price  \n",
       "50865    1287.05  139854.7064  "
      ]
     },
     "execution_count": 17,
     "metadata": {},
     "output_type": "execute_result"
    }
   ],
   "source": [
    "df[df.SM_Price==df.SM_Price.max()]"
   ]
  },
  {
   "cell_type": "markdown",
   "id": "3b4860a4",
   "metadata": {},
   "source": [
    "`لقد وجدنا أن العقار الذي بيع بأعلى قيمة للمتر المربع في الفترة الزمنية كان في منطقة مكة المكرمة في تاريخ 31/3/2022`\n",
    "\n",
    "`وأخيرا، فلنقم برسم توزيع بياني (هيستوجرام) من أجل رؤية كيفية توزيع قيمة المتر المربع في المملكة العربية السعودية باستخدام الكود التالي`"
   ]
  },
  {
   "cell_type": "code",
   "execution_count": 18,
   "id": "6fc0dd58",
   "metadata": {},
   "outputs": [
    {
     "data": {
      "image/png": "[encoded data removed]",
      "text/plain": [
       "<Figure size 360x360 with 1 Axes>"
      ]
     },
     "metadata": {
      "needs_background": "light"
     },
     "output_type": "display_data"
    }
   ],
   "source": [
    "sns.displot(df.SM_Price,bins = np.arange(0,2500,50))\n",
    "plt.title('Real Estate - Square Meter Price Distribution - 2022 January to mid April');"
   ]
  },
  {
   "cell_type": "markdown",
   "id": "76e6c9f4",
   "metadata": {},
   "source": [
    "### `Bonus Step: Average SM_Price in Riyadh State — خطوة إضافية: متوسط سعر العقار في منطقة الرياض `\n",
    "` لقد وجدنا متوسط سعر المتر المربع للعقار في المملكة العربية السعودية. ولكن ماذا لو أردنا معرفة المتوسط في منطقة الرياض فقط، وللنوع التجاري دون السكني أو الزراعي أو الصناعي؟ في الحقيقة نستطيع تصفية إطار البيانات (فلترة) من أجل الحصول على القيمة المطلوبة عن طريق التالي`"
   ]
  },
  {
   "cell_type": "code",
   "execution_count": 19,
   "id": "eeb9827b",
   "metadata": {},
   "outputs": [
    {
     "data": {
      "text/html": [
       "<div>\n",
       "<style scoped>\n",
       "    .dataframe tbody tr th:only-of-type {\n",
       "        vertical-align: middle;\n",
       "    }\n",
       "\n",
       "    .dataframe tbody tr th {\n",
       "        vertical-align: top;\n",
       "    }\n",
       "\n",
       "    .dataframe thead th {\n",
       "        text-align: right;\n",
       "    }\n",
       "</style>\n",
       "<table border=\"1\" class=\"dataframe\">\n",
       "  <thead>\n",
       "    <tr style=\"text-align: right;\">\n",
       "      <th></th>\n",
       "      <th>State</th>\n",
       "      <th>City</th>\n",
       "      <th>Date</th>\n",
       "      <th>Category</th>\n",
       "      <th>Type</th>\n",
       "      <th>Price_SAR</th>\n",
       "      <th>Land_Area</th>\n",
       "      <th>SM_Price</th>\n",
       "    </tr>\n",
       "  </thead>\n",
       "  <tbody>\n",
       "    <tr>\n",
       "      <th>28283</th>\n",
       "      <td>Riyadh</td>\n",
       "      <td>الرياض</td>\n",
       "      <td>3/3/2022</td>\n",
       "      <td>Commercial</td>\n",
       "      <td>empty land</td>\n",
       "      <td>2670478</td>\n",
       "      <td>4768.71</td>\n",
       "      <td>560.0000</td>\n",
       "    </tr>\n",
       "    <tr>\n",
       "      <th>17462</th>\n",
       "      <td>Riyadh</td>\n",
       "      <td>الخرج</td>\n",
       "      <td>2/20/2022</td>\n",
       "      <td>Commercial</td>\n",
       "      <td>empty land</td>\n",
       "      <td>200000</td>\n",
       "      <td>660.00</td>\n",
       "      <td>303.0303</td>\n",
       "    </tr>\n",
       "    <tr>\n",
       "      <th>37700</th>\n",
       "      <td>Riyadh</td>\n",
       "      <td>رماح</td>\n",
       "      <td>3/15/2022</td>\n",
       "      <td>Commercial</td>\n",
       "      <td>empty land</td>\n",
       "      <td>1198654</td>\n",
       "      <td>810.00</td>\n",
       "      <td>1479.8197</td>\n",
       "    </tr>\n",
       "  </tbody>\n",
       "</table>\n",
       "</div>"
      ],
      "text/plain": [
       "        State    City       Date    Category        Type  Price_SAR  \\\n",
       "28283  Riyadh  الرياض   3/3/2022  Commercial  empty land    2670478   \n",
       "17462  Riyadh   الخرج  2/20/2022  Commercial  empty land     200000   \n",
       "37700  Riyadh    رماح  3/15/2022  Commercial  empty land    1198654   \n",
       "\n",
       "       Land_Area   SM_Price  \n",
       "28283    4768.71   560.0000  \n",
       "17462     660.00   303.0303  \n",
       "37700     810.00  1479.8197  "
      ]
     },
     "metadata": {},
     "output_type": "display_data"
    },
    {
     "name": "stdout",
     "output_type": "stream",
     "text": [
      "Average SM_Price for commercial estates in Riyadh state is 1994.07 SAR\n"
     ]
    }
   ],
   "source": [
    "Riyadh_df = df[df.State=='Riyadh'] # We filter Riyadh state only - نقوم بأخذ صفوف منطقة الرياض فقط\n",
    "Riyadh_Commercial = Riyadh_df[Riyadh_df.Category =='Commercial'] # Filter commercial only - نأخذ صفوف العقار التجاري فقط\n",
    "display(Riyadh_Commercial.sample(3))\n",
    "print('Average SM_Price for commercial estates in Riyadh state is',round(Riyadh_Commercial.SM_Price.mean(),2), 'SAR')"
   ]
  },
  {
   "cell_type": "markdown",
   "id": "a4548e14",
   "metadata": {},
   "source": [
    "##  `ماذا تعلمنا؟` \n",
    "#####   `إن هناك العديد من المصادر المجانية لبيانات عالية القيمة • `\n",
    "#####   `محلل البيانات الماهر يستطيع انتقاء الأعمدة المناسبة لأهدافه • ` \n",
    "#####     `تبسيط البيانات عن طريق الرسوم المبينة يسهل عملية صناعة القرار • `\n",
    "#####     `رسم البيانات يكون الخطوة الأولى في تحليل البيانات • `"
   ]
  }
 ],
 "metadata": {
  "kernelspec": {
   "display_name": "Python 3 (ipykernel)",
   "language": "python",
   "name": "python3"
  },
  "language_info": {
   "codemirror_mode": {
    "name": "ipython",
    "version": 3
   },
   "file_extension": ".py",
   "mimetype": "text/x-python",
   "name": "python",
   "nbconvert_exporter": "python",
   "pygments_lexer": "ipython3",
   "version": "3.9.12"
  }
 },
 "nbformat": 4,
 "nbformat_minor": 5
}
