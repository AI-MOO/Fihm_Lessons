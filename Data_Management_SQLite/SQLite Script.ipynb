{
 "cells": [
  {
   "cell_type": "markdown",
   "id": "6d86ae56",
   "metadata": {},
   "source": [
    "<a href='https://fihm.ai/' target='_blank'><img src='https://i.postimg.cc/Y25KhxPM/q.png' border='0' width = 250 alt='q'/></a>"
   ]
  },
  {
   "cell_type": "markdown",
   "id": "54a43a3a",
   "metadata": {},
   "source": [
    "# ` العلائقية SQLite  إدارة البيانات عن طريق قاعدة بيانات`\n",
    "# `تطبيق عملي على بيانات الغابات`\n",
    "# `Managing Data with SQLite Database - Practical Implementation on Forest Data`"
   ]
  },
  {
   "cell_type": "markdown",
   "id": "89909f76",
   "metadata": {},
   "source": [
    "___\n",
    "## `مقدمة`\n",
    "\n",
    "`\n",
    "إن وفرة البيانات اليوم تمثل تحديًا جديدًا لمهندسي البيانات، حيث أنه أصبح من اللازم صنع أنظمة قواعد بيانات مختصة لحفظ البيانات تسهل عملية إدارتها والوصول إليها. وكما أشرنا سابقا، إن إدارة البيانات هي أساس النجاح في مشاريع علم البيانات والذكاء الاصطناعي، وذلك لأننا نحتاج إلى البيانات من أجل تدريب نماذج تعلم الآلة، فإن لم يكن لدينا بالأساس قاعدة بيانات تحتفظ بالبيانات، لن يكون عندنا حينها بيانات لكي نستخدامها في عمل نماذج تعلم الآلة أو تحليلها للوصول إلى استنتاجات مفيدة. ولذلك يجب حفظ البيانات وتسهيل عملية الوصول إليها قدر الإمكان, وإن من أهم الأدوات في إدارة وحفظ البيانات هي قواعد البيانات، لأن الهدف الأساسي لقواعد البيانات هو حفظ البيانات وتسهيل عملية الوصول إليها أو تعديلها. و في الحقيقة نحن نستخدم قواعد البيانات منذ أكثر من خمسون عامًا، ومع مرور الزمن تطورت قواعد البيانات وأصبح هناك العديد من الأنواع. وفي هذا الدرس، سنتطرق إلى أحد أهم الأنواع والمعروف بـ`\n",
    "\n",
    "`SQLite`"
   ]
  },
  {
   "cell_type": "markdown",
   "id": "675749de",
   "metadata": {},
   "source": [
    "____\n",
    "##  `أهداف الدرس` \n",
    "#####   `التعرف على أنواع البيانات الأساسية • `\n",
    "#####  `(Structured ,Semi-Structured, Unstructured)`\n",
    "#####     ` صنع قاعدة بيانات وتخزين جداول البيانات فيها •`\n",
    "#####     ` استخدام أشهر لغة لاستخراج البيانات من قواعد البيانات وهي •`\n",
    "#####  `(Structured Query Language - SQL)`"
   ]
  },
  {
   "cell_type": "markdown",
   "id": "37f08f58",
   "metadata": {},
   "source": [
    "____\n",
    "##  `أنواع البيانات`\n",
    "`إن مصطلح البيانات هو مصطلح شامل يحتوي على مئات الأصناف من الملفات، حيث أن تغريدتك في تويتر تعتبر بيانات، وجدول الإكسل المستخدم في متجر الحلوى يعتبر بيانات، بل أن صورتك في انستغرام هي أيضا تعتبر بيانات. ولذلك سوف نلاحظ أن كل ما يتم رفعه على الإنترنت بإمكاننا اعتباره نوع من أنواع البيانات، ومهمتنا نحن كعلماء بيانات هو استخدامها من أجل الوصول إلى قرارات مفيدة ومربحة`\n",
    "\n",
    "`على سبيل المثال، يقوم فريق من علماء البيانات بجمع البيانات الإستهلاكية في المتاجر الغذائية لمعرفة ماهي السلع الأكثر مبيعا؟ وماهي أكثر أيام الأسبوع التي يأتي فيها الزبائن؟ وماهو الأرباح المتوقعة في الشهر القادم؟ وهناك فريق ثاني من علماء البيانات آخرون يقومون بجمع تغريدات المستخدمين في تويتر من أجل تحليل تفاعلهم تجاه أمر معين كالأسهم أو مباريات كرة القدم. وحين النظر في الفريقين، نجد أن كل فريق يستخدم قاعدة بيانات مختلفة عن الآخرى، وذلك لأن نوع البيانات مختلف. إذًا ماهي الأنواع التي نتحدث عنها وكيف نعرف ماهي قاعدة البيانات المناسبة؟ لاحظ في الصورة المرفقة في الأسفل، أن هناك ثلاثة أنواع أساسية من البيانات. أولا البيانات المنظمة، ثم شبه المنظمة، وأخيرا البيانات الغير منظمة وتفصيلها كالتالي\n",
    "`\n",
    "\n",
    "#####     ` البيانات المنظمة هي البيانات التي تكون على هيئة جداول مثل ملفات الإكسل والسي إس في •`\n",
    "##### ` البيانات الشبه منظمة هي البيانات التي لا تكون على هيئة جداول، ولكن يمكن تحويل البيانات المخزنة فيها إلى جداول بسهولة مثل ملفات الجيسون • `\n",
    "##### ` البيانات الغير منظمة هي البيانات التي لا تكون على هيئة جداول، وتحتاج إلى العديد من الخطوات لتحويلها إلى جداول، مثل الصور والتغريدات •`"
   ]
  },
  {
   "attachments": {},
   "cell_type": "markdown",
   "id": "16239c22",
   "metadata": {},
   "source": [
    "<div>\n",
    "<img src=\"https://i.postimg.cc/52FvWb7J/data-types.png\" width = 750>\n",
    "</div>\n",
    "\n",
    "\n",
    "`حسنًا، ربما استنتجت من الصورة أن معظم البيانات الموجودة على الإنترنت هي البيانات الغير منظمة! وهذا الاستنتاج صحيح تماما. حيث أن تفاعلاتنا على الإنترنت و زيارتنا في الأسواق وغيرها من الأنشطة تصنع كميات ضخمة من البيانات الغير منظمة. ولأننا نعلم أن البيانات المنظمة هي ذات الفائدة الأكبر في تدريب نماذج تعلم الآلة أو استنتاج قرارات مفيدة، يقوم مهندسوا البيانات بتحويل البيانات الغير منظمة إلى بيانات منظمة (ستركتشرد) لكي تصبح ذات نفع عالي نستطيع من خلالها تدريب نماذج تعلم الآلة والذكاء الاصطناعي واستنباط استنتاجات منطقية`"
   ]
  },
  {
   "cell_type": "markdown",
   "id": "beda4483",
   "metadata": {},
   "source": [
    "____\n",
    "##  `ماذا نريد أن نفعل؟` \n",
    "`إن هدفنا اليوم هو التطرق إلى إدارة البيانات ذات الفائدة الأكبر وهي البيانات المنظمة. ويتم بالعادة إدارتها عن طريق أنظمة قواعد البيانات العلائقية `\n",
    "\n",
    "`Relational Database Management Systems (RDMS)`\n",
    "\n",
    "`حيث أنها تعتبر أشهر أنواع قواعد البيانات وهي متخصصة في البيانات المنظمة (أي جداول البيانات) والبيانات المخزنة فيها إما أنها منظمة بالأصل أو تم تحويلها من غير منظمة إلى منظمة لكي يتم حفظها في قاعدة البيانات العلائقية. واليوم سوف يكون تركيزنا على كيفية تخزين واستدعاءالبيانات المنظمة منها`"
   ]
  },
  {
   "cell_type": "markdown",
   "id": "85bb3520",
   "metadata": {},
   "source": [
    "_____\n",
    "##  `ماهو نظام قاعدة البيانات العلائقية المستخدمة في هذا الدرس؟` \n",
    "`إن هنالك العديد من أنظمة قواعد البيانات العلائقية ومن أشهرها`\n",
    "\n",
    "`SQLite, MySQL, PostgreSQL`\n",
    "\n",
    "` وبغض النظر عن نوع قاعدة البيانات المستخدمة، هناك شيء مشترك بينهم وهو أن معظم قواعد البيانات العلائقية نستطيع إدارة البيانات فيها من خلال لغة الـ`\n",
    "\n",
    "`SQL`\n",
    "\n",
    "_______\n",
    "\n",
    "##  `إذا ماهو الـ` \n",
    "##  `SQL?` \n",
    "\n",
    "`لغة (الإس كيو إل) هي لغة برمجية نستطيع من خلالها إدارة قاعدة البيانات العلائقية. فمثلا، تتيح لنا هذه الغة صناعة جداول جديدة أو استيراد جداول وتخزينها في قاعدة البيانات. وأيضا تتيح لنا تعديل البيانات مثل حذف أعمدة معينة أو تحديث بيانات صف معين. وأيضا تستخدم اللغة لعمل استخراج وربط البيانات من قاعدة البيانات. ولذلك تعتبر هذه اللغة من أهم اللغات لعلماء ومهندسي البيانات `\n",
    "\n",
    "_______\n",
    "\n",
    "##  `ماهي البيانات المستخدمة؟` \n",
    "\n",
    "`تم أخذ جدولي بيانات من موقع البيانات السعودية المفتوحة (قسم الزراعة والأسماك) `\n",
    "\n",
    "`2020الجدول الأول: حملة التشجير لنجعلها خضراء حتى تاريخ 10 ديسمبر` \n",
    "\n",
    "https://data.gov.sa/Data/ar/dataset/the-afforestation-campaign-to-make-it-green-until-december-10-2020\n",
    "\n",
    "`الجدول الثاني بيانات الغابات حتى عام 2021`\n",
    "\n",
    "*https://data.gov.sa/Data/ar/dataset/forest-data-to-2021*\n",
    "\n",
    "`وقد قمنا بإجراء بعض التعديلات الطفيفة عليهم، ولذلك إن إردت تحميل البيانات، ننصح بتحيمل الجدولين من هنا`\n",
    "\n",
    "https://github.com/KAFSALAH/Fihm_Lessons/tree/master/Data_Management_SQLite"
   ]
  },
  {
   "cell_type": "markdown",
   "id": "8d877d79",
   "metadata": {},
   "source": [
    "### `Step one: Import Necessary Libraries — الخطوة الأولى: استدعاء المكتبات اللازمة`\n",
    "`لأننا سوف نقوم باستخدام كلا من البايثون والإس كيو إل، سنقوم بتنزيل المكتبتين التاليتين والتي تتيح لنا استخدام الـ`\n",
    "\n",
    "`SQL`"
   ]
  },
  {
   "cell_type": "code",
   "execution_count": 1,
   "id": "68839c59",
   "metadata": {},
   "outputs": [],
   "source": [
    "# To download these two libraries, uncomment the codes below \n",
    "# لتنزيل المكتبتين في الأسفل كم بإزالة الكومنت من الأكواد التالية\n",
    "\n",
    "#!pip install sqlite3  # To manage SQLite db - لإدارة قاعدة البيانات\n",
    "#!pip install ipython-sql # To write sql commands in this notebook - من أجل كتابة أوامر إس كيو إل"
   ]
  },
  {
   "cell_type": "code",
   "execution_count": 2,
   "id": "94abe127",
   "metadata": {},
   "outputs": [],
   "source": [
    "import pandas as pd # To read csv file from GitHub - لقراءة البيانات من جيت هوب\n",
    "import sqlite3  # To manage SQLite db - لإدارة قاعدة البيانات"
   ]
  },
  {
   "cell_type": "markdown",
   "id": "20a97fe0",
   "metadata": {},
   "source": [
    "___\n",
    "ملاحظة\n",
    "\n",
    "سوف نقوم باستخدام علامة خاصة % عند كتابة أكواد السيكول من أجل التفرقة بينها وبين البايثون\n",
    "\n",
    "إما أن نكتب في بداية الخلية\n",
    "\n",
    "%%sql \n",
    "\n",
    "وهذا سوف يجعل جميع أسطر الخلية بالكامل تعامل معاملة الـ \n",
    "\n",
    "sql statement\n",
    "\n",
    "أو أن نكتب في بداية السطر\n",
    "\n",
    "%sql \n",
    "\n",
    "وهذا يجعل سطرا واحدا فقط عبارة عن  \n",
    "\n",
    "sql statement\n",
    "\n",
    "وعلى غرار البايثون، عند وضع تعليق نقوم باستخدام\n",
    "\n",
    "-- \n",
    "\n",
    "بدلا من\n",
    "\n",
    "##\n",
    "\n",
    "___"
   ]
  },
  {
   "cell_type": "code",
   "execution_count": 3,
   "id": "6da297ac",
   "metadata": {},
   "outputs": [],
   "source": [
    "# When writing sql scripts, we will use the magic command '%'.\n",
    "# سوف نقوم باستخدام علامة خاصة % عند كتابة أكواد السيكول من أجل التفرقة بينها وبين البايثون\n",
    "\n",
    "# to load the ipython-sql extension, we will use the following code \n",
    "# من أجل استخدام الإضافة التي تتيح لنا استخدام الإس كيو إل سوف نقوم باستخدام الكود التالي\n",
    "%load_ext sql"
   ]
  },
  {
   "cell_type": "markdown",
   "id": "3e4a0b2d",
   "metadata": {},
   "source": [
    "### `Step Two: Use Pandas to Read Dataframes from GitHub — الخطوة الثانية:  استخدام مكتبة البانداس لقراءة إطاري البيانات `"
   ]
  },
  {
   "cell_type": "markdown",
   "id": "6aa55778",
   "metadata": {},
   "source": [
    "`سوف نقوم الآن بقراءة الجدولين عن طريق استخدام مكتبة`\n",
    "\n",
    "`Pandas`"
   ]
  },
  {
   "cell_type": "code",
   "execution_count": 4,
   "id": "ef539fd2",
   "metadata": {},
   "outputs": [],
   "source": [
    "Afforestation_KSA = pd.read_csv('https://github.com/KAFSALAH/Fihm_Lessons/raw/master/Data_Management_SQLite/Afforestation_KSA.csv')\n",
    "Forests_KSA = pd.read_csv('https://github.com/KAFSALAH/Fihm_Lessons/raw/master/Data_Management_SQLite/Forests_KSA.csv')"
   ]
  },
  {
   "cell_type": "markdown",
   "id": "dea05679",
   "metadata": {},
   "source": [
    "### `Step Three: Create SQLite Database — الخطوة الثالثة: إنشاء قاعدة البيانات `"
   ]
  },
  {
   "cell_type": "code",
   "execution_count": 5,
   "id": "3393cde8",
   "metadata": {},
   "outputs": [],
   "source": [
    "con = sqlite3.connect(\"My_Forest_DB.db\") # Creating the db - إنشاء قاعدة البيانات"
   ]
  },
  {
   "cell_type": "markdown",
   "id": "6ba2b449",
   "metadata": {},
   "source": [
    "`عند تشغيل الكود الذي بالأعلى، سوف تلاحظ ظهور ملف جديد، هذا الملف هو قاعدة البيانات ونلاحظ أن حجم الملف هو صفر بايت لأننا لم نقم بتخزين جداول فيه للآن `"
   ]
  },
  {
   "attachments": {},
   "cell_type": "markdown",
   "id": "2715f9d4",
   "metadata": {},
   "source": [
    "<div>\n",
    "<img src=\"https://i.postimg.cc/XJny5FVN/db.png\" width =750>\n",
    "</div>\n",
    "\n"
   ]
  },
  {
   "cell_type": "markdown",
   "id": "ee870c48",
   "metadata": {},
   "source": [
    "`الآن سوف نقوم بالاتصال بقاعدة البيانات عن طريق الكود التالي `"
   ]
  },
  {
   "cell_type": "code",
   "execution_count": 6,
   "id": "19016c46",
   "metadata": {},
   "outputs": [],
   "source": [
    "%sql sqlite:///My_Forest_DB.db"
   ]
  },
  {
   "cell_type": "markdown",
   "id": "45c36018",
   "metadata": {},
   "source": [
    "`يلي ذلك حفظ الإطارين في قاعدة البيانات المنشأة`"
   ]
  },
  {
   "cell_type": "code",
   "execution_count": 7,
   "id": "08946914",
   "metadata": {},
   "outputs": [],
   "source": [
    "## Loading dataframes into the db\n",
    "## حفظ الجدولين في قاعدة البيانات التي تم إنشاؤها\n",
    "Afforestation_KSA.to_sql(\"Afforestation_KSA\", con, if_exists='replace', index=False,method=\"multi\")\n",
    "Forests_KSA.to_sql(\"Forests_KSA\", con, if_exists='replace', index=False,method=\"multi\")"
   ]
  },
  {
   "cell_type": "markdown",
   "id": "2972ecb4",
   "metadata": {},
   "source": [
    "`يتم التحقق إذا ما تم تخزين الجدولين في قاعدة البيانات عن طريق الكود التالي`"
   ]
  },
  {
   "cell_type": "code",
   "execution_count": 8,
   "id": "ffd1bd57",
   "metadata": {},
   "outputs": [
    {
     "name": "stdout",
     "output_type": "stream",
     "text": [
      " * sqlite:///My_Forest_DB.db\n",
      "Done.\n"
     ]
    },
    {
     "data": {
      "text/html": [
       "<table>\n",
       "    <tr>\n",
       "        <th>name</th>\n",
       "    </tr>\n",
       "    <tr>\n",
       "        <td>Afforestation_KSA</td>\n",
       "    </tr>\n",
       "    <tr>\n",
       "        <td>Forests_KSA</td>\n",
       "    </tr>\n",
       "</table>"
      ],
      "text/plain": [
       "[('Afforestation_KSA',), ('Forests_KSA',)]"
      ]
     },
     "execution_count": 8,
     "metadata": {},
     "output_type": "execute_result"
    }
   ],
   "source": [
    "# Checking the current tables in the db - التحقق من الجداول الموجودة حاليا في قاعدة البيانات\n",
    "\n",
    "%sql SELECT name FROM sqlite_master WHERE type='table';"
   ]
  },
  {
   "attachments": {},
   "cell_type": "markdown",
   "id": "280f08e2",
   "metadata": {},
   "source": [
    "`لاحظ تغير حجم قاعدة البيانات بعد تخزين الجدولين فيها`"
   ]
  },
  {
   "cell_type": "markdown",
   "id": "439ad922",
   "metadata": {},
   "source": [
    "\n",
    "<div>\n",
    "<img src=\"https://i.postimg.cc/pdfFykM1/db-fill.png\" width=\"750\"/>\n",
    "</div>"
   ]
  },
  {
   "cell_type": "markdown",
   "id": "b57f5103",
   "metadata": {},
   "source": [
    "### `Step Four: Explore the First Table in the Database — الخطوة الرابعة: استكشاف الجدول الأول في قاعدة البيانات `\n",
    "\n",
    "\n",
    "`الآن سنقوم بالتعرف على أهم أكواد الـ`\n",
    " \n",
    " `SQL`\n",
    " \n",
    " `التي سوف نستخدمها لاستكشاف الجدولين. وأولا، سنقوم باستكشاف الجدول الأول وهو بيانات التشجير في المملكة العربية السعودية والمسمى بـ`\n",
    " \n",
    " `Afforestation_KSA`"
   ]
  },
  {
   "cell_type": "code",
   "execution_count": 9,
   "id": "5a10c8b9",
   "metadata": {},
   "outputs": [
    {
     "name": "stdout",
     "output_type": "stream",
     "text": [
      " * sqlite:///My_Forest_DB.db\n",
      "Done.\n"
     ]
    },
    {
     "data": {
      "text/html": [
       "<table>\n",
       "    <tr>\n",
       "        <th>State</th>\n",
       "        <th>Afforestation_by_campaign</th>\n",
       "        <th>Afforestation_by_community_partnership</th>\n",
       "        <th>Afforestation_by_memorandum_of_understanding</th>\n",
       "        <th>Total_afforestation</th>\n",
       "    </tr>\n",
       "    <tr>\n",
       "        <td>منطقة مكة المكرمة </td>\n",
       "        <td>55000</td>\n",
       "        <td>16925</td>\n",
       "        <td>293300</td>\n",
       "        <td>365225</td>\n",
       "    </tr>\n",
       "    <tr>\n",
       "        <td>منطقة المدينة المنورة  </td>\n",
       "        <td>50000</td>\n",
       "        <td>127810</td>\n",
       "        <td>184150</td>\n",
       "        <td>361960</td>\n",
       "    </tr>\n",
       "    <tr>\n",
       "        <td>الرياض </td>\n",
       "        <td>74000</td>\n",
       "        <td>149095</td>\n",
       "        <td>338404</td>\n",
       "        <td>561499</td>\n",
       "    </tr>\n",
       "    <tr>\n",
       "        <td>القصيم </td>\n",
       "        <td>37000</td>\n",
       "        <td>103830</td>\n",
       "        <td>186960</td>\n",
       "        <td>327790</td>\n",
       "    </tr>\n",
       "    <tr>\n",
       "        <td>الشرقية </td>\n",
       "        <td>150000</td>\n",
       "        <td>36900</td>\n",
       "        <td>1482490</td>\n",
       "        <td>1669390</td>\n",
       "    </tr>\n",
       "    <tr>\n",
       "        <td>عسير</td>\n",
       "        <td>150000</td>\n",
       "        <td>12222</td>\n",
       "        <td>101759</td>\n",
       "        <td>263981</td>\n",
       "    </tr>\n",
       "    <tr>\n",
       "        <td>تبوك </td>\n",
       "        <td>350000</td>\n",
       "        <td>25400</td>\n",
       "        <td>6500</td>\n",
       "        <td>381900</td>\n",
       "    </tr>\n",
       "    <tr>\n",
       "        <td>حائل </td>\n",
       "        <td>0</td>\n",
       "        <td>18600</td>\n",
       "        <td>111550</td>\n",
       "        <td>130150</td>\n",
       "    </tr>\n",
       "    <tr>\n",
       "        <td>الجوف </td>\n",
       "        <td>0</td>\n",
       "        <td>15175</td>\n",
       "        <td>71000</td>\n",
       "        <td>86175</td>\n",
       "    </tr>\n",
       "    <tr>\n",
       "        <td>الحدود الشمالية </td>\n",
       "        <td>135000</td>\n",
       "        <td>89380</td>\n",
       "        <td>2350</td>\n",
       "        <td>226730</td>\n",
       "    </tr>\n",
       "    <tr>\n",
       "        <td>جازان </td>\n",
       "        <td>444718</td>\n",
       "        <td>2000</td>\n",
       "        <td>61500</td>\n",
       "        <td>508218</td>\n",
       "    </tr>\n",
       "    <tr>\n",
       "        <td>الباحة </td>\n",
       "        <td>0</td>\n",
       "        <td>19900</td>\n",
       "        <td>54200</td>\n",
       "        <td>74100</td>\n",
       "    </tr>\n",
       "    <tr>\n",
       "        <td>نجران </td>\n",
       "        <td>0</td>\n",
       "        <td>8200</td>\n",
       "        <td>800</td>\n",
       "        <td>9000</td>\n",
       "    </tr>\n",
       "    <tr>\n",
       "        <td>الاجمالي </td>\n",
       "        <td>1445718</td>\n",
       "        <td>625437</td>\n",
       "        <td>2894963</td>\n",
       "        <td>4966118</td>\n",
       "    </tr>\n",
       "</table>"
      ],
      "text/plain": [
       "[('منطقة مكة المكرمة ', 55000, 16925, 293300, 365225),\n",
       " ('منطقة المدينة المنورة  ', 50000, 127810, 184150, 361960),\n",
       " ('الرياض ', 74000, 149095, 338404, 561499),\n",
       " ('القصيم ', 37000, 103830, 186960, 327790),\n",
       " ('الشرقية ', 150000, 36900, 1482490, 1669390),\n",
       " ('عسير', 150000, 12222, 101759, 263981),\n",
       " ('تبوك ', 350000, 25400, 6500, 381900),\n",
       " ('حائل ', 0, 18600, 111550, 130150),\n",
       " ('الجوف ', 0, 15175, 71000, 86175),\n",
       " ('الحدود الشمالية ', 135000, 89380, 2350, 226730),\n",
       " ('جازان ', 444718, 2000, 61500, 508218),\n",
       " ('الباحة ', 0, 19900, 54200, 74100),\n",
       " ('نجران ', 0, 8200, 800, 9000),\n",
       " ('الاجمالي ', 1445718, 625437, 2894963, 4966118)]"
      ]
     },
     "execution_count": 9,
     "metadata": {},
     "output_type": "execute_result"
    }
   ],
   "source": [
    "%%sql\n",
    "-- We use '*' to select the complete table\n",
    "-- نحن نستخدم النجمة في حالة إردنا استعداء الجدول بالكامل\n",
    "\n",
    "SELECT * FROM Afforestation_KSA;"
   ]
  },
  {
   "cell_type": "markdown",
   "id": "d328c8c8",
   "metadata": {},
   "source": [
    "`لاحظ كيف أن النجمة تقوم باستعداء جميع الصفوف والأعمدة، ولكن ماذا لو أردنا استدعاء أعمدة محددة فقط؟ في الحقيقية نستطيع فعل هذا الأمر بسهولة. سوف نقوم باستبدال النجمة بأسماء الأعمدة التي نريد إظهارها`"
   ]
  },
  {
   "cell_type": "code",
   "execution_count": 10,
   "id": "49927283",
   "metadata": {
    "scrolled": true
   },
   "outputs": [
    {
     "name": "stdout",
     "output_type": "stream",
     "text": [
      " * sqlite:///My_Forest_DB.db\n",
      "Done.\n"
     ]
    },
    {
     "data": {
      "text/html": [
       "<table>\n",
       "    <tr>\n",
       "        <th>State</th>\n",
       "        <th>Total_afforestation</th>\n",
       "    </tr>\n",
       "    <tr>\n",
       "        <td>منطقة مكة المكرمة </td>\n",
       "        <td>365225</td>\n",
       "    </tr>\n",
       "    <tr>\n",
       "        <td>منطقة المدينة المنورة  </td>\n",
       "        <td>361960</td>\n",
       "    </tr>\n",
       "    <tr>\n",
       "        <td>الرياض </td>\n",
       "        <td>561499</td>\n",
       "    </tr>\n",
       "    <tr>\n",
       "        <td>القصيم </td>\n",
       "        <td>327790</td>\n",
       "    </tr>\n",
       "    <tr>\n",
       "        <td>الشرقية </td>\n",
       "        <td>1669390</td>\n",
       "    </tr>\n",
       "    <tr>\n",
       "        <td>عسير</td>\n",
       "        <td>263981</td>\n",
       "    </tr>\n",
       "    <tr>\n",
       "        <td>تبوك </td>\n",
       "        <td>381900</td>\n",
       "    </tr>\n",
       "    <tr>\n",
       "        <td>حائل </td>\n",
       "        <td>130150</td>\n",
       "    </tr>\n",
       "    <tr>\n",
       "        <td>الجوف </td>\n",
       "        <td>86175</td>\n",
       "    </tr>\n",
       "    <tr>\n",
       "        <td>الحدود الشمالية </td>\n",
       "        <td>226730</td>\n",
       "    </tr>\n",
       "    <tr>\n",
       "        <td>جازان </td>\n",
       "        <td>508218</td>\n",
       "    </tr>\n",
       "    <tr>\n",
       "        <td>الباحة </td>\n",
       "        <td>74100</td>\n",
       "    </tr>\n",
       "    <tr>\n",
       "        <td>نجران </td>\n",
       "        <td>9000</td>\n",
       "    </tr>\n",
       "    <tr>\n",
       "        <td>الاجمالي </td>\n",
       "        <td>4966118</td>\n",
       "    </tr>\n",
       "</table>"
      ],
      "text/plain": [
       "[('منطقة مكة المكرمة ', 365225),\n",
       " ('منطقة المدينة المنورة  ', 361960),\n",
       " ('الرياض ', 561499),\n",
       " ('القصيم ', 327790),\n",
       " ('الشرقية ', 1669390),\n",
       " ('عسير', 263981),\n",
       " ('تبوك ', 381900),\n",
       " ('حائل ', 130150),\n",
       " ('الجوف ', 86175),\n",
       " ('الحدود الشمالية ', 226730),\n",
       " ('جازان ', 508218),\n",
       " ('الباحة ', 74100),\n",
       " ('نجران ', 9000),\n",
       " ('الاجمالي ', 4966118)]"
      ]
     },
     "execution_count": 10,
     "metadata": {},
     "output_type": "execute_result"
    }
   ],
   "source": [
    "%%sql\n",
    "-- We will call 'State', 'Total_afforestation' columns only\n",
    "-- سنقوم باستعداء عامودي المنطقة ومجموع أعداد التشجير فقط \n",
    "\n",
    "SELECT State, Total_afforestation FROM Afforestation_KSA;"
   ]
  },
  {
   "cell_type": "markdown",
   "id": "9752a28e",
   "metadata": {},
   "source": [
    "`حسنًا! ماذا لو أننا نريد أعداد التشجير في منطقة عسير فقط؟`"
   ]
  },
  {
   "cell_type": "code",
   "execution_count": 11,
   "id": "7dce20e7",
   "metadata": {},
   "outputs": [
    {
     "name": "stdout",
     "output_type": "stream",
     "text": [
      " * sqlite:///My_Forest_DB.db\n",
      "Done.\n"
     ]
    },
    {
     "data": {
      "text/html": [
       "<table>\n",
       "    <tr>\n",
       "        <th>State</th>\n",
       "        <th>Afforestation_by_campaign</th>\n",
       "        <th>Afforestation_by_community_partnership</th>\n",
       "        <th>Afforestation_by_memorandum_of_understanding</th>\n",
       "        <th>Total_afforestation</th>\n",
       "    </tr>\n",
       "    <tr>\n",
       "        <td>عسير</td>\n",
       "        <td>150000</td>\n",
       "        <td>12222</td>\n",
       "        <td>101759</td>\n",
       "        <td>263981</td>\n",
       "    </tr>\n",
       "</table>"
      ],
      "text/plain": [
       "[('عسير', 150000, 12222, 101759, 263981)]"
      ]
     },
     "execution_count": 11,
     "metadata": {},
     "output_type": "execute_result"
    }
   ],
   "source": [
    "%%sql\n",
    "-- We use 'WHERE' to add a condition\n",
    "-- نقوم باستخدام وير من إجل إضافة شرط معين\n",
    "\n",
    "SELECT * FROM Afforestation_KSA\n",
    "WHERE State = 'عسير';"
   ]
  },
  {
   "cell_type": "code",
   "execution_count": 12,
   "id": "3053cacb",
   "metadata": {},
   "outputs": [
    {
     "name": "stdout",
     "output_type": "stream",
     "text": [
      " * sqlite:///My_Forest_DB.db\n",
      "Done.\n"
     ]
    },
    {
     "data": {
      "text/html": [
       "<table>\n",
       "    <tr>\n",
       "        <th>State</th>\n",
       "        <th>Afforestation_by_campaign</th>\n",
       "        <th>Afforestation_by_community_partnership</th>\n",
       "        <th>Afforestation_by_memorandum_of_understanding</th>\n",
       "        <th>Total_afforestation</th>\n",
       "    </tr>\n",
       "    <tr>\n",
       "        <td>منطقة المدينة المنورة  </td>\n",
       "        <td>50000</td>\n",
       "        <td>127810</td>\n",
       "        <td>184150</td>\n",
       "        <td>361960</td>\n",
       "    </tr>\n",
       "</table>"
      ],
      "text/plain": [
       "[('منطقة المدينة المنورة  ', 50000, 127810, 184150, 361960)]"
      ]
     },
     "execution_count": 12,
     "metadata": {},
     "output_type": "execute_result"
    }
   ],
   "source": [
    "%%sql\n",
    "-- We can also use 'LIKE' command as follows\n",
    "-- نستطيع أيضا استخدام لايك كالتالي\n",
    "\n",
    "SELECT * FROM Afforestation_KSA\n",
    "WHERE State LIKE '%منطقة المدينة المنورة%';"
   ]
  },
  {
   "cell_type": "markdown",
   "id": "8577a178",
   "metadata": {},
   "source": [
    "`سوف نقوم بتصفية الجدول عن طريق استدعاء بيانات المناطق التي كان موجوع أعداد التشجير فيها ما بين 300,000 و 500،000`"
   ]
  },
  {
   "cell_type": "code",
   "execution_count": 13,
   "id": "8060613e",
   "metadata": {
    "scrolled": true
   },
   "outputs": [
    {
     "name": "stdout",
     "output_type": "stream",
     "text": [
      " * sqlite:///My_Forest_DB.db\n",
      "Done.\n"
     ]
    },
    {
     "data": {
      "text/html": [
       "<table>\n",
       "    <tr>\n",
       "        <th>State</th>\n",
       "        <th>Afforestation_by_campaign</th>\n",
       "        <th>Afforestation_by_community_partnership</th>\n",
       "        <th>Afforestation_by_memorandum_of_understanding</th>\n",
       "        <th>Total_afforestation</th>\n",
       "    </tr>\n",
       "    <tr>\n",
       "        <td>منطقة مكة المكرمة </td>\n",
       "        <td>55000</td>\n",
       "        <td>16925</td>\n",
       "        <td>293300</td>\n",
       "        <td>365225</td>\n",
       "    </tr>\n",
       "    <tr>\n",
       "        <td>منطقة المدينة المنورة  </td>\n",
       "        <td>50000</td>\n",
       "        <td>127810</td>\n",
       "        <td>184150</td>\n",
       "        <td>361960</td>\n",
       "    </tr>\n",
       "    <tr>\n",
       "        <td>القصيم </td>\n",
       "        <td>37000</td>\n",
       "        <td>103830</td>\n",
       "        <td>186960</td>\n",
       "        <td>327790</td>\n",
       "    </tr>\n",
       "    <tr>\n",
       "        <td>تبوك </td>\n",
       "        <td>350000</td>\n",
       "        <td>25400</td>\n",
       "        <td>6500</td>\n",
       "        <td>381900</td>\n",
       "    </tr>\n",
       "</table>"
      ],
      "text/plain": [
       "[('منطقة مكة المكرمة ', 55000, 16925, 293300, 365225),\n",
       " ('منطقة المدينة المنورة  ', 50000, 127810, 184150, 361960),\n",
       " ('القصيم ', 37000, 103830, 186960, 327790),\n",
       " ('تبوك ', 350000, 25400, 6500, 381900)]"
      ]
     },
     "execution_count": 13,
     "metadata": {},
     "output_type": "execute_result"
    }
   ],
   "source": [
    "%%sql\n",
    "\n",
    "SELECT * FROM Afforestation_KSA\n",
    "WHERE Total_afforestation BETWEEN 300000 AND 500000"
   ]
  },
  {
   "cell_type": "markdown",
   "id": "c018861c",
   "metadata": {},
   "source": [
    "`نستطيع كذلك ترتيب الجدول من الأكبر للأصغر أو العكس. والآن سنقوم بترتيب المناطق حسب مجموع التشجير من الأكبر للأصغر`"
   ]
  },
  {
   "cell_type": "code",
   "execution_count": 14,
   "id": "6b85832a",
   "metadata": {},
   "outputs": [
    {
     "name": "stdout",
     "output_type": "stream",
     "text": [
      " * sqlite:///My_Forest_DB.db\n",
      "Done.\n"
     ]
    },
    {
     "data": {
      "text/html": [
       "<table>\n",
       "    <tr>\n",
       "        <th>State</th>\n",
       "        <th>Afforestation_by_campaign</th>\n",
       "        <th>Afforestation_by_community_partnership</th>\n",
       "        <th>Afforestation_by_memorandum_of_understanding</th>\n",
       "        <th>Total_afforestation</th>\n",
       "    </tr>\n",
       "    <tr>\n",
       "        <td>الاجمالي </td>\n",
       "        <td>1445718</td>\n",
       "        <td>625437</td>\n",
       "        <td>2894963</td>\n",
       "        <td>4966118</td>\n",
       "    </tr>\n",
       "    <tr>\n",
       "        <td>الشرقية </td>\n",
       "        <td>150000</td>\n",
       "        <td>36900</td>\n",
       "        <td>1482490</td>\n",
       "        <td>1669390</td>\n",
       "    </tr>\n",
       "    <tr>\n",
       "        <td>الرياض </td>\n",
       "        <td>74000</td>\n",
       "        <td>149095</td>\n",
       "        <td>338404</td>\n",
       "        <td>561499</td>\n",
       "    </tr>\n",
       "    <tr>\n",
       "        <td>جازان </td>\n",
       "        <td>444718</td>\n",
       "        <td>2000</td>\n",
       "        <td>61500</td>\n",
       "        <td>508218</td>\n",
       "    </tr>\n",
       "    <tr>\n",
       "        <td>تبوك </td>\n",
       "        <td>350000</td>\n",
       "        <td>25400</td>\n",
       "        <td>6500</td>\n",
       "        <td>381900</td>\n",
       "    </tr>\n",
       "    <tr>\n",
       "        <td>منطقة مكة المكرمة </td>\n",
       "        <td>55000</td>\n",
       "        <td>16925</td>\n",
       "        <td>293300</td>\n",
       "        <td>365225</td>\n",
       "    </tr>\n",
       "    <tr>\n",
       "        <td>منطقة المدينة المنورة  </td>\n",
       "        <td>50000</td>\n",
       "        <td>127810</td>\n",
       "        <td>184150</td>\n",
       "        <td>361960</td>\n",
       "    </tr>\n",
       "    <tr>\n",
       "        <td>القصيم </td>\n",
       "        <td>37000</td>\n",
       "        <td>103830</td>\n",
       "        <td>186960</td>\n",
       "        <td>327790</td>\n",
       "    </tr>\n",
       "    <tr>\n",
       "        <td>عسير</td>\n",
       "        <td>150000</td>\n",
       "        <td>12222</td>\n",
       "        <td>101759</td>\n",
       "        <td>263981</td>\n",
       "    </tr>\n",
       "    <tr>\n",
       "        <td>الحدود الشمالية </td>\n",
       "        <td>135000</td>\n",
       "        <td>89380</td>\n",
       "        <td>2350</td>\n",
       "        <td>226730</td>\n",
       "    </tr>\n",
       "    <tr>\n",
       "        <td>حائل </td>\n",
       "        <td>0</td>\n",
       "        <td>18600</td>\n",
       "        <td>111550</td>\n",
       "        <td>130150</td>\n",
       "    </tr>\n",
       "    <tr>\n",
       "        <td>الجوف </td>\n",
       "        <td>0</td>\n",
       "        <td>15175</td>\n",
       "        <td>71000</td>\n",
       "        <td>86175</td>\n",
       "    </tr>\n",
       "    <tr>\n",
       "        <td>الباحة </td>\n",
       "        <td>0</td>\n",
       "        <td>19900</td>\n",
       "        <td>54200</td>\n",
       "        <td>74100</td>\n",
       "    </tr>\n",
       "    <tr>\n",
       "        <td>نجران </td>\n",
       "        <td>0</td>\n",
       "        <td>8200</td>\n",
       "        <td>800</td>\n",
       "        <td>9000</td>\n",
       "    </tr>\n",
       "</table>"
      ],
      "text/plain": [
       "[('الاجمالي ', 1445718, 625437, 2894963, 4966118),\n",
       " ('الشرقية ', 150000, 36900, 1482490, 1669390),\n",
       " ('الرياض ', 74000, 149095, 338404, 561499),\n",
       " ('جازان ', 444718, 2000, 61500, 508218),\n",
       " ('تبوك ', 350000, 25400, 6500, 381900),\n",
       " ('منطقة مكة المكرمة ', 55000, 16925, 293300, 365225),\n",
       " ('منطقة المدينة المنورة  ', 50000, 127810, 184150, 361960),\n",
       " ('القصيم ', 37000, 103830, 186960, 327790),\n",
       " ('عسير', 150000, 12222, 101759, 263981),\n",
       " ('الحدود الشمالية ', 135000, 89380, 2350, 226730),\n",
       " ('حائل ', 0, 18600, 111550, 130150),\n",
       " ('الجوف ', 0, 15175, 71000, 86175),\n",
       " ('الباحة ', 0, 19900, 54200, 74100),\n",
       " ('نجران ', 0, 8200, 800, 9000)]"
      ]
     },
     "execution_count": 14,
     "metadata": {},
     "output_type": "execute_result"
    }
   ],
   "source": [
    "%%sql\n",
    "-- We use 'ORDER BY' to order table, and 'DESC' to make a descending order\n",
    "-- نقوم باستخدام كود أوردر باي من أجل ترتيب الجدول، وكود ديس من أجل جعل الجدول يترتب من الأكبر للأصغر\n",
    "\n",
    "SELECT * FROM Afforestation_KSA\n",
    "ORDER BY Total_afforestation DESC;"
   ]
  },
  {
   "cell_type": "markdown",
   "id": "97f7a35d",
   "metadata": {},
   "source": [
    "### `Step Five: Explore the Second Table in the Database — الخطوة الخامسة: استكشاف الجدول الثاني في قاعدة البيانات `\n"
   ]
  },
  {
   "cell_type": "markdown",
   "id": "02ac7be1",
   "metadata": {},
   "source": [
    "`والآن فلستكشف الجدول الثاني، وهو جدول يحتوي على بيانات الغابات في المملكة العربية السعودية. ولأننا نتوقع أن الجدول سوف يكون كبيرا نظرا لعدد الغابات الكثيرة. دعونا نحدد أننا نريد رؤية السبعة الصفوف الأولى فقط`"
   ]
  },
  {
   "cell_type": "code",
   "execution_count": 15,
   "id": "bcaab939",
   "metadata": {},
   "outputs": [
    {
     "name": "stdout",
     "output_type": "stream",
     "text": [
      " * sqlite:///My_Forest_DB.db\n",
      "Done.\n"
     ]
    },
    {
     "data": {
      "text/html": [
       "<table>\n",
       "    <tr>\n",
       "        <th>Forest_index</th>\n",
       "        <th>Forest_Name</th>\n",
       "        <th>State</th>\n",
       "        <th>Town</th>\n",
       "        <th>Plants_type</th>\n",
       "        <th>Longitude</th>\n",
       "        <th>Latitude</th>\n",
       "    </tr>\n",
       "    <tr>\n",
       "        <td>F_1</td>\n",
       "        <td>غابة الصفا</td>\n",
       "        <td>نجران</td>\n",
       "        <td>نجران</td>\n",
       "        <td>اثل ، النمص،النخل</td>\n",
       "        <td>44.08539906</td>\n",
       "        <td>17.46522093</td>\n",
       "    </tr>\n",
       "    <tr>\n",
       "        <td>F_2</td>\n",
       "        <td>غابة الهيجة</td>\n",
       "        <td>نجران</td>\n",
       "        <td>نجران</td>\n",
       "        <td>اثل ، النمص ، طلح</td>\n",
       "        <td>44.06675694</td>\n",
       "        <td>17.45463665</td>\n",
       "    </tr>\n",
       "    <tr>\n",
       "        <td>F_3</td>\n",
       "        <td>غابة الصحن</td>\n",
       "        <td>نجران</td>\n",
       "        <td>يدمة</td>\n",
       "        <td>اراك ، سمر ، عشر</td>\n",
       "        <td>44.25180907</td>\n",
       "        <td>18.505835100000002</td>\n",
       "    </tr>\n",
       "    <tr>\n",
       "        <td>F_4</td>\n",
       "        <td>غابة رجلاء</td>\n",
       "        <td>نجران</td>\n",
       "        <td>نجران</td>\n",
       "        <td>سمر ، سلم ، طلح</td>\n",
       "        <td>44.23941821</td>\n",
       "        <td>17.4842945</td>\n",
       "    </tr>\n",
       "    <tr>\n",
       "        <td>F_5</td>\n",
       "        <td>غابة الغثمه</td>\n",
       "        <td>نجران</td>\n",
       "        <td>نجران</td>\n",
       "        <td>سدر ، سلم ، طلح ، قرض</td>\n",
       "        <td>43.96967427</td>\n",
       "        <td>17.58062959</td>\n",
       "    </tr>\n",
       "    <tr>\n",
       "        <td>F_6</td>\n",
       "        <td>غابة الحباية1</td>\n",
       "        <td>نجران</td>\n",
       "        <td>حبونا</td>\n",
       "        <td>سدر ، سلم ، طلح ، عشر</td>\n",
       "        <td>43.97613072</td>\n",
       "        <td>17.85126158</td>\n",
       "    </tr>\n",
       "    <tr>\n",
       "        <td>F_7</td>\n",
       "        <td>وادى حرس-هداده</td>\n",
       "        <td>نجران</td>\n",
       "        <td>بدر الجنوب</td>\n",
       "        <td>طلح ، سمر ، قرض</td>\n",
       "        <td>43.76499802</td>\n",
       "        <td>17.52504593</td>\n",
       "    </tr>\n",
       "</table>"
      ],
      "text/plain": [
       "[('F_1', 'غابة الصفا', 'نجران', 'نجران', 'اثل ، النمص،النخل', 44.08539906, 17.46522093),\n",
       " ('F_2', 'غابة الهيجة', 'نجران', 'نجران', 'اثل ، النمص ، طلح', 44.06675694, 17.45463665),\n",
       " ('F_3', 'غابة الصحن', 'نجران', 'يدمة', 'اراك ، سمر ، عشر', 44.25180907, 18.505835100000002),\n",
       " ('F_4', 'غابة رجلاء', 'نجران', 'نجران', 'سمر ، سلم ، طلح', 44.23941821, 17.4842945),\n",
       " ('F_5', 'غابة الغثمه', 'نجران', 'نجران', 'سدر ، سلم ، طلح ، قرض', 43.96967427, 17.58062959),\n",
       " ('F_6', 'غابة الحباية1', 'نجران', 'حبونا', 'سدر ، سلم ، طلح ، عشر', 43.97613072, 17.85126158),\n",
       " ('F_7', 'وادى حرس-هداده', 'نجران', 'بدر الجنوب', 'طلح ، سمر ، قرض', 43.76499802, 17.52504593)]"
      ]
     },
     "execution_count": 15,
     "metadata": {},
     "output_type": "execute_result"
    }
   ],
   "source": [
    "%%sql\n",
    "-- we use LIMIT to specify number of rows\n",
    "-- نستعمل كود ليميت لتحديد عدد الصفوف التي سوف تظهر\n",
    "\n",
    "\n",
    "SELECT * FROM Forests_KSA \n",
    "LIMIT 7;\n"
   ]
  },
  {
   "cell_type": "markdown",
   "id": "3c74d141",
   "metadata": {},
   "source": [
    "` حسنا، ماذا لو كنا مهتمين في معرفة عدد الصفوف؟ أي بمعنى آخر: ماذا لو أردنا معرفة عدد الغابات في المملكة العربية السعودية؟ `"
   ]
  },
  {
   "cell_type": "code",
   "execution_count": 16,
   "id": "d1512957",
   "metadata": {},
   "outputs": [
    {
     "name": "stdout",
     "output_type": "stream",
     "text": [
      " * sqlite:///My_Forest_DB.db\n",
      "Done.\n"
     ]
    },
    {
     "data": {
      "text/html": [
       "<table>\n",
       "    <tr>\n",
       "        <th>COUNT(*)</th>\n",
       "    </tr>\n",
       "    <tr>\n",
       "        <td>280</td>\n",
       "    </tr>\n",
       "</table>"
      ],
      "text/plain": [
       "[(280,)]"
      ]
     },
     "execution_count": 16,
     "metadata": {},
     "output_type": "execute_result"
    }
   ],
   "source": [
    "%%sql\n",
    "-- We count number of rows using 'COUNT' \n",
    "-- نقوم بعد عدد الصفوف عن طريق كود كاونت\n",
    "\n",
    "SELECT COUNT(*) from Forests_KSA;"
   ]
  },
  {
   "cell_type": "markdown",
   "id": "42a1062d",
   "metadata": {},
   "source": [
    "`في الكود الذي في الأعلى، قمنا بعد عدد الغابات في المملكة العربية السعودية وكانت النتيجة ٢٨٠ غابة. نستطيع أيضا تسمية النتيجة بالطريقة التالية`"
   ]
  },
  {
   "cell_type": "code",
   "execution_count": 17,
   "id": "1c40b769",
   "metadata": {},
   "outputs": [
    {
     "name": "stdout",
     "output_type": "stream",
     "text": [
      " * sqlite:///My_Forest_DB.db\n",
      "Done.\n"
     ]
    },
    {
     "data": {
      "text/html": [
       "<table>\n",
       "    <tr>\n",
       "        <th>number_of_forests_KSA</th>\n",
       "    </tr>\n",
       "    <tr>\n",
       "        <td>280</td>\n",
       "    </tr>\n",
       "</table>"
      ],
      "text/plain": [
       "[(280,)]"
      ]
     },
     "execution_count": 17,
     "metadata": {},
     "output_type": "execute_result"
    }
   ],
   "source": [
    "%%sql\n",
    "-- We use 'AS' to give the result a name\n",
    "-- نقوم باستخدام آس لإعطاء اسم للنتيجة\n",
    "\n",
    "SELECT COUNT(*) AS number_of_forests_KSA from Forests_KSA;"
   ]
  },
  {
   "cell_type": "markdown",
   "id": "310e0879",
   "metadata": {},
   "source": [
    "`فلنقم الآن باستكشاف عدد الغابات الموجودة في منطقة نجران كالتالي`"
   ]
  },
  {
   "cell_type": "code",
   "execution_count": 18,
   "id": "a74f9f9b",
   "metadata": {
    "scrolled": false
   },
   "outputs": [
    {
     "name": "stdout",
     "output_type": "stream",
     "text": [
      " * sqlite:///My_Forest_DB.db\n",
      "Done.\n"
     ]
    },
    {
     "data": {
      "text/html": [
       "<table>\n",
       "    <tr>\n",
       "        <th>forests_in_Najran</th>\n",
       "    </tr>\n",
       "    <tr>\n",
       "        <td>10</td>\n",
       "    </tr>\n",
       "</table>"
      ],
      "text/plain": [
       "[(10,)]"
      ]
     },
     "execution_count": 18,
     "metadata": {},
     "output_type": "execute_result"
    }
   ],
   "source": [
    "%%sql\n",
    "-- We use WHERE to add a condition\n",
    "-- نقوم باستخدام وير من أجل إضافة شرط\n",
    "\n",
    "SELECT COUNT(*) as forests_in_Najran FROM Forests_KSA\n",
    "WHERE State = 'نجران'"
   ]
  },
  {
   "cell_type": "markdown",
   "id": "8a38efa3",
   "metadata": {},
   "source": [
    "`لقد اكشتفنا أنه يوجد ١٠ غابات في منطقة نجران. والآن، فلنبحث عن ماهي أسماء الغابات العشرة في نجران عن طريق استخدام الكود التالي `"
   ]
  },
  {
   "cell_type": "code",
   "execution_count": 19,
   "id": "fc279978",
   "metadata": {},
   "outputs": [
    {
     "name": "stdout",
     "output_type": "stream",
     "text": [
      " * sqlite:///My_Forest_DB.db\n",
      "Done.\n"
     ]
    },
    {
     "data": {
      "text/html": [
       "<table>\n",
       "    <tr>\n",
       "        <th>Forest_Name</th>\n",
       "        <th>Plants_type</th>\n",
       "    </tr>\n",
       "    <tr>\n",
       "        <td>غابة الصفا</td>\n",
       "        <td>اثل ، النمص،النخل</td>\n",
       "    </tr>\n",
       "    <tr>\n",
       "        <td>غابة الهيجة</td>\n",
       "        <td>اثل ، النمص ، طلح</td>\n",
       "    </tr>\n",
       "    <tr>\n",
       "        <td>غابة الصحن</td>\n",
       "        <td>اراك ، سمر ، عشر</td>\n",
       "    </tr>\n",
       "    <tr>\n",
       "        <td>غابة رجلاء</td>\n",
       "        <td>سمر ، سلم ، طلح</td>\n",
       "    </tr>\n",
       "    <tr>\n",
       "        <td>غابة الغثمه</td>\n",
       "        <td>سدر ، سلم ، طلح ، قرض</td>\n",
       "    </tr>\n",
       "    <tr>\n",
       "        <td>غابة الحباية1</td>\n",
       "        <td>سدر ، سلم ، طلح ، عشر</td>\n",
       "    </tr>\n",
       "    <tr>\n",
       "        <td>وادى حرس-هداده</td>\n",
       "        <td>طلح ، سمر ، قرض</td>\n",
       "    </tr>\n",
       "    <tr>\n",
       "        <td>حلال</td>\n",
       "        <td>اثل،اراك، سدر، سمر، مرخ</td>\n",
       "    </tr>\n",
       "    <tr>\n",
       "        <td>موقع غابة بنجران</td>\n",
       "        <td> </td>\n",
       "    </tr>\n",
       "    <tr>\n",
       "        <td>غابة الخنق</td>\n",
       "        <td>السمر والسلم والعشار</td>\n",
       "    </tr>\n",
       "</table>"
      ],
      "text/plain": [
       "[('غابة الصفا', 'اثل ، النمص،النخل'),\n",
       " ('غابة الهيجة', 'اثل ، النمص ، طلح'),\n",
       " ('غابة الصحن', 'اراك ، سمر ، عشر'),\n",
       " ('غابة رجلاء', 'سمر ، سلم ، طلح'),\n",
       " ('غابة الغثمه', 'سدر ، سلم ، طلح ، قرض'),\n",
       " ('غابة الحباية1', 'سدر ، سلم ، طلح ، عشر'),\n",
       " ('وادى حرس-هداده', 'طلح ، سمر ، قرض'),\n",
       " ('حلال', 'اثل،اراك، سدر، سمر، مرخ'),\n",
       " ('موقع غابة بنجران', ' '),\n",
       " ('غابة الخنق', 'السمر والسلم والعشار')]"
      ]
     },
     "execution_count": 19,
     "metadata": {},
     "output_type": "execute_result"
    }
   ],
   "source": [
    "%%sql\n",
    "\n",
    "SELECT Forest_Name, plants_type from Forests_KSA \n",
    "WHERE State = 'نجران'"
   ]
  },
  {
   "cell_type": "markdown",
   "id": "9e22826c",
   "metadata": {},
   "source": [
    "`أيضا: إذا أردنا معرفة أسماء الأعمدة، ونوعها في جدول الغابات، نستطيع استخدام الكود التالي`"
   ]
  },
  {
   "cell_type": "code",
   "execution_count": 20,
   "id": "dde6c542",
   "metadata": {},
   "outputs": [
    {
     "name": "stdout",
     "output_type": "stream",
     "text": [
      " * sqlite:///My_Forest_DB.db\n",
      "Done.\n"
     ]
    },
    {
     "data": {
      "text/html": [
       "<table>\n",
       "    <tr>\n",
       "        <th>name</th>\n",
       "        <th>type</th>\n",
       "        <th>length(type)</th>\n",
       "    </tr>\n",
       "    <tr>\n",
       "        <td>Forest_index</td>\n",
       "        <td>TEXT</td>\n",
       "        <td>4</td>\n",
       "    </tr>\n",
       "    <tr>\n",
       "        <td>Forest_Name</td>\n",
       "        <td>TEXT</td>\n",
       "        <td>4</td>\n",
       "    </tr>\n",
       "    <tr>\n",
       "        <td>State</td>\n",
       "        <td>TEXT</td>\n",
       "        <td>4</td>\n",
       "    </tr>\n",
       "    <tr>\n",
       "        <td>Town</td>\n",
       "        <td>TEXT</td>\n",
       "        <td>4</td>\n",
       "    </tr>\n",
       "    <tr>\n",
       "        <td>Plants_type</td>\n",
       "        <td>TEXT</td>\n",
       "        <td>4</td>\n",
       "    </tr>\n",
       "    <tr>\n",
       "        <td>Longitude</td>\n",
       "        <td>REAL</td>\n",
       "        <td>4</td>\n",
       "    </tr>\n",
       "    <tr>\n",
       "        <td>Latitude</td>\n",
       "        <td>REAL</td>\n",
       "        <td>4</td>\n",
       "    </tr>\n",
       "</table>"
      ],
      "text/plain": [
       "[('Forest_index', 'TEXT', 4),\n",
       " ('Forest_Name', 'TEXT', 4),\n",
       " ('State', 'TEXT', 4),\n",
       " ('Town', 'TEXT', 4),\n",
       " ('Plants_type', 'TEXT', 4),\n",
       " ('Longitude', 'REAL', 4),\n",
       " ('Latitude', 'REAL', 4)]"
      ]
     },
     "execution_count": 20,
     "metadata": {},
     "output_type": "execute_result"
    }
   ],
   "source": [
    "%%sql \n",
    "SELECT name,type,length(type) FROM PRAGMA_TABLE_INFO('Forests_KSA'); "
   ]
  },
  {
   "cell_type": "markdown",
   "id": "1cb7d106",
   "metadata": {},
   "source": [
    "### `Step Six: Add a Third Table to the Database — الخطوة السادسة: إضافة جدول ثالث إلى قاعدة البيانات `\n",
    "`قمنا في السابق بإضافة جداول بانداز إلى قاعدة البيانات. ولكن هذه الجداول أخذت جاهزة وتمت إضافتها بشكل مباشر. والآن سوف نقوم بصناعة جدول البيانات بأنفسنا عن طريق أكواد الـ`\n",
    "\n",
    "`SQL`\n",
    "\n",
    "` الجدول الافتراضي سوف يكون الغابات التي زرتها `"
   ]
  },
  {
   "cell_type": "code",
   "execution_count": 21,
   "id": "8008e390",
   "metadata": {},
   "outputs": [
    {
     "name": "stdout",
     "output_type": "stream",
     "text": [
      " * sqlite:///My_Forest_DB.db\n",
      "Done.\n"
     ]
    },
    {
     "data": {
      "text/plain": [
       "[]"
      ]
     },
     "execution_count": 21,
     "metadata": {},
     "output_type": "execute_result"
    }
   ],
   "source": [
    "%%sql\n",
    "-- We will use 'CREATE TABLE', then we will assign names of the columns and their types\n",
    "-- سنقوم بصناعة الجدول وتحديد أسماء الأعمدة وأنواعهم\n",
    "\n",
    "CREATE TABLE Forests_I_Visited (\n",
    "    Forest_index VARCHAR(4) , \n",
    "    My_rating INT,  \n",
    "    Visit_date DATE);"
   ]
  },
  {
   "cell_type": "code",
   "execution_count": 22,
   "id": "484e65aa",
   "metadata": {},
   "outputs": [
    {
     "name": "stdout",
     "output_type": "stream",
     "text": [
      " * sqlite:///My_Forest_DB.db\n",
      "Done.\n"
     ]
    },
    {
     "data": {
      "text/html": [
       "<table>\n",
       "    <tr>\n",
       "        <th>name</th>\n",
       "    </tr>\n",
       "    <tr>\n",
       "        <td>Afforestation_KSA</td>\n",
       "    </tr>\n",
       "    <tr>\n",
       "        <td>Forests_KSA</td>\n",
       "    </tr>\n",
       "    <tr>\n",
       "        <td>Forests_I_Visited</td>\n",
       "    </tr>\n",
       "</table>"
      ],
      "text/plain": [
       "[('Afforestation_KSA',), ('Forests_KSA',), ('Forests_I_Visited',)]"
      ]
     },
     "execution_count": 22,
     "metadata": {},
     "output_type": "execute_result"
    }
   ],
   "source": [
    "# Checking the current tables in the db - التحقق من الجداول الموجودة حاليا في قاعدة البيانات\n",
    "\n",
    "%sql SELECT name FROM sqlite_master WHERE type='table'"
   ]
  },
  {
   "cell_type": "code",
   "execution_count": 23,
   "id": "46625c79",
   "metadata": {
    "scrolled": true
   },
   "outputs": [
    {
     "name": "stdout",
     "output_type": "stream",
     "text": [
      " * sqlite:///My_Forest_DB.db\n",
      "Done.\n"
     ]
    },
    {
     "data": {
      "text/html": [
       "<table>\n",
       "    <tr>\n",
       "        <th>Forest_index</th>\n",
       "        <th>My_rating</th>\n",
       "        <th>Visit_date</th>\n",
       "    </tr>\n",
       "</table>"
      ],
      "text/plain": [
       "[]"
      ]
     },
     "execution_count": 23,
     "metadata": {},
     "output_type": "execute_result"
    }
   ],
   "source": [
    "%%sql\n",
    "\n",
    "SELECT * FROM Forests_I_Visited"
   ]
  },
  {
   "cell_type": "markdown",
   "id": "3334062d",
   "metadata": {},
   "source": [
    "`نلاحظ أن تم إضافة الجدول إلى قاعدة البيانات، ولكن ما زال الجدول فارغ ولا يوجد فيه أية معلومات. فلنقم الآن بإضافة بعض الصفوف`\n"
   ]
  },
  {
   "cell_type": "code",
   "execution_count": 24,
   "id": "945ad3ea",
   "metadata": {},
   "outputs": [
    {
     "name": "stdout",
     "output_type": "stream",
     "text": [
      " * sqlite:///My_Forest_DB.db\n",
      "3 rows affected.\n"
     ]
    },
    {
     "data": {
      "text/plain": [
       "[]"
      ]
     },
     "execution_count": 24,
     "metadata": {},
     "output_type": "execute_result"
    }
   ],
   "source": [
    "%%sql\n",
    "\n",
    "INSERT INTO Forests_I_Visited (Forest_index, My_rating, Visit_date)\n",
    "VALUES\n",
    "('F_3' ,10, '2020-10-23'),\n",
    "('F_7' ,8, '2021-01-11'),\n",
    "('F_11' ,9, '2022-06-26')"
   ]
  },
  {
   "cell_type": "markdown",
   "id": "57541d49",
   "metadata": {},
   "source": [
    "`للتحقق من شكل الجدول الآن`\n"
   ]
  },
  {
   "cell_type": "code",
   "execution_count": 25,
   "id": "c6ceaec5",
   "metadata": {},
   "outputs": [
    {
     "name": "stdout",
     "output_type": "stream",
     "text": [
      " * sqlite:///My_Forest_DB.db\n",
      "Done.\n"
     ]
    },
    {
     "data": {
      "text/html": [
       "<table>\n",
       "    <tr>\n",
       "        <th>Forest_index</th>\n",
       "        <th>My_rating</th>\n",
       "        <th>Visit_date</th>\n",
       "    </tr>\n",
       "    <tr>\n",
       "        <td>F_3</td>\n",
       "        <td>10</td>\n",
       "        <td>2020-10-23</td>\n",
       "    </tr>\n",
       "    <tr>\n",
       "        <td>F_7</td>\n",
       "        <td>8</td>\n",
       "        <td>2021-01-11</td>\n",
       "    </tr>\n",
       "    <tr>\n",
       "        <td>F_11</td>\n",
       "        <td>9</td>\n",
       "        <td>2022-06-26</td>\n",
       "    </tr>\n",
       "</table>"
      ],
      "text/plain": [
       "[('F_3', 10, '2020-10-23'),\n",
       " ('F_7', 8, '2021-01-11'),\n",
       " ('F_11', 9, '2022-06-26')]"
      ]
     },
     "execution_count": 25,
     "metadata": {},
     "output_type": "execute_result"
    }
   ],
   "source": [
    "%%sql\n",
    "\n",
    "SELECT * FROM Forests_I_Visited"
   ]
  },
  {
   "cell_type": "markdown",
   "id": "a3133fe6",
   "metadata": {},
   "source": [
    "### `Bonus Step: Relate Between the 2nd and 3rd Tables — خطوة إضافية :ربط بين الجدول الثاني والثالث `"
   ]
  },
  {
   "cell_type": "markdown",
   "id": "db39e27a",
   "metadata": {},
   "source": [
    "`نلاحظ من الجدول الثالث الذي تمت صناعته أن هناك ثلاثة عواميد. رقم الغابة، والتقييم لتجربة زيارة الغابة، وماهو تاريخ زيارة الغابة. ولكن ماذا لو أردنا معرفة ماهي أسماء تلك الغابات؟ هنا تكمن أهمية لغة الإس كيو إل وأنظمة قواعد البيانات في تمكينها لمهندسي وعلماء البيانات من ربط الجداول عن طريق علاقات منطقية. فنستطيع أخذ أرقام الغابات من الجدول الثالث (الغابات التي زرتها)`\n",
    "\n",
    "`Forests_I_Visited`\n",
    "\n",
    "`واستخدامها في الجدول الثاني (غابات المملكة العربية السعودية) أو`\n",
    "\n",
    "`Forests_KSA`\n",
    "\n",
    "`لمعرفة ماهي أسماء تلك الغابات` "
   ]
  },
  {
   "cell_type": "code",
   "execution_count": 26,
   "id": "b03e1112",
   "metadata": {
    "scrolled": true
   },
   "outputs": [
    {
     "name": "stdout",
     "output_type": "stream",
     "text": [
      " * sqlite:///My_Forest_DB.db\n",
      "Done.\n"
     ]
    },
    {
     "data": {
      "text/html": [
       "<table>\n",
       "    <tr>\n",
       "        <th>Forest_Name</th>\n",
       "        <th>My_rating</th>\n",
       "    </tr>\n",
       "    <tr>\n",
       "        <td>غابة الصحن</td>\n",
       "        <td>10</td>\n",
       "    </tr>\n",
       "    <tr>\n",
       "        <td>وادى حرس-هداده</td>\n",
       "        <td>8</td>\n",
       "    </tr>\n",
       "    <tr>\n",
       "        <td>غابات وادى سروم الاعلى</td>\n",
       "        <td>9</td>\n",
       "    </tr>\n",
       "</table>"
      ],
      "text/plain": [
       "[('غابة الصحن', 10), ('وادى حرس-هداده', 8), ('غابات وادى سروم الاعلى', 9)]"
      ]
     },
     "execution_count": 26,
     "metadata": {},
     "output_type": "execute_result"
    }
   ],
   "source": [
    "%%sql\n",
    "\n",
    "Select A.Forest_Name, B.My_rating FROM Forests_KSA AS A, Forests_I_Visited AS B\n",
    "WHERE A.Forest_index = B.Forest_index"
   ]
  },
  {
   "cell_type": "markdown",
   "id": "57e17942",
   "metadata": {},
   "source": [
    "` إن أردنا التخلص من جدول معين. نستطيع استخدام الكود التالي`"
   ]
  },
  {
   "cell_type": "code",
   "execution_count": 27,
   "id": "c375402b",
   "metadata": {},
   "outputs": [
    {
     "name": "stdout",
     "output_type": "stream",
     "text": [
      " * sqlite:///My_Forest_DB.db\n",
      "Done.\n"
     ]
    },
    {
     "data": {
      "text/plain": [
       "[]"
      ]
     },
     "execution_count": 27,
     "metadata": {},
     "output_type": "execute_result"
    }
   ],
   "source": [
    "%%sql\n",
    "DROP TABLE Forests_I_Visited;"
   ]
  },
  {
   "cell_type": "code",
   "execution_count": 28,
   "id": "1ade647c",
   "metadata": {
    "scrolled": true
   },
   "outputs": [
    {
     "name": "stdout",
     "output_type": "stream",
     "text": [
      " * sqlite:///My_Forest_DB.db\n",
      "Done.\n"
     ]
    },
    {
     "data": {
      "text/html": [
       "<table>\n",
       "    <tr>\n",
       "        <th>name</th>\n",
       "    </tr>\n",
       "    <tr>\n",
       "        <td>Afforestation_KSA</td>\n",
       "    </tr>\n",
       "    <tr>\n",
       "        <td>Forests_KSA</td>\n",
       "    </tr>\n",
       "</table>"
      ],
      "text/plain": [
       "[('Afforestation_KSA',), ('Forests_KSA',)]"
      ]
     },
     "execution_count": 28,
     "metadata": {},
     "output_type": "execute_result"
    }
   ],
   "source": [
    "# Checking the current tables in the db - التحقق من الجداول الموجودة حاليا في قاعدة البيانات\n",
    "\n",
    "%sql SELECT name FROM sqlite_master WHERE type='table'"
   ]
  },
  {
   "cell_type": "markdown",
   "id": "86523b96",
   "metadata": {},
   "source": [
    "##  `ماذا تعلمنا؟` \n",
    "#####   `هناك أنواع مختلفة من البيانات، ولكل نوع قاعدة بيانات مناسبة لإدارتها • ` \n",
    "#####     `نقوم بإدارة البيانات في أنظمة قواعد البيانات العلائقية عن طريق لغة • `\n",
    "#####     `SQL `\n",
    "#####     `  نستطيع من خلال لغة الـإس كيو إل استيراد الجداول،  صنعها، تعديلها  أو استدعائها •`\n",
    "#####     ` إن من أهم الميزات في أنظمة قواعد البيانات العلائقية هو القدرة على ربط الجداول سويا عن طريق المنطق مما يفتح الأبواب لآفاق جديدة •`"
   ]
  },
  {
   "cell_type": "markdown",
   "id": "a89a179e",
   "metadata": {},
   "source": [
    "##  `كيف أتعلم لغة الـ`\n",
    "##  `SQL?`\n",
    "\n",
    "`لقد استنتجنا الآن أن لغة الإس كيو إل من أهم اللغات لعلماء البيانات. ولعلك الآن تتساءل عن كيفية اتقان هذه اللغة؟ والجواب هو أن هناك العديد من المصادر المجانية لتعلم هذه اللغة بالكامل.  وربما قد تتساءل أيضا: ماهو نظام إدارة البيانات العلائقية المناسب للتعلم؟ ونصيحتنا هي ألا تشغل بالك فيما يتعلق بإيجاد أي قاعدة بيانات علائقية هي الأفضل. لأنهم متشابهون جدًا، وإن اتقنت استخدام واحدة باستخدام الإس كيو إل سيصبح اتقان الآخير سهلا لأنهم أيضا يستخدمون اللغة `"
   ]
  }
 ],
 "metadata": {
  "kernelspec": {
   "display_name": "Python 3 (ipykernel)",
   "language": "python",
   "name": "python3"
  },
  "language_info": {
   "codemirror_mode": {
    "name": "ipython",
    "version": 3
   },
   "file_extension": ".py",
   "mimetype": "text/x-python",
   "name": "python",
   "nbconvert_exporter": "python",
   "pygments_lexer": "ipython3",
   "version": "3.9.12"
  }
 },
 "nbformat": 4,
 "nbformat_minor": 5
}
