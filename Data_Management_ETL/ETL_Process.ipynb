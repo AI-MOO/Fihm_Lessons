{
 "cells": [
  {
   "cell_type": "markdown",
   "id": "527fa27d",
   "metadata": {},
   "source": [
    "<a href='https://fihm.ai/' target='_blank'><img src='https://i.postimg.cc/Y25KhxPM/q.png' border='0' width = 250 alt='q'/></a>"
   ]
  },
  {
   "cell_type": "markdown",
   "id": "f03ab57f",
   "metadata": {},
   "source": [
    "# `تطبيق عملي لعملية [استخراج، تحويل، تحميل] باستخدام البايثون`\n",
    "# ِ`Practical Implementation of ETL Process with Python`"
   ]
  },
  {
   "cell_type": "markdown",
   "id": "940f40f6",
   "metadata": {},
   "source": [
    "## `مقدمة`\n",
    "`إن إدارة البيانات بشكل إحترافي هو أساس النجاح لأية مشروع في علم البيانات. فقبل أن نتحدث عن نوع الخوارزمية التي نريد استعمالها، أو ماهي معايير تقييم دقة النموذج، علينا أن نتأكد أولا من جودة البيانات وسهولة الوصول إليها. في هذا الدرس سنتطرق إلى أحد أهم العمليات في إدارة البيانات والتي تعرف بعملية الاستخراج، ثم التحويل، ثم التحميل (الإي تي إل). هذه العملية تهدف إلى استخراج البيانات من مصادر متعددة، ثم إجراء عمليات التحويل اللازمة، ثم تحميلها إلى قاعدة البيانات، من أجل ضمان سهولة وسرعة الوصول إلى البيانات من قبل محللي البيانات وأصحاب القرار`\n"
   ]
  },
  {
   "cell_type": "markdown",
   "id": "50c3a21f",
   "metadata": {},
   "source": [
    "##  `أهداف الدرس` \n",
    "#####   `قراءة الملفات بالصيغ التالية • `\n",
    "#####  `(JSON,CSV, XML)`\n",
    "#####     ` استخراج البيانات من هذه الملفات و إجراء التحويلات اللازمة •`\n",
    "#####     ` جمع الملفات بملف واحد قابل للتحميل على قاعدة البيانات •`"
   ]
  },
  {
   "cell_type": "markdown",
   "id": "fa485234",
   "metadata": {},
   "source": [
    "##  `ماذا نريد أن نفعل؟` \n",
    "#####   `أولا: هناك تسع ملفات مختلفة تحتوي على اسم، طول، ووزن العميل • ` \n",
    "#####     `ثانيا: صيغ الملفات هي سي إس في، جيسون، إكس إم إل. إذا، نحتاج أن ننشئ وظيفة مخصصة لكل نوع من أجل قراءة البيانات من هذه الملفات •` \n",
    "#####     `ثالثا: نلاحظ أيضا أن وزن العميل مسجل بالباوند، سنقوم بإجراء تحويل لقيمة الوزن من الباوند إلى الكيلوجرام •`\n",
    "##### `أخيرا: نجمع جميع البيانات في ملف سي إس في واحد من أجل تحميله في قاعدة البيانات •`"
   ]
  },
  {
   "cell_type": "markdown",
   "id": "69463248",
   "metadata": {},
   "source": [
    "### `Step one: Import necessary libraries — الخطوة الأولى: استدعاء المكتبات اللازمة`"
   ]
  },
  {
   "cell_type": "code",
   "execution_count": 1,
   "id": "e576a3d5",
   "metadata": {},
   "outputs": [],
   "source": [
    "import glob                         # To select files that encompass data. لتحديد الملفات المراد استخراج البيانات منها \n",
    "import pandas as pd                 # To read CSV and JSON files. لقراءة ملفات السي إس في والجيسون\n",
    "import xml.etree.ElementTree as ET  # To read XML files. لقراءة ملفات الإكس إم إل\n",
    "from datetime import datetime       # To log the dates of ETL steps. لتسجيل توقيت العمليات"
   ]
  },
  {
   "cell_type": "markdown",
   "id": "0353b6ce",
   "metadata": {},
   "source": [
    "### `Step two: Extract data from various sources — الخطوة الثانية: استخراج البيانات من مصادر متعددة `"
   ]
  },
  {
   "cell_type": "markdown",
   "id": "3d0a1f4f",
   "metadata": {},
   "source": [
    "`كما هو واضح أمامنا، لدينا تسع ملفات بثلاث صيغ مختلفة. هذه الملفات تحتوي على معلومات العملاء، مهمتنا هي إخراج البيانات منها وجمعها في ملف واحد`"
   ]
  },
  {
   "cell_type": "markdown",
   "id": "13c273a4",
   "metadata": {},
   "source": [
    "<img src=\"https://i.ibb.co/7QphMfQ/different-sources.png\" alt=\"drawing\" width=\"600\"/>"
   ]
  },
  {
   "cell_type": "markdown",
   "id": "1ae0fefe",
   "metadata": {},
   "source": [
    "#### ` ETL  نقوم الآن بإنشاء الملفات والوظائف التي سوف نستخدمها في عملية الـ`\n",
    "\n",
    "`إن الكود البرمجي في الأسفل مسؤول عن إنشاء ملفين. الملف الأول هو ملف سنقوم بتسجيل تواريخ ومواعيد العمليات فيه. والملف الثاني هو الملف الذي سوف نضع فيه البيانات بعد جمعها وتحويلها`"
   ]
  },
  {
   "cell_type": "code",
   "execution_count": 2,
   "id": "760fd85a",
   "metadata": {},
   "outputs": [],
   "source": [
    "logfile    = \"logfile.txt\"            # The event logs will be written in this file. سوف يتم تسجيل مواعيد العمليات في هذا الملف\n",
    "targetfile = \"transformed_data.csv\"   # The final file that includes all of the processed data. الملف النهائي الذي يحتوي على البيانات المعالجة"
   ]
  },
  {
   "cell_type": "markdown",
   "id": "9548250c",
   "metadata": {},
   "source": [
    "#### `Function1: CSV data extraction — استخراج البيانات من ملفات السي إس في`"
   ]
  },
  {
   "cell_type": "code",
   "execution_count": 3,
   "id": "c8a0f29f",
   "metadata": {},
   "outputs": [],
   "source": [
    "# CSV extraction code is straightforward — نستطيع كتابة كود استخراج البيانات من السي اس في بطريقة مباشرة\n",
    "def extract_from_csv(file_to_process):\n",
    "    dataframe = pd.read_csv(file_to_process)\n",
    "    return dataframe"
   ]
  },
  {
   "cell_type": "markdown",
   "id": "394eeb97",
   "metadata": {},
   "source": [
    "#### `Function2: JSON data extraction — استخراج البيانات من ملفات الجيسون ` "
   ]
  },
  {
   "cell_type": "code",
   "execution_count": 4,
   "id": "4a170664",
   "metadata": {},
   "outputs": [],
   "source": [
    "# JSON extraction is also straightforward — استخراج البيانات من ملف الجيسون أيضا يمكن تطبيقه بطريقة مباشرة\n",
    "def extract_from_json(file_to_process):\n",
    "    dataframe = pd.read_json(file_to_process, lines=True)\n",
    "    return dataframe"
   ]
  },
  {
   "cell_type": "markdown",
   "id": "6af42e64",
   "metadata": {},
   "source": [
    "#### `Function3: XML data extraction — استخراج البيانات من ملفات الإكس إم إل `"
   ]
  },
  {
   "cell_type": "code",
   "execution_count": 5,
   "id": "ccc5c69c",
   "metadata": {},
   "outputs": [],
   "source": [
    "# In XML files, we need to be more specific in our code to extract correct information.\n",
    "# عند استخراج البيانات من ملفات الإكس إم إل، نحتاج إلى كتابة أكواد محددة تتناسب مع البيانات المتواجدة في ملف الإكس إم إل \n",
    "\n",
    "def extract_from_xml(file_to_process):\n",
    "    dataframe = pd.DataFrame(columns=[\"name\", \"height\", \"weight\"])\n",
    "    tree = ET.parse(file_to_process)\n",
    "    root = tree.getroot()\n",
    "    for person in root:\n",
    "        name = person.find(\"name\").text\n",
    "        height = float(person.find(\"height\").text)\n",
    "        weight = float(person.find(\"weight\").text)\n",
    "        xml_df = pd.DataFrame({\"name\":[name], \"height\":[height], \"weight\":[weight]})\n",
    "        dataframe = pd.concat([dataframe,xml_df],ignore_index = True)\n",
    "    return dataframe"
   ]
  },
  {
   "cell_type": "markdown",
   "id": "136b0e94",
   "metadata": {},
   "source": [
    "#### `Function4: Extract process — عملية الاستخراج `"
   ]
  },
  {
   "cell_type": "code",
   "execution_count": 6,
   "id": "8dab2ea1",
   "metadata": {},
   "outputs": [],
   "source": [
    "# We will define a function that runs all the previous extractions functions \n",
    "# سنقوم بتعريف وظيفة تقوم بتشغيل جميع الوظائف التي تم تعريفها مسبقا\n",
    "def extract(): \n",
    "    \n",
    "    #  We will create an empty dataframe to hold extracted data\n",
    "    #  سنقوم بعمل إطار بيانات فارغ ونقوم بجمع البيانات فيه\n",
    "    extracted_data = pd.DataFrame(columns=['name','height','weight']) # The dataframe has 3 columns - اطار البيانات الذي نريد وضع البيانات فيه يحتوي على ثلاثة عواميد\n",
    "    \n",
    "    # We loop through all the csv files in the working directory\n",
    "    # نقوم بزيارة جميع ملفات السي إس في الموجودة في مسار العمل (أي المسار الذي فيه الملفات حاليا)\n",
    "    for csvfile in glob.glob(\"*.csv\"): \n",
    "        \n",
    "        # We read the csv file, and add its data to the 'extracted_data' dataframe\n",
    "        # 'extracted_data' نقوم بقراءة البيانات وإضافتها إلى إطار البيانات الذي نريد تجميع البيانات فيه\n",
    "        extracted_data = pd.concat([extracted_data, extract_from_csv(csvfile)], ignore_index=True) \n",
    "        \n",
    "    # We repeat the same process for json and xml files\n",
    "    # نقوم بإعادة نفس العملية لملفات الجيسون والإكس إم إل\n",
    "    for jsonfile in glob.glob(\"*.json\"):\n",
    "        extracted_data = pd.concat([extracted_data, extract_from_json(jsonfile)], ignore_index=True)\n",
    "        \n",
    "    for xmlfile in glob.glob(\"*.xml\"):\n",
    "        extracted_data = pd.concat([extracted_data, extract_from_xml(xmlfile)], ignore_index=True)\n",
    "        \n",
    "    return extracted_data"
   ]
  },
  {
   "cell_type": "code",
   "execution_count": 7,
   "id": "ba994878",
   "metadata": {},
   "outputs": [
    {
     "name": "stdout",
     "output_type": "stream",
     "text": [
      "/Users/salahkaf/Desktop\r\n"
     ]
    }
   ],
   "source": [
    "# if you don't know what is your current working directory, run this line\n",
    "# إن كنت لا تعلم ماهو مسار العمل الحالي لديك، شغل الكود الذي بالأسفل\n",
    "!pwd\n",
    "# Make sure to place data files in the same working directory path\n",
    "# تأكد من أن جميع ملفات البيانات موجودة في مسار العمل الذي ظهر لك"
   ]
  },
  {
   "cell_type": "markdown",
   "id": "1df403e1",
   "metadata": {},
   "source": [
    "### `Step three: Transform data — الخطوة الثالثة: إجراء التحويلات اللازمة على البيانات`"
   ]
  },
  {
   "cell_type": "markdown",
   "id": "4ea5f2f5",
   "metadata": {},
   "source": [
    "#### `Function 5: Transform process — عملية التحويل `"
   ]
  },
  {
   "cell_type": "code",
   "execution_count": 8,
   "id": "537b9125",
   "metadata": {},
   "outputs": [],
   "source": [
    "def transform(data):\n",
    "    \n",
    "        # Convert the datatype of the column into float\n",
    "        # سنقوم بتحويل نوع عامودي الطول والوزن إلى النوع فلوت (أرقام تحتوي على فواصل)\n",
    "        data[['height','weight']] = data[['height','weight']].astype(float) \n",
    "        \n",
    "        # Convert pounds to kilograms and round off to two decimals(one pound is 0.453592 kilograms)\n",
    "        # نقوم بضرب الوزن بقيمة 0.453592 ثم نقرب الرقم إلى أقرب جزء من مئة\n",
    "        data['weight'] = round(data.weight * 0.453592,2)\n",
    "        return data"
   ]
  },
  {
   "cell_type": "markdown",
   "id": "9d4ec6bf",
   "metadata": {},
   "source": [
    "### `Step four: Load data — الخطوة الرابعة: تحميل البيانات`\n",
    "#### `Function 6: Load process — عملية التحميل`"
   ]
  },
  {
   "cell_type": "code",
   "execution_count": 9,
   "id": "238db086",
   "metadata": {},
   "outputs": [],
   "source": [
    "def load(targetfile,data_to_load): \n",
    "    # We take the final dataframe that includes the combined and transformed data, and save it in the target file\n",
    "    #  سوف نقوم بأخذ إطار البيانات الذي يحتوي على البيانات المجمعة والمحولة، وحفظه في ملف السي إس في المنشأ سابقا \n",
    "    data_to_load.to_csv(targetfile)  "
   ]
  },
  {
   "cell_type": "markdown",
   "id": "555c5a8c",
   "metadata": {},
   "source": [
    "### `Step five: Deploy ETL — ETLالخطوة الخامسة: تنفيذ عملية الـ`"
   ]
  },
  {
   "cell_type": "markdown",
   "id": "63bef9f3",
   "metadata": {},
   "source": [
    "`إنه من المعتاد أتمتة عملية الإي تي إل، ولذلك يستحسن القيام بعمل برنامج يقوم بتسجيل كل خطوة حصلت وموعد حصولها من أجل مراقبة الأداء وتحديد الأخطاء إن وجدت`\n",
    "\n",
    "#### `Function 7: logging process — عملية التسجيل`"
   ]
  },
  {
   "cell_type": "code",
   "execution_count": 10,
   "id": "5dfe847c",
   "metadata": {},
   "outputs": [],
   "source": [
    "# We will define a logging function to keep tracking ETL steps\n",
    "# هذه الوظيفة ستقوم بتسجيل توقيت حدوث كل عملية من عمليات الـإي تي إل\n",
    "\n",
    "def log(message):\n",
    "    timestamp_format = '%Y-%h-%d-%H:%M:%S' # Year-Monthname-Day-Hour-Minute-Second\n",
    "    now = datetime.now() # get current timestamp - أخذ الوقت الحالي\n",
    "    timestamp = now.strftime(timestamp_format)\n",
    "    \n",
    "    # We create a txt file to write the loggings in it.\n",
    "    # نقوم بكتابة التواريخ والأوقات في ملف التكست المنشأ سابقا \n",
    "    with open(\"logfile.txt\",\"a\") as log:\n",
    "        log.write(timestamp + ',' + message + '\\n')"
   ]
  },
  {
   "cell_type": "markdown",
   "id": "d18ef5bb",
   "metadata": {},
   "source": [
    "### `ETL starts - بدأ عملية الإي تي إل`"
   ]
  },
  {
   "cell_type": "code",
   "execution_count": 11,
   "id": "90df683e",
   "metadata": {},
   "outputs": [],
   "source": [
    "log(\"ETL Job Started\") # Log the start time — تسجيل وقت البداية"
   ]
  },
  {
   "cell_type": "code",
   "execution_count": 12,
   "id": "2f815e2a",
   "metadata": {
    "scrolled": true
   },
   "outputs": [
    {
     "data": {
      "text/html": [
       "<div>\n",
       "<style scoped>\n",
       "    .dataframe tbody tr th:only-of-type {\n",
       "        vertical-align: middle;\n",
       "    }\n",
       "\n",
       "    .dataframe tbody tr th {\n",
       "        vertical-align: top;\n",
       "    }\n",
       "\n",
       "    .dataframe thead th {\n",
       "        text-align: right;\n",
       "    }\n",
       "</style>\n",
       "<table border=\"1\" class=\"dataframe\">\n",
       "  <thead>\n",
       "    <tr style=\"text-align: right;\">\n",
       "      <th></th>\n",
       "      <th>name</th>\n",
       "      <th>height</th>\n",
       "      <th>weight</th>\n",
       "    </tr>\n",
       "  </thead>\n",
       "  <tbody>\n",
       "    <tr>\n",
       "      <th>0</th>\n",
       "      <td>Ahmed</td>\n",
       "      <td>1.82</td>\n",
       "      <td>172.99</td>\n",
       "    </tr>\n",
       "    <tr>\n",
       "      <th>1</th>\n",
       "      <td>Salah</td>\n",
       "      <td>1.73</td>\n",
       "      <td>156.49</td>\n",
       "    </tr>\n",
       "    <tr>\n",
       "      <th>2</th>\n",
       "      <td>Khalid</td>\n",
       "      <td>1.71</td>\n",
       "      <td>203.03</td>\n",
       "    </tr>\n",
       "    <tr>\n",
       "      <th>3</th>\n",
       "      <td>Nasser</td>\n",
       "      <td>1.48</td>\n",
       "      <td>142.34</td>\n",
       "    </tr>\n",
       "    <tr>\n",
       "      <th>4</th>\n",
       "      <td>Abdallah</td>\n",
       "      <td>1.75</td>\n",
       "      <td>184.3</td>\n",
       "    </tr>\n",
       "  </tbody>\n",
       "</table>\n",
       "</div>"
      ],
      "text/plain": [
       "       name height  weight\n",
       "0     Ahmed   1.82  172.99\n",
       "1     Salah   1.73  156.49\n",
       "2    Khalid   1.71  203.03\n",
       "3    Nasser   1.48  142.34\n",
       "4  Abdallah   1.75   184.3"
      ]
     },
     "metadata": {},
     "output_type": "display_data"
    }
   ],
   "source": [
    "log(\"Extract phase Started\") # Log 'the extraction has started' — تسجيل أن عملية الاستخراج بدأت\n",
    "extracted_data = extract()\n",
    "log(\"Extract phase Ended\") # Log 'the extraction has ended' — تسجيل أن عملية الاستخراج انتهت\n",
    "\n",
    "display(extracted_data.head()) "
   ]
  },
  {
   "cell_type": "markdown",
   "id": "8ad392fd",
   "metadata": {},
   "source": [
    "`نلاحظ أن البيانات قد استخرجت، ولكن ما زلنا نحتاج إلى تحويل عامود الوزن`"
   ]
  },
  {
   "cell_type": "code",
   "execution_count": 13,
   "id": "3b664530",
   "metadata": {
    "scrolled": true
   },
   "outputs": [
    {
     "data": {
      "text/html": [
       "<div>\n",
       "<style scoped>\n",
       "    .dataframe tbody tr th:only-of-type {\n",
       "        vertical-align: middle;\n",
       "    }\n",
       "\n",
       "    .dataframe tbody tr th {\n",
       "        vertical-align: top;\n",
       "    }\n",
       "\n",
       "    .dataframe thead th {\n",
       "        text-align: right;\n",
       "    }\n",
       "</style>\n",
       "<table border=\"1\" class=\"dataframe\">\n",
       "  <thead>\n",
       "    <tr style=\"text-align: right;\">\n",
       "      <th></th>\n",
       "      <th>name</th>\n",
       "      <th>height</th>\n",
       "      <th>weight</th>\n",
       "    </tr>\n",
       "  </thead>\n",
       "  <tbody>\n",
       "    <tr>\n",
       "      <th>0</th>\n",
       "      <td>Ahmed</td>\n",
       "      <td>1.82</td>\n",
       "      <td>78.47</td>\n",
       "    </tr>\n",
       "    <tr>\n",
       "      <th>1</th>\n",
       "      <td>Salah</td>\n",
       "      <td>1.73</td>\n",
       "      <td>70.98</td>\n",
       "    </tr>\n",
       "    <tr>\n",
       "      <th>2</th>\n",
       "      <td>Khalid</td>\n",
       "      <td>1.71</td>\n",
       "      <td>92.09</td>\n",
       "    </tr>\n",
       "    <tr>\n",
       "      <th>3</th>\n",
       "      <td>Nasser</td>\n",
       "      <td>1.48</td>\n",
       "      <td>64.56</td>\n",
       "    </tr>\n",
       "    <tr>\n",
       "      <th>4</th>\n",
       "      <td>Abdallah</td>\n",
       "      <td>1.75</td>\n",
       "      <td>83.60</td>\n",
       "    </tr>\n",
       "  </tbody>\n",
       "</table>\n",
       "</div>"
      ],
      "text/plain": [
       "       name  height  weight\n",
       "0     Ahmed    1.82   78.47\n",
       "1     Salah    1.73   70.98\n",
       "2    Khalid    1.71   92.09\n",
       "3    Nasser    1.48   64.56\n",
       "4  Abdallah    1.75   83.60"
      ]
     },
     "execution_count": 13,
     "metadata": {},
     "output_type": "execute_result"
    }
   ],
   "source": [
    "log(\"Transform phase Started\") # Log 'the transformation has started' — تسجيل أن عملية التحويل بدأت\n",
    "transformed_data = transform(extracted_data) \n",
    "log(\"Transform phase Ended\") # Log 'the transformation has ended' — تسجيل أن عملية التحويل انتهت\n",
    "transformed_data.head()"
   ]
  },
  {
   "cell_type": "markdown",
   "id": "61564e8a",
   "metadata": {},
   "source": [
    "`الآن نحتاج فقط إلى حفظ إطار البيانات الجديد في ملف سي إس في لكي نستطيع لاحقا رفعه على قاعدة البيانات`"
   ]
  },
  {
   "cell_type": "code",
   "execution_count": 14,
   "id": "7eccd3ec",
   "metadata": {},
   "outputs": [],
   "source": [
    "log(\"Load phase Started\") # Log 'the loading has started' — تسجيل أن عملية التحميل بدأت\n",
    "load(targetfile,transformed_data)\n",
    "log(\"Load phase Ended\") # Log 'the loading has ended' — تسجيل أن عملية التحميل انتهت"
   ]
  },
  {
   "cell_type": "code",
   "execution_count": 15,
   "id": "8b0dcb6b",
   "metadata": {},
   "outputs": [],
   "source": [
    "log(\"ETL Job Ended\") # Log 'the ETL has ended' — تسجيل أن عملية الإي تي إل انتهت"
   ]
  },
  {
   "cell_type": "markdown",
   "id": "93e58881",
   "metadata": {},
   "source": [
    "`نستطيع الآن التحقق من النتائج`"
   ]
  },
  {
   "cell_type": "code",
   "execution_count": 16,
   "id": "3416890d",
   "metadata": {
    "scrolled": true
   },
   "outputs": [
    {
     "data": {
      "text/html": [
       "<div>\n",
       "<style scoped>\n",
       "    .dataframe tbody tr th:only-of-type {\n",
       "        vertical-align: middle;\n",
       "    }\n",
       "\n",
       "    .dataframe tbody tr th {\n",
       "        vertical-align: top;\n",
       "    }\n",
       "\n",
       "    .dataframe thead th {\n",
       "        text-align: right;\n",
       "    }\n",
       "</style>\n",
       "<table border=\"1\" class=\"dataframe\">\n",
       "  <thead>\n",
       "    <tr style=\"text-align: right;\">\n",
       "      <th></th>\n",
       "      <th>name</th>\n",
       "      <th>height</th>\n",
       "      <th>weight</th>\n",
       "    </tr>\n",
       "  </thead>\n",
       "  <tbody>\n",
       "    <tr>\n",
       "      <th>0</th>\n",
       "      <td>Ahmed</td>\n",
       "      <td>1.82</td>\n",
       "      <td>78.47</td>\n",
       "    </tr>\n",
       "    <tr>\n",
       "      <th>1</th>\n",
       "      <td>Salah</td>\n",
       "      <td>1.73</td>\n",
       "      <td>70.98</td>\n",
       "    </tr>\n",
       "    <tr>\n",
       "      <th>2</th>\n",
       "      <td>Khalid</td>\n",
       "      <td>1.71</td>\n",
       "      <td>92.09</td>\n",
       "    </tr>\n",
       "    <tr>\n",
       "      <th>3</th>\n",
       "      <td>Nasser</td>\n",
       "      <td>1.48</td>\n",
       "      <td>64.56</td>\n",
       "    </tr>\n",
       "    <tr>\n",
       "      <th>4</th>\n",
       "      <td>Abdallah</td>\n",
       "      <td>1.75</td>\n",
       "      <td>83.60</td>\n",
       "    </tr>\n",
       "  </tbody>\n",
       "</table>\n",
       "</div>"
      ],
      "text/plain": [
       "       name  height  weight\n",
       "0     Ahmed    1.82   78.47\n",
       "1     Salah    1.73   70.98\n",
       "2    Khalid    1.71   92.09\n",
       "3    Nasser    1.48   64.56\n",
       "4  Abdallah    1.75   83.60"
      ]
     },
     "metadata": {},
     "output_type": "display_data"
    },
    {
     "data": {
      "text/html": [
       "<div>\n",
       "<style scoped>\n",
       "    .dataframe tbody tr th:only-of-type {\n",
       "        vertical-align: middle;\n",
       "    }\n",
       "\n",
       "    .dataframe tbody tr th {\n",
       "        vertical-align: top;\n",
       "    }\n",
       "\n",
       "    .dataframe thead th {\n",
       "        text-align: right;\n",
       "    }\n",
       "</style>\n",
       "<table border=\"1\" class=\"dataframe\">\n",
       "  <thead>\n",
       "    <tr style=\"text-align: right;\">\n",
       "      <th></th>\n",
       "      <th>name</th>\n",
       "      <th>height</th>\n",
       "      <th>weight</th>\n",
       "    </tr>\n",
       "  </thead>\n",
       "  <tbody>\n",
       "    <tr>\n",
       "      <th>34</th>\n",
       "      <td>Hazem</td>\n",
       "      <td>1.78</td>\n",
       "      <td>60.89</td>\n",
       "    </tr>\n",
       "    <tr>\n",
       "      <th>35</th>\n",
       "      <td>Fahad</td>\n",
       "      <td>1.72</td>\n",
       "      <td>78.19</td>\n",
       "    </tr>\n",
       "    <tr>\n",
       "      <th>36</th>\n",
       "      <td>Yaqoub</td>\n",
       "      <td>1.68</td>\n",
       "      <td>68.34</td>\n",
       "    </tr>\n",
       "    <tr>\n",
       "      <th>37</th>\n",
       "      <td>Shahad</td>\n",
       "      <td>1.58</td>\n",
       "      <td>60.53</td>\n",
       "    </tr>\n",
       "    <tr>\n",
       "      <th>38</th>\n",
       "      <td>Maha</td>\n",
       "      <td>1.55</td>\n",
       "      <td>65.38</td>\n",
       "    </tr>\n",
       "  </tbody>\n",
       "</table>\n",
       "</div>"
      ],
      "text/plain": [
       "      name  height  weight\n",
       "34   Hazem    1.78   60.89\n",
       "35   Fahad    1.72   78.19\n",
       "36  Yaqoub    1.68   68.34\n",
       "37  Shahad    1.58   60.53\n",
       "38    Maha    1.55   65.38"
      ]
     },
     "metadata": {},
     "output_type": "display_data"
    }
   ],
   "source": [
    "display(transformed_data.head())\n",
    "display(transformed_data.tail())"
   ]
  },
  {
   "cell_type": "code",
   "execution_count": 17,
   "id": "9c9877a5",
   "metadata": {},
   "outputs": [
    {
     "data": {
      "text/html": [
       "<div>\n",
       "<style scoped>\n",
       "    .dataframe tbody tr th:only-of-type {\n",
       "        vertical-align: middle;\n",
       "    }\n",
       "\n",
       "    .dataframe tbody tr th {\n",
       "        vertical-align: top;\n",
       "    }\n",
       "\n",
       "    .dataframe thead th {\n",
       "        text-align: right;\n",
       "    }\n",
       "</style>\n",
       "<table border=\"1\" class=\"dataframe\">\n",
       "  <thead>\n",
       "    <tr style=\"text-align: right;\">\n",
       "      <th></th>\n",
       "      <th>count</th>\n",
       "      <th>mean</th>\n",
       "      <th>std</th>\n",
       "      <th>min</th>\n",
       "      <th>25%</th>\n",
       "      <th>50%</th>\n",
       "      <th>75%</th>\n",
       "      <th>max</th>\n",
       "    </tr>\n",
       "  </thead>\n",
       "  <tbody>\n",
       "    <tr>\n",
       "      <th>height</th>\n",
       "      <td>39.0</td>\n",
       "      <td>1.682564</td>\n",
       "      <td>0.107550</td>\n",
       "      <td>1.44</td>\n",
       "      <td>1.620</td>\n",
       "      <td>1.70</td>\n",
       "      <td>1.75</td>\n",
       "      <td>1.90</td>\n",
       "    </tr>\n",
       "    <tr>\n",
       "      <th>weight</th>\n",
       "      <td>39.0</td>\n",
       "      <td>69.995641</td>\n",
       "      <td>13.865491</td>\n",
       "      <td>51.39</td>\n",
       "      <td>60.675</td>\n",
       "      <td>67.72</td>\n",
       "      <td>78.33</td>\n",
       "      <td>115.35</td>\n",
       "    </tr>\n",
       "  </tbody>\n",
       "</table>\n",
       "</div>"
      ],
      "text/plain": [
       "        count       mean        std    min     25%    50%    75%     max\n",
       "height   39.0   1.682564   0.107550   1.44   1.620   1.70   1.75    1.90\n",
       "weight   39.0  69.995641  13.865491  51.39  60.675  67.72  78.33  115.35"
      ]
     },
     "metadata": {},
     "output_type": "display_data"
    },
    {
     "name": "stdout",
     "output_type": "stream",
     "text": [
      "<class 'pandas.core.frame.DataFrame'>\n",
      "RangeIndex: 39 entries, 0 to 38\n",
      "Data columns (total 3 columns):\n",
      " #   Column  Non-Null Count  Dtype  \n",
      "---  ------  --------------  -----  \n",
      " 0   name    39 non-null     object \n",
      " 1   height  39 non-null     float64\n",
      " 2   weight  39 non-null     float64\n",
      "dtypes: float64(2), object(1)\n",
      "memory usage: 1.0+ KB\n"
     ]
    },
    {
     "data": {
      "text/plain": [
       "None"
      ]
     },
     "metadata": {},
     "output_type": "display_data"
    }
   ],
   "source": [
    "display(transformed_data.describe().T)\n",
    "display(transformed_data.info())"
   ]
  },
  {
   "cell_type": "markdown",
   "id": "4a33da0b",
   "metadata": {},
   "source": [
    "` نستطيع أيضاالتحقق من مواعيد العمليات وإذا ما اكتملت المهمات بالفعل `"
   ]
  },
  {
   "cell_type": "code",
   "execution_count": 18,
   "id": "7c3083c9",
   "metadata": {
    "scrolled": true
   },
   "outputs": [
    {
     "name": "stdout",
     "output_type": "stream",
     "text": [
      "2022-Oct-03-11:57:22,ETL Job Started\n",
      "2022-Oct-03-11:57:22,Extract phase Started\n",
      "2022-Oct-03-11:57:23,Extract phase Ended\n",
      "2022-Oct-03-11:57:23,Transform phase Started\n",
      "2022-Oct-03-11:57:23,Transform phase Ended\n",
      "2022-Oct-03-11:57:23,Load phase Started\n",
      "2022-Oct-03-11:57:23,Load phase Ended\n",
      "2022-Oct-03-11:57:23,ETL Job Ended\n",
      "\n"
     ]
    }
   ],
   "source": [
    "# Open the file in \"read\" mode ('r') \n",
    "with open('logfile.txt', 'r') as text:\n",
    "    textfile = text.read()\n",
    "print(textfile)"
   ]
  },
  {
   "cell_type": "markdown",
   "id": "ff79e107",
   "metadata": {},
   "source": [
    "### `Bonus Step: Analyze data — خطوة إضافية: تحليل البيانات `\n",
    "`الآن وبعد أن تم جمع البيانات في جدول واحد منظم. نستطيع إجراء بعض التحليلات الاسكتشافية والمعروفة بـ`\n",
    "\n",
    "`Exploratory Data Analysis (EDA)`"
   ]
  },
  {
   "cell_type": "code",
   "execution_count": 19,
   "id": "f1fa4333",
   "metadata": {
    "scrolled": true
   },
   "outputs": [
    {
     "data": {
      "text/html": [
       "<div>\n",
       "<style scoped>\n",
       "    .dataframe tbody tr th:only-of-type {\n",
       "        vertical-align: middle;\n",
       "    }\n",
       "\n",
       "    .dataframe tbody tr th {\n",
       "        vertical-align: top;\n",
       "    }\n",
       "\n",
       "    .dataframe thead th {\n",
       "        text-align: right;\n",
       "    }\n",
       "</style>\n",
       "<table border=\"1\" class=\"dataframe\">\n",
       "  <thead>\n",
       "    <tr style=\"text-align: right;\">\n",
       "      <th></th>\n",
       "      <th>name</th>\n",
       "      <th>height</th>\n",
       "      <th>weight</th>\n",
       "      <th>gender</th>\n",
       "    </tr>\n",
       "  </thead>\n",
       "  <tbody>\n",
       "    <tr>\n",
       "      <th>13</th>\n",
       "      <td>Najwa</td>\n",
       "      <td>1.68</td>\n",
       "      <td>53.22</td>\n",
       "      <td>F</td>\n",
       "    </tr>\n",
       "    <tr>\n",
       "      <th>35</th>\n",
       "      <td>Fahad</td>\n",
       "      <td>1.72</td>\n",
       "      <td>78.19</td>\n",
       "      <td>M</td>\n",
       "    </tr>\n",
       "    <tr>\n",
       "      <th>23</th>\n",
       "      <td>Hind</td>\n",
       "      <td>1.44</td>\n",
       "      <td>54.11</td>\n",
       "      <td>F</td>\n",
       "    </tr>\n",
       "    <tr>\n",
       "      <th>30</th>\n",
       "      <td>Noha</td>\n",
       "      <td>1.62</td>\n",
       "      <td>60.82</td>\n",
       "      <td>F</td>\n",
       "    </tr>\n",
       "    <tr>\n",
       "      <th>33</th>\n",
       "      <td>Kholod</td>\n",
       "      <td>1.53</td>\n",
       "      <td>57.81</td>\n",
       "      <td>F</td>\n",
       "    </tr>\n",
       "    <tr>\n",
       "      <th>3</th>\n",
       "      <td>Nasser</td>\n",
       "      <td>1.48</td>\n",
       "      <td>64.56</td>\n",
       "      <td>M</td>\n",
       "    </tr>\n",
       "    <tr>\n",
       "      <th>0</th>\n",
       "      <td>Ahmed</td>\n",
       "      <td>1.82</td>\n",
       "      <td>78.47</td>\n",
       "      <td>M</td>\n",
       "    </tr>\n",
       "    <tr>\n",
       "      <th>14</th>\n",
       "      <td>Talal</td>\n",
       "      <td>1.54</td>\n",
       "      <td>56.38</td>\n",
       "      <td>M</td>\n",
       "    </tr>\n",
       "    <tr>\n",
       "      <th>29</th>\n",
       "      <td>Mossab</td>\n",
       "      <td>1.79</td>\n",
       "      <td>80.49</td>\n",
       "      <td>M</td>\n",
       "    </tr>\n",
       "    <tr>\n",
       "      <th>34</th>\n",
       "      <td>Hazem</td>\n",
       "      <td>1.78</td>\n",
       "      <td>60.89</td>\n",
       "      <td>M</td>\n",
       "    </tr>\n",
       "  </tbody>\n",
       "</table>\n",
       "</div>"
      ],
      "text/plain": [
       "      name  height  weight gender\n",
       "13   Najwa    1.68   53.22      F\n",
       "35   Fahad    1.72   78.19      M\n",
       "23    Hind    1.44   54.11      F\n",
       "30    Noha    1.62   60.82      F\n",
       "33  Kholod    1.53   57.81      F\n",
       "3   Nasser    1.48   64.56      M\n",
       "0    Ahmed    1.82   78.47      M\n",
       "14   Talal    1.54   56.38      M\n",
       "29  Mossab    1.79   80.49      M\n",
       "34   Hazem    1.78   60.89      M"
      ]
     },
     "execution_count": 19,
     "metadata": {},
     "output_type": "execute_result"
    }
   ],
   "source": [
    "# We have the following list that identify the gender of each customer.\n",
    "# لدينا الآن قائمة إضافية تحتوي على معلومات عن جنس العميل (ذكر أو أنثى)\n",
    "gender = ['M','M','M','M','M','M','M','M','M','M','M','M','M','F','M','F','F','F','F','F','F','F','F','F','F','F','F'\n",
    "         ,'F','M','M','F','M','M','F','M','M','M','F','F']\n",
    "\n",
    "# We add the list as a column as follows\n",
    "# نقوم بإضافة القائمة إلى الجدول كالتالي\n",
    "transformed_data['gender'] = gender\n",
    "transformed_data.sample(10) # We pull 10 random columns to check - نقوم بسحب عشرة عواميد بشكل عشوائي للتأكد من صحة الكود"
   ]
  },
  {
   "cell_type": "code",
   "execution_count": 20,
   "id": "345f0887",
   "metadata": {},
   "outputs": [
    {
     "data": {
      "image/png": "[encoded data removed]",
      "text/plain": [
       "<Figure size 720x432 with 1 Axes>"
      ]
     },
     "metadata": {
      "needs_background": "light"
     },
     "output_type": "display_data"
    }
   ],
   "source": [
    "# We will import two libraries to do EDA via plotting\n",
    "# سنقوم باستداعاء مكتبتين إضافيتين من أجل تحليل استكشافي عن طريق الرسم\n",
    "\n",
    "import matplotlib.pyplot as plt # Used for plotting - ستستخدم من أجل الرسم\n",
    "import numpy as np # Used to specify yticks - ستستخدم من أجل تحديد مؤشرات خط ص (او المعروف بواي أكسيس)\n",
    "\n",
    "# First we wrtie the plotting code - نقوم بكتابة كود الرسم\n",
    "transformed_data.gender.value_counts().plot(kind = 'bar',figsize=(10,6), color = ['teal','darkred']) \n",
    "# Then, we specify labels - ثم نقوم بكتابة العناوين\n",
    "plt.title(\"Customer's Gender Distribution\") # Plot title - عنوان الرسمة\n",
    "plt.xlabel('Gender') # X-axis title - عنوان خط س\n",
    "plt.ylabel('Number of Customers'); # Y-axis title - عنوان خط ص\n",
    "plt.yticks(np.arange(1, 25, 1)); # Specify number of ticks on y axis - تحديد عدد المؤشرات على خط ص\n",
    "\n"
   ]
  },
  {
   "cell_type": "markdown",
   "id": "171bb641",
   "metadata": {},
   "source": [
    "`نستطيع أن نستنتج من الرسمة التي رسمناها بالأعلى، والتي تعرف بشريط الرسم البياني، أن عدد العملاء الذكور أكثر من الإناث. حيث أنه وفقا لتوزيع أعداد العملاء، لدينا إحدى وعشرون عميلا ذكر، و ثمانية عشر عميلة أنثى`\n",
    "\n",
    "`بالإضافة إللى ذلك، إن أردنا التعمق أكثر، نستطيع رسم توزيع أوزان وأطوال العملاء بناء على جنسهم. هذه الرسمة تعرف بالرسم البياني المربع أو البوكس بلوت. وهي رسمة مثالية للتحقق من كيفية توزيع البيانات كما بالإسفل`\n"
   ]
  },
  {
   "cell_type": "code",
   "execution_count": 21,
   "id": "831901db",
   "metadata": {},
   "outputs": [
    {
     "data": {
      "image/png": "[encoded data removed]",
      "text/plain": [
       "<Figure size 864x576 with 2 Axes>"
      ]
     },
     "metadata": {
      "needs_background": "light"
     },
     "output_type": "display_data"
    }
   ],
   "source": [
    "import seaborn as sns # We import seaborn library to do box plot - نقوم باستدعاء مكتبة سيبورن من إجل رسم الرسم البياني المربع\n",
    "\n",
    "plt.figure(figsize=(12,8)) # We specify the size of the figure نقوم بتحديد حجم الرسمة\n",
    "plt.subplot(1,2,1) # We use subplot to split the plot into two subplots - سوف نقوم بفصل الرسمة إلى رسمتين مصغرتين ودمجهم سويا\n",
    "sns.boxplot(x='gender',y='height', data=transformed_data) # Plot height relative to gender - رسم الطول بالنسبة للجنس\n",
    "plt.title('Height per Gender')\n",
    "plt.subplot(1,2,2)\n",
    "sns.boxplot(x='gender', y='weight',data=transformed_data) # Plot weight relative to gender - رسم الوزن بالنسبة للطول\n",
    "plt.title('Weight per Gender');"
   ]
  },
  {
   "cell_type": "markdown",
   "id": "48f78846",
   "metadata": {},
   "source": [
    "` من هذا الرسم البياني نستطيع أن نستنتج أن قيمة أوزان العملاء الذكور وأطوالهم أعلى من العملاء الإناث. وهو استنتاج منطقي بناء على الأرقام` "
   ]
  },
  {
   "cell_type": "markdown",
   "id": "d4489c99",
   "metadata": {},
   "source": [
    "##  `ماذا تعلمنا؟` \n",
    "#####   `إن إدارة البيانات جزء ضروري من أجل نجاح مشاريع علم البيانات والذكاء الاصطناعي • ` \n",
    "#####     `عملية الإي تي إل هي أحد أهم العمليات في إدارة البيانات، وهي تختلف بحسب المشروع • `\n",
    "#####     `نقوم بالعادة بأتمتة هذه العملية، ولذلك يفضل تسجيل مواقيت كل خطوة من أجل مراقبة العملية وحمايتها من الأخطاء • `"
   ]
  }
 ],
 "metadata": {
  "kernelspec": {
   "display_name": "Python 3 (ipykernel)",
   "language": "python",
   "name": "python3"
  },
  "language_info": {
   "codemirror_mode": {
    "name": "ipython",
    "version": 3
   },
   "file_extension": ".py",
   "mimetype": "text/x-python",
   "name": "python",
   "nbconvert_exporter": "python",
   "pygments_lexer": "ipython3",
   "version": "3.9.12"
  }
 },
 "nbformat": 4,
 "nbformat_minor": 5
}
