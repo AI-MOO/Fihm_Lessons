{
 "cells": [
  {
   "cell_type": "code",
   "execution_count": 3,
   "metadata": {},
   "outputs": [],
   "source": [
    "# استدعاء المكتبات \n",
    "import numpy as np\n",
    "import pandas as pd\n",
    "import matplotlib.pyplot as plt\n",
    "%matplotlib inline"
   ]
  },
  {
   "cell_type": "code",
   "execution_count": 4,
   "metadata": {},
   "outputs": [
    {
     "data": {
      "text/html": [
       "<div>\n",
       "<style scoped>\n",
       "    .dataframe tbody tr th:only-of-type {\n",
       "        vertical-align: middle;\n",
       "    }\n",
       "\n",
       "    .dataframe tbody tr th {\n",
       "        vertical-align: top;\n",
       "    }\n",
       "\n",
       "    .dataframe thead th {\n",
       "        text-align: right;\n",
       "    }\n",
       "</style>\n",
       "<table border=\"1\" class=\"dataframe\">\n",
       "  <thead>\n",
       "    <tr style=\"text-align: right;\">\n",
       "      <th></th>\n",
       "      <th>car_ID</th>\n",
       "      <th>symboling</th>\n",
       "      <th>wheelbase</th>\n",
       "      <th>carlength</th>\n",
       "      <th>carwidth</th>\n",
       "      <th>carheight</th>\n",
       "      <th>curbweight</th>\n",
       "      <th>enginesize</th>\n",
       "      <th>boreratio</th>\n",
       "      <th>stroke</th>\n",
       "      <th>compressionratio</th>\n",
       "      <th>horsepower</th>\n",
       "      <th>peakrpm</th>\n",
       "      <th>citympg</th>\n",
       "      <th>highwaympg</th>\n",
       "      <th>price</th>\n",
       "    </tr>\n",
       "  </thead>\n",
       "  <tbody>\n",
       "    <tr>\n",
       "      <th>0</th>\n",
       "      <td>1</td>\n",
       "      <td>3</td>\n",
       "      <td>88.6</td>\n",
       "      <td>168.8</td>\n",
       "      <td>64.1</td>\n",
       "      <td>48.8</td>\n",
       "      <td>2548</td>\n",
       "      <td>130</td>\n",
       "      <td>3.47</td>\n",
       "      <td>2.68</td>\n",
       "      <td>9.0</td>\n",
       "      <td>111</td>\n",
       "      <td>5000</td>\n",
       "      <td>21</td>\n",
       "      <td>27</td>\n",
       "      <td>13495.000</td>\n",
       "    </tr>\n",
       "    <tr>\n",
       "      <th>1</th>\n",
       "      <td>2</td>\n",
       "      <td>3</td>\n",
       "      <td>88.6</td>\n",
       "      <td>168.8</td>\n",
       "      <td>64.1</td>\n",
       "      <td>48.8</td>\n",
       "      <td>2548</td>\n",
       "      <td>130</td>\n",
       "      <td>3.47</td>\n",
       "      <td>2.68</td>\n",
       "      <td>9.0</td>\n",
       "      <td>111</td>\n",
       "      <td>5000</td>\n",
       "      <td>21</td>\n",
       "      <td>27</td>\n",
       "      <td>16500.000</td>\n",
       "    </tr>\n",
       "    <tr>\n",
       "      <th>2</th>\n",
       "      <td>3</td>\n",
       "      <td>1</td>\n",
       "      <td>94.5</td>\n",
       "      <td>171.2</td>\n",
       "      <td>65.5</td>\n",
       "      <td>52.4</td>\n",
       "      <td>2823</td>\n",
       "      <td>152</td>\n",
       "      <td>2.68</td>\n",
       "      <td>3.47</td>\n",
       "      <td>9.0</td>\n",
       "      <td>154</td>\n",
       "      <td>5000</td>\n",
       "      <td>19</td>\n",
       "      <td>26</td>\n",
       "      <td>16500.000</td>\n",
       "    </tr>\n",
       "    <tr>\n",
       "      <th>3</th>\n",
       "      <td>4</td>\n",
       "      <td>2</td>\n",
       "      <td>99.8</td>\n",
       "      <td>176.6</td>\n",
       "      <td>66.2</td>\n",
       "      <td>54.3</td>\n",
       "      <td>2337</td>\n",
       "      <td>109</td>\n",
       "      <td>3.19</td>\n",
       "      <td>3.40</td>\n",
       "      <td>10.0</td>\n",
       "      <td>102</td>\n",
       "      <td>5500</td>\n",
       "      <td>24</td>\n",
       "      <td>30</td>\n",
       "      <td>13950.000</td>\n",
       "    </tr>\n",
       "    <tr>\n",
       "      <th>4</th>\n",
       "      <td>5</td>\n",
       "      <td>2</td>\n",
       "      <td>99.4</td>\n",
       "      <td>176.6</td>\n",
       "      <td>66.4</td>\n",
       "      <td>54.3</td>\n",
       "      <td>2824</td>\n",
       "      <td>136</td>\n",
       "      <td>3.19</td>\n",
       "      <td>3.40</td>\n",
       "      <td>8.0</td>\n",
       "      <td>115</td>\n",
       "      <td>5500</td>\n",
       "      <td>18</td>\n",
       "      <td>22</td>\n",
       "      <td>17450.000</td>\n",
       "    </tr>\n",
       "    <tr>\n",
       "      <th>5</th>\n",
       "      <td>6</td>\n",
       "      <td>2</td>\n",
       "      <td>99.8</td>\n",
       "      <td>177.3</td>\n",
       "      <td>66.3</td>\n",
       "      <td>53.1</td>\n",
       "      <td>2507</td>\n",
       "      <td>136</td>\n",
       "      <td>3.19</td>\n",
       "      <td>3.40</td>\n",
       "      <td>8.5</td>\n",
       "      <td>110</td>\n",
       "      <td>5500</td>\n",
       "      <td>19</td>\n",
       "      <td>25</td>\n",
       "      <td>15250.000</td>\n",
       "    </tr>\n",
       "    <tr>\n",
       "      <th>6</th>\n",
       "      <td>7</td>\n",
       "      <td>1</td>\n",
       "      <td>105.8</td>\n",
       "      <td>192.7</td>\n",
       "      <td>71.4</td>\n",
       "      <td>55.7</td>\n",
       "      <td>2844</td>\n",
       "      <td>136</td>\n",
       "      <td>3.19</td>\n",
       "      <td>3.40</td>\n",
       "      <td>8.5</td>\n",
       "      <td>110</td>\n",
       "      <td>5500</td>\n",
       "      <td>19</td>\n",
       "      <td>25</td>\n",
       "      <td>17710.000</td>\n",
       "    </tr>\n",
       "    <tr>\n",
       "      <th>7</th>\n",
       "      <td>8</td>\n",
       "      <td>1</td>\n",
       "      <td>105.8</td>\n",
       "      <td>192.7</td>\n",
       "      <td>71.4</td>\n",
       "      <td>55.7</td>\n",
       "      <td>2954</td>\n",
       "      <td>136</td>\n",
       "      <td>3.19</td>\n",
       "      <td>3.40</td>\n",
       "      <td>8.5</td>\n",
       "      <td>110</td>\n",
       "      <td>5500</td>\n",
       "      <td>19</td>\n",
       "      <td>25</td>\n",
       "      <td>18920.000</td>\n",
       "    </tr>\n",
       "    <tr>\n",
       "      <th>8</th>\n",
       "      <td>9</td>\n",
       "      <td>1</td>\n",
       "      <td>105.8</td>\n",
       "      <td>192.7</td>\n",
       "      <td>71.4</td>\n",
       "      <td>55.9</td>\n",
       "      <td>3086</td>\n",
       "      <td>131</td>\n",
       "      <td>3.13</td>\n",
       "      <td>3.40</td>\n",
       "      <td>8.3</td>\n",
       "      <td>140</td>\n",
       "      <td>5500</td>\n",
       "      <td>17</td>\n",
       "      <td>20</td>\n",
       "      <td>23875.000</td>\n",
       "    </tr>\n",
       "    <tr>\n",
       "      <th>9</th>\n",
       "      <td>10</td>\n",
       "      <td>0</td>\n",
       "      <td>99.5</td>\n",
       "      <td>178.2</td>\n",
       "      <td>67.9</td>\n",
       "      <td>52.0</td>\n",
       "      <td>3053</td>\n",
       "      <td>131</td>\n",
       "      <td>3.13</td>\n",
       "      <td>3.40</td>\n",
       "      <td>7.0</td>\n",
       "      <td>160</td>\n",
       "      <td>5500</td>\n",
       "      <td>16</td>\n",
       "      <td>22</td>\n",
       "      <td>17859.167</td>\n",
       "    </tr>\n",
       "    <tr>\n",
       "      <th>10</th>\n",
       "      <td>11</td>\n",
       "      <td>2</td>\n",
       "      <td>101.2</td>\n",
       "      <td>176.8</td>\n",
       "      <td>64.8</td>\n",
       "      <td>54.3</td>\n",
       "      <td>2395</td>\n",
       "      <td>108</td>\n",
       "      <td>3.50</td>\n",
       "      <td>2.80</td>\n",
       "      <td>8.8</td>\n",
       "      <td>101</td>\n",
       "      <td>5800</td>\n",
       "      <td>23</td>\n",
       "      <td>29</td>\n",
       "      <td>16430.000</td>\n",
       "    </tr>\n",
       "    <tr>\n",
       "      <th>11</th>\n",
       "      <td>12</td>\n",
       "      <td>0</td>\n",
       "      <td>101.2</td>\n",
       "      <td>176.8</td>\n",
       "      <td>64.8</td>\n",
       "      <td>54.3</td>\n",
       "      <td>2395</td>\n",
       "      <td>108</td>\n",
       "      <td>3.50</td>\n",
       "      <td>2.80</td>\n",
       "      <td>8.8</td>\n",
       "      <td>101</td>\n",
       "      <td>5800</td>\n",
       "      <td>23</td>\n",
       "      <td>29</td>\n",
       "      <td>16925.000</td>\n",
       "    </tr>\n",
       "    <tr>\n",
       "      <th>12</th>\n",
       "      <td>13</td>\n",
       "      <td>0</td>\n",
       "      <td>101.2</td>\n",
       "      <td>176.8</td>\n",
       "      <td>64.8</td>\n",
       "      <td>54.3</td>\n",
       "      <td>2710</td>\n",
       "      <td>164</td>\n",
       "      <td>3.31</td>\n",
       "      <td>3.19</td>\n",
       "      <td>9.0</td>\n",
       "      <td>121</td>\n",
       "      <td>4250</td>\n",
       "      <td>21</td>\n",
       "      <td>28</td>\n",
       "      <td>20970.000</td>\n",
       "    </tr>\n",
       "    <tr>\n",
       "      <th>13</th>\n",
       "      <td>14</td>\n",
       "      <td>0</td>\n",
       "      <td>101.2</td>\n",
       "      <td>176.8</td>\n",
       "      <td>64.8</td>\n",
       "      <td>54.3</td>\n",
       "      <td>2765</td>\n",
       "      <td>164</td>\n",
       "      <td>3.31</td>\n",
       "      <td>3.19</td>\n",
       "      <td>9.0</td>\n",
       "      <td>121</td>\n",
       "      <td>4250</td>\n",
       "      <td>21</td>\n",
       "      <td>28</td>\n",
       "      <td>21105.000</td>\n",
       "    </tr>\n",
       "    <tr>\n",
       "      <th>14</th>\n",
       "      <td>15</td>\n",
       "      <td>1</td>\n",
       "      <td>103.5</td>\n",
       "      <td>189.0</td>\n",
       "      <td>66.9</td>\n",
       "      <td>55.7</td>\n",
       "      <td>3055</td>\n",
       "      <td>164</td>\n",
       "      <td>3.31</td>\n",
       "      <td>3.19</td>\n",
       "      <td>9.0</td>\n",
       "      <td>121</td>\n",
       "      <td>4250</td>\n",
       "      <td>20</td>\n",
       "      <td>25</td>\n",
       "      <td>24565.000</td>\n",
       "    </tr>\n",
       "  </tbody>\n",
       "</table>\n",
       "</div>"
      ],
      "text/plain": [
       "    car_ID  symboling  wheelbase  carlength  carwidth  carheight  curbweight  \\\n",
       "0        1          3       88.6      168.8      64.1       48.8        2548   \n",
       "1        2          3       88.6      168.8      64.1       48.8        2548   \n",
       "2        3          1       94.5      171.2      65.5       52.4        2823   \n",
       "3        4          2       99.8      176.6      66.2       54.3        2337   \n",
       "4        5          2       99.4      176.6      66.4       54.3        2824   \n",
       "5        6          2       99.8      177.3      66.3       53.1        2507   \n",
       "6        7          1      105.8      192.7      71.4       55.7        2844   \n",
       "7        8          1      105.8      192.7      71.4       55.7        2954   \n",
       "8        9          1      105.8      192.7      71.4       55.9        3086   \n",
       "9       10          0       99.5      178.2      67.9       52.0        3053   \n",
       "10      11          2      101.2      176.8      64.8       54.3        2395   \n",
       "11      12          0      101.2      176.8      64.8       54.3        2395   \n",
       "12      13          0      101.2      176.8      64.8       54.3        2710   \n",
       "13      14          0      101.2      176.8      64.8       54.3        2765   \n",
       "14      15          1      103.5      189.0      66.9       55.7        3055   \n",
       "\n",
       "    enginesize  boreratio  stroke  compressionratio  horsepower  peakrpm  \\\n",
       "0          130       3.47    2.68               9.0         111     5000   \n",
       "1          130       3.47    2.68               9.0         111     5000   \n",
       "2          152       2.68    3.47               9.0         154     5000   \n",
       "3          109       3.19    3.40              10.0         102     5500   \n",
       "4          136       3.19    3.40               8.0         115     5500   \n",
       "5          136       3.19    3.40               8.5         110     5500   \n",
       "6          136       3.19    3.40               8.5         110     5500   \n",
       "7          136       3.19    3.40               8.5         110     5500   \n",
       "8          131       3.13    3.40               8.3         140     5500   \n",
       "9          131       3.13    3.40               7.0         160     5500   \n",
       "10         108       3.50    2.80               8.8         101     5800   \n",
       "11         108       3.50    2.80               8.8         101     5800   \n",
       "12         164       3.31    3.19               9.0         121     4250   \n",
       "13         164       3.31    3.19               9.0         121     4250   \n",
       "14         164       3.31    3.19               9.0         121     4250   \n",
       "\n",
       "    citympg  highwaympg      price  \n",
       "0        21          27  13495.000  \n",
       "1        21          27  16500.000  \n",
       "2        19          26  16500.000  \n",
       "3        24          30  13950.000  \n",
       "4        18          22  17450.000  \n",
       "5        19          25  15250.000  \n",
       "6        19          25  17710.000  \n",
       "7        19          25  18920.000  \n",
       "8        17          20  23875.000  \n",
       "9        16          22  17859.167  \n",
       "10       23          29  16430.000  \n",
       "11       23          29  16925.000  \n",
       "12       21          28  20970.000  \n",
       "13       21          28  21105.000  \n",
       "14       20          25  24565.000  "
      ]
     },
     "execution_count": 4,
     "metadata": {},
     "output_type": "execute_result"
    }
   ],
   "source": [
    "# مسار البيانات المستخدمة\n",
    "data_path = 'Data/Car_Price.csv'\n",
    "\n",
    "# سحب البيانات من خلال المسار\n",
    "data = pd.read_csv(data_path)\n",
    "\n",
    "# اختيار القيم الرقمية فقط\n",
    "data = data.select_dtypes(include=np.number) \n",
    "\n",
    "# استعراض البيانات\n",
    "data.head(15)"
   ]
  },
  {
   "cell_type": "code",
   "execution_count": 37,
   "metadata": {},
   "outputs": [
    {
     "data": {
      "image/png": "[encoded data removed]",
      "text/plain": [
       "<Figure size 864x576 with 1 Axes>"
      ]
     },
     "metadata": {
      "needs_background": "light"
     },
     "output_type": "display_data"
    }
   ],
   "source": [
    "data.enginesize.hist(figsize = (12,8), color='#fcd10f');"
   ]
  },
  {
   "cell_type": "code",
   "execution_count": 6,
   "metadata": {},
   "outputs": [
    {
     "data": {
      "text/plain": [
       "NormaltestResult(statistic=95.91743381072065, pvalue=1.4852306016639641e-21)"
      ]
     },
     "execution_count": 6,
     "metadata": {},
     "output_type": "execute_result"
    }
   ],
   "source": [
    "from scipy.stats.mstats import normaltest # D'Agostino K^2 Test\n",
    "\n",
    "\n",
    "test_result = normaltest(data.enginesize.values)\n",
    "test_result"
   ]
  },
  {
   "cell_type": "code",
   "execution_count": 7,
   "metadata": {},
   "outputs": [
    {
     "name": "stdout",
     "output_type": "stream",
     "text": [
      "NormaltestResult(statistic=95.91743381072065, pvalue=1.4852306016639641e-21)\n"
     ]
    }
   ],
   "source": [
    "# D'Agostino K^2 Test | اختبار داجوستينو \n",
    "\n",
    "# استدعاء الدالة المخصصة لعمل الاختبار\n",
    "from scipy.stats.mstats import normaltest \n",
    "\n",
    "# إجراء الاختبار\n",
    "test_result = normaltest(data.enginesize.values)\n",
    "print(test_result)"
   ]
  },
  {
   "cell_type": "code",
   "execution_count": 8,
   "metadata": {},
   "outputs": [],
   "source": [
    "import seaborn as sns"
   ]
  },
  {
   "cell_type": "code",
   "execution_count": 10,
   "metadata": {},
   "outputs": [
    {
     "data": {
      "text/plain": [
       "NormaltestResult(statistic=25.996755020818014, pvalue=2.2639997446532582e-06)"
      ]
     },
     "execution_count": 10,
     "metadata": {},
     "output_type": "execute_result"
    },
    {
     "data": {
      "image/png": "[encoded data removed]",
      "text/plain": [
       "<Figure size 864x576 with 1 Axes>"
      ]
     },
     "metadata": {
      "needs_background": "light"
     },
     "output_type": "display_data"
    }
   ],
   "source": [
    "# استخدام التحويل اللوغاريتمي على ميزة سعة المحرك\n",
    "eng_size_log = np.log(data.enginesize)\n",
    "\n",
    "# الرسم البياني الجديد بعد التحويل اللوغاريتمي\n",
    "eng_size_log.hist(figsize = (12,8), color='#FD9347', legend=True);\n",
    "plt.title('Log Transformation')\n",
    "\n",
    "# اختبار داجوستينو\n",
    "normaltest(eng_size_log)"
   ]
  },
  {
   "cell_type": "code",
   "execution_count": 11,
   "metadata": {},
   "outputs": [
    {
     "data": {
      "text/plain": [
       "NormaltestResult(statistic=57.700117332162804, pvalue=2.9551444793420665e-13)"
      ]
     },
     "execution_count": 11,
     "metadata": {},
     "output_type": "execute_result"
    },
    {
     "data": {
      "image/png": "[encoded data removed]",
      "text/plain": [
       "<Figure size 864x576 with 1 Axes>"
      ]
     },
     "metadata": {
      "needs_background": "light"
     },
     "output_type": "display_data"
    }
   ],
   "source": [
    "# استخدام تحويل الجذر التربيعي  على ميزة سعة المحرك\n",
    "eng_size_sqrt = np.sqrt(data.enginesize)\n",
    "\n",
    "# الرسم البياني الجديد بعد التحويل \n",
    "eng_size_sqrt.hist(figsize = (12,8), color='#FD9347', legend=True);\n",
    "plt.title('Square Root Transformation')\n",
    "\n",
    "# اختبار داجوستينو\n",
    "normaltest(eng_size_sqrt)"
   ]
  },
  {
   "cell_type": "code",
   "execution_count": 21,
   "metadata": {},
   "outputs": [
    {
     "name": "stdout",
     "output_type": "stream",
     "text": [
      "-0.9617338982169858\n",
      "----------------------------------------\n",
      "[1.03015272 1.03015272 1.03149794 1.02837347 1.03056192 1.03056192\n",
      " 1.03056192 1.03056192 1.03022347 1.03022347]\n"
     ]
    }
   ],
   "source": [
    "from scipy.stats import boxcox\n",
    "\n",
    "# \n",
    "bc_result = boxcox(data.enginesize)\n",
    "\n",
    "# مصفوفة تشكل التوزيع الجديد بعد التحويل\n",
    "eng_size_boxcox = bc_result[0] \n",
    "\n",
    "# قيمة لامدا التي استخدمت في التحويل\n",
    "lambda_value = bc_result[1] \n",
    "\n",
    "print(lambda_value)\n",
    "print(40 * '-')\n",
    "print(eng_size_boxcox[0:10]) \n",
    "\n"
   ]
  },
  {
   "cell_type": "code",
   "execution_count": null,
   "metadata": {},
   "outputs": [],
   "source": [
    "from scipy.stats import boxcox\n",
    "\n",
    "# التحويل باستخدام صندوق كوكس | Cox Box Transformation\n",
    "bc_result = boxcox(data.enginesize)\n",
    "\n",
    "# مصفوفة تشكل التوزيع الجديد بعد التحويل\n",
    "eng_size_boxcox = bc_result[0] \n",
    "\n",
    "# قيمة لامدا التي استخدمت في التحويل\n",
    "lambda_value = bc_result[1] \n",
    "\n",
    "print(lambda_value)"
   ]
  },
  {
   "cell_type": "code",
   "execution_count": 36,
   "metadata": {},
   "outputs": [
    {
     "data": {
      "text/plain": [
       "NormaltestResult(statistic=0.9736238923417837, pvalue=0.6145825966887986)"
      ]
     },
     "execution_count": 36,
     "metadata": {},
     "output_type": "execute_result"
    },
    {
     "data": {
      "image/png": "[encoded data removed]",
      "text/plain": [
       "<Figure size 864x576 with 1 Axes>"
      ]
     },
     "metadata": {
      "needs_background": "light"
     },
     "output_type": "display_data"
    }
   ],
   "source": [
    "# الرسم البياني الجديد بعد التحويل\n",
    "plt.figure(figsize=(12,8)) \n",
    "plt.hist(eng_size_boxcox, color ='#229938')\n",
    "plt.title('Cox Box Transformation')\n",
    "\n",
    "# اختبار داجوستينو\n",
    "normaltest(eng_size_boxcox)"
   ]
  },
  {
   "cell_type": "code",
   "execution_count": 45,
   "metadata": {},
   "outputs": [
    {
     "name": "stdout",
     "output_type": "stream",
     "text": [
      "-0.6280809555716815\n"
     ]
    }
   ],
   "source": [
    "# التحويل باستخدام صندوق كوكس | Cox Box Transformation\n",
    "bc_result_pr = boxcox(data.price)\n",
    "\n",
    "# مصفوفة تشكل التوزيع الجديد بعد التحويل\n",
    "price_boxcox_pr = bc_result_pr[0] \n",
    "\n",
    "# قيمة لامدا التي استخدمت في التحويل\n",
    "lambda_value_pr = bc_result_pr[1] \n",
    "\n",
    "print(lambda_value_pr)"
   ]
  },
  {
   "cell_type": "code",
   "execution_count": 46,
   "metadata": {},
   "outputs": [
    {
     "data": {
      "text/plain": [
       "NormaltestResult(statistic=16.727142005583726, pvalue=0.00023321005129893173)"
      ]
     },
     "execution_count": 46,
     "metadata": {},
     "output_type": "execute_result"
    },
    {
     "data": {
      "image/png": "[encoded data removed]",
      "text/plain": [
       "<Figure size 864x576 with 1 Axes>"
      ]
     },
     "metadata": {
      "needs_background": "light"
     },
     "output_type": "display_data"
    }
   ],
   "source": [
    "# الرسم البياني الجديد بعد التحويل\n",
    "plt.figure(figsize=(12,8)) \n",
    "plt.hist(price_boxcox_pr, color ='#229938')\n",
    "plt.title('Cox Box Transformation')\n",
    "\n",
    "# اختبار داجوستينو\n",
    "normaltest(price_boxcox_pr)"
   ]
  },
  {
   "cell_type": "code",
   "execution_count": 82,
   "metadata": {},
   "outputs": [
    {
     "data": {
      "text/plain": [
       "<matplotlib.axes._subplots.AxesSubplot at 0x238805020b8>"
      ]
     },
     "execution_count": 82,
     "metadata": {},
     "output_type": "execute_result"
    },
    {
     "data": {
      "image/png": "[encoded data removed]",
      "text/plain": [
       "<Figure size 864x432 with 2 Axes>"
      ]
     },
     "metadata": {
      "needs_background": "light"
     },
     "output_type": "display_data"
    }
   ],
   "source": [
    "import matplotlib.pyplot as plt\n",
    "import seaborn as sns\n",
    "\n",
    "# Box Plot الرسم البياني الصندوقي \n",
    "\n",
    "fig, axs = plt.subplots(ncols=2, figsize=(12,6))\n",
    "\n",
    "axs[0].set_title('Before')\n",
    "axs[1].set_title('After')\n",
    "\n",
    "sns.boxplot(data=data.enginesize, orient=\"h\", palette=\"Set2\", ax=axs[0])\n",
    "sns.boxplot(data=eng_size_boxcox, orient=\"h\", palette=\"Set2\", ax=axs[1])"
   ]
  },
  {
   "cell_type": "code",
   "execution_count": 89,
   "metadata": {},
   "outputs": [
    {
     "data": {
      "text/plain": [
       "<matplotlib.axes._subplots.AxesSubplot at 0x23882460940>"
      ]
     },
     "execution_count": 89,
     "metadata": {},
     "output_type": "execute_result"
    },
    {
     "data": {
      "image/png": "[encoded data removed]",
      "text/plain": [
       "<Figure size 864x432 with 2 Axes>"
      ]
     },
     "metadata": {
      "needs_background": "light"
     },
     "output_type": "display_data"
    }
   ],
   "source": [
    "import matplotlib.pyplot as plt\n",
    "import seaborn as sns\n",
    "\n",
    "\n",
    "fig, axs = plt.subplots(ncols=2, figsize=(12,6))\n",
    "\n",
    "# Box Plot الرسم البياني الصندوقي \n",
    "\n",
    "axs[0].set_title('Before')\n",
    "axs[1].set_title('After')\n",
    "\n",
    "sns.scatterplot(x=data.enginesize ,y=data.price, ax=axs[0])\n",
    "sns.scatterplot(x=eng_size_boxcox ,y= price_boxcox_pr, ax=axs[1])\n"
   ]
  },
  {
   "cell_type": "code",
   "execution_count": null,
   "metadata": {},
   "outputs": [],
   "source": []
  }
 ],
 "metadata": {
  "kernelspec": {
   "display_name": "Python 3",
   "language": "python",
   "name": "python3"
  },
  "language_info": {
   "codemirror_mode": {
    "name": "ipython",
    "version": 3
   },
   "file_extension": ".py",
   "mimetype": "text/x-python",
   "name": "python",
   "nbconvert_exporter": "python",
   "pygments_lexer": "ipython3",
   "version": "3.6.8"
  }
 },
 "nbformat": 4,
 "nbformat_minor": 4
}
