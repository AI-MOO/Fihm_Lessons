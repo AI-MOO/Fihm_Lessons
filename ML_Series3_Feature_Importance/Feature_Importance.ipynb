{
 "cells": [
  {
   "cell_type": "markdown",
   "id": "21f44031",
   "metadata": {},
   "source": [
    "<a href='https://fihm.ai/' target='_blank'><img src='https://i.postimg.cc/Y25KhxPM/q.png' border='0' width = 250 alt='q'/></a>"
   ]
  },
  {
   "cell_type": "markdown",
   "id": "a00cce22",
   "metadata": {},
   "source": [
    "## ` سلسلة فهم لتعلم الآلة - الجزء الثالث - أهمية الميزات `\n",
    "## `Fihm Series for Machine Learning - Part 3 - Feature Importance`\n",
    "## `فهم أثر المزايا على التوقع - Interpreting How Features Affect Prediction`"
   ]
  },
  {
   "cell_type": "markdown",
   "id": "80fa7add",
   "metadata": {},
   "source": [
    "___\n",
    "### `مقدمة`\n",
    "`أهلا بكم في الجزء الثالث من سلسلة فهم لتعلم الآلة. تحدثنا في الجزء الأول عن الإنحدار الخطي والذي يستخدم في توقع القيم المتصلة مثل أسعار السيارات أو العقار. ثم في الجزء الثاني استكشفنا خوارزميات التصنيف والتي تتوقع تصنيف الأشياء بناء على البيانات المجمعة مثل تصنيف هل سيترك العميل الشركة أم لا؟ إن الأمر المشترك بين خوارزميات الانحدار الخطي و خوارزميات التصنيف - أي خوارزميات التعلم الآلي الخاضع للإشراف - هو أن هذه الخوارزميات تساعدنا أيضا على فهم أثر الميزات في عملية التوقع. وللتوضيح أكثر، ليست جميع الميزات ذات أهمية متساوية في عمليات التوقع، حيث أن بعض الميزات تساهم فعلا في إجراء التوقعات الصحيحة و على النقيض يوجد ميزات لا تأثر كثيرا في دقةالتوقع`"
   ]
  },
  {
   "cell_type": "markdown",
   "id": "c141497e",
   "metadata": {},
   "source": [
    "___\n",
    "### `ماذا نريد أن نفعل؟`\n",
    "`تذكر أننا في الجزء الثاني من السلسلة قمنا ببناء نموذج يقوم بتوقع من من عملاء الشركة سيترك الشركة (شركة اتصالات). الآن نحن نريد أن نفهم كيف يقوم النموذج بعمل هذا التوقع؟ وذلك من أجل فهم وتحديد ماهي الأسباب التي قد تجعل العميل يرغب في ترك الشركة ومن ثم معالجة تلك الأسباب إن أمكن `\n",
    "\n",
    "`في درس اليوم سوف نستكشف سويًا منهجيتين أساسيتين لتفسير أهمية المزايا، ألا وهما`\n",
    "____\n",
    "\n",
    "`1 - Model-Agnostic Explanation Methods`\n",
    "\n",
    "`وهي الأساليب عامة التي تناسب جميع أنواع التعلم الآلي الخاضع للإشراف. الأساليب العامة المستخدمة في درس اليوم هي`\n",
    "\n",
    "`A - Feature Permutations`\n",
    "\n",
    "`B - Partial Dependency Plot`\n",
    "\n",
    "_____\n",
    "`2 - Model-Specific Explanation Methods`\n",
    "\n",
    "`المنهجية الثانية هي أساليب خاصة وفق نوع الخوارزمية المستعملة. حيث باختلاف الخوارزمية تختلف الطريقة، وفي درس اليوم سوف نستخدم`\n",
    "\n",
    "`Logistic Regression Coefficients Interpretation`"
   ]
  },
  {
   "cell_type": "markdown",
   "id": "008a9fd8",
   "metadata": {},
   "source": [
    "_____\n",
    "\n",
    "### `البيانات المستخدمة في هذا الدرس`\n",
    "\n",
    "`في هذا الدرس سوف نستكمل استخدامنا لبيانات عملاء شركة الاتصال حيث أن هدفنا في هذا الدرس هو استخدام نماذج التصنيف لتحديد ماهي أهم الأسباب التي تدفع العملاء لترك الشركة؟ قمنا بالدرس الماضي بمعالجة البيانات وترميزها. ولذلك سوف نستخدم البيانات المعالجة والجاهزة من الدرس الماضي، تستطيع تحميل البيانات من هنا`\n",
    "\n",
    "https://github.com/KAFSALAH/Fihm_Lessons/raw/master/ML_Series3_Feature_Importance/Churndata_clean.csv"
   ]
  },
  {
   "cell_type": "code",
   "execution_count": 1,
   "id": "50e35db2",
   "metadata": {},
   "outputs": [
    {
     "data": {
      "text/html": [
       "<div>\n",
       "<style scoped>\n",
       "    .dataframe tbody tr th:only-of-type {\n",
       "        vertical-align: middle;\n",
       "    }\n",
       "\n",
       "    .dataframe tbody tr th {\n",
       "        vertical-align: top;\n",
       "    }\n",
       "\n",
       "    .dataframe thead th {\n",
       "        text-align: right;\n",
       "    }\n",
       "</style>\n",
       "<table border=\"1\" class=\"dataframe\">\n",
       "  <thead>\n",
       "    <tr style=\"text-align: right;\">\n",
       "      <th></th>\n",
       "      <th>gender</th>\n",
       "      <th>SeniorCitizen</th>\n",
       "      <th>Married</th>\n",
       "      <th>Dependents</th>\n",
       "      <th>tenure</th>\n",
       "      <th>PhoneService</th>\n",
       "      <th>MultipleLines</th>\n",
       "      <th>InternetService</th>\n",
       "      <th>OnlineSecurity</th>\n",
       "      <th>OnlineBackup</th>\n",
       "      <th>DeviceProtection</th>\n",
       "      <th>TechSupport</th>\n",
       "      <th>Contract</th>\n",
       "      <th>PaperlessBilling</th>\n",
       "      <th>MonthlyCharges</th>\n",
       "      <th>TotalCharges</th>\n",
       "      <th>PaymentMethod_Credit card (automatic)</th>\n",
       "      <th>PaymentMethod_Electronic check</th>\n",
       "      <th>PaymentMethod_Mailed check</th>\n",
       "      <th>Churn</th>\n",
       "    </tr>\n",
       "  </thead>\n",
       "  <tbody>\n",
       "    <tr>\n",
       "      <th>0</th>\n",
       "      <td>0</td>\n",
       "      <td>0</td>\n",
       "      <td>1</td>\n",
       "      <td>0</td>\n",
       "      <td>1</td>\n",
       "      <td>0</td>\n",
       "      <td>0</td>\n",
       "      <td>1</td>\n",
       "      <td>1</td>\n",
       "      <td>2</td>\n",
       "      <td>1</td>\n",
       "      <td>1</td>\n",
       "      <td>0</td>\n",
       "      <td>1</td>\n",
       "      <td>29.85</td>\n",
       "      <td>29.85</td>\n",
       "      <td>0</td>\n",
       "      <td>1</td>\n",
       "      <td>0</td>\n",
       "      <td>0</td>\n",
       "    </tr>\n",
       "    <tr>\n",
       "      <th>1</th>\n",
       "      <td>1</td>\n",
       "      <td>0</td>\n",
       "      <td>0</td>\n",
       "      <td>0</td>\n",
       "      <td>34</td>\n",
       "      <td>1</td>\n",
       "      <td>1</td>\n",
       "      <td>1</td>\n",
       "      <td>2</td>\n",
       "      <td>1</td>\n",
       "      <td>2</td>\n",
       "      <td>1</td>\n",
       "      <td>1</td>\n",
       "      <td>0</td>\n",
       "      <td>56.95</td>\n",
       "      <td>1889.50</td>\n",
       "      <td>0</td>\n",
       "      <td>0</td>\n",
       "      <td>1</td>\n",
       "      <td>0</td>\n",
       "    </tr>\n",
       "    <tr>\n",
       "      <th>2</th>\n",
       "      <td>1</td>\n",
       "      <td>0</td>\n",
       "      <td>0</td>\n",
       "      <td>0</td>\n",
       "      <td>2</td>\n",
       "      <td>1</td>\n",
       "      <td>1</td>\n",
       "      <td>1</td>\n",
       "      <td>2</td>\n",
       "      <td>2</td>\n",
       "      <td>1</td>\n",
       "      <td>1</td>\n",
       "      <td>0</td>\n",
       "      <td>1</td>\n",
       "      <td>53.85</td>\n",
       "      <td>108.15</td>\n",
       "      <td>0</td>\n",
       "      <td>0</td>\n",
       "      <td>1</td>\n",
       "      <td>1</td>\n",
       "    </tr>\n",
       "    <tr>\n",
       "      <th>3</th>\n",
       "      <td>1</td>\n",
       "      <td>0</td>\n",
       "      <td>0</td>\n",
       "      <td>0</td>\n",
       "      <td>45</td>\n",
       "      <td>0</td>\n",
       "      <td>0</td>\n",
       "      <td>1</td>\n",
       "      <td>2</td>\n",
       "      <td>1</td>\n",
       "      <td>2</td>\n",
       "      <td>2</td>\n",
       "      <td>1</td>\n",
       "      <td>0</td>\n",
       "      <td>42.30</td>\n",
       "      <td>1840.75</td>\n",
       "      <td>0</td>\n",
       "      <td>0</td>\n",
       "      <td>0</td>\n",
       "      <td>0</td>\n",
       "    </tr>\n",
       "    <tr>\n",
       "      <th>4</th>\n",
       "      <td>0</td>\n",
       "      <td>0</td>\n",
       "      <td>0</td>\n",
       "      <td>0</td>\n",
       "      <td>2</td>\n",
       "      <td>1</td>\n",
       "      <td>1</td>\n",
       "      <td>2</td>\n",
       "      <td>1</td>\n",
       "      <td>1</td>\n",
       "      <td>1</td>\n",
       "      <td>1</td>\n",
       "      <td>0</td>\n",
       "      <td>1</td>\n",
       "      <td>70.70</td>\n",
       "      <td>151.65</td>\n",
       "      <td>0</td>\n",
       "      <td>1</td>\n",
       "      <td>0</td>\n",
       "      <td>1</td>\n",
       "    </tr>\n",
       "  </tbody>\n",
       "</table>\n",
       "</div>"
      ],
      "text/plain": [
       "   gender  SeniorCitizen  Married  Dependents  tenure  PhoneService  \\\n",
       "0       0              0        1           0       1             0   \n",
       "1       1              0        0           0      34             1   \n",
       "2       1              0        0           0       2             1   \n",
       "3       1              0        0           0      45             0   \n",
       "4       0              0        0           0       2             1   \n",
       "\n",
       "   MultipleLines  InternetService  OnlineSecurity  OnlineBackup  \\\n",
       "0              0                1               1             2   \n",
       "1              1                1               2             1   \n",
       "2              1                1               2             2   \n",
       "3              0                1               2             1   \n",
       "4              1                2               1             1   \n",
       "\n",
       "   DeviceProtection  TechSupport  Contract  PaperlessBilling  MonthlyCharges  \\\n",
       "0                 1            1         0                 1           29.85   \n",
       "1                 2            1         1                 0           56.95   \n",
       "2                 1            1         0                 1           53.85   \n",
       "3                 2            2         1                 0           42.30   \n",
       "4                 1            1         0                 1           70.70   \n",
       "\n",
       "   TotalCharges  PaymentMethod_Credit card (automatic)  \\\n",
       "0         29.85                                      0   \n",
       "1       1889.50                                      0   \n",
       "2        108.15                                      0   \n",
       "3       1840.75                                      0   \n",
       "4        151.65                                      0   \n",
       "\n",
       "   PaymentMethod_Electronic check  PaymentMethod_Mailed check  Churn  \n",
       "0                               1                           0      0  \n",
       "1                               0                           1      0  \n",
       "2                               0                           1      1  \n",
       "3                               0                           0      0  \n",
       "4                               1                           0      1  "
      ]
     },
     "execution_count": 1,
     "metadata": {},
     "output_type": "execute_result"
    }
   ],
   "source": [
    "import pandas as pd\n",
    "df = pd.read_csv('https://github.com/KAFSALAH/Fihm_Lessons/raw/master/ML_Series3_Feature_Importance/Churndata_clean.csv')\n",
    "df.head()"
   ]
  },
  {
   "cell_type": "markdown",
   "id": "33343f9a",
   "metadata": {},
   "source": [
    "____\n",
    "## `Methodology 1 - Model-Agnostic Explanation`"
   ]
  },
  {
   "cell_type": "markdown",
   "id": "e3c24b6b",
   "metadata": {},
   "source": [
    "`المنهجية الأولى هي استخدام طرق التفسير اللانموذجية، وهي طرق غير مرتبطة بنموذجٍ محدد، حيث أننا نستطيع استعمالها مع كافة خوارزميات التعلم الخاضع للأشراف سواء كانت خوارزميات تصنيف أم انحدار خطيْ، ولهذا السبب سميت هذه الطرق باللانموذجية لعموم استخدامها`"
   ]
  },
  {
   "cell_type": "markdown",
   "id": "f9ec98e6",
   "metadata": {},
   "source": [
    "___\n",
    "### `Step One: Build a Random Forest Classifier  — الخطوة الأولى: بناء نموذج تصنيف باستخدام خوارزمية الغابة العشوائية`\n"
   ]
  },
  {
   "cell_type": "markdown",
   "id": "13389cc1",
   "metadata": {},
   "source": [
    "` سوف نقوم أولا ببناء نموذج تصنيف باستخدام خوارزمية الغابة العشوائية باستخدام جميع المزايا الموجودة للتحقق من أثر كل ميزة، ويمكنك أيضا تجربة خوارزميات أخرى إن أردت`"
   ]
  },
  {
   "cell_type": "code",
   "execution_count": 2,
   "id": "7708fc83",
   "metadata": {},
   "outputs": [],
   "source": [
    "# Data split \n",
    "X = df.loc[:, df.columns != 'Churn'] # Independent features \n",
    "y = df['Churn'] # Target features \n",
    "\n",
    "from sklearn.model_selection import train_test_split\n",
    "X_train, X_test, y_train, y_test = train_test_split(X, y, test_size=0.25, stratify=y, random_state = 123) "
   ]
  },
  {
   "cell_type": "markdown",
   "id": "7479432e",
   "metadata": {},
   "source": [
    "`بما أننا نستخدم خوارزمية الغابة العشوائية نستطيع تدريب النموذج مباشرة بعد فصل البيانات دون الحاجة إلى توحييد المقايس `\n",
    "\n",
    "`Random Forest does not require scaling`\n"
   ]
  },
  {
   "cell_type": "code",
   "execution_count": 3,
   "id": "f114c922",
   "metadata": {},
   "outputs": [],
   "source": [
    "# Train a random forest classifer \n",
    "from sklearn.ensemble import RandomForestClassifier \n",
    "random_forest_model = RandomForestClassifier(random_state = 123) # Setting random_state to 123 to have same results if we repeat the process\n",
    "random_forest_model.fit(X_train, y_train) # training the model\n",
    "random_forest_predicts = random_forest_model.predict(X_test) "
   ]
  },
  {
   "cell_type": "markdown",
   "id": "136d692c",
   "metadata": {},
   "source": [
    "`ثم نقوم باختبار دقة النموذج المبدئية`"
   ]
  },
  {
   "cell_type": "code",
   "execution_count": 4,
   "id": "92c88a0f",
   "metadata": {
    "scrolled": true
   },
   "outputs": [
    {
     "data": {
      "text/plain": [
       "0.7876206700738216"
      ]
     },
     "execution_count": 4,
     "metadata": {},
     "output_type": "execute_result"
    }
   ],
   "source": [
    "# Evaluate prediction results\n",
    "from sklearn import metrics\n",
    "metrics.accuracy_score(y_test, random_forest_predicts)"
   ]
  },
  {
   "cell_type": "markdown",
   "id": "5346ca14",
   "metadata": {},
   "source": [
    "___\n",
    "### `Step Two: Use Feature Permutations to Find Feature Importance  — الخطوة الثانية: استخدام تبديل المزايا العشوائي لإيجاد أهمية الميزات`"
   ]
  },
  {
   "cell_type": "markdown",
   "id": "a090a3f6",
   "metadata": {},
   "source": [
    "`هذه هي الطريقة الأولى في طرق التفسير اللانموذجية. في هذه الطريقة نقوم باختبار دقة النموذج والحصول على نتيجة مبدئية،  وبعد ذلك نقوم بتغيير القيم بشكل عشوائي في عامود واحد فقط من أعمدة التدريب، ثم نقوم بتدريب النموذج من جديد وقياس الدقة مرة أخرى، إذا ارتفعت قيمة الخطأ (أي أصبحت دقة النموذج أقل) فهذا يعني أن العامود الذي تمت تغيير قيمه هو عامود ذو أهمية وذلك لأننا عندما قمنا بتغيير قيمه أصبحنا نخطئ بالتوقع أكثر. بعد ذلك، نعود إلى جدول البيانات الأصلي ونقوم بتغيير قيم عامود آخر بشكل عشوائي وننظر مرة أخرى إلى دقة النموذج: هل ارتفعت قيمة الخطأ أم لا؟ إذا لم تتغير دقة النموذج (أي أن قيمة الخطأ ما زالت نفسها) فهذا يعني أن هذا العامود لا يشكل أهمية كبيرة في توقع دقة النموذج. ثم نعيد الكرة إلى أن يتم تجربة جميع الأْعمدة`\n",
    "\n",
    "`من خلال هذه التجارب، نستطيع أن نرى أثر تغيير قيم كل ميزة (عامود) بوضوح على دقة التوقع، وكلما كان أثر الميزة أكبر (خطأ أكبر) كل ما كانت ذات أهمية أكبر من أجل إيجاد دقة عالية`"
   ]
  },
  {
   "cell_type": "code",
   "execution_count": null,
   "id": "293d6a69",
   "metadata": {},
   "outputs": [],
   "source": []
  },
  {
   "cell_type": "code",
   "execution_count": 5,
   "id": "37260343",
   "metadata": {},
   "outputs": [],
   "source": [
    "# Use permutation_importance to calculate permutation feature importances\n",
    "from sklearn.inspection import permutation_importance\n",
    "feature_importances = permutation_importance(estimator = random_forest_model, # Used model\n",
    "                                             X = X_train, #Feature permutations will be applied on the training set\n",
    "                                             y = y_train,\n",
    "                                             n_repeats = 5, # try 5 different permutations\n",
    "                                            random_state=123,\n",
    "                                            n_jobs=2)"
   ]
  },
  {
   "cell_type": "markdown",
   "id": "821d57a9",
   "metadata": {},
   "source": [
    "`نلاحظ أننا قمنا بوضع قيمة`\n",
    "\n",
    "`n_repeats = 5`\n",
    "\n",
    "`مما يعني أننا سوف نقوم بتجربة تغيير قيمة كل عامود بشكل عشوائي خمس مرات. ثم سوف نقوم بتسجيل قيمة الخطأ في كل مرة. فلنتحقق من شكل النتيجة التي ظهرت من خلال طريقة تبديل المزايا`"
   ]
  },
  {
   "cell_type": "code",
   "execution_count": 6,
   "id": "df352ea2",
   "metadata": {},
   "outputs": [
    {
     "data": {
      "text/plain": [
       "(19, 5)"
      ]
     },
     "execution_count": 6,
     "metadata": {},
     "output_type": "execute_result"
    }
   ],
   "source": [
    "feature_importances.importances.shape"
   ]
  },
  {
   "cell_type": "markdown",
   "id": "93c72505",
   "metadata": {},
   "source": [
    "`نلاحظ أن النتيجة هي عبارة عن مصفوفة تحتوي على 19 صف و 5 عواميد. ماذا تمثل هذه الأرقام؟`"
   ]
  },
  {
   "cell_type": "code",
   "execution_count": 7,
   "id": "e30c2a01",
   "metadata": {
    "scrolled": true
   },
   "outputs": [
    {
     "data": {
      "text/plain": [
       "array([[0.03142749, 0.03256342, 0.03351003, 0.03218478, 0.03445665],\n",
       "       [0.0238546 , 0.02688376, 0.02517986, 0.02480121, 0.02480121],\n",
       "       [0.02593715, 0.02593715, 0.02536918, 0.0255585 , 0.02688376],\n",
       "       [0.02120409, 0.02234002, 0.02139341, 0.02271867, 0.02309731],\n",
       "       [0.11170011, 0.1107535 , 0.10961757, 0.10961757, 0.11397198],\n",
       "       [0.00397577, 0.00454373, 0.00416509, 0.00359712, 0.00359712],\n",
       "       [0.03502461, 0.03464597, 0.03634987, 0.03729648, 0.03597122],\n",
       "       [0.08727755, 0.0868989 , 0.09163196, 0.08803484, 0.09636501],\n",
       "       [0.03445665, 0.03123817, 0.03085952, 0.03275275, 0.02858766],\n",
       "       [0.02783037, 0.02707308, 0.02650511, 0.02631579, 0.02707308],\n",
       "       [0.02328663, 0.02025748, 0.01893222, 0.02082544, 0.01931087],\n",
       "       [0.0272624 , 0.03123817, 0.02839833, 0.02820901, 0.02783037],\n",
       "       [0.10791367, 0.10602045, 0.10318061, 0.10355926, 0.11397198],\n",
       "       [0.04562666, 0.04751988, 0.05035971, 0.04108292, 0.04562666],\n",
       "       [0.10299129, 0.10620977, 0.10602045, 0.1073457 , 0.10412722],\n",
       "       [0.09977281, 0.09977281, 0.0971223 , 0.09806891, 0.10261265],\n",
       "       [0.01268459, 0.01098069, 0.01135933, 0.01173798, 0.01154866],\n",
       "       [0.05641802, 0.05357819, 0.05338887, 0.05433548, 0.05906853],\n",
       "       [0.0136312 , 0.01287391, 0.01400984, 0.01230594, 0.01382052]])"
      ]
     },
     "execution_count": 7,
     "metadata": {},
     "output_type": "execute_result"
    }
   ],
   "source": [
    "feature_importances.importances"
   ]
  },
  {
   "cell_type": "markdown",
   "id": "ca2d1b23",
   "metadata": {},
   "source": [
    "`إن كل صف يمثل ميزة (عامود) في جدول البيانات الخاص لدينا، وإن عدنا إلى جدول البيانات الخاص بنا سوف نجد أن الميزة الأولى هي ميزة `\n",
    "\n",
    "`gender`\n",
    "\n",
    "`ولذلك فإن الصف الأول يمثل قيم الأهمية بالنسبة لعامود الجنس. إذا لماذا لدينا خمسة أعمدة لكل ميزة؟ لدينا خمسة أعمدة لأننا قمنا بعمل خمس تغيرات عشوائية (أي خمس اختبارات مختلفة) لكل عامود عندما اخترنا `\n",
    "\n",
    "`n_repeats = 5`\n",
    "\n",
    "\n",
    "`ولذلك لدينا خمس قيم أهمية لكل ميزة، سوف نأخذ المتوسط لكل صف ورؤية ماهي أهمية كل عامود كالتالي`"
   ]
  },
  {
   "cell_type": "code",
   "execution_count": 8,
   "id": "191f53d9",
   "metadata": {
    "scrolled": true
   },
   "outputs": [
    {
     "data": {
      "text/plain": [
       "array([0.03282847, 0.02510413, 0.02593715, 0.0221507 , 0.11113215,\n",
       "       0.00397577, 0.03585763, 0.09004165, 0.03157895, 0.02695949,\n",
       "       0.02052253, 0.02858766, 0.10692919, 0.04604317, 0.10533889,\n",
       "       0.0994699 , 0.01166225, 0.05535782, 0.01332828])"
      ]
     },
     "execution_count": 8,
     "metadata": {},
     "output_type": "execute_result"
    }
   ],
   "source": [
    "feature_importances.importances_mean"
   ]
  },
  {
   "cell_type": "markdown",
   "id": "461a099a",
   "metadata": {},
   "source": [
    "`ومن أجل تلخيص أهمية الميزات بشكل مفهوم وسلس. سوف نقوم بتمثيلها برسم بياني باستخدام الوظيفة التالية`"
   ]
  },
  {
   "cell_type": "code",
   "execution_count": 9,
   "id": "6d1e8761",
   "metadata": {},
   "outputs": [],
   "source": [
    "import matplotlib.pyplot as plt\n",
    "def visualize_feature_importance(importance_array):\n",
    "    # Sort the array based on mean value\n",
    "    sorted_idx = importance_array.importances_mean.argsort()\n",
    "    # Visualize the feature importances using boxplot\n",
    "    fig, ax = plt.subplots()\n",
    "    fig.set_figwidth(16)\n",
    "    fig.set_figheight(10)\n",
    "    fig.tight_layout()\n",
    "    ax.boxplot(importance_array.importances[sorted_idx].T,\n",
    "               vert=False, labels=X_train.columns[sorted_idx])\n",
    "    ax.set_title(\"Permutation Importances (using the train set)\")\n",
    "    plt.show()"
   ]
  },
  {
   "cell_type": "code",
   "execution_count": 10,
   "id": "9a89bcfa",
   "metadata": {},
   "outputs": [
    {
     "data": {
      "image/png": "[encoded data removed]",
      "text/plain": [
       "<Figure size 1152x720 with 1 Axes>"
      ]
     },
     "metadata": {
      "needs_background": "light"
     },
     "output_type": "display_data"
    }
   ],
   "source": [
    "visualize_feature_importance(feature_importances)"
   ]
  },
  {
   "cell_type": "markdown",
   "id": "c59c5021",
   "metadata": {},
   "source": [
    "`نستنتج من الصورة التالي: إن عامود الـ`\n",
    "\n",
    "`tenure`\n",
    "\n",
    "`هو أهم عامود يأثر على دقة النموذج، يليه`\n",
    "\n",
    "`Contract`\n",
    "\n",
    "`ثم`\n",
    "\n",
    "`MonthlyCharges`\n",
    "\n",
    "`وهكذا وصولا إلى عامود`\n",
    "\n",
    "`PhoneService`\n",
    "\n",
    "`حيث أنه ذو الأهمية الأقل بين جميع الأعمدة`"
   ]
  },
  {
   "cell_type": "markdown",
   "id": "812e3e12",
   "metadata": {},
   "source": [
    "___\n",
    "` الأن وبعد أن حددنا ماهي أهم الميزات بالنسبة لدقة النموذج، نريد أن نرى ماهو أثر هذه الميزات على العامود المستهدف؟ أي بمعنى آخر: نريد أن نرى هل هذه الميزات تجعل العميل يترك الشركة أم يبقى فيها`"
   ]
  },
  {
   "cell_type": "markdown",
   "id": "aacf7ad7",
   "metadata": {},
   "source": [
    "___\n",
    "### `Step Three : Use PDP to Find how Features Affect Prediction  — الخطوة الثالثة: استخدام الرسم الاعتمادي الجزئي لإيجاد أثر المزايا على التوقع`"
   ]
  },
  {
   "cell_type": "markdown",
   "id": "911142af",
   "metadata": {},
   "source": [
    "\n",
    "`الطريقة اللانموذجية الثانية هي الرسم الاعتمادي الجزئي`\n",
    "\n",
    "`Partial Dependence Plot`\n",
    "\n",
    "`ومن خلالها نقوم برسم أثر الميزة على قيمة العامود المستهدف (ألا وهو ترك العميل للشركة). ومن النظر إلى الرسمة الناتجة نستطيع أن نرى إن كانت زيادة قيمة الميزة تجعل العميل يترك الشركة أم يبقى فيها`\n",
    "\n",
    "______\n",
    "`فلنقم باستكشاف أثر أهم ثلاث ميزات في دقة النموذج.  بناءً على اختبار تغيير قيم المزايا العشوائي الذي قمنا به في الخطوة الثانية إن أهم ثلاث مزايا هي مدة الاشتراك ونوع العقد والرسوم الشهرية`"
   ]
  },
  {
   "cell_type": "code",
   "execution_count": 11,
   "id": "a717d9d8",
   "metadata": {},
   "outputs": [],
   "source": [
    "important_features = ['tenure','Contract','MonthlyCharges']"
   ]
  },
  {
   "cell_type": "code",
   "execution_count": 12,
   "id": "dea38c05",
   "metadata": {},
   "outputs": [
    {
     "data": {
      "image/png": "[encoded data removed]",
      "text/plain": [
       "<Figure size 432x288 with 4 Axes>"
      ]
     },
     "metadata": {
      "needs_background": "light"
     },
     "output_type": "display_data"
    }
   ],
   "source": [
    "from sklearn.inspection import PartialDependenceDisplay \n",
    "PartialDependenceDisplay.from_estimator(estimator=random_forest_model, \n",
    "                        X=X_train, \n",
    "                        features=important_features,\n",
    "                        random_state=123);"
   ]
  },
  {
   "cell_type": "markdown",
   "id": "32e1f51a",
   "metadata": {},
   "source": [
    "#### `Plot 1 - tenure vs Churn overall central tendency`\n",
    "\n",
    "`نلاحظ التالي بالنسبة للرسمة الأولى : كل ما ارتفعت قيمة عامود مدة الاشتراك `\n",
    "\n",
    "`tenure`\n",
    "\n",
    "` كل ما قلت احتمالية العميل لترك الشركة. ولذلك نستطيع أن نستنتج أن العملاء الجدد هم الأغلب لترك خدمات الشركة. وربما لمعالجة مثل هذه المعضلة قد تقوم الشركة بتوجيه عروض خاصة للمشتركين الجدد من أجل المحافظة عليهم`\n",
    "\n",
    "\n",
    "______\n",
    "\n",
    "#### `Plot 2 - Contract vs Churn overall central tendency`\n",
    "`نلاحظ أيضا نمط مشابه لميزة نوع العقد`\n",
    "\n",
    "`Contract`\n",
    "\n",
    "`حيث أن هناك ثلاث قيم لهذه الميزة كالتالي`\n",
    "\n",
    "`0:'Month-to-month'`\n",
    "\n",
    "`1:'One year'`\n",
    "\n",
    "`2:'Two year'`\n",
    "\n",
    "`مما يعني أن العملاء الذين يستخدمون عقود السنتين هم أقل نسبة لترك الشركة على غرار العملاء الذين يستخدمون العقود الشهرية`\n",
    "\n",
    "\n",
    "_____\n",
    "\n",
    "#### `Plot 3 - MonthlyCharges vs Churn overall central tendency`\n",
    "\n",
    "`نلاحظ أيضا من الرسمة الثالثة أن ارتفاع الرسوم الشهرية يرفع من احتمالية ترك العميل للشركة أيضا `"
   ]
  },
  {
   "cell_type": "markdown",
   "id": "99b7f688",
   "metadata": {},
   "source": [
    "_______\n",
    "## `Methodology 2 - Model-Specific Explanation`"
   ]
  },
  {
   "cell_type": "markdown",
   "id": "e82dfbe3",
   "metadata": {},
   "source": [
    "`المنهجية الثانية في تفسير أثر الميزات هي الطرق النموذجية والتي تعتمد على نوع الخوارزم المستخدم. فمن خلال فهم  الرياضيات وراء بناء النموذج نستطيع فهم أثر الميزات. مثالنا اليوم سوف يكون باستخدام تفسير معاملات خوارزمية الانحدار الخطي اللوجستي`\n",
    "\n",
    "`Logistic Regression`\n",
    "\n",
    "_____\n",
    "`\n",
    "لماذا نحن مهتمون بمعاملات الانحدار الخطي؟ حسنا لقد تحدثنا سابقا أن خوارزمية الانحدار الخطي اللوجستي تعطي احتمالية حدوث الشيء، أي في حالتنا هذه: ماهي احتمالية ترك العميل للشركة؟ فإن كانت الاحتمالية تساوي 0.5 أو أعلى يتم تصنيف العميل على انه سوف يترك الشركة. وإن كانت الاحتمالية أقل من 0.5 يتم تصنيف العميل على أنه سوف يبقى. هذه الاحتمالية يتم حسابها عن طريق المعادلة التالية`\n",
    "\n",
    "\n",
    "<div>\n",
    "<img src=\"https://i.ibb.co/KXBbsbK/Screen-Shot-2023-01-01-at-01-44-57.png\" width = 550>\n",
    "</div>\n",
    "\n"
   ]
  },
  {
   "cell_type": "markdown",
   "id": "0a4feb9e",
   "metadata": {},
   "source": [
    "`محط اهتمامنا هو قوى (أُسْ) الـ`\n",
    "\n",
    "`e`\n",
    "\n",
    "`في المعادلة. حيث أن الأس يحتوي على نوعين من المتغيرات كالتالي `\n",
    "\n",
    "`1 - x1,x2,...xn`\n",
    "\n",
    "`وهي المتغيرات التي تمثل مزاياالجدول كالتالي`\n",
    "\n",
    "`x1 > gender column, x2 > SeniorCitizen column, ..., x19 > PaymentMethod_Mailed check column`\n",
    "\n",
    "`2 - b1,b2,...b19`\n",
    "\n",
    "`وهي معاملات الأعمدة. إذا ارتفعت قيمتها فإن قيمة الاحتمالية ترتفع، وإنا نقصت قيمتها فإن قيمة الاحتمالية تنخفض. ولذلك فإن كان معامل الميزة إيجابي فهذا يعني أن الميزة تؤدي إلى ترك العميل للشركة، وإن كان معامل الميزة سلبي فهذا يعني أن الميزة تؤدي إلى المحافظة على العميل`"
   ]
  },
  {
   "cell_type": "markdown",
   "id": "56f73e6b",
   "metadata": {},
   "source": [
    "___\n",
    "### `Step Four : Logistic Regression Coefficients Interpretation  — الخطوة الثالثة: تفسير معاملات خوارزمية الانحدار الخطي اللوجستي`"
   ]
  },
  {
   "cell_type": "markdown",
   "id": "e609d837",
   "metadata": {},
   "source": [
    "`بما أننا نستعمل الانحدار الخطي اللوجستي، فنلقم بإعادة وزن الميزات`\n",
    "\n",
    "`Feature scaling`"
   ]
  },
  {
   "cell_type": "code",
   "execution_count": 13,
   "id": "d8666896",
   "metadata": {},
   "outputs": [],
   "source": [
    "from sklearn.preprocessing import StandardScaler\n",
    "scaler = StandardScaler()\n",
    "X_train_s = scaler.fit_transform(X_train)\n",
    "X_test_s = scaler.transform(X_test)"
   ]
  },
  {
   "cell_type": "markdown",
   "id": "e21e0301",
   "metadata": {},
   "source": [
    "`والآن فلنقم بتدريب النموذج واختبار دقته`"
   ]
  },
  {
   "cell_type": "code",
   "execution_count": 14,
   "id": "ffa4e25b",
   "metadata": {},
   "outputs": [
    {
     "data": {
      "text/plain": [
       "0.7995457126632595"
      ]
     },
     "execution_count": 14,
     "metadata": {},
     "output_type": "execute_result"
    }
   ],
   "source": [
    "from sklearn.linear_model import LogisticRegression\n",
    "lr_model = LogisticRegression(solver='liblinear')\n",
    "lr_model.fit(X_train_s, y_train)\n",
    "lr_preds = lr_model.predict(X_test_s)\n",
    "metrics.accuracy_score(y_test, lr_preds)"
   ]
  },
  {
   "cell_type": "markdown",
   "id": "2fa72469",
   "metadata": {},
   "source": [
    "`الآن وبعد تدريب النموذج، نريد النظر إلى قيم المعاملات عن طريق استخدام الوظيفة التالية`"
   ]
  },
  {
   "cell_type": "code",
   "execution_count": 15,
   "id": "66047b41",
   "metadata": {},
   "outputs": [],
   "source": [
    "# Extract and sort feature coefficients\n",
    "def get_feature_coefs(regression_model):\n",
    "    coef_dict = {}\n",
    "    # Filter coefficients less than 0.01\n",
    "    for coef, feat in zip(regression_model.coef_[0, :], X_test.columns):\n",
    "        if abs(coef) >= 0.01:\n",
    "            coef_dict[feat] = coef\n",
    "    # Sort coefficients\n",
    "    coef_dict = {k: v for k, v in sorted(coef_dict.items(), key=lambda item: item[1])}\n",
    "    return coef_dict"
   ]
  },
  {
   "cell_type": "code",
   "execution_count": 16,
   "id": "0cbba30a",
   "metadata": {},
   "outputs": [
    {
     "data": {
      "text/plain": [
       "{'tenure': -1.3487182568125111,\n",
       " 'Contract': -0.6107493125485275,\n",
       " 'PhoneService': -0.3270274229853171,\n",
       " 'OnlineSecurity': -0.22356607771812895,\n",
       " 'TechSupport': -0.2103647538624409,\n",
       " 'OnlineBackup': -0.09339092510287739,\n",
       " 'Dependents': -0.07718394990540296,\n",
       " 'PaymentMethod_Mailed check': -0.03588622997524679,\n",
       " 'PaymentMethod_Credit card (automatic)': -0.0317533114880288,\n",
       " 'DeviceProtection': -0.0267283247780332,\n",
       " 'Married': -0.020423735755089538,\n",
       " 'MultipleLines': 0.08805581177325512,\n",
       " 'SeniorCitizen': 0.10644701885406829,\n",
       " 'PaymentMethod_Electronic check': 0.1516263061710412,\n",
       " 'PaperlessBilling': 0.16466604526038875,\n",
       " 'MonthlyCharges': 0.39402139769831473,\n",
       " 'TotalCharges': 0.5575514307054046,\n",
       " 'InternetService': 0.5820664449797841}"
      ]
     },
     "execution_count": 16,
     "metadata": {},
     "output_type": "execute_result"
    }
   ],
   "source": [
    "coef_dict = get_feature_coefs(lr_model)\n",
    "coef_dict"
   ]
  },
  {
   "cell_type": "markdown",
   "id": "c54d7d9e",
   "metadata": {},
   "source": [
    "`ولسهولة تفسير المعاملات، نستطيع رسم قيمهم باستخدام الوظيفة التالية`"
   ]
  },
  {
   "cell_type": "code",
   "execution_count": 17,
   "id": "5fa55352",
   "metadata": {},
   "outputs": [],
   "source": [
    "import numpy as np\n",
    "# Generate bar colors based on if value is negative or positive\n",
    "def get_bar_colors(values):\n",
    "    color_vals = []\n",
    "    for val in values:\n",
    "        if val <= 0:\n",
    "            color_vals.append('r')\n",
    "        else:\n",
    "            color_vals.append('g')\n",
    "    return color_vals\n",
    "\n",
    "# Visualize coefficients\n",
    "def visualize_coefs(coef_dict):\n",
    "    features = list(coef_dict.keys())\n",
    "    values = list(coef_dict.values())\n",
    "    y_pos = np.arange(len(features))\n",
    "    color_vals = get_bar_colors(values)\n",
    "    plt.rcdefaults()\n",
    "    fig, ax = plt.subplots()\n",
    "    ax.barh(y_pos, values, align='center', color=color_vals)\n",
    "    ax.set_yticks(y_pos)\n",
    "    ax.set_yticklabels(features)\n",
    "    # labels read top-to-bottom\n",
    "    ax.invert_yaxis()  \n",
    "    ax.set_xlabel('Feature Coefficients')\n",
    "    ax.set_title('')\n",
    "    plt.show()"
   ]
  },
  {
   "cell_type": "code",
   "execution_count": 18,
   "id": "3daaa458",
   "metadata": {},
   "outputs": [
    {
     "data": {
      "image/png": "[encoded data removed]",
      "text/plain": [
       "<Figure size 640x480 with 1 Axes>"
      ]
     },
     "metadata": {},
     "output_type": "display_data"
    }
   ],
   "source": [
    "visualize_coefs(coef_dict)  # Now after finding features coefficients, it become very easy to interpret."
   ]
  },
  {
   "cell_type": "markdown",
   "id": "a5645d9c",
   "metadata": {},
   "source": [
    "_____\n",
    "###  `القيم السلبية`\n",
    "\n",
    "`نلاحظ أن ميزة الـ`\n",
    "\n",
    "`tenure`\n",
    "\n",
    "`أي مدة اشتراك العميل هي أكبر قيمة سلبية، ويعني أنها أكثر قيمة تقلل من احتمالية ترك العميل للشركة، وهو أيضا ما تم استنتاجه من خلال طريقة الـ`\n",
    "\n",
    "`Feature Permutations and PDP`\n",
    "\n",
    "\n",
    "_____\n",
    "\n",
    "### `القيم الإجابية`\n",
    "`من الناحية الأخرى، تمثل القيم الإيجابية المزايا التي تزيد من فرصة جعل العميل يترك الشركة `\n",
    "\n",
    "\n",
    "`أعلى ثلاث ميزات ذات معاملات إيجابية هي`\n",
    "\n",
    "`MonthlyCharges, TotalCharges, InternetService`\n",
    "\n",
    "\n",
    "\n",
    "`حسنا. نستطيع استنتاج أنه كل ما ارتفعت المصارف الشهرية أو المصاريف الكلية فإن فرصة ترك العميل للشركة ترتفع. ولكن ماذا عن عامود خدمة الإنترنت؟`\n",
    "\n",
    "`InternetService`\n",
    "\n",
    "`فلنقم بالتحقق من قيم هذا العمود ومحاولة تفسيرها`\n",
    "\n",
    "`0: No internet service`\n",
    "\n",
    "`1: DSL`\n",
    "\n",
    "`2: Fiber optic`\n",
    "\n",
    "`إذا: نسنتج أن عملاء الألياف البصرية هم الأكثر ترك لخدمات الشركة مقارنة بعملاء خدمات الانترنت عن طريق الشبكات النحاسية الدي إس إل. وقد يكون هذا بسبب غلاء أسعار الألياف البصرية أو أسباب أخرى كجودة الألياف`"
   ]
  },
  {
   "cell_type": "markdown",
   "id": "e36c7a22",
   "metadata": {},
   "source": [
    "______\n",
    "### `Bonus Step: Selecting only important features —  خطوة إضافية: اختيار المزايا ذات الأهمية الكبرى فقط `\n",
    "\n",
    "`الآن، سنقوم باستخدام أربعة ميزات فقط من أجل تدريب نموذج تعلم الآلة. سوف نقوم بأخذ أقل قيمتين سلبتين و أعلى قيمتين إيجابيتين، ومن ثم اختبار دقة النموذج كالتالي`"
   ]
  },
  {
   "cell_type": "code",
   "execution_count": 19,
   "id": "379d0841",
   "metadata": {
    "scrolled": true
   },
   "outputs": [
    {
     "data": {
      "text/html": [
       "<div>\n",
       "<style scoped>\n",
       "    .dataframe tbody tr th:only-of-type {\n",
       "        vertical-align: middle;\n",
       "    }\n",
       "\n",
       "    .dataframe tbody tr th {\n",
       "        vertical-align: top;\n",
       "    }\n",
       "\n",
       "    .dataframe thead th {\n",
       "        text-align: right;\n",
       "    }\n",
       "</style>\n",
       "<table border=\"1\" class=\"dataframe\">\n",
       "  <thead>\n",
       "    <tr style=\"text-align: right;\">\n",
       "      <th></th>\n",
       "      <th>tenure</th>\n",
       "      <th>Contract</th>\n",
       "      <th>TotalCharges</th>\n",
       "      <th>InternetService</th>\n",
       "      <th>Churn</th>\n",
       "    </tr>\n",
       "  </thead>\n",
       "  <tbody>\n",
       "    <tr>\n",
       "      <th>0</th>\n",
       "      <td>1</td>\n",
       "      <td>0</td>\n",
       "      <td>29.85</td>\n",
       "      <td>1</td>\n",
       "      <td>0</td>\n",
       "    </tr>\n",
       "    <tr>\n",
       "      <th>1</th>\n",
       "      <td>34</td>\n",
       "      <td>1</td>\n",
       "      <td>1889.50</td>\n",
       "      <td>1</td>\n",
       "      <td>0</td>\n",
       "    </tr>\n",
       "    <tr>\n",
       "      <th>2</th>\n",
       "      <td>2</td>\n",
       "      <td>0</td>\n",
       "      <td>108.15</td>\n",
       "      <td>1</td>\n",
       "      <td>1</td>\n",
       "    </tr>\n",
       "    <tr>\n",
       "      <th>3</th>\n",
       "      <td>45</td>\n",
       "      <td>1</td>\n",
       "      <td>1840.75</td>\n",
       "      <td>1</td>\n",
       "      <td>0</td>\n",
       "    </tr>\n",
       "    <tr>\n",
       "      <th>4</th>\n",
       "      <td>2</td>\n",
       "      <td>0</td>\n",
       "      <td>151.65</td>\n",
       "      <td>2</td>\n",
       "      <td>1</td>\n",
       "    </tr>\n",
       "  </tbody>\n",
       "</table>\n",
       "</div>"
      ],
      "text/plain": [
       "   tenure  Contract  TotalCharges  InternetService  Churn\n",
       "0       1         0         29.85                1      0\n",
       "1      34         1       1889.50                1      0\n",
       "2       2         0        108.15                1      1\n",
       "3      45         1       1840.75                1      0\n",
       "4       2         0        151.65                2      1"
      ]
     },
     "execution_count": 19,
     "metadata": {},
     "output_type": "execute_result"
    }
   ],
   "source": [
    "df = pd.read_csv('https://github.com/KAFSALAH/Fihm_Lessons/raw/master/ML_Series3_Feature_Importance/Churndata_clean.csv')\n",
    "important_features = ['tenure','Contract','TotalCharges','InternetService','Churn']\n",
    "\n",
    "small_data = df[important_features]\n",
    "\n",
    "small_data.head()"
   ]
  },
  {
   "cell_type": "code",
   "execution_count": 20,
   "id": "294e5b60",
   "metadata": {},
   "outputs": [],
   "source": [
    "# Data split\n",
    "X = small_data.loc[:, small_data.columns != 'Churn']\n",
    "y = small_data['Churn'] \n",
    "\n",
    "from sklearn.model_selection import train_test_split\n",
    "X_train, X_test, y_train, y_test = train_test_split(X, y, test_size=0.25, stratify=y, random_state = 123) "
   ]
  },
  {
   "cell_type": "code",
   "execution_count": 21,
   "id": "2bc13c38",
   "metadata": {},
   "outputs": [],
   "source": [
    "# Data scaling\n",
    "scaler = StandardScaler()\n",
    "X_train_s = scaler.fit_transform(X_train)\n",
    "X_test_s = scaler.transform(X_test)"
   ]
  },
  {
   "cell_type": "code",
   "execution_count": 22,
   "id": "90768faf",
   "metadata": {},
   "outputs": [
    {
     "data": {
      "text/plain": [
       "0.7853492333901193"
      ]
     },
     "execution_count": 22,
     "metadata": {},
     "output_type": "execute_result"
    }
   ],
   "source": [
    "# Model training and validation\n",
    "lr_model = LogisticRegression(solver='liblinear')\n",
    "lr_model.fit(X_train_s, y_train)\n",
    "lr_preds = lr_model.predict(X_test_s)\n",
    "metrics.accuracy_score(y_test, lr_preds)"
   ]
  },
  {
   "cell_type": "markdown",
   "id": "ec111da0",
   "metadata": {},
   "source": [
    "`نلاحظ أننا على الرغم من أننا استخدمنا 4 مزايا فقط لتدريب النموذج إلا أننا حافظنا تقريبا على نفس الدقة. وذلك لأن هذه المزايا الأربعة هي التي تؤثر بشكل كبير على دقة النموذج على غرار باقي المزايا. إن التخلص من المزايا ذات الأهمية المنخفضة يساعد على تقليل الوقت المستغرق في بناء النماذج أو استخدامها، بل وفي بعض الأحيان يساهم في رفع دقة النموذج `"
   ]
  },
  {
   "cell_type": "markdown",
   "id": "20ba874f",
   "metadata": {},
   "source": [
    "___\n",
    "###  `نصيحة فهم للتعلم`\n",
    "\n",
    "` لاحظ أن النتائج بين الطرق النموذجية واللانموذجية تتشابه أحيانا وقد تختلف في أحيانا أخرى. ولذلك نحن ننصح بالتدرب على كلا الطرق من أجل استكشاف جميع الإجابات الممكنة. وفي كثير من الأحيان في مجال العمل يكون الإهتمام الأكبر في فهم أثر المزايا بدلا من دقة النماذج العالية. ولذلك فإن عالم البيانات الخبير مثل ما أنه يستطيع صناعة نماذج ذات دقة عالية،إلا أنه يعلم أيضا كيف يفسر أثر الميزات في أداء النماذج، لأنه يهتم بفهم أثر البيانات كما يهتم بدقة النموذج `"
   ]
  },
  {
   "cell_type": "markdown",
   "id": "3a5499b9",
   "metadata": {},
   "source": [
    "___\n",
    "##  `ماذا تعلمنا؟`\n",
    "#####     `هناك معيارين مهمين في نماذج التعلم الآلي الخاضع للإشراف ألا وهما الدقة والفهم • `\n",
    "##### `Peformance and interpretability`\n",
    "#####   ` • في بعض الأحيان يكون الأداء هو الهدف الأساسي، ولذلك نعمل على جعل النموذج ذو دقة عالية جدا حتى ولو لم نستطع فهم كيف يعمل تماما (مثل خوارزميات التعلم العميق)  `\n",
    "#####   `وفي بعض الأحيان فهم النموذج يكون أولى من دقة النموذج، ولذلك لا نهتم كثيرا في الدقة ولكن نهتم أن نفهم أثر الميزات في كيفية عمل النموذج  • ` \n",
    "#####     ` هناك طرق متعددة لفهم النماذج وأثر المزايا فيها • `\n",
    "\n",
    "#####     ` الطرق إما أن تكون عامة (تناسب معظم الخوارزميات) • `\n",
    "##### `Feature Permutation or Partial Dependence Plot`\n",
    "#####     `   أو طرق خاصة حسب الخوارزمية المستعملة مثل •`\n",
    "#####     `  Features Coefficients in Logistic Regression`"
   ]
  }
 ],
 "metadata": {
  "kernelspec": {
   "display_name": "Python 3 (ipykernel)",
   "language": "python",
   "name": "python3"
  },
  "language_info": {
   "codemirror_mode": {
    "name": "ipython",
    "version": 3
   },
   "file_extension": ".py",
   "mimetype": "text/x-python",
   "name": "python",
   "nbconvert_exporter": "python",
   "pygments_lexer": "ipython3",
   "version": "3.9.12"
  }
 },
 "nbformat": 4,
 "nbformat_minor": 5
}
