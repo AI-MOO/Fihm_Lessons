{
 "cells": [
  {
   "cell_type": "markdown",
   "id": "a58325d7",
   "metadata": {},
   "source": [
    "<a href='https://fihm.ai/' target='_blank'><img src='https://i.postimg.cc/Y25KhxPM/q.png' border='0' width = 250 alt='q'/></a>"
   ]
  },
  {
   "cell_type": "markdown",
   "id": "b5e948b0",
   "metadata": {},
   "source": [
    "## `Classification - سلسلة فهم لتعلم الآلة - الجزء الثاني `\n",
    "## `Fihm Series for Machine Learning - Part 2 - Classification`\n",
    "## `توقع ترك العملاء - Customer Churn Prediction`"
   ]
  },
  {
   "cell_type": "markdown",
   "id": "aefd2bde",
   "metadata": {},
   "source": [
    "___\n",
    "### `مقدمة`\n",
    "\n",
    "`\n",
    "أهلا بكم في الجزء الثاني من سلسلة فهم لتعلم الآلة. اليوم سوف نتحدث عن النوع الثاني من أنواع التعلم الخاضع للإشراف ألا وهو التصنيف والمعروف بالـ\n",
    "Classification`\n",
    "\n",
    "`إن الأمثلة على تطبيقات التصنيف متعددة، على سبيل المثال لا الحصر`\n",
    "\n",
    "#####   `تصنيف هل الشخص محتال أم لا ( مجال البنوك ) • `\n",
    "#####     `( المجال الطبي ) تصنيف الخلية إذا ما كانت خلية سرطانية أم لا •`\n",
    "#####     `( مجال الصناعة )  تصنيف نوع العطل في محرك السيارة  •`\n",
    "#####     `( شركات الاتصالات، البنوك، مزودي الخدمات )  تصنيف هل العميل سيترك الشركة أم سيستمر  •`\n",
    "\n",
    "\n",
    "`وتكمن أهمية خوارزميات التصنيف في أمرين أساسيين، أولا تصنيف الأشياء و ثانيا تحديد العوامل التي أدت إلى هذا التصنيف. وفي درس اليوم، سوف نتعلم كيفية استخدام خوارزميات التصنيف لتوقع أي من عملاء شركة الاتصال سيترك الشركة وأي منهم سيستمر في الاشتراك بخدماتها`"
   ]
  },
  {
   "cell_type": "markdown",
   "id": "35580e5d",
   "metadata": {},
   "source": [
    "___\n",
    "### `ماذا نريد أن نفعل؟`\n",
    "\n",
    "`\n",
    "في هذا المشروع، أنت عالم بيانات لشركة اتصالات تقدم خدمات الاتصال و الإنترنت للمواطنين. وبما إن المنافسة بين شركات الإتصال عالية، طلب منك عمل نموذج تعلم آلة يستطيع توقع من من العملاء قد يستغني عن خدمات الشركة ويذهب إلى شركة أخرى بناء على الذي حصل في الماضي   \n",
    "`\n",
    "___\n",
    "### `ما المقصود بالماضي؟`\n",
    "\n",
    "`حسنا، سبق وأن تحدثنا أن تعلم الآلة مبني على التعلم من البيانات المجمعة (أي الخبرات الماضية)، حيث أن المرحلة الأولى في سير عمل نماذج تعلم الآلة هو (التذكر)\n",
    "`\n",
    "\n",
    "<img src='https://i.ibb.co/c3w2SDR/Screen-Shot-2022-12-08-at-13-19-02.png' border='0' width = 550 alt='q'/>\n",
    "\n",
    "\n",
    "`\n",
    "ومن أجل ذلك، تقوم شركات الإتصال بالعادة بتسجيل بيانات العملاء مثل (العمر، عدد أفراد العائلة، متزوج أم لا، ذكر أم أنثى) بالإضافة إلى تسجيل الخدمات المشتركين فيها مثل (نوع الإنترنت، عدد الخطوط المستعملة، قيمة الاشتراك، مدة العقد) ثم يقومون بملاحظة من ترك الشركة ومن استمر فيها. ومن خلال هذه الملاحظات، سوف نقارن بيانات العملاء الحالين ببيانات العملاء الذين تركوا الشركة، فإن كان هناك تشابه في تصرفاتهم وبياناتهم، فبالغالب سوف يتركون الشركة، ومن أجل حل هذه المشكلة، نقوم بتوجيه عروض مخصصة لهم من أجل المحافظة عليهم `\n",
    "\n",
    "\n",
    "\n",
    "___\n",
    "### `Data Model - نموذج البيانات`\n",
    "\n",
    "`من أجل بناء نموذج تعلم الآلة لابد أولا من بناء نموذج البيانات (جدول البيانات) المناسب للتدريب. حيث أن جودة البيانات هي العامل الأساسي في جودة ودقة نماذج تعلم الآلة. إذا كيف نبني نموذج البيانات المناسب؟ `\n",
    "\n",
    "`إنه يوجد في كل شركة قاعدة بيانات تحتوي على العديد من الجداول ، ومهمتنا الأولى هي استخراج البيانات المناسبة من هذه الجداول لبناء النموذج وجمعها في جدول واحد عن طريق لغة الـ `\n",
    "\n",
    "`SQL`\n",
    "\n",
    "`يمكنك زيارة الدرس التالي إن كنت مهتم في كيفية استخراج البيانات من قواعد البيانات `\n",
    "\n",
    "https://fihm.ai/tutorials/managing-data-with-sqlite-database-practical-implementation-on-forest-data/\n",
    "\n",
    "___\n",
    "\n",
    "### `اختيار الأعمدة المناسبة لنموذج البيانات`\n",
    "\n",
    "`المقصود بالأعمدة هي الصفات مثل جنس العميل، مدة اشتراكه، الخ. حيث أن هناك صفات تأثر أكثر من الأخرى على مدى استمرارية العميل. حسنا، كيف اختار الأعمدة التي تساهم فعلا في توقع من من العملاء سوف يترك الشركة؟ إن الإجابة على هذا السؤال تطلب العديد من التجارب والخبرات، حيث أن الخبرة في المجال (بزنس نولدج) الذي يعمل فيه عالم البيانات أمر مهم. ولتسريع عملية البحث، تستطيع الاجتماع مع الخبراء في الشركة لمساعدتك في تحديد الأعمدة التي تساهم في التوقع بشكل صحيح. \n",
    "`\n",
    "___\n",
    "### `نموذج البيانات المستخدم (البيانات المستخدمة)`\n",
    "\n",
    "` إن نموذج البيانات المستخدم في هذا الدرس جاهز. وهو موجود على موقع `\n",
    "\n",
    "`Kaggle`\n",
    "\n",
    "`المصدر الأصلي للبيانات`\n",
    "\n",
    "https://www.kaggle.com/datasets/blastchar/telco-customer-churn\n",
    "\n",
    "`ولقد قمنا ببعض التعديلات الطفيفة على البيانات لتتناسب مع موضوع اليوم. ولذلك نرجو تحميل البيانات من هنا لتتبع خطوات الدرس بشكل صحيح`\n",
    "\n",
    "https://github.com/KAFSALAH/Fihm_Lessons/blob/master/ML_Series2_Classification/customer_churn.csv\n"
   ]
  },
  {
   "cell_type": "markdown",
   "id": "7e10d3b6",
   "metadata": {},
   "source": [
    "___\n",
    "### `Step One: Explore Data — الخطوة الأولى: استكشاف البيانات المستخدمة`\n",
    "`علينا الآن استكشاف نموذج البيانات المستخدم، ومعرفة ماهي الأعمدة (الصفات) التي سوف تستخدم في توقع من من العملاء سوف يترك الشركة`"
   ]
  },
  {
   "cell_type": "code",
   "execution_count": 1,
   "id": "770d86c4",
   "metadata": {},
   "outputs": [],
   "source": [
    "import pandas as pd"
   ]
  },
  {
   "cell_type": "code",
   "execution_count": 2,
   "id": "600f8dd7",
   "metadata": {
    "scrolled": false
   },
   "outputs": [
    {
     "name": "stdout",
     "output_type": "stream",
     "text": [
      "——————————————————————————\n",
      "First 3 rows\n"
     ]
    },
    {
     "data": {
      "text/html": [
       "<div>\n",
       "<style scoped>\n",
       "    .dataframe tbody tr th:only-of-type {\n",
       "        vertical-align: middle;\n",
       "    }\n",
       "\n",
       "    .dataframe tbody tr th {\n",
       "        vertical-align: top;\n",
       "    }\n",
       "\n",
       "    .dataframe thead th {\n",
       "        text-align: right;\n",
       "    }\n",
       "</style>\n",
       "<table border=\"1\" class=\"dataframe\">\n",
       "  <thead>\n",
       "    <tr style=\"text-align: right;\">\n",
       "      <th></th>\n",
       "      <th>customerID</th>\n",
       "      <th>gender</th>\n",
       "      <th>SeniorCitizen</th>\n",
       "      <th>Married</th>\n",
       "      <th>Dependents</th>\n",
       "      <th>tenure</th>\n",
       "      <th>PhoneService</th>\n",
       "      <th>MultipleLines</th>\n",
       "      <th>InternetService</th>\n",
       "      <th>OnlineSecurity</th>\n",
       "      <th>OnlineBackup</th>\n",
       "      <th>DeviceProtection</th>\n",
       "      <th>TechSupport</th>\n",
       "      <th>Contract</th>\n",
       "      <th>PaperlessBilling</th>\n",
       "      <th>PaymentMethod</th>\n",
       "      <th>MonthlyCharges</th>\n",
       "      <th>TotalCharges</th>\n",
       "      <th>Churn</th>\n",
       "    </tr>\n",
       "  </thead>\n",
       "  <tbody>\n",
       "    <tr>\n",
       "      <th>0</th>\n",
       "      <td>7590-VHVEG</td>\n",
       "      <td>Female</td>\n",
       "      <td>No</td>\n",
       "      <td>Yes</td>\n",
       "      <td>No</td>\n",
       "      <td>1</td>\n",
       "      <td>No</td>\n",
       "      <td>No phone service</td>\n",
       "      <td>DSL</td>\n",
       "      <td>No</td>\n",
       "      <td>Yes</td>\n",
       "      <td>No</td>\n",
       "      <td>No</td>\n",
       "      <td>Month-to-month</td>\n",
       "      <td>Yes</td>\n",
       "      <td>Electronic check</td>\n",
       "      <td>29.85</td>\n",
       "      <td>29.85</td>\n",
       "      <td>No</td>\n",
       "    </tr>\n",
       "    <tr>\n",
       "      <th>1</th>\n",
       "      <td>5575-GNVDE</td>\n",
       "      <td>Male</td>\n",
       "      <td>No</td>\n",
       "      <td>No</td>\n",
       "      <td>No</td>\n",
       "      <td>34</td>\n",
       "      <td>Yes</td>\n",
       "      <td>No</td>\n",
       "      <td>DSL</td>\n",
       "      <td>Yes</td>\n",
       "      <td>No</td>\n",
       "      <td>Yes</td>\n",
       "      <td>No</td>\n",
       "      <td>One year</td>\n",
       "      <td>No</td>\n",
       "      <td>Mailed check</td>\n",
       "      <td>56.95</td>\n",
       "      <td>1889.5</td>\n",
       "      <td>No</td>\n",
       "    </tr>\n",
       "    <tr>\n",
       "      <th>2</th>\n",
       "      <td>3668-QPYBK</td>\n",
       "      <td>Male</td>\n",
       "      <td>No</td>\n",
       "      <td>No</td>\n",
       "      <td>No</td>\n",
       "      <td>2</td>\n",
       "      <td>Yes</td>\n",
       "      <td>No</td>\n",
       "      <td>DSL</td>\n",
       "      <td>Yes</td>\n",
       "      <td>Yes</td>\n",
       "      <td>No</td>\n",
       "      <td>No</td>\n",
       "      <td>Month-to-month</td>\n",
       "      <td>Yes</td>\n",
       "      <td>Mailed check</td>\n",
       "      <td>53.85</td>\n",
       "      <td>108.15</td>\n",
       "      <td>Yes</td>\n",
       "    </tr>\n",
       "  </tbody>\n",
       "</table>\n",
       "</div>"
      ],
      "text/plain": [
       "   customerID  gender SeniorCitizen Married Dependents  tenure PhoneService  \\\n",
       "0  7590-VHVEG  Female            No     Yes         No       1           No   \n",
       "1  5575-GNVDE    Male            No      No         No      34          Yes   \n",
       "2  3668-QPYBK    Male            No      No         No       2          Yes   \n",
       "\n",
       "      MultipleLines InternetService OnlineSecurity OnlineBackup  \\\n",
       "0  No phone service             DSL             No          Yes   \n",
       "1                No             DSL            Yes           No   \n",
       "2                No             DSL            Yes          Yes   \n",
       "\n",
       "  DeviceProtection TechSupport        Contract PaperlessBilling  \\\n",
       "0               No          No  Month-to-month              Yes   \n",
       "1              Yes          No        One year               No   \n",
       "2               No          No  Month-to-month              Yes   \n",
       "\n",
       "      PaymentMethod  MonthlyCharges TotalCharges Churn  \n",
       "0  Electronic check           29.85        29.85    No  \n",
       "1      Mailed check           56.95       1889.5    No  \n",
       "2      Mailed check           53.85       108.15   Yes  "
      ]
     },
     "metadata": {},
     "output_type": "display_data"
    }
   ],
   "source": [
    "df = pd.read_csv('https://github.com/KAFSALAH/Fihm_Lessons/raw/master/ML_Series2_Classification/customer_churn.csv')\n",
    "\n",
    "# General info about the data \n",
    "print('——————————————————————————')\n",
    "print('First 3 rows')\n",
    "display(df.head(3))"
   ]
  },
  {
   "cell_type": "code",
   "execution_count": 3,
   "id": "8e835b8f",
   "metadata": {},
   "outputs": [
    {
     "name": "stdout",
     "output_type": "stream",
     "text": [
      "Number of rows and columns\n"
     ]
    },
    {
     "data": {
      "text/plain": [
       "(7043, 19)"
      ]
     },
     "metadata": {},
     "output_type": "display_data"
    },
    {
     "name": "stdout",
     "output_type": "stream",
     "text": [
      "——————————————————————————\n",
      "Types of columns\n",
      "<class 'pandas.core.frame.DataFrame'>\n",
      "RangeIndex: 7043 entries, 0 to 7042\n",
      "Data columns (total 19 columns):\n",
      " #   Column            Non-Null Count  Dtype  \n",
      "---  ------            --------------  -----  \n",
      " 0   customerID        7043 non-null   object \n",
      " 1   gender            7043 non-null   object \n",
      " 2   SeniorCitizen     7043 non-null   object \n",
      " 3   Married           7043 non-null   object \n",
      " 4   Dependents        7043 non-null   object \n",
      " 5   tenure            7043 non-null   int64  \n",
      " 6   PhoneService      7043 non-null   object \n",
      " 7   MultipleLines     7043 non-null   object \n",
      " 8   InternetService   7043 non-null   object \n",
      " 9   OnlineSecurity    7043 non-null   object \n",
      " 10  OnlineBackup      7043 non-null   object \n",
      " 11  DeviceProtection  7043 non-null   object \n",
      " 12  TechSupport       7043 non-null   object \n",
      " 13  Contract          7043 non-null   object \n",
      " 14  PaperlessBilling  7043 non-null   object \n",
      " 15  PaymentMethod     7043 non-null   object \n",
      " 16  MonthlyCharges    7043 non-null   float64\n",
      " 17  TotalCharges      7043 non-null   object \n",
      " 18  Churn             7043 non-null   object \n",
      "dtypes: float64(1), int64(1), object(17)\n",
      "memory usage: 1.0+ MB\n"
     ]
    },
    {
     "data": {
      "text/plain": [
       "None"
      ]
     },
     "metadata": {},
     "output_type": "display_data"
    }
   ],
   "source": [
    "print('Number of rows and columns')\n",
    "display(df.shape)\n",
    "print('——————————————————————————')\n",
    "print('Types of columns')\n",
    "display(df.info())"
   ]
  },
  {
   "cell_type": "markdown",
   "id": "82f139d3",
   "metadata": {},
   "source": [
    "___\n",
    "`الآن، وبعد الإطلاع على الصفات المستخدمة، فلنقم بتلخيص تعريف كل صفة كالتالي`"
   ]
  },
  {
   "cell_type": "markdown",
   "id": "f4e3c1b1",
   "metadata": {},
   "source": [
    "| العامود | التعريف |\n",
    " --- | --- |\n",
    "|Customer_ID | رقم مميز لكل عميل\n",
    "|gender | جنس العميل\n",
    "| SeniorCitizen | هل العميل كبير بالسن؟\n",
    "| Married | هل العميل متزوج؟\n",
    "|Dependents | هل هناك تابعين؟\n",
    "| tenure | مدة اشتراك العميل بالأشهر\n",
    "| PhoneService | هل العميل مشترك بخدمة الاتصال؟\n",
    "| MultipleLines | هل العميل يستخدم أكثر من خط اتصال؟\n",
    "| InterntService | نوع خدمة الإنترنت\n",
    "| OnlineSecurity | هل لدى العميل خدمات حماية أون لاين؟\n",
    "| OnlineBackup | هل لدى العميل نسخة احتياطية أون لاين؟\n",
    "| DeviceProtection | هل لدى العميل ضمان؟\n",
    "| TechSupport | هل لدى العميل خدمة دعم فني؟\n",
    "| Contract | نوع عقد العميل\n",
    "| PaperlessBilling | هل الفواتير إلكترونية؟\n",
    "| PaymentMethod | طريقة سداد الفواتير\n",
    "| MonthlyCharges | قيمة الفواتير الشهرية\n",
    "| TotalCharges | مجموع قيمة فواتير العميل"
   ]
  },
  {
   "cell_type": "markdown",
   "id": "69d334de",
   "metadata": {},
   "source": [
    "___\n",
    "### `Step Two: Preprocess Data — الخطوة الثانية: معالجة البيانات`\n",
    "\n",
    "#### ` أ - التحقق من القيم الناقصة أو المتكررة `\n",
    "`في مرحلة معالجة البيانات، دعونا نتحقق أولا من عدم وجود قيم ناقصة أو صفوف متكررة (وجود صف متكرر يعني أن هناك عميل تكررت بياناته)`"
   ]
  },
  {
   "cell_type": "code",
   "execution_count": 4,
   "id": "42a958db",
   "metadata": {},
   "outputs": [
    {
     "name": "stdout",
     "output_type": "stream",
     "text": [
      "Number of duplicated values is  0\n",
      "Number of missing values is 0\n"
     ]
    }
   ],
   "source": [
    "print(\"Number of duplicated values is \", df.duplicated().sum())\n",
    "print(\"Number of missing values is\", df.isnull().values.sum())"
   ]
  },
  {
   "cell_type": "markdown",
   "id": "934b064f",
   "metadata": {},
   "source": [
    "` بعد أن تحققنا أنه لا يوجد صفوف متكررة، نستطيع التخلص من صفة`\n",
    "\n",
    "`customerID`\n",
    "\n",
    "`حيث أن هذه الميزة لا تأثر على التوقع`"
   ]
  },
  {
   "cell_type": "code",
   "execution_count": 5,
   "id": "a566f720",
   "metadata": {},
   "outputs": [],
   "source": [
    "df.drop('customerID', axis = 1, inplace = True) # 'Inplace' implies that data is modified in place\n",
    "                                                # Axis = 1 because we are dropping a column (0 in case we are dropping a row)"
   ]
  },
  {
   "cell_type": "markdown",
   "id": "cef621ab",
   "metadata": {},
   "source": [
    "___\n",
    "#### ` ب - ترميز الأعمدة الكتابية `\n",
    "`فلنقم أيضا من التحقق من الأعمدة التي تحتوي على كتابات وتحويلها إلى أرقام من أجل بناء النموذج  `"
   ]
  },
  {
   "cell_type": "code",
   "execution_count": 6,
   "id": "8600ab9f",
   "metadata": {
    "scrolled": false
   },
   "outputs": [
    {
     "name": "stdout",
     "output_type": "stream",
     "text": [
      "Object columns are as follows\n"
     ]
    },
    {
     "data": {
      "text/plain": [
       "['gender',\n",
       " 'SeniorCitizen',\n",
       " 'Married',\n",
       " 'Dependents',\n",
       " 'PhoneService',\n",
       " 'MultipleLines',\n",
       " 'InternetService',\n",
       " 'OnlineSecurity',\n",
       " 'OnlineBackup',\n",
       " 'DeviceProtection',\n",
       " 'TechSupport',\n",
       " 'Contract',\n",
       " 'PaperlessBilling',\n",
       " 'PaymentMethod',\n",
       " 'TotalCharges',\n",
       " 'Churn']"
      ]
     },
     "execution_count": 6,
     "metadata": {},
     "output_type": "execute_result"
    }
   ],
   "source": [
    "# To identify object columns\n",
    "print('Object columns are as follows')\n",
    "object_cols = df.loc[:,df.dtypes==object].columns.tolist()\n",
    "object_cols"
   ]
  },
  {
   "cell_type": "markdown",
   "id": "0e387606",
   "metadata": {},
   "source": [
    "`نلاحظ أمرا غريبا. إن عامود\n",
    "TotalCharges\n",
    "مصنف على أنه عامود كتابي لا رقمي. وهذا أمر خاطئ حيث عند التحقق نجد أن العامود يحتوي على أرقام`"
   ]
  },
  {
   "cell_type": "code",
   "execution_count": 7,
   "id": "d5ac229b",
   "metadata": {},
   "outputs": [
    {
     "data": {
      "text/plain": [
       "0         29.85\n",
       "1        1889.5\n",
       "2        108.15\n",
       "3       1840.75\n",
       "4        151.65\n",
       "         ...   \n",
       "7038     1990.5\n",
       "7039     7362.9\n",
       "7040     346.45\n",
       "7041      306.6\n",
       "7042     6844.5\n",
       "Name: TotalCharges, Length: 7043, dtype: object"
      ]
     },
     "execution_count": 7,
     "metadata": {},
     "output_type": "execute_result"
    }
   ],
   "source": [
    "df.TotalCharges"
   ]
  },
  {
   "cell_type": "markdown",
   "id": "1d1960e4",
   "metadata": {},
   "source": [
    "`هذه الأخطاء تحصل بالعادة عند عملية إدخال البيانات في قاعدة البيانات أو حين القراءة منها. نستطيع استخدام الكود الذي بالأسفل لتحويله إلى عامود رقمي `"
   ]
  },
  {
   "cell_type": "code",
   "execution_count": 8,
   "id": "e19038d7",
   "metadata": {},
   "outputs": [],
   "source": [
    "df['TotalCharges'] = pd.to_numeric(df['TotalCharges'], errors='coerce')"
   ]
  },
  {
   "cell_type": "code",
   "execution_count": 9,
   "id": "c867e4e9",
   "metadata": {},
   "outputs": [
    {
     "name": "stdout",
     "output_type": "stream",
     "text": [
      "Object columns are as follows\n"
     ]
    },
    {
     "data": {
      "text/plain": [
       "['gender',\n",
       " 'SeniorCitizen',\n",
       " 'Married',\n",
       " 'Dependents',\n",
       " 'PhoneService',\n",
       " 'MultipleLines',\n",
       " 'InternetService',\n",
       " 'OnlineSecurity',\n",
       " 'OnlineBackup',\n",
       " 'DeviceProtection',\n",
       " 'TechSupport',\n",
       " 'Contract',\n",
       " 'PaperlessBilling',\n",
       " 'PaymentMethod',\n",
       " 'Churn']"
      ]
     },
     "execution_count": 9,
     "metadata": {},
     "output_type": "execute_result"
    }
   ],
   "source": [
    "# Check again if 'TotalCharges' is still considered as an object or not\n",
    "print('Object columns are as follows')\n",
    "object_cols = df.loc[:,df.dtypes==object].columns.tolist()\n",
    "object_cols"
   ]
  },
  {
   "cell_type": "markdown",
   "id": "0c5ddff1",
   "metadata": {},
   "source": [
    "`قمنا بتحويل نوع عامود\n",
    "TotalCharges\n",
    "من كتابي إلى رقمي بنجاح، ولكن هذه الخطوة قد ينتج بسببها بعض القيم المفقودة. حيث أن البرنامج سوف يقوم بترجمة الكتابة إلى رقم، فإن لم يستطع، سوف يترك الخلية فارغة. للتحقق من عدد الخلايا الفارغة التي نتجت نستطيع استخدام الكود التالي`"
   ]
  },
  {
   "cell_type": "code",
   "execution_count": 10,
   "id": "88d5c8a1",
   "metadata": {},
   "outputs": [
    {
     "data": {
      "text/plain": [
       "11"
      ]
     },
     "execution_count": 10,
     "metadata": {},
     "output_type": "execute_result"
    }
   ],
   "source": [
    "df['TotalCharges'].isna().sum()"
   ]
  },
  {
   "cell_type": "markdown",
   "id": "f4c83242",
   "metadata": {},
   "source": [
    "`يوجد لدينا ١١ خلية فارغة. أي أننا خسرنا بيانات ١١ عميل في صفة التكلفة الإجمالية\n",
    "TotalCharges.\n",
    "نستطيع تحديد ماهي الصفوف التي تحتوي على خلية فارغة في التكلفة الإجمالية وتعبئتها يدويا بناء على البيانات الموجودة قبل التحويل. ولكن لحفظ الوقت، نستطيع ملء الخلايا الفارغة بقيمة الوسيط لعامود التكلفة الإجمالية كحلٍ وسط يجمع ما بين الدقة والسرعة`"
   ]
  },
  {
   "cell_type": "code",
   "execution_count": 11,
   "id": "1a0beb80",
   "metadata": {},
   "outputs": [
    {
     "data": {
      "text/plain": [
       "0"
      ]
     },
     "execution_count": 11,
     "metadata": {},
     "output_type": "execute_result"
    }
   ],
   "source": [
    "# Replace missing values with the median\n",
    "df.TotalCharges.fillna(df.TotalCharges.median(), inplace = True)\n",
    "\n",
    "# Check again for missing values\n",
    "df['TotalCharges'].isna().sum()"
   ]
  },
  {
   "cell_type": "markdown",
   "id": "2c5972cd",
   "metadata": {},
   "source": [
    "`الآن، لترميز البيانات، سوف نقوم باستكشاف العناصر المميزة في كل عامود كتابي. وتذكر أن هناك نوعين في الأعمدة الكتابية\n",
    "Object columns`\n",
    "\n",
    "`Type 1 - Nominal object:  الترتيب غير مهم مثل جنس العميل`\n",
    "\n",
    "`Type 2 - Ordinal object: الترتيب مهم مثل نوع اشتراك العميل`"
   ]
  },
  {
   "cell_type": "code",
   "execution_count": 12,
   "id": "0fb9fbe5",
   "metadata": {},
   "outputs": [
    {
     "name": "stdout",
     "output_type": "stream",
     "text": [
      "Number of unique elements in gender is 2\n",
      "['Female' 'Male']\n",
      "Number of unique elements in SeniorCitizen is 2\n",
      "['No' 'Yes']\n",
      "Number of unique elements in Married is 2\n",
      "['Yes' 'No']\n",
      "Number of unique elements in Dependents is 2\n",
      "['No' 'Yes']\n",
      "Number of unique elements in PhoneService is 2\n",
      "['No' 'Yes']\n",
      "Number of unique elements in MultipleLines is 3\n",
      "['No phone service' 'No' 'Yes']\n",
      "Number of unique elements in InternetService is 3\n",
      "['DSL' 'Fiber optic' 'No']\n",
      "Number of unique elements in OnlineSecurity is 3\n",
      "['No' 'Yes' 'No internet service']\n",
      "Number of unique elements in OnlineBackup is 3\n",
      "['Yes' 'No' 'No internet service']\n",
      "Number of unique elements in DeviceProtection is 3\n",
      "['No' 'Yes' 'No internet service']\n",
      "Number of unique elements in TechSupport is 3\n",
      "['No' 'Yes' 'No internet service']\n",
      "Number of unique elements in Contract is 3\n",
      "['Month-to-month' 'One year' 'Two year']\n",
      "Number of unique elements in PaperlessBilling is 2\n",
      "['Yes' 'No']\n",
      "Number of unique elements in PaymentMethod is 4\n",
      "['Electronic check' 'Mailed check' 'Bank transfer (automatic)'\n",
      " 'Credit card (automatic)']\n",
      "Number of unique elements in Churn is 2\n",
      "['No' 'Yes']\n"
     ]
    }
   ],
   "source": [
    "# Identify the number of unique elements in each object columns\n",
    "for i in object_cols:\n",
    "    print('Number of unique elements in' , i, 'is', len(df.loc[:,i].unique()))\n",
    "    print(df.loc[:,i].unique())"
   ]
  },
  {
   "cell_type": "markdown",
   "id": "408f665b",
   "metadata": {},
   "source": [
    "_____\n",
    "`والآن سوف نقوم بالترميز عن طريق ثلاثة طرق`\n",
    "\n",
    "`Encoding method 1 - \"Mapping\" for ordinal columns`\n",
    "\n",
    "`ترميز الأعمدة المرتبة يبدأ بصفر لأقل قيمة. ثم يرتفع، على سبيل المثال عامود مشتركي خدمة الإنترنت. إن لم يكن مشترك نعطيه قيمة 0. إن كان مشترك في خدمة (الدي إس إل) نعطيه 1. وإن كان مشترك في الألياف البصرية نعطيه 2`\n",
    "____\n",
    "\n",
    "`Encoding method 2 - \"LabelEncoder\" for binary nominal columns`\n",
    "\n",
    "`ترميز الأعمدة الثنائية يكون عن طريق الـ0, 1. الأعمدة الثنائية مثل جنس العميل وهل متزوج أم لا، لا يوجد فيها أهمية كبيرة للترتيب أيهم يأخذ قيمة ال0 وأيهم ال1`\n",
    "\n",
    "\n",
    "____\n",
    "`Encoding method 3 - \"get_dummies\" for non-binary nominal columns`\n",
    "\n",
    "`ترميز الأعمدة الغير المرتبة الغير ثناية عن طريق صناعة عامود خاص لكل عنصر `\n",
    "\n",
    "\n",
    "`سوف نقوم باستخدام هذه الطريقة لترميز عامود\n",
    "PaymentMethod\n",
    "حيث أنه عامود غير ثنائي ولا يحتوي على ترتيب أيضا`"
   ]
  },
  {
   "cell_type": "markdown",
   "id": "616435c2",
   "metadata": {},
   "source": [
    "____\n",
    "`ترميز الأعمدة المرتبة`"
   ]
  },
  {
   "cell_type": "code",
   "execution_count": 13,
   "id": "f2ca6058",
   "metadata": {},
   "outputs": [],
   "source": [
    "# Firstly, we map ordinal columns\n",
    "\n",
    "df.Churn = df.Churn.map({'No':0, 'Yes':1}) # We will annotate churned customers with 1\n",
    "\n",
    "#---\n",
    "df.InternetService = df.InternetService.map({'No':0, 'DSL':1, 'Fiber optic':2})\n",
    "df.MultipleLines = df.MultipleLines.map({'No phone service':0, 'No':1, 'Yes':2})\n",
    "df.Contract = df.Contract.map({'Month-to-month':0,'One year':1,'Two year':2})\n",
    "#---\n",
    "\n",
    "## For similar ordinal columns, we can map them using a for loop\n",
    "similar_ordinal_cols = ['OnlineSecurity','OnlineBackup','DeviceProtection','TechSupport']\n",
    "for i in similar_ordinal_cols:\n",
    "    df[i] = df[i].map({'No internet service':0, 'No' :1, 'Yes': 2})"
   ]
  },
  {
   "cell_type": "markdown",
   "id": "542fb61d",
   "metadata": {},
   "source": [
    "`الآن. فلنقم بالتحقق من الأعمدة المتبقية، والتي تمثل الأعمدة الكتابية الغير مرتبة`"
   ]
  },
  {
   "cell_type": "code",
   "execution_count": 14,
   "id": "2fefc8e6",
   "metadata": {},
   "outputs": [
    {
     "name": "stdout",
     "output_type": "stream",
     "text": [
      "Object columns are as follows\n"
     ]
    },
    {
     "data": {
      "text/plain": [
       "['gender',\n",
       " 'SeniorCitizen',\n",
       " 'Married',\n",
       " 'Dependents',\n",
       " 'PhoneService',\n",
       " 'PaperlessBilling',\n",
       " 'PaymentMethod']"
      ]
     },
     "execution_count": 14,
     "metadata": {},
     "output_type": "execute_result"
    }
   ],
   "source": [
    "print('Object columns are as follows')\n",
    "object_cols = df.loc[:,df.dtypes==object].columns.tolist()\n",
    "object_cols"
   ]
  },
  {
   "cell_type": "markdown",
   "id": "89bd8e78",
   "metadata": {},
   "source": [
    "`\n",
    "جميع هذه الصفات هي صفات ثنائية(نعم أو لا) ما عدى\n",
    "PaymentMethod\n",
    "لذلك سوف نقوم بترميز\n",
    "PaymentMethod\n",
    "عن طريق\n",
    "get_dummies\n",
    "والأعمدة الثنائية عن طريق\n",
    "LabelEncoder\n",
    "`\n",
    "\n"
   ]
  },
  {
   "cell_type": "markdown",
   "id": "d0c31a46",
   "metadata": {},
   "source": [
    "____\n",
    "`ترميز الأعمدة الثنائية`"
   ]
  },
  {
   "cell_type": "code",
   "execution_count": 15,
   "id": "27d487ca",
   "metadata": {},
   "outputs": [],
   "source": [
    "# Now, we LabelEncode binary nominal columns\n",
    "\n",
    "object_cols.remove('PaymentMethod') # Remove it to later encode it using get_dummies\n",
    "from sklearn.preprocessing import LabelEncoder\n",
    "labelencoder = LabelEncoder()\n",
    "for i in object_cols:\n",
    "    df[i] = labelencoder.fit_transform(df[i])"
   ]
  },
  {
   "cell_type": "markdown",
   "id": "6ea72a5b",
   "metadata": {},
   "source": [
    "____\n",
    "`ترميز الأعمدة الغير مرتبة الغير ثنائية`"
   ]
  },
  {
   "cell_type": "code",
   "execution_count": 16,
   "id": "a95d3f78",
   "metadata": {},
   "outputs": [],
   "source": [
    "# Lastly, we encode 'PaymentMethod' column using get_dummies\n",
    "encoded_df = pd.get_dummies(df, drop_first = True) # drop_first to avoid data redundancy "
   ]
  },
  {
   "cell_type": "markdown",
   "id": "787f9a60",
   "metadata": {},
   "source": [
    "` فلنتحقق الآن من شكل البيانات الحالي بعد عملية الترميز`"
   ]
  },
  {
   "cell_type": "code",
   "execution_count": 17,
   "id": "5d6763b6",
   "metadata": {},
   "outputs": [
    {
     "data": {
      "text/html": [
       "<div>\n",
       "<style scoped>\n",
       "    .dataframe tbody tr th:only-of-type {\n",
       "        vertical-align: middle;\n",
       "    }\n",
       "\n",
       "    .dataframe tbody tr th {\n",
       "        vertical-align: top;\n",
       "    }\n",
       "\n",
       "    .dataframe thead th {\n",
       "        text-align: right;\n",
       "    }\n",
       "</style>\n",
       "<table border=\"1\" class=\"dataframe\">\n",
       "  <thead>\n",
       "    <tr style=\"text-align: right;\">\n",
       "      <th></th>\n",
       "      <th>gender</th>\n",
       "      <th>SeniorCitizen</th>\n",
       "      <th>Married</th>\n",
       "      <th>Dependents</th>\n",
       "      <th>tenure</th>\n",
       "      <th>PhoneService</th>\n",
       "      <th>MultipleLines</th>\n",
       "      <th>InternetService</th>\n",
       "      <th>OnlineSecurity</th>\n",
       "      <th>OnlineBackup</th>\n",
       "      <th>DeviceProtection</th>\n",
       "      <th>TechSupport</th>\n",
       "      <th>Contract</th>\n",
       "      <th>PaperlessBilling</th>\n",
       "      <th>MonthlyCharges</th>\n",
       "      <th>TotalCharges</th>\n",
       "      <th>Churn</th>\n",
       "      <th>PaymentMethod_Credit card (automatic)</th>\n",
       "      <th>PaymentMethod_Electronic check</th>\n",
       "      <th>PaymentMethod_Mailed check</th>\n",
       "    </tr>\n",
       "  </thead>\n",
       "  <tbody>\n",
       "    <tr>\n",
       "      <th>0</th>\n",
       "      <td>0</td>\n",
       "      <td>0</td>\n",
       "      <td>1</td>\n",
       "      <td>0</td>\n",
       "      <td>1</td>\n",
       "      <td>0</td>\n",
       "      <td>0</td>\n",
       "      <td>1</td>\n",
       "      <td>1</td>\n",
       "      <td>2</td>\n",
       "      <td>1</td>\n",
       "      <td>1</td>\n",
       "      <td>0</td>\n",
       "      <td>1</td>\n",
       "      <td>29.85</td>\n",
       "      <td>29.85</td>\n",
       "      <td>0</td>\n",
       "      <td>0</td>\n",
       "      <td>1</td>\n",
       "      <td>0</td>\n",
       "    </tr>\n",
       "    <tr>\n",
       "      <th>1</th>\n",
       "      <td>1</td>\n",
       "      <td>0</td>\n",
       "      <td>0</td>\n",
       "      <td>0</td>\n",
       "      <td>34</td>\n",
       "      <td>1</td>\n",
       "      <td>1</td>\n",
       "      <td>1</td>\n",
       "      <td>2</td>\n",
       "      <td>1</td>\n",
       "      <td>2</td>\n",
       "      <td>1</td>\n",
       "      <td>1</td>\n",
       "      <td>0</td>\n",
       "      <td>56.95</td>\n",
       "      <td>1889.50</td>\n",
       "      <td>0</td>\n",
       "      <td>0</td>\n",
       "      <td>0</td>\n",
       "      <td>1</td>\n",
       "    </tr>\n",
       "    <tr>\n",
       "      <th>2</th>\n",
       "      <td>1</td>\n",
       "      <td>0</td>\n",
       "      <td>0</td>\n",
       "      <td>0</td>\n",
       "      <td>2</td>\n",
       "      <td>1</td>\n",
       "      <td>1</td>\n",
       "      <td>1</td>\n",
       "      <td>2</td>\n",
       "      <td>2</td>\n",
       "      <td>1</td>\n",
       "      <td>1</td>\n",
       "      <td>0</td>\n",
       "      <td>1</td>\n",
       "      <td>53.85</td>\n",
       "      <td>108.15</td>\n",
       "      <td>1</td>\n",
       "      <td>0</td>\n",
       "      <td>0</td>\n",
       "      <td>1</td>\n",
       "    </tr>\n",
       "    <tr>\n",
       "      <th>3</th>\n",
       "      <td>1</td>\n",
       "      <td>0</td>\n",
       "      <td>0</td>\n",
       "      <td>0</td>\n",
       "      <td>45</td>\n",
       "      <td>0</td>\n",
       "      <td>0</td>\n",
       "      <td>1</td>\n",
       "      <td>2</td>\n",
       "      <td>1</td>\n",
       "      <td>2</td>\n",
       "      <td>2</td>\n",
       "      <td>1</td>\n",
       "      <td>0</td>\n",
       "      <td>42.30</td>\n",
       "      <td>1840.75</td>\n",
       "      <td>0</td>\n",
       "      <td>0</td>\n",
       "      <td>0</td>\n",
       "      <td>0</td>\n",
       "    </tr>\n",
       "    <tr>\n",
       "      <th>4</th>\n",
       "      <td>0</td>\n",
       "      <td>0</td>\n",
       "      <td>0</td>\n",
       "      <td>0</td>\n",
       "      <td>2</td>\n",
       "      <td>1</td>\n",
       "      <td>1</td>\n",
       "      <td>2</td>\n",
       "      <td>1</td>\n",
       "      <td>1</td>\n",
       "      <td>1</td>\n",
       "      <td>1</td>\n",
       "      <td>0</td>\n",
       "      <td>1</td>\n",
       "      <td>70.70</td>\n",
       "      <td>151.65</td>\n",
       "      <td>1</td>\n",
       "      <td>0</td>\n",
       "      <td>1</td>\n",
       "      <td>0</td>\n",
       "    </tr>\n",
       "  </tbody>\n",
       "</table>\n",
       "</div>"
      ],
      "text/plain": [
       "   gender  SeniorCitizen  Married  Dependents  tenure  PhoneService  \\\n",
       "0       0              0        1           0       1             0   \n",
       "1       1              0        0           0      34             1   \n",
       "2       1              0        0           0       2             1   \n",
       "3       1              0        0           0      45             0   \n",
       "4       0              0        0           0       2             1   \n",
       "\n",
       "   MultipleLines  InternetService  OnlineSecurity  OnlineBackup  \\\n",
       "0              0                1               1             2   \n",
       "1              1                1               2             1   \n",
       "2              1                1               2             2   \n",
       "3              0                1               2             1   \n",
       "4              1                2               1             1   \n",
       "\n",
       "   DeviceProtection  TechSupport  Contract  PaperlessBilling  MonthlyCharges  \\\n",
       "0                 1            1         0                 1           29.85   \n",
       "1                 2            1         1                 0           56.95   \n",
       "2                 1            1         0                 1           53.85   \n",
       "3                 2            2         1                 0           42.30   \n",
       "4                 1            1         0                 1           70.70   \n",
       "\n",
       "   TotalCharges  Churn  PaymentMethod_Credit card (automatic)  \\\n",
       "0         29.85      0                                      0   \n",
       "1       1889.50      0                                      0   \n",
       "2        108.15      1                                      0   \n",
       "3       1840.75      0                                      0   \n",
       "4        151.65      1                                      0   \n",
       "\n",
       "   PaymentMethod_Electronic check  PaymentMethod_Mailed check  \n",
       "0                               1                           0  \n",
       "1                               0                           1  \n",
       "2                               0                           1  \n",
       "3                               0                           0  \n",
       "4                               1                           0  "
      ]
     },
     "execution_count": 17,
     "metadata": {},
     "output_type": "execute_result"
    }
   ],
   "source": [
    "encoded_df.head()"
   ]
  },
  {
   "cell_type": "markdown",
   "id": "d58a8439",
   "metadata": {},
   "source": [
    "`نلاحظ أن العامود المستهدف\n",
    "Churn\n",
    "أصبح في منتصف الجدول، فلنقم بتحركه إلى أقصى يمين العامود من أجل المحافظة على شكل الجدول بشكل مناسب حيث أن العرف أن العامود المستهدف يكون في أقصى اليمين`"
   ]
  },
  {
   "cell_type": "code",
   "execution_count": 18,
   "id": "0a2087a3",
   "metadata": {
    "scrolled": true
   },
   "outputs": [
    {
     "data": {
      "text/html": [
       "<div>\n",
       "<style scoped>\n",
       "    .dataframe tbody tr th:only-of-type {\n",
       "        vertical-align: middle;\n",
       "    }\n",
       "\n",
       "    .dataframe tbody tr th {\n",
       "        vertical-align: top;\n",
       "    }\n",
       "\n",
       "    .dataframe thead th {\n",
       "        text-align: right;\n",
       "    }\n",
       "</style>\n",
       "<table border=\"1\" class=\"dataframe\">\n",
       "  <thead>\n",
       "    <tr style=\"text-align: right;\">\n",
       "      <th></th>\n",
       "      <th>gender</th>\n",
       "      <th>SeniorCitizen</th>\n",
       "      <th>Married</th>\n",
       "      <th>Dependents</th>\n",
       "      <th>tenure</th>\n",
       "      <th>PhoneService</th>\n",
       "      <th>MultipleLines</th>\n",
       "      <th>InternetService</th>\n",
       "      <th>OnlineSecurity</th>\n",
       "      <th>OnlineBackup</th>\n",
       "      <th>DeviceProtection</th>\n",
       "      <th>TechSupport</th>\n",
       "      <th>Contract</th>\n",
       "      <th>PaperlessBilling</th>\n",
       "      <th>MonthlyCharges</th>\n",
       "      <th>TotalCharges</th>\n",
       "      <th>PaymentMethod_Credit card (automatic)</th>\n",
       "      <th>PaymentMethod_Electronic check</th>\n",
       "      <th>PaymentMethod_Mailed check</th>\n",
       "      <th>Churn</th>\n",
       "    </tr>\n",
       "  </thead>\n",
       "  <tbody>\n",
       "    <tr>\n",
       "      <th>0</th>\n",
       "      <td>0</td>\n",
       "      <td>0</td>\n",
       "      <td>1</td>\n",
       "      <td>0</td>\n",
       "      <td>1</td>\n",
       "      <td>0</td>\n",
       "      <td>0</td>\n",
       "      <td>1</td>\n",
       "      <td>1</td>\n",
       "      <td>2</td>\n",
       "      <td>1</td>\n",
       "      <td>1</td>\n",
       "      <td>0</td>\n",
       "      <td>1</td>\n",
       "      <td>29.85</td>\n",
       "      <td>29.85</td>\n",
       "      <td>0</td>\n",
       "      <td>1</td>\n",
       "      <td>0</td>\n",
       "      <td>0</td>\n",
       "    </tr>\n",
       "    <tr>\n",
       "      <th>1</th>\n",
       "      <td>1</td>\n",
       "      <td>0</td>\n",
       "      <td>0</td>\n",
       "      <td>0</td>\n",
       "      <td>34</td>\n",
       "      <td>1</td>\n",
       "      <td>1</td>\n",
       "      <td>1</td>\n",
       "      <td>2</td>\n",
       "      <td>1</td>\n",
       "      <td>2</td>\n",
       "      <td>1</td>\n",
       "      <td>1</td>\n",
       "      <td>0</td>\n",
       "      <td>56.95</td>\n",
       "      <td>1889.50</td>\n",
       "      <td>0</td>\n",
       "      <td>0</td>\n",
       "      <td>1</td>\n",
       "      <td>0</td>\n",
       "    </tr>\n",
       "    <tr>\n",
       "      <th>2</th>\n",
       "      <td>1</td>\n",
       "      <td>0</td>\n",
       "      <td>0</td>\n",
       "      <td>0</td>\n",
       "      <td>2</td>\n",
       "      <td>1</td>\n",
       "      <td>1</td>\n",
       "      <td>1</td>\n",
       "      <td>2</td>\n",
       "      <td>2</td>\n",
       "      <td>1</td>\n",
       "      <td>1</td>\n",
       "      <td>0</td>\n",
       "      <td>1</td>\n",
       "      <td>53.85</td>\n",
       "      <td>108.15</td>\n",
       "      <td>0</td>\n",
       "      <td>0</td>\n",
       "      <td>1</td>\n",
       "      <td>1</td>\n",
       "    </tr>\n",
       "  </tbody>\n",
       "</table>\n",
       "</div>"
      ],
      "text/plain": [
       "   gender  SeniorCitizen  Married  Dependents  tenure  PhoneService  \\\n",
       "0       0              0        1           0       1             0   \n",
       "1       1              0        0           0      34             1   \n",
       "2       1              0        0           0       2             1   \n",
       "\n",
       "   MultipleLines  InternetService  OnlineSecurity  OnlineBackup  \\\n",
       "0              0                1               1             2   \n",
       "1              1                1               2             1   \n",
       "2              1                1               2             2   \n",
       "\n",
       "   DeviceProtection  TechSupport  Contract  PaperlessBilling  MonthlyCharges  \\\n",
       "0                 1            1         0                 1           29.85   \n",
       "1                 2            1         1                 0           56.95   \n",
       "2                 1            1         0                 1           53.85   \n",
       "\n",
       "   TotalCharges  PaymentMethod_Credit card (automatic)  \\\n",
       "0         29.85                                      0   \n",
       "1       1889.50                                      0   \n",
       "2        108.15                                      0   \n",
       "\n",
       "   PaymentMethod_Electronic check  PaymentMethod_Mailed check  Churn  \n",
       "0                               1                           0      0  \n",
       "1                               0                           1      0  \n",
       "2                               0                           1      1  "
      ]
     },
     "execution_count": 18,
     "metadata": {},
     "output_type": "execute_result"
    }
   ],
   "source": [
    "last_column = encoded_df.pop('Churn')\n",
    "encoded_df.insert(df.shape[1]+1, 'Churn', last_column)\n",
    "encoded_df.head(3)"
   ]
  },
  {
   "cell_type": "markdown",
   "id": "83796d49",
   "metadata": {},
   "source": [
    "______\n",
    "### `Step Three: Prepare Data for Machine Learning Training — الخطوة الثالثة: تحضير البيانات من أجل تدريب النماذج`\n"
   ]
  },
  {
   "cell_type": "markdown",
   "id": "b387783f",
   "metadata": {},
   "source": [
    "#### ` أ - فصل البيانات `\n",
    "\n",
    "` كما أشرنا سابقا في الجزء الأول، نحن نقوم بفصل البيانات إلى جزئين من أجل اختبار دقة النموذج. فلننظر إلى كيفية توزيع العملاء في عامود الـ\n",
    "Churn\n",
    "كما يلي`"
   ]
  },
  {
   "cell_type": "code",
   "execution_count": 19,
   "id": "8d1e927c",
   "metadata": {
    "scrolled": false
   },
   "outputs": [
    {
     "name": "stdout",
     "output_type": "stream",
     "text": [
      "Customer Churn distribution\n"
     ]
    },
    {
     "data": {
      "text/plain": [
       "0    5174\n",
       "1    1869\n",
       "Name: Churn, dtype: int64"
      ]
     },
     "metadata": {},
     "output_type": "display_data"
    },
    {
     "data": {
      "image/png": "[encoded data removed]",
      "text/plain": [
       "<Figure size 432x288 with 1 Axes>"
      ]
     },
     "metadata": {
      "needs_background": "light"
     },
     "output_type": "display_data"
    }
   ],
   "source": [
    "print('Customer Churn distribution')\n",
    "display(encoded_df.Churn.value_counts())\n",
    "encoded_df.Churn.value_counts(normalize = False).plot(kind= 'bar', color = 'darkblue');\n"
   ]
  },
  {
   "cell_type": "code",
   "execution_count": 20,
   "id": "6820978b",
   "metadata": {},
   "outputs": [
    {
     "name": "stdout",
     "output_type": "stream",
     "text": [
      "Customer Churn Percentages\n"
     ]
    },
    {
     "data": {
      "text/plain": [
       "0    0.73463\n",
       "1    0.26537\n",
       "Name: Churn, dtype: float64"
      ]
     },
     "metadata": {},
     "output_type": "display_data"
    }
   ],
   "source": [
    "print('Customer Churn Percentages')\n",
    "display(encoded_df.Churn.value_counts(normalize = True))"
   ]
  },
  {
   "cell_type": "markdown",
   "id": "210ead49",
   "metadata": {},
   "source": [
    "`نلاحظ أنه يوجد 5,174 عميل ما زال مستمرا مع الشركة، ومن الناحية الأخرى يوجد لدينا معلومات 1,869 عميل قد قام بترك الشركة. وحين النظر إلى النسب، نجد أن نسبة الذين تركوا الشركة هي 26.5%. ومن أجل اختبار دقة النموذج بشكل فعال، نقوم بالمحافظة على هذه النسب في كلا الجدولين (جدول التدريب وجدول الاختبار)`\n",
    "\n",
    "`ومن أجل القيام بذلك نقوم باستخدام وظيفة\n",
    "StratifiedShuffleSplit\n",
    "والتي تقوم بالحفاظ على نسبة توزيع العامود بالمستهدف `"
   ]
  },
  {
   "cell_type": "code",
   "execution_count": 21,
   "id": "d6590a3c",
   "metadata": {},
   "outputs": [],
   "source": [
    "feature_cols = encoded_df.columns[:-1] # select feature columns (Independent columns)\n",
    "\n",
    "from sklearn.model_selection import StratifiedShuffleSplit\n",
    "\n",
    "# Get the split indexes\n",
    "strat_shuf_split = StratifiedShuffleSplit(n_splits=1, \n",
    "                                          test_size=0.25, \n",
    "                                          random_state=123) # Taking 25% of the dataset as the test set \n",
    "\n",
    "# We use 'next' to get the arrays from the generator object.\n",
    "train_idx, test_idx = next(strat_shuf_split.split(encoded_df[feature_cols], encoded_df.Churn))\n",
    "\n",
    "# Create the splits\n",
    "X_train = encoded_df.loc[train_idx, feature_cols] # loc[index,column]\n",
    "y_train = encoded_df.loc[train_idx, 'Churn']\n",
    "X_test  = encoded_df.loc[test_idx, feature_cols]\n",
    "y_test  = encoded_df.loc[test_idx, 'Churn']"
   ]
  },
  {
   "cell_type": "markdown",
   "id": "ce7edb0f",
   "metadata": {},
   "source": [
    "\n",
    "` كما في الدرس الماضي، أصبح لدنيا أربعة متغيرات كالتالي`\n",
    "\n",
    "`متغيرات التدريب هي`\n",
    "\n",
    "`X_train  \n",
    "y_train`\n",
    "\n",
    "`متغيرات الاختبار هي`\n",
    "\n",
    "`X_test\n",
    "y_test\n",
    "`\n",
    "\n"
   ]
  },
  {
   "cell_type": "markdown",
   "id": "89c1b281",
   "metadata": {},
   "source": [
    "` للتحقق من أن توزيع العامود المستهدف في كلا من مجموعتي التدريب والاختبار متساوي `"
   ]
  },
  {
   "cell_type": "code",
   "execution_count": 22,
   "id": "139fd96f",
   "metadata": {},
   "outputs": [
    {
     "data": {
      "text/plain": [
       "0    0.73457\n",
       "1    0.26543\n",
       "Name: Churn, dtype: float64"
      ]
     },
     "execution_count": 22,
     "metadata": {},
     "output_type": "execute_result"
    }
   ],
   "source": [
    "y_train.value_counts(normalize=True) "
   ]
  },
  {
   "cell_type": "code",
   "execution_count": 23,
   "id": "80856521",
   "metadata": {},
   "outputs": [
    {
     "data": {
      "text/plain": [
       "0    0.73481\n",
       "1    0.26519\n",
       "Name: Churn, dtype: float64"
      ]
     },
     "execution_count": 23,
     "metadata": {},
     "output_type": "execute_result"
    }
   ],
   "source": [
    "y_test.value_counts(normalize=True)"
   ]
  },
  {
   "cell_type": "markdown",
   "id": "72fa3cf1",
   "metadata": {},
   "source": [
    "_____\n",
    "#### ` ب - أعادة وزن قيم الأعمدة `"
   ]
  },
  {
   "cell_type": "markdown",
   "id": "e045b2e4",
   "metadata": {},
   "source": [
    "`الآن سوف نقوم بالخطوة الأخيرة قبل تدريب النماذج وهي إعادة وزن الأعمدة. وذلك مثل ما ذكرنا في الجزء الأول من أجل جعل الأعمدة ذات أثر متساوي في بناءالنموذج`"
   ]
  },
  {
   "cell_type": "code",
   "execution_count": 24,
   "id": "edaf9947",
   "metadata": {},
   "outputs": [],
   "source": [
    "from sklearn.preprocessing import StandardScaler\n",
    "scaler = StandardScaler()\n",
    "X_train = scaler.fit_transform(X_train)\n",
    "X_test = scaler.transform(X_test)"
   ]
  },
  {
   "cell_type": "markdown",
   "id": "250968af",
   "metadata": {},
   "source": [
    "_____\n",
    "### `Step Four: Train and Evaluate the ML Models  —   الخطوة الرابعة: تدريب النماذج وتقييم أداؤها `"
   ]
  },
  {
   "cell_type": "markdown",
   "id": "3bbc78b0",
   "metadata": {},
   "source": [
    "\n",
    "`\n",
    "سوف نقوم بتدريب ثلاثة نماذج وتقييم أداؤها، هذه النماذج سوف تكون باستخدام الخوارزميات التالية`\n",
    "\n",
    "\n",
    "`1 - K-Nearest Neighbor (KNN) - خوارزمية تتوقع التصنيف بناء على تصنيف العملاء القريبين (الجيران) \n",
    "`\n",
    "\n",
    "`\n",
    "2 - Support Vector Machine (SVM) - خوازمية تتوقع التصنيف بناء على فصل المجموعات\n",
    "`\n",
    "\n",
    "`\n",
    "3 - Logistic Regression (LR) - خوارزمية تتوقع احتمالية التصنيف\n",
    "`\n",
    "_____\n",
    "\n",
    "`أيضا، كما أنه هنالك معاير لتقييم أداء نماذج الإنحدار الخطي\n",
    "Linear Regression\n",
    "هناك أيضا معاير لتقييم الأداء في نماذج التصنيف\n",
    "Classification\n",
    "`\n",
    "\n",
    "\n",
    "`\n",
    "والمعاير المستخدمة في هذا المشروع هي\n",
    "Accuracy \n",
    "Precision \n",
    "Recall\n",
    "f1-score\n",
    "`\n",
    "\n",
    "\n",
    "`\n",
    "ونحن ننصح بالاطلاع على معنى كل معيار والغرض منه من خلال زيارة هذا الثريد المميز الذي قام به أحد أعضاء فريق فهم (محمد عثمان)\n",
    "`\n",
    "\n",
    "https://twitter.com/science10s/status/1493508247638228997?s=48&t=eHJgqQaA7lIq2803JDsVwQ"
   ]
  },
  {
   "cell_type": "markdown",
   "id": "ebe77105",
   "metadata": {},
   "source": [
    "____\n",
    "`1 - K Nearest Neighbor`"
   ]
  },
  {
   "cell_type": "code",
   "execution_count": 25,
   "id": "b4c136de",
   "metadata": {
    "scrolled": true
   },
   "outputs": [],
   "source": [
    "from sklearn.neighbors import KNeighborsClassifier\n",
    "knn = KNeighborsClassifier(n_neighbors=7) # We will use 7 neighbors, feel free to try other values \n",
    "knn.fit(X_train, y_train)\n",
    "y_preds = knn.predict(X_test)"
   ]
  },
  {
   "cell_type": "code",
   "execution_count": 26,
   "id": "ebe826a0",
   "metadata": {},
   "outputs": [
    {
     "name": "stdout",
     "output_type": "stream",
     "text": [
      "              precision    recall  f1-score   support\n",
      "\n",
      "           0       0.83      0.85      0.84      1294\n",
      "           1       0.56      0.52      0.54       467\n",
      "\n",
      "    accuracy                           0.76      1761\n",
      "   macro avg       0.70      0.69      0.69      1761\n",
      "weighted avg       0.76      0.76      0.76      1761\n",
      "\n",
      "-------------\n",
      "Accuracy score:  0.76\n"
     ]
    }
   ],
   "source": [
    "from sklearn.metrics import accuracy_score, classification_report\n",
    "print(classification_report(y_test, y_preds))\n",
    "print('-------------')\n",
    "print('Accuracy score: ', round(accuracy_score(y_test, y_preds), 2))"
   ]
  },
  {
   "cell_type": "markdown",
   "id": "5d441ae3",
   "metadata": {},
   "source": [
    "_____\n",
    "`B - Support Vector Machine`"
   ]
  },
  {
   "cell_type": "code",
   "execution_count": 27,
   "id": "f1a5a97c",
   "metadata": {
    "scrolled": false
   },
   "outputs": [],
   "source": [
    "from sklearn.svm import SVC\n",
    "SVM_Model = SVC(kernel='rbf',gamma=1)\n",
    "SVM_Model.fit(X_train, y_train)\n",
    "y_preds = SVM_Model.predict(X_test)\n"
   ]
  },
  {
   "cell_type": "code",
   "execution_count": 28,
   "id": "4680d7fa",
   "metadata": {},
   "outputs": [
    {
     "name": "stdout",
     "output_type": "stream",
     "text": [
      "              precision    recall  f1-score   support\n",
      "\n",
      "           0       0.79      0.93      0.86      1294\n",
      "           1       0.63      0.33      0.43       467\n",
      "\n",
      "    accuracy                           0.77      1761\n",
      "   macro avg       0.71      0.63      0.64      1761\n",
      "weighted avg       0.75      0.77      0.74      1761\n",
      "\n",
      "-------------\n",
      "Accuracy score:  0.77\n"
     ]
    }
   ],
   "source": [
    "print(classification_report(y_test, y_preds))\n",
    "print('-------------')\n",
    "print('Accuracy score: ', round(accuracy_score(y_test, y_preds), 2))"
   ]
  },
  {
   "cell_type": "markdown",
   "id": "98bbc91d",
   "metadata": {},
   "source": [
    "_______\n",
    "\n",
    "` C - Logistic Regression` \n",
    "\n",
    "`للتنويه: على الرغم من تشابه اسم\n",
    "Logistic Regression\n",
    "مع\n",
    "Linear Regression\n",
    "إلا أن الـ\n",
    "Logistic Regression\n",
    "يستعمل فقط في التصنيف وليس في توقع القيم المتصلة على غرار الإنحدار الخطي`"
   ]
  },
  {
   "cell_type": "code",
   "execution_count": 29,
   "id": "d0d73a5f",
   "metadata": {},
   "outputs": [
    {
     "data": {
      "text/html": [
       "<div>\n",
       "<style scoped>\n",
       "    .dataframe tbody tr th:only-of-type {\n",
       "        vertical-align: middle;\n",
       "    }\n",
       "\n",
       "    .dataframe tbody tr th {\n",
       "        vertical-align: top;\n",
       "    }\n",
       "\n",
       "    .dataframe thead th {\n",
       "        text-align: right;\n",
       "    }\n",
       "</style>\n",
       "<table border=\"1\" class=\"dataframe\">\n",
       "  <thead>\n",
       "    <tr style=\"text-align: right;\">\n",
       "      <th></th>\n",
       "      <th>Prediction</th>\n",
       "      <th>Probability</th>\n",
       "    </tr>\n",
       "  </thead>\n",
       "  <tbody>\n",
       "    <tr>\n",
       "      <th>0</th>\n",
       "      <td>1.0</td>\n",
       "      <td>0.743765</td>\n",
       "    </tr>\n",
       "    <tr>\n",
       "      <th>1</th>\n",
       "      <td>0.0</td>\n",
       "      <td>0.958825</td>\n",
       "    </tr>\n",
       "    <tr>\n",
       "      <th>2</th>\n",
       "      <td>0.0</td>\n",
       "      <td>0.996193</td>\n",
       "    </tr>\n",
       "    <tr>\n",
       "      <th>3</th>\n",
       "      <td>0.0</td>\n",
       "      <td>0.834216</td>\n",
       "    </tr>\n",
       "    <tr>\n",
       "      <th>4</th>\n",
       "      <td>0.0</td>\n",
       "      <td>0.953707</td>\n",
       "    </tr>\n",
       "    <tr>\n",
       "      <th>5</th>\n",
       "      <td>1.0</td>\n",
       "      <td>0.506502</td>\n",
       "    </tr>\n",
       "    <tr>\n",
       "      <th>6</th>\n",
       "      <td>0.0</td>\n",
       "      <td>0.775160</td>\n",
       "    </tr>\n",
       "    <tr>\n",
       "      <th>7</th>\n",
       "      <td>0.0</td>\n",
       "      <td>0.692961</td>\n",
       "    </tr>\n",
       "    <tr>\n",
       "      <th>8</th>\n",
       "      <td>0.0</td>\n",
       "      <td>0.722585</td>\n",
       "    </tr>\n",
       "    <tr>\n",
       "      <th>9</th>\n",
       "      <td>0.0</td>\n",
       "      <td>0.993586</td>\n",
       "    </tr>\n",
       "  </tbody>\n",
       "</table>\n",
       "</div>"
      ],
      "text/plain": [
       "   Prediction  Probability\n",
       "0         1.0     0.743765\n",
       "1         0.0     0.958825\n",
       "2         0.0     0.996193\n",
       "3         0.0     0.834216\n",
       "4         0.0     0.953707\n",
       "5         1.0     0.506502\n",
       "6         0.0     0.775160\n",
       "7         0.0     0.692961\n",
       "8         0.0     0.722585\n",
       "9         0.0     0.993586"
      ]
     },
     "execution_count": 29,
     "metadata": {},
     "output_type": "execute_result"
    }
   ],
   "source": [
    "from sklearn.linear_model import LogisticRegression\n",
    "lr = LogisticRegression(solver='liblinear')\n",
    "lr.fit(X_train, y_train)\n",
    "lr_preds = lr.predict(X_test)\n",
    "lr_prob = lr.predict_proba(X_test).max(axis=1)\n",
    "\n",
    "\n",
    "Logistic_Results = (pd.DataFrame([lr_preds,lr_prob])\n",
    "                    .T.rename(columns={0:'Prediction',1:'Probability'}))\n",
    "Logistic_Results.head(10)\n"
   ]
  },
  {
   "cell_type": "code",
   "execution_count": 30,
   "id": "9c450955",
   "metadata": {
    "scrolled": false
   },
   "outputs": [
    {
     "name": "stdout",
     "output_type": "stream",
     "text": [
      "              precision    recall  f1-score   support\n",
      "\n",
      "           0       0.84      0.90      0.87      1294\n",
      "           1       0.65      0.52      0.58       467\n",
      "\n",
      "    accuracy                           0.80      1761\n",
      "   macro avg       0.75      0.71      0.72      1761\n",
      "weighted avg       0.79      0.80      0.79      1761\n",
      "\n",
      "-------------\n",
      "Accuracy score:  0.8\n"
     ]
    }
   ],
   "source": [
    "print(classification_report(y_test, lr_preds))\n",
    "print('-------------')\n",
    "print('Accuracy score: ', round(accuracy_score(y_test, lr_preds), 2))"
   ]
  },
  {
   "cell_type": "markdown",
   "id": "907949af",
   "metadata": {},
   "source": [
    "`نلاحظ أن أحد مزايا خوارزمية\n",
    "Logistic Regression\n",
    "هي القدرة على اعطاء التوقع مع احتمالية حصوله. فمثلا، لقد توقع النموذج أن العميل الأول في مجموعة الاختبار سوف يترك الشركة واحتمالية حصول هذا الأمر هي 0.74`"
   ]
  },
  {
   "cell_type": "markdown",
   "id": "785b4359",
   "metadata": {},
   "source": [
    "___\n",
    "### `Bonus Step: Improve Recall Score —  خطوة إضافية: تحسين معدل الاسترجاع `\n"
   ]
  },
  {
   "cell_type": "markdown",
   "id": "a2a43785",
   "metadata": {},
   "source": [
    "\n",
    "`نلاحظ أن نموذج الـ\n",
    "Logistic Regression\n",
    "قد أحرز أعلى نتيجة \n",
    "Accuracy = 80%.\n",
    "`\n",
    "\n",
    "\n",
    "\n",
    "`\n",
    " إلا أن نماذجنا الحالية ما زالت تعاني من توقع الـ\n",
    "Churn\n",
    " بشكل دقيق بسبب أن الـ\n",
    " Recall\n",
    " منخفض\n",
    "`\n",
    "\n",
    "\n",
    "\n",
    "`وللتوضيح أكثر، إن معيار\n",
    "recall\n",
    " يساوي 0.52 عند توقع الـ1 أي حين توقع من من العملاء سوف يترك الشركة (توقع الـ \n",
    "Churn)\n",
    "`\n",
    "\n",
    "\n",
    "`\n",
    "مما يعني أن هناك 52% من الذين تركوا الشركة توقعناهم بشكل صحيح أنهم تركوا الشركة. وهناك 48% من الذين تركوا الشركة لم نستطع توقع تركهم. إحد أسباب هذه المشكلة هي وجود صفوف قليلة لمن ترك الشركة مقارنة بصفوف الموجودين حيث أن نسبة صفوف الذين تركوا الشركة هي 26.5% فقط. وهذه مشكلة معروفة بـ\n",
    "Imbalanced target feature\n",
    "`\n",
    "\n",
    "\n",
    "`\n",
    "إحدى حلول هذه المشكلة هي توليد صفوف صناعية تكون مشابهة لصفوف العملاء الذين تركوا الشركة وذلك من إجل موازنة توزيع قيم العامود المستهدف كالتالي`"
   ]
  },
  {
   "cell_type": "code",
   "execution_count": 31,
   "id": "f509ac15",
   "metadata": {},
   "outputs": [],
   "source": [
    "from imblearn.over_sampling import SMOTE\n",
    "Smote = SMOTE(random_state=123)\n",
    "X_Smote, y_Smote = Smote.fit_resample(X_train, y_train)"
   ]
  },
  {
   "cell_type": "code",
   "execution_count": 32,
   "id": "dc5683e5",
   "metadata": {},
   "outputs": [],
   "source": [
    "lr = LogisticRegression(solver='liblinear')\n",
    "lr.fit(X_Smote, y_Smote)\n",
    "lr_preds = lr.predict(X_test)"
   ]
  },
  {
   "cell_type": "code",
   "execution_count": 33,
   "id": "cce525da",
   "metadata": {},
   "outputs": [
    {
     "name": "stdout",
     "output_type": "stream",
     "text": [
      "              precision    recall  f1-score   support\n",
      "\n",
      "           0       0.91      0.75      0.82      1294\n",
      "           1       0.53      0.78      0.63       467\n",
      "\n",
      "    accuracy                           0.76      1761\n",
      "   macro avg       0.72      0.77      0.72      1761\n",
      "weighted avg       0.81      0.76      0.77      1761\n",
      "\n",
      "-------------\n",
      "Accuracy score:  0.76\n"
     ]
    }
   ],
   "source": [
    "print(classification_report(y_test, lr_preds))\n",
    "print('-------------')\n",
    "print('Accuracy score: ', round(accuracy_score(y_test, lr_preds), 2))"
   ]
  },
  {
   "cell_type": "markdown",
   "id": "9b4cbbc5",
   "metadata": {},
   "source": [
    "`نلاحظ أن دقة النموذج الكلية قد انخفضت إلى 76% ولكن دقة الـ\n",
    "Recall\n",
    "قد ارتفعت إلى 78% وهو مؤشر جيد لأن حين توقع من من العملاء سوف يترك الشركة، معيار الـ\n",
    "Recall\n",
    "يعتبر هو ذو الأهمية الكبرى`"
   ]
  },
  {
   "cell_type": "markdown",
   "id": "101cc0ea",
   "metadata": {},
   "source": [
    "___\n",
    "###  `نصيحة فهم للتعلم`\n",
    "`في هذا الدرس تحدثنا عن النوع الثاني من أنواع تعلم الآلة الخاضع للإشراف ألا وهو التصنيف. نصيحة فهم هي التعرف على نقاط القوة والضعف للخوارزميات المستعملة في هذا الدرس. بالإضافة إلى التعرف إلى معايير تقييم جودة نماذج التصنيف مثل الدفة والاسترجاع. يمكنكم أيضا زيارة موقع \n",
    "Kaggle\n",
    "لتجربة حلول مشاريع أخرى باستخدام خوازميات التصنيف لتثبيت ما تم تعلمه`"
   ]
  },
  {
   "cell_type": "markdown",
   "id": "e8d16751",
   "metadata": {},
   "source": [
    "___\n",
    "##  `ماذا تعلمنا؟`\n",
    "#####     `خوازميات التصنيف تستعمل بكثرة في مجالات متعددة مثل الطب والصناعة• `\n",
    "#####   `اكتشفنا مرة أخرى أن معالجة البيانات بشكل مناسب هي الجزء الأهم لضمان جودة النماذج • `\n",
    "#####   `بعض خوارزميات التصنيف تعطي التوقع مع احتمالية حدوث التوقع مثل خوارزمية  • ` \n",
    "##### `Logistic Regression` \n",
    "#####     ` حين فصل البيانات من أجل التدريب والاختبار. يستحسن المحافظة على توزيع القيم في العامود المستهدف من خلال • ` \n",
    "##### `StratifiedShuffleSplit`\n",
    "#####     `   معايير تقييم أداء نماذج التصنيف متعددة، وتختلف أهمية المعيار بحسب التطبيق •`\n",
    "#####     `  عند توقع من من العملاء سوف يترك الشركة، يكون معيار الاسترجاع هو أهم معيار •`\n",
    "##### ` Recall metric`"
   ]
  }
 ],
 "metadata": {
  "kernelspec": {
   "display_name": "Python 3 (ipykernel)",
   "language": "python",
   "name": "python3"
  },
  "language_info": {
   "codemirror_mode": {
    "name": "ipython",
    "version": 3
   },
   "file_extension": ".py",
   "mimetype": "text/x-python",
   "name": "python",
   "nbconvert_exporter": "python",
   "pygments_lexer": "ipython3",
   "version": "3.9.12"
  }
 },
 "nbformat": 4,
 "nbformat_minor": 5
}
