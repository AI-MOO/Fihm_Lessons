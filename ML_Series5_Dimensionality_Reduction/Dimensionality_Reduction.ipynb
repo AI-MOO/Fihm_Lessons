{
 "cells": [
  {
   "cell_type": "markdown",
   "id": "7cd27bcb",
   "metadata": {},
   "source": [
    "<a href='https://fihm.ai/' target='_blank'><img src='https://i.postimg.cc/Y25KhxPM/q.png' border='0' width = 250 alt='q'/></a>"
   ]
  },
  {
   "cell_type": "markdown",
   "id": "21123120",
   "metadata": {},
   "source": [
    "## ` سلسلة فهم لتعلم الآلة - الجزء الخامس - تقليل أبعاد البيانات `\n",
    "## `Fihm Series for Machine Learning - Part 5 - Dimensionality Reduction`"
   ]
  },
  {
   "cell_type": "markdown",
   "id": "a8d56c27",
   "metadata": {},
   "source": [
    "___\n",
    "### `مقدمة`\n",
    "`أهلا بكم في الجزء الخامس من سلسلة فهم لتعلم الآلة. في هذا الجزء سوف نستكشف سويًا ماهو التعلم الآلي الغير خاضع للإشراف وإحدى أهم استخداماته ألا وهي تقليل أبعاد البيانات. إن التعلم الغير الخاضع للإشراف هو نوع من أنواع التعلم الآلي تتعلم فيه الخوارزمية أنماط البيانات الغير مسماة، أي أنها تستكشف الأنماط في جداول البيانات التي لا تحتوي على متغيرات مستهدفة. وإن تطبيقات التعلم الآلي الغير خاضع للإشراف متعددة، فهي تشمل تقسيم العملاء، اكتشاف الشذوذ والقيم المتطرفة،التعرف على الصور، معالجة اللغات وأنظمة الاقتراحات. وفي درس اليوم سوف نتناول أحد أشهر تطبيقات التعلم الآلي الغير خاضع للأشراف، ألا وهو تقليل أبعاد البيانات\n",
    "`\n",
    "\n",
    "___\n",
    "### `تقليل أبعاد البيانات من خلال تحليل المكونات الرئيسية` \n",
    "### `Dimensionality Reduction via Principal Component Analysis (PCA)`\n",
    "\n",
    "`\n",
    "تحليل المكونات الرئيسية هو أحد الأساليب الشائعة في التعلم الغير الخاضع للإشراف والذي يستخدم لتقليل الأبعاد. وهو عبارة عن طريقة إحصائية تحدد البنية الأساسية للبيانات ذات الأبعاد الكثيرة - أي التي تحتوي على العديد من الأعمدة - من أجل تقليل حجمها. ولذلك فهي تستخدم في فهم البيانات عالية التعقيد ومن أجل تقليل الوقت المستغرق في تدريب النموذج لأن حجم البيانات يصبح أصغر بعد عملية تحليل المكونات الرئيسية`"
   ]
  },
  {
   "cell_type": "markdown",
   "id": "499e8804",
   "metadata": {},
   "source": [
    "___\n",
    "### `ماذا نريد أن نفعل؟`\n",
    "`قمنا سابقا في درس`\n",
    "\n",
    "https://fihm.ai/tutorials/human-activity-recognition-by-machine-learning/\n",
    "\n",
    "`ببناء نماذج تعلم آلة تقوم بتصنيف نوع النشاط البدني الذي يقوم به الإنسان، ولكن إن تمعنا جيدًا في عدد الأعمدة المستخدمة في تدريب النماذج نجد أننا قمنا باستخدام 563 عامود (ميزة) وهو عددٌ كبير جدًا. وهو ما نلاحظه من حجم البيانات ألا وهو 18.4 ميقابايت. مهمتنا اليوم هو تقليل حجم البيانات من خلال تقليص عدد الأعمدة ومن ثم تدريب نماذج تعلم الآلة من جديد مع المحافظة قدر المستطاع على الأداء`"
   ]
  },
  {
   "cell_type": "markdown",
   "id": "6979a699",
   "metadata": {},
   "source": [
    "_____\n",
    "\n",
    "### `البيانات المستخدمة في هذا الدرس`\n",
    "\n",
    "`في هذا الدرس سوف نستكمل استخدامنا لبيانات حركة جسم الإنسان والتي يمكن تحميلها من الرابط التالي`\n",
    "\n",
    "https://github.com/AI-MOO/Fihm_Lessons/blob/master/Human_Activity_Recognition_ML/data/test.csv\n",
    "\n",
    "`المصدر الأصلي للبيانات`\n",
    "\n",
    "https://archive.ics.uci.edu/ml/datasets/human+activity+recognition+using+smartphones"
   ]
  },
  {
   "cell_type": "code",
   "execution_count": 1,
   "id": "589b72c7",
   "metadata": {},
   "outputs": [
    {
     "data": {
      "text/html": [
       "<div>\n",
       "<style scoped>\n",
       "    .dataframe tbody tr th:only-of-type {\n",
       "        vertical-align: middle;\n",
       "    }\n",
       "\n",
       "    .dataframe tbody tr th {\n",
       "        vertical-align: top;\n",
       "    }\n",
       "\n",
       "    .dataframe thead th {\n",
       "        text-align: right;\n",
       "    }\n",
       "</style>\n",
       "<table border=\"1\" class=\"dataframe\">\n",
       "  <thead>\n",
       "    <tr style=\"text-align: right;\">\n",
       "      <th></th>\n",
       "      <th>tBodyAcc-mean()-X</th>\n",
       "      <th>tBodyAcc-mean()-Y</th>\n",
       "      <th>tBodyAcc-mean()-Z</th>\n",
       "      <th>tBodyAcc-std()-X</th>\n",
       "      <th>tBodyAcc-std()-Y</th>\n",
       "      <th>tBodyAcc-std()-Z</th>\n",
       "      <th>tBodyAcc-mad()-X</th>\n",
       "      <th>tBodyAcc-mad()-Y</th>\n",
       "      <th>tBodyAcc-mad()-Z</th>\n",
       "      <th>tBodyAcc-max()-X</th>\n",
       "      <th>...</th>\n",
       "      <th>fBodyBodyGyroJerkMag-kurtosis()</th>\n",
       "      <th>angle(tBodyAccMean,gravity)</th>\n",
       "      <th>angle(tBodyAccJerkMean),gravityMean)</th>\n",
       "      <th>angle(tBodyGyroMean,gravityMean)</th>\n",
       "      <th>angle(tBodyGyroJerkMean,gravityMean)</th>\n",
       "      <th>angle(X,gravityMean)</th>\n",
       "      <th>angle(Y,gravityMean)</th>\n",
       "      <th>angle(Z,gravityMean)</th>\n",
       "      <th>subject</th>\n",
       "      <th>Activity</th>\n",
       "    </tr>\n",
       "  </thead>\n",
       "  <tbody>\n",
       "    <tr>\n",
       "      <th>0</th>\n",
       "      <td>0.257178</td>\n",
       "      <td>-0.023285</td>\n",
       "      <td>-0.014654</td>\n",
       "      <td>-0.938404</td>\n",
       "      <td>-0.920091</td>\n",
       "      <td>-0.667683</td>\n",
       "      <td>-0.952501</td>\n",
       "      <td>-0.925249</td>\n",
       "      <td>-0.674302</td>\n",
       "      <td>-0.894088</td>\n",
       "      <td>...</td>\n",
       "      <td>-0.705974</td>\n",
       "      <td>0.006462</td>\n",
       "      <td>0.162920</td>\n",
       "      <td>-0.825886</td>\n",
       "      <td>0.271151</td>\n",
       "      <td>-0.720009</td>\n",
       "      <td>0.276801</td>\n",
       "      <td>-0.057978</td>\n",
       "      <td>2</td>\n",
       "      <td>STANDING</td>\n",
       "    </tr>\n",
       "    <tr>\n",
       "      <th>1</th>\n",
       "      <td>0.286027</td>\n",
       "      <td>-0.013163</td>\n",
       "      <td>-0.119083</td>\n",
       "      <td>-0.975415</td>\n",
       "      <td>-0.967458</td>\n",
       "      <td>-0.944958</td>\n",
       "      <td>-0.986799</td>\n",
       "      <td>-0.968401</td>\n",
       "      <td>-0.945823</td>\n",
       "      <td>-0.894088</td>\n",
       "      <td>...</td>\n",
       "      <td>-0.594944</td>\n",
       "      <td>-0.083495</td>\n",
       "      <td>0.017500</td>\n",
       "      <td>-0.434375</td>\n",
       "      <td>0.920593</td>\n",
       "      <td>-0.698091</td>\n",
       "      <td>0.281343</td>\n",
       "      <td>-0.083898</td>\n",
       "      <td>2</td>\n",
       "      <td>STANDING</td>\n",
       "    </tr>\n",
       "    <tr>\n",
       "      <th>2</th>\n",
       "      <td>0.275485</td>\n",
       "      <td>-0.026050</td>\n",
       "      <td>-0.118152</td>\n",
       "      <td>-0.993819</td>\n",
       "      <td>-0.969926</td>\n",
       "      <td>-0.962748</td>\n",
       "      <td>-0.994403</td>\n",
       "      <td>-0.970735</td>\n",
       "      <td>-0.963483</td>\n",
       "      <td>-0.939260</td>\n",
       "      <td>...</td>\n",
       "      <td>-0.640736</td>\n",
       "      <td>-0.034956</td>\n",
       "      <td>0.202302</td>\n",
       "      <td>0.064103</td>\n",
       "      <td>0.145068</td>\n",
       "      <td>-0.702771</td>\n",
       "      <td>0.280083</td>\n",
       "      <td>-0.079346</td>\n",
       "      <td>2</td>\n",
       "      <td>STANDING</td>\n",
       "    </tr>\n",
       "    <tr>\n",
       "      <th>3</th>\n",
       "      <td>0.270298</td>\n",
       "      <td>-0.032614</td>\n",
       "      <td>-0.117520</td>\n",
       "      <td>-0.994743</td>\n",
       "      <td>-0.973268</td>\n",
       "      <td>-0.967091</td>\n",
       "      <td>-0.995274</td>\n",
       "      <td>-0.974471</td>\n",
       "      <td>-0.968897</td>\n",
       "      <td>-0.938610</td>\n",
       "      <td>...</td>\n",
       "      <td>-0.736124</td>\n",
       "      <td>-0.017067</td>\n",
       "      <td>0.154438</td>\n",
       "      <td>0.340134</td>\n",
       "      <td>0.296407</td>\n",
       "      <td>-0.698954</td>\n",
       "      <td>0.284114</td>\n",
       "      <td>-0.077108</td>\n",
       "      <td>2</td>\n",
       "      <td>STANDING</td>\n",
       "    </tr>\n",
       "    <tr>\n",
       "      <th>4</th>\n",
       "      <td>0.274833</td>\n",
       "      <td>-0.027848</td>\n",
       "      <td>-0.129527</td>\n",
       "      <td>-0.993852</td>\n",
       "      <td>-0.967445</td>\n",
       "      <td>-0.978295</td>\n",
       "      <td>-0.994111</td>\n",
       "      <td>-0.965953</td>\n",
       "      <td>-0.977346</td>\n",
       "      <td>-0.938610</td>\n",
       "      <td>...</td>\n",
       "      <td>-0.846595</td>\n",
       "      <td>-0.002223</td>\n",
       "      <td>-0.040046</td>\n",
       "      <td>0.736715</td>\n",
       "      <td>-0.118545</td>\n",
       "      <td>-0.692245</td>\n",
       "      <td>0.290722</td>\n",
       "      <td>-0.073857</td>\n",
       "      <td>2</td>\n",
       "      <td>STANDING</td>\n",
       "    </tr>\n",
       "  </tbody>\n",
       "</table>\n",
       "<p>5 rows × 563 columns</p>\n",
       "</div>"
      ],
      "text/plain": [
       "   tBodyAcc-mean()-X  tBodyAcc-mean()-Y  tBodyAcc-mean()-Z  tBodyAcc-std()-X  \\\n",
       "0           0.257178          -0.023285          -0.014654         -0.938404   \n",
       "1           0.286027          -0.013163          -0.119083         -0.975415   \n",
       "2           0.275485          -0.026050          -0.118152         -0.993819   \n",
       "3           0.270298          -0.032614          -0.117520         -0.994743   \n",
       "4           0.274833          -0.027848          -0.129527         -0.993852   \n",
       "\n",
       "   tBodyAcc-std()-Y  tBodyAcc-std()-Z  tBodyAcc-mad()-X  tBodyAcc-mad()-Y  \\\n",
       "0         -0.920091         -0.667683         -0.952501         -0.925249   \n",
       "1         -0.967458         -0.944958         -0.986799         -0.968401   \n",
       "2         -0.969926         -0.962748         -0.994403         -0.970735   \n",
       "3         -0.973268         -0.967091         -0.995274         -0.974471   \n",
       "4         -0.967445         -0.978295         -0.994111         -0.965953   \n",
       "\n",
       "   tBodyAcc-mad()-Z  tBodyAcc-max()-X  ...  fBodyBodyGyroJerkMag-kurtosis()  \\\n",
       "0         -0.674302         -0.894088  ...                        -0.705974   \n",
       "1         -0.945823         -0.894088  ...                        -0.594944   \n",
       "2         -0.963483         -0.939260  ...                        -0.640736   \n",
       "3         -0.968897         -0.938610  ...                        -0.736124   \n",
       "4         -0.977346         -0.938610  ...                        -0.846595   \n",
       "\n",
       "   angle(tBodyAccMean,gravity)  angle(tBodyAccJerkMean),gravityMean)  \\\n",
       "0                     0.006462                              0.162920   \n",
       "1                    -0.083495                              0.017500   \n",
       "2                    -0.034956                              0.202302   \n",
       "3                    -0.017067                              0.154438   \n",
       "4                    -0.002223                             -0.040046   \n",
       "\n",
       "   angle(tBodyGyroMean,gravityMean)  angle(tBodyGyroJerkMean,gravityMean)  \\\n",
       "0                         -0.825886                              0.271151   \n",
       "1                         -0.434375                              0.920593   \n",
       "2                          0.064103                              0.145068   \n",
       "3                          0.340134                              0.296407   \n",
       "4                          0.736715                             -0.118545   \n",
       "\n",
       "   angle(X,gravityMean)  angle(Y,gravityMean)  angle(Z,gravityMean)  subject  \\\n",
       "0             -0.720009              0.276801             -0.057978        2   \n",
       "1             -0.698091              0.281343             -0.083898        2   \n",
       "2             -0.702771              0.280083             -0.079346        2   \n",
       "3             -0.698954              0.284114             -0.077108        2   \n",
       "4             -0.692245              0.290722             -0.073857        2   \n",
       "\n",
       "   Activity  \n",
       "0  STANDING  \n",
       "1  STANDING  \n",
       "2  STANDING  \n",
       "3  STANDING  \n",
       "4  STANDING  \n",
       "\n",
       "[5 rows x 563 columns]"
      ]
     },
     "execution_count": 1,
     "metadata": {},
     "output_type": "execute_result"
    }
   ],
   "source": [
    "import pandas as pd\n",
    "data = pd.read_csv('https://github.com/AI-MOO/Fihm_Lessons/raw/master/Human_Activity_Recognition_ML/data/test.csv')\n",
    "data.head()"
   ]
  },
  {
   "cell_type": "markdown",
   "id": "ebb5c17f",
   "metadata": {},
   "source": [
    "`عند التحقق من عدد الأعمدة نجد أن لدينا 563 عامودًا مستخدما`"
   ]
  },
  {
   "cell_type": "code",
   "execution_count": 2,
   "id": "38177606",
   "metadata": {
    "scrolled": true
   },
   "outputs": [
    {
     "name": "stdout",
     "output_type": "stream",
     "text": [
      "data dimensions are: (2947, 563)\n"
     ]
    }
   ],
   "source": [
    "print('data dimensions are:', data.shape)"
   ]
  },
  {
   "cell_type": "markdown",
   "id": "8718abb5",
   "metadata": {},
   "source": [
    "_____\n",
    "\n",
    "### `ماهي المشكلة بالأبعاد الكثيرة؟`"
   ]
  },
  {
   "cell_type": "markdown",
   "id": "8f39f615",
   "metadata": {},
   "source": [
    "`\n",
    "إن وجود مجموعة بيانات تحتوي على 563 عمودًا قدد يسبب مشاكل في ما يلي \n",
    "`\n",
    "\n",
    "`\n",
    "وقت الحساب 1 - Computation time\n",
    "`\n",
    "\n",
    "`\n",
    "مع وجود عدد كبير من الأعمدة، تستغرق معالجة البيانات وتدريب نماذج التعلم الآلي وقتًا أطول\n",
    "`\n",
    "\n",
    "`\n",
    "تشبع النموذج 2 - overfitting`\n",
    "\n",
    "`\n",
    "عندما يكون لدينا الكثير من الميزات، سيكون هناك في الغالب الكثير من الضوضاء (معلومات ذات أهمية قليلة أو معدومة) في البيانات بدلاً من الأنماط الأساسية. وهذا سوف يؤدي إلى زيادة تشبع النموذج، مما يعني أن النموذج سوف يعمل بشكل جيد على بيانات التدريب ولكن بشكل سيئ على البيانات الجديدة كما أشرنا في الجزء الرابع من السلسلة\n",
    "`\n",
    "\n",
    "`\n",
    "لعنة الأبعاد 3 - Curse of dimensionality\n",
    "`\n",
    "\n",
    "`\n",
    "إن مع زيادة عدد الميزات، تزداد أيضًا كمية البيانات المطلوبة (عدد الصفوف) لتحقيق مستوى مقبول في أداء النموذج. يُعرف هذا بإسم لعنة الأبعاد ، ويمكن أن يكون تحديًا خاصًا حين تكون البيانات محدودة\n",
    "`\n",
    "\n",
    "\n",
    "`\n",
    "الحل: لمعالجة هذه المشكلات، يمكن استخدام تقنية تحليل المكونات الأساسية\n",
    "`\n",
    "\n",
    "`\n",
    "PCA\n",
    "`\n",
    "\n",
    "`\n",
    " لتقليل عدد الأعمدة في مجموعة البيانات، والتي سوف تساعدنا في التقاط أكبر كمية من المعلومات المفيدة وإزالة المعلومات الزائدة عن الحاجة أو ليست ذات الصلة. مما يؤدي إلى وقت تدريب أسرع، وتقليل مخاطر التشبع العالي\n",
    "`\n",
    "\n",
    "`Reducing data dimensions reduces training time and the risk of overfitting`"
   ]
  },
  {
   "cell_type": "markdown",
   "id": "9b207657",
   "metadata": {},
   "source": [
    "\n",
    "### `Step One: Measure Time and Accuracy on The Complete Dimensions  — الخطوة الأولى: قياس وقت التدريب و دقة النموذج على الأبعاد الكاملة `\n"
   ]
  },
  {
   "cell_type": "markdown",
   "id": "e00ee208",
   "metadata": {},
   "source": [
    "`نقوم بفصل البيانات أولا كالتالي`"
   ]
  },
  {
   "cell_type": "code",
   "execution_count": 3,
   "id": "997ad0af",
   "metadata": {},
   "outputs": [],
   "source": [
    "X = data.drop('Activity', axis = 1) #Independent variables\n",
    "y = data.Activity #Dependent variable"
   ]
  },
  {
   "cell_type": "code",
   "execution_count": 4,
   "id": "1f8b8c5c",
   "metadata": {},
   "outputs": [],
   "source": [
    "from sklearn.model_selection import train_test_split\n",
    "rs = 221\n",
    "X_train, X_test, y_train, y_test = train_test_split(X, y, test_size=0.3, random_state=rs, stratify = y)"
   ]
  },
  {
   "cell_type": "markdown",
   "id": "9d69bd0f",
   "metadata": {},
   "source": [
    "`ومن ثم توحيد المقايس بين الأعمدة`"
   ]
  },
  {
   "cell_type": "code",
   "execution_count": 5,
   "id": "cd0f4b1b",
   "metadata": {},
   "outputs": [],
   "source": [
    "from sklearn.preprocessing import StandardScaler\n",
    "scalar = StandardScaler()\n",
    "X_train_s = scalar.fit_transform(X_train)\n",
    "X_test_s = scalar.transform(X_test)"
   ]
  },
  {
   "cell_type": "markdown",
   "id": "13feb208",
   "metadata": {},
   "source": [
    "`الأن سوف نستخدم خوازمية الانحدار الخطي لتدريب النموذج ورؤية الوقت المستغرق في التدريب والدقة الناتجة، للتنويه: عند استخدام نفس الحالة العشوائية (3221) سوف نحصل على نتائج دقة متساوية، ووقت التدريب سوف يختلف باختلاف المعالج المستخدم ولكنه سوف يكون اختلاف طفيف جدًا`"
   ]
  },
  {
   "cell_type": "code",
   "execution_count": 6,
   "id": "194a6783",
   "metadata": {},
   "outputs": [],
   "source": [
    "from sklearn.linear_model import LogisticRegression"
   ]
  },
  {
   "cell_type": "code",
   "execution_count": 7,
   "id": "62ea5417",
   "metadata": {
    "scrolled": true
   },
   "outputs": [
    {
     "name": "stdout",
     "output_type": "stream",
     "text": [
      "CPU times: user 2.01 s, sys: 15.6 ms, total: 2.03 s\n",
      "Wall time: 2.03 s\n"
     ]
    }
   ],
   "source": [
    "%%time\n",
    "model = LogisticRegression(solver='liblinear', random_state = rs)\n",
    "model = model.fit(X_train_s, y_train)\n",
    "y_pred = model.predict(X_test_s)"
   ]
  },
  {
   "cell_type": "markdown",
   "id": "827bd134",
   "metadata": {},
   "source": [
    "`نلاحظ أن`\n",
    "\n",
    "`CPU times = 2.01 s`\n",
    "    \n",
    "`وهو الوقت الذي استغرقه المعالج لتدريب النموذج وإجراء التوقع. الأن فلنقم بالتحقق من الدقة`"
   ]
  },
  {
   "cell_type": "code",
   "execution_count": 8,
   "id": "ee174df2",
   "metadata": {},
   "outputs": [
    {
     "name": "stdout",
     "output_type": "stream",
     "text": [
      "Accuracy score:  0.98\n"
     ]
    }
   ],
   "source": [
    "from sklearn.metrics import accuracy_score\n",
    "print('Accuracy score: ', round(accuracy_score(y_test, y_pred), 2))"
   ]
  },
  {
   "cell_type": "markdown",
   "id": "d6a902de",
   "metadata": {},
   "source": [
    "### `Step Two: Reduce Data Dimensions  — الخطوة الثانية: تقليل أبعاد البيانات  `"
   ]
  },
  {
   "cell_type": "markdown",
   "id": "abf828f1",
   "metadata": {},
   "source": [
    "`سوف نقوم الآن بتجربة اختزال جميع المزايا المستخدمة ألا وهي 563 إلى ميزتين فقط. ومن ثم تجربة تدريب نموذج على هذه الميزتين فقط ورؤية أثرها في تقليل وقت التدريب وعلى الدقة`"
   ]
  },
  {
   "cell_type": "code",
   "execution_count": 9,
   "id": "5f00877c",
   "metadata": {},
   "outputs": [],
   "source": [
    "# Reduce dimensions\n",
    "from sklearn.decomposition import PCA  \n",
    "model = PCA(n_components=2)  # Use 2 components only          \n",
    "X_train_s_PCA = model.fit_transform(X_train_s)                     \n",
    "X_test_s_PCA = model.transform(X_test_s)     "
   ]
  },
  {
   "cell_type": "markdown",
   "id": "468dfcb5",
   "metadata": {},
   "source": [
    "`لاحظ أننا قمنا باستخدام الأعمدة المستقلة فقط في تدريب النموذج\n",
    "`\n",
    "\n",
    "`X_train_s`\n",
    "\n",
    "\n",
    "`لأننا لا نقوم باستخدام العامود المستهدف`\n",
    "\n",
    "`y_train`\n",
    "\n",
    "`في تدريب نماذج التعلم الآلي الغير خاضع للإشراف. ويمكننا التحقق من البعدين الناتجين كالتالي`\n"
   ]
  },
  {
   "cell_type": "code",
   "execution_count": 10,
   "id": "5f292fc0",
   "metadata": {},
   "outputs": [
    {
     "data": {
      "text/plain": [
       "array([[-15.21833787,   1.1179913 ],\n",
       "       [ 36.00811118,   5.52825821],\n",
       "       [ -1.72974663,  -9.75052315],\n",
       "       [-13.87582545,  -0.24468543],\n",
       "       [-16.05932873,  -3.17572823],\n",
       "       [-16.67426293,   6.54099994],\n",
       "       [-16.8641901 ,   1.06662178],\n",
       "       [-16.90179699,   2.07001619],\n",
       "       [-14.55951538,  -5.19195412],\n",
       "       [-11.79378466,  -6.60872167]])"
      ]
     },
     "execution_count": 10,
     "metadata": {},
     "output_type": "execute_result"
    }
   ],
   "source": [
    "X_test_s_PCA[1:11]"
   ]
  },
  {
   "cell_type": "markdown",
   "id": "0c9df34a",
   "metadata": {},
   "source": [
    "`الآن فلنقم بتدريب نموذج التصنيف باستخدام`\n",
    "\n",
    "`PCA1 & PCA2`\n",
    "\n",
    "`\n",
    "فقط ورؤية الوقت المستغرق في التدريب`"
   ]
  },
  {
   "cell_type": "code",
   "execution_count": 11,
   "id": "f88f11f5",
   "metadata": {},
   "outputs": [
    {
     "name": "stdout",
     "output_type": "stream",
     "text": [
      "CPU times: user 13.2 ms, sys: 1.02 ms, total: 14.2 ms\n",
      "Wall time: 18.4 ms\n"
     ]
    }
   ],
   "source": [
    "%%time\n",
    "model = LogisticRegression(solver='liblinear', random_state = rs)\n",
    "model = model.fit(X_train_s_PCA, y_train)\n",
    "y_pred = model.predict(X_test_s_PCA)"
   ]
  },
  {
   "cell_type": "markdown",
   "id": "5d9197b9",
   "metadata": {},
   "source": [
    "`نلاحظ أن عملية التدريب قد أصبحت أقصر بكثير، حيث أن الوقت المستغرق لتدريب النموذج وإجراء التوقع أصبح فقط`\n",
    "\n",
    "`13.2 ms`\n",
    "\n",
    "`نستطيع حفظ البيانات المختزلة مع العامود المستهدف في جدول ورسمه كالتالي`"
   ]
  },
  {
   "cell_type": "code",
   "execution_count": 12,
   "id": "2db888e7",
   "metadata": {},
   "outputs": [
    {
     "data": {
      "text/html": [
       "<div>\n",
       "<style scoped>\n",
       "    .dataframe tbody tr th:only-of-type {\n",
       "        vertical-align: middle;\n",
       "    }\n",
       "\n",
       "    .dataframe tbody tr th {\n",
       "        vertical-align: top;\n",
       "    }\n",
       "\n",
       "    .dataframe thead th {\n",
       "        text-align: right;\n",
       "    }\n",
       "</style>\n",
       "<table border=\"1\" class=\"dataframe\">\n",
       "  <thead>\n",
       "    <tr style=\"text-align: right;\">\n",
       "      <th></th>\n",
       "      <th>Activity</th>\n",
       "      <th>PCA1</th>\n",
       "      <th>PCA2</th>\n",
       "    </tr>\n",
       "  </thead>\n",
       "  <tbody>\n",
       "    <tr>\n",
       "      <th>1658</th>\n",
       "      <td>WALKING_DOWNSTAIRS</td>\n",
       "      <td>29.411444</td>\n",
       "      <td>5.817405</td>\n",
       "    </tr>\n",
       "    <tr>\n",
       "      <th>1888</th>\n",
       "      <td>SITTING</td>\n",
       "      <td>-12.834180</td>\n",
       "      <td>-5.050696</td>\n",
       "    </tr>\n",
       "    <tr>\n",
       "      <th>1324</th>\n",
       "      <td>WALKING_DOWNSTAIRS</td>\n",
       "      <td>27.308516</td>\n",
       "      <td>10.027629</td>\n",
       "    </tr>\n",
       "    <tr>\n",
       "      <th>1338</th>\n",
       "      <td>WALKING_UPSTAIRS</td>\n",
       "      <td>12.092042</td>\n",
       "      <td>-9.790183</td>\n",
       "    </tr>\n",
       "    <tr>\n",
       "      <th>129</th>\n",
       "      <td>WALKING_DOWNSTAIRS</td>\n",
       "      <td>28.314707</td>\n",
       "      <td>3.364154</td>\n",
       "    </tr>\n",
       "    <tr>\n",
       "      <th>2002</th>\n",
       "      <td>WALKING_DOWNSTAIRS</td>\n",
       "      <td>8.573754</td>\n",
       "      <td>-5.650178</td>\n",
       "    </tr>\n",
       "    <tr>\n",
       "      <th>1574</th>\n",
       "      <td>LAYING</td>\n",
       "      <td>-16.767812</td>\n",
       "      <td>2.527772</td>\n",
       "    </tr>\n",
       "    <tr>\n",
       "      <th>1707</th>\n",
       "      <td>STANDING</td>\n",
       "      <td>-12.436791</td>\n",
       "      <td>-6.884028</td>\n",
       "    </tr>\n",
       "    <tr>\n",
       "      <th>2390</th>\n",
       "      <td>WALKING_UPSTAIRS</td>\n",
       "      <td>20.820705</td>\n",
       "      <td>-3.753692</td>\n",
       "    </tr>\n",
       "    <tr>\n",
       "      <th>509</th>\n",
       "      <td>SITTING</td>\n",
       "      <td>-13.267114</td>\n",
       "      <td>-8.254636</td>\n",
       "    </tr>\n",
       "  </tbody>\n",
       "</table>\n",
       "</div>"
      ],
      "text/plain": [
       "                Activity       PCA1       PCA2\n",
       "1658  WALKING_DOWNSTAIRS  29.411444   5.817405\n",
       "1888             SITTING -12.834180  -5.050696\n",
       "1324  WALKING_DOWNSTAIRS  27.308516  10.027629\n",
       "1338    WALKING_UPSTAIRS  12.092042  -9.790183\n",
       "129   WALKING_DOWNSTAIRS  28.314707   3.364154\n",
       "2002  WALKING_DOWNSTAIRS   8.573754  -5.650178\n",
       "1574              LAYING -16.767812   2.527772\n",
       "1707            STANDING -12.436791  -6.884028\n",
       "2390    WALKING_UPSTAIRS  20.820705  -3.753692\n",
       "509              SITTING -13.267114  -8.254636"
      ]
     },
     "execution_count": 12,
     "metadata": {},
     "output_type": "execute_result"
    }
   ],
   "source": [
    "Reduced_df = pd.DataFrame(y_test)\n",
    "Reduced_df['PCA1'] = X_test_s_PCA[:,0]\n",
    "Reduced_df['PCA2'] = X_test_s_PCA[:,1]\n",
    "Reduced_df.reset_index().drop('index',axis = 1)\n",
    "Reduced_df.sample(10)"
   ]
  },
  {
   "cell_type": "code",
   "execution_count": 13,
   "id": "a2af02c1",
   "metadata": {},
   "outputs": [
    {
     "data": {
      "image/png": "[encoded data removed]",
      "text/plain": [
       "<Figure size 715.5x500 with 1 Axes>"
      ]
     },
     "metadata": {},
     "output_type": "display_data"
    }
   ],
   "source": [
    "import seaborn as sns\n",
    "import matplotlib.pyplot as plt\n",
    "sns.lmplot( x = 'PCA1', y = 'PCA2', hue='Activity', data=Reduced_df, fit_reg=False)\n",
    "plt.title('Human Activities Classification Using 2 PCA Components only')\n",
    "plt.show()"
   ]
  },
  {
   "cell_type": "markdown",
   "id": "0c359210",
   "metadata": {},
   "source": [
    "`تشير هذه الرسمة الثنائية الأبعاد أننا قمنا بتوقع نوع النشاط البدني الذي يقوم به الإنسان بناء على بعدين فقط ألا وهم\n",
    "`\n",
    "\n",
    "`PCA1 & PCA2`\n",
    "\n",
    "\n",
    "\n",
    "`والآن فلنقم باختبار الدقة كالتالي`"
   ]
  },
  {
   "cell_type": "code",
   "execution_count": 14,
   "id": "6e1d6c24",
   "metadata": {
    "scrolled": true
   },
   "outputs": [
    {
     "name": "stdout",
     "output_type": "stream",
     "text": [
      "Accuracy score:  0.6\n"
     ]
    }
   ],
   "source": [
    "print('Accuracy score: ', round(accuracy_score(y_test, y_pred), 2))"
   ]
  },
  {
   "cell_type": "markdown",
   "id": "a6340fac",
   "metadata": {},
   "source": [
    "`نلاحظ أن الدقة متدنية نوعًا ما وغير مرضية. فعلى الرغم من أننا قمنا بتقليل وقت التدريب بشكل ممتاز، إلا أن أداء النموذج سيء. ولتحسين الدقة، فلنقم بتجربة اختزال المعلومات في 20 مكون بدلًا من اثنان فقط ورؤية وقت التدريب مع الدقة الجديدين`"
   ]
  },
  {
   "cell_type": "code",
   "execution_count": 15,
   "id": "d6d969f6",
   "metadata": {},
   "outputs": [],
   "source": [
    "model = PCA(n_components=20)  #Reduce data into 20 components          \n",
    "X_train_s_PCA = model.fit_transform(X_train_s)                 \n",
    "X_test_s_PCA = model.transform(X_test_s)       "
   ]
  },
  {
   "cell_type": "code",
   "execution_count": 16,
   "id": "a1dfcb40",
   "metadata": {},
   "outputs": [
    {
     "name": "stdout",
     "output_type": "stream",
     "text": [
      "CPU times: user 99 ms, sys: 3.63 ms, total: 103 ms\n",
      "Wall time: 103 ms\n"
     ]
    }
   ],
   "source": [
    "%%time\n",
    "model = LogisticRegression(solver='liblinear', random_state = rs)\n",
    "model = model.fit(X_train_s_PCA, y_train)\n",
    "y_pred = model.predict(X_test_s_PCA)"
   ]
  },
  {
   "cell_type": "code",
   "execution_count": 17,
   "id": "dc018113",
   "metadata": {},
   "outputs": [
    {
     "name": "stdout",
     "output_type": "stream",
     "text": [
      "Accuracy score:  0.89\n"
     ]
    }
   ],
   "source": [
    "print('Accuracy score: ', round(accuracy_score(y_test, y_pred), 2))"
   ]
  },
  {
   "cell_type": "markdown",
   "id": "260c1d66",
   "metadata": {},
   "source": [
    "`حسنًا!، لقد قمنا باختزال 563 عامود إلى 20 عامود فقط. وقمنا بالمحافظة نسبيًا على دقة عالية 89% مع تقليل الوقت المستغرق في تدريب واختبار النموذج إلى `\n",
    "\n",
    "`99 ms`\n",
    "\n",
    "`الآن سوف نقوم برفع عدد المكونات الرئيسية إلى 200 حتى نستطيع الحصول على مثل الدقة الكاملة وهي 98 بالمئة `"
   ]
  },
  {
   "cell_type": "code",
   "execution_count": 27,
   "id": "6f97f68b",
   "metadata": {},
   "outputs": [],
   "source": [
    "model = PCA(n_components=200)            \n",
    "X_train_s_PCA = model.fit_transform(X_train_s)                     \n",
    "X_test_s_PCA = model.transform(X_test_s)    "
   ]
  },
  {
   "cell_type": "code",
   "execution_count": 28,
   "id": "67ad5e94",
   "metadata": {},
   "outputs": [
    {
     "name": "stdout",
     "output_type": "stream",
     "text": [
      "CPU times: user 936 ms, sys: 9.91 ms, total: 946 ms\n",
      "Wall time: 835 ms\n"
     ]
    }
   ],
   "source": [
    "%%time\n",
    "model = LogisticRegression(solver='liblinear', random_state = rs)\n",
    "model = model.fit(X_train_s_PCA, y_train)\n",
    "y_pred = model.predict(X_test_s_PCA)"
   ]
  },
  {
   "cell_type": "code",
   "execution_count": 29,
   "id": "04b1946d",
   "metadata": {
    "scrolled": true
   },
   "outputs": [
    {
     "name": "stdout",
     "output_type": "stream",
     "text": [
      "Accuracy score:  0.98\n"
     ]
    }
   ],
   "source": [
    "print('Accuracy score: ', round(accuracy_score(y_test, y_pred), 2))"
   ]
  },
  {
   "cell_type": "markdown",
   "id": "ce42f653",
   "metadata": {},
   "source": [
    "` ممتاز! لقد قمنا بنجاح باختزال الأعمدة من 563 إلى 200 عامود فقط و تقليل الوقت الحسابي إلى`\n",
    "\n",
    "`936ms`\n",
    "\n",
    "\n",
    "`فقط مع المحافظة على نفس الدقة`"
   ]
  },
  {
   "cell_type": "markdown",
   "id": "c1ebcac4",
   "metadata": {},
   "source": [
    "### `Step Three: Measure the Captured Variance per Component — الخطوة الثالثة: قياس كمية التباين الملتقط  `"
   ]
  },
  {
   "cell_type": "markdown",
   "id": "46d0d129",
   "metadata": {},
   "source": [
    "`\n",
    "الآن نحن نتساءلُ سويًا: كيف نختار عدد المكونات المناسب؟ إن عدد المكونات المناسب هو العدد الذي يضمن لنا التقاط كمية التباين الكافية للحصول على الدقة المطلوبة. حيث أن هدف المكونات الرئيسية هو أن تشرح التباين في البيانات، ومفهوم التباين الملتقط يشير إلى النسبة المئوية للتباين الكلي في البيانات التي يتم شرحها من خلال المكونات الناتجة. ولذلك يعد التباين الملتقط مؤشرًا مهمًا لأنه يخبرنا عن مقدار المعلومات الأصلية في البيانات التي تم الاحتفاظ بها بعد إجراء تحليل المكونات الأساسي. ولذلك سوف نقوم برؤية مجموع التباين الملتقط بناء على عدد المكونات الأساسية المستخدمة بدءًا بمكون واحد وصولا إلى 225 مكون\n",
    "`"
   ]
  },
  {
   "cell_type": "code",
   "execution_count": 30,
   "id": "a6f93096",
   "metadata": {},
   "outputs": [
    {
     "name": "stderr",
     "output_type": "stream",
     "text": [
      "/Users/salahkaf/opt/anaconda3/lib/python3.9/site-packages/pandas/core/indexes/base.py:6999: FutureWarning: In a future version, the Index constructor will not infer numeric dtypes when passed object-dtype sequences (matching Series behavior)\n",
      "  return Index(sequences[0], name=names)\n"
     ]
    },
    {
     "data": {
      "text/html": [
       "<div>\n",
       "<style scoped>\n",
       "    .dataframe tbody tr th:only-of-type {\n",
       "        vertical-align: middle;\n",
       "    }\n",
       "\n",
       "    .dataframe tbody tr th {\n",
       "        vertical-align: top;\n",
       "    }\n",
       "\n",
       "    .dataframe thead th {\n",
       "        text-align: right;\n",
       "    }\n",
       "</style>\n",
       "<table border=\"1\" class=\"dataframe\">\n",
       "  <thead>\n",
       "    <tr style=\"text-align: right;\">\n",
       "      <th></th>\n",
       "      <th>model</th>\n",
       "      <th>var</th>\n",
       "    </tr>\n",
       "    <tr>\n",
       "      <th>n</th>\n",
       "      <th></th>\n",
       "      <th></th>\n",
       "    </tr>\n",
       "  </thead>\n",
       "  <tbody>\n",
       "    <tr>\n",
       "      <th>1</th>\n",
       "      <td>PCA(n_components=1)</td>\n",
       "      <td>0.49352</td>\n",
       "    </tr>\n",
       "    <tr>\n",
       "      <th>2</th>\n",
       "      <td>PCA(n_components=2)</td>\n",
       "      <td>0.805745</td>\n",
       "    </tr>\n",
       "    <tr>\n",
       "      <th>3</th>\n",
       "      <td>PCA(n_components=3)</td>\n",
       "      <td>0.830786</td>\n",
       "    </tr>\n",
       "    <tr>\n",
       "      <th>4</th>\n",
       "      <td>PCA(n_components=4)</td>\n",
       "      <td>0.848237</td>\n",
       "    </tr>\n",
       "    <tr>\n",
       "      <th>5</th>\n",
       "      <td>PCA(n_components=5)</td>\n",
       "      <td>0.857658</td>\n",
       "    </tr>\n",
       "    <tr>\n",
       "      <th>6</th>\n",
       "      <td>PCA(n_components=6)</td>\n",
       "      <td>0.865275</td>\n",
       "    </tr>\n",
       "    <tr>\n",
       "      <th>7</th>\n",
       "      <td>PCA(n_components=7)</td>\n",
       "      <td>0.872224</td>\n",
       "    </tr>\n",
       "    <tr>\n",
       "      <th>8</th>\n",
       "      <td>PCA(n_components=8)</td>\n",
       "      <td>0.878073</td>\n",
       "    </tr>\n",
       "    <tr>\n",
       "      <th>9</th>\n",
       "      <td>PCA(n_components=9)</td>\n",
       "      <td>0.883546</td>\n",
       "    </tr>\n",
       "    <tr>\n",
       "      <th>10</th>\n",
       "      <td>PCA(n_components=10)</td>\n",
       "      <td>0.888762</td>\n",
       "    </tr>\n",
       "  </tbody>\n",
       "</table>\n",
       "</div>"
      ],
      "text/plain": [
       "                   model       var\n",
       "n                                 \n",
       "1    PCA(n_components=1)   0.49352\n",
       "2    PCA(n_components=2)  0.805745\n",
       "3    PCA(n_components=3)  0.830786\n",
       "4    PCA(n_components=4)  0.848237\n",
       "5    PCA(n_components=5)  0.857658\n",
       "6    PCA(n_components=6)  0.865275\n",
       "7    PCA(n_components=7)  0.872224\n",
       "8    PCA(n_components=8)  0.878073\n",
       "9    PCA(n_components=9)  0.883546\n",
       "10  PCA(n_components=10)  0.888762"
      ]
     },
     "metadata": {},
     "output_type": "display_data"
    },
    {
     "data": {
      "text/html": [
       "<div>\n",
       "<style scoped>\n",
       "    .dataframe tbody tr th:only-of-type {\n",
       "        vertical-align: middle;\n",
       "    }\n",
       "\n",
       "    .dataframe tbody tr th {\n",
       "        vertical-align: top;\n",
       "    }\n",
       "\n",
       "    .dataframe thead th {\n",
       "        text-align: right;\n",
       "    }\n",
       "</style>\n",
       "<table border=\"1\" class=\"dataframe\">\n",
       "  <thead>\n",
       "    <tr style=\"text-align: right;\">\n",
       "      <th></th>\n",
       "      <th>model</th>\n",
       "      <th>var</th>\n",
       "    </tr>\n",
       "    <tr>\n",
       "      <th>n</th>\n",
       "      <th></th>\n",
       "      <th></th>\n",
       "    </tr>\n",
       "  </thead>\n",
       "  <tbody>\n",
       "    <tr>\n",
       "      <th>216</th>\n",
       "      <td>PCA(n_components=216)</td>\n",
       "      <td>0.998469</td>\n",
       "    </tr>\n",
       "    <tr>\n",
       "      <th>217</th>\n",
       "      <td>PCA(n_components=217)</td>\n",
       "      <td>0.998497</td>\n",
       "    </tr>\n",
       "    <tr>\n",
       "      <th>218</th>\n",
       "      <td>PCA(n_components=218)</td>\n",
       "      <td>0.998524</td>\n",
       "    </tr>\n",
       "    <tr>\n",
       "      <th>219</th>\n",
       "      <td>PCA(n_components=219)</td>\n",
       "      <td>0.998549</td>\n",
       "    </tr>\n",
       "    <tr>\n",
       "      <th>220</th>\n",
       "      <td>PCA(n_components=220)</td>\n",
       "      <td>0.998575</td>\n",
       "    </tr>\n",
       "    <tr>\n",
       "      <th>221</th>\n",
       "      <td>PCA(n_components=221)</td>\n",
       "      <td>0.998601</td>\n",
       "    </tr>\n",
       "    <tr>\n",
       "      <th>222</th>\n",
       "      <td>PCA(n_components=222)</td>\n",
       "      <td>0.998624</td>\n",
       "    </tr>\n",
       "    <tr>\n",
       "      <th>223</th>\n",
       "      <td>PCA(n_components=223)</td>\n",
       "      <td>0.998652</td>\n",
       "    </tr>\n",
       "    <tr>\n",
       "      <th>224</th>\n",
       "      <td>PCA(n_components=224)</td>\n",
       "      <td>0.998674</td>\n",
       "    </tr>\n",
       "    <tr>\n",
       "      <th>225</th>\n",
       "      <td>PCA(n_components=225)</td>\n",
       "      <td>0.998695</td>\n",
       "    </tr>\n",
       "  </tbody>\n",
       "</table>\n",
       "</div>"
      ],
      "text/plain": [
       "                     model       var\n",
       "n                                   \n",
       "216  PCA(n_components=216)  0.998469\n",
       "217  PCA(n_components=217)  0.998497\n",
       "218  PCA(n_components=218)  0.998524\n",
       "219  PCA(n_components=219)  0.998549\n",
       "220  PCA(n_components=220)  0.998575\n",
       "221  PCA(n_components=221)  0.998601\n",
       "222  PCA(n_components=222)  0.998624\n",
       "223  PCA(n_components=223)  0.998652\n",
       "224  PCA(n_components=224)  0.998674\n",
       "225  PCA(n_components=225)  0.998695"
      ]
     },
     "metadata": {},
     "output_type": "display_data"
    }
   ],
   "source": [
    "import numpy as np\n",
    "pca_list = list()\n",
    "feature_weight_list = list()\n",
    "\n",
    "\n",
    "# Fit a range of PCA models\n",
    "\n",
    "for n in range(1,226):\n",
    "    \n",
    "    # Create and fit the model\n",
    "    PCAmod = PCA(n_components=n)\n",
    "    PCAmod.fit(X) # Remeber that X is the data without the label feature 'Activity'\n",
    "    \n",
    "    # Store the model and variance [First principle component always has higher weight]\n",
    "    pca_list.append(pd.Series({'n':n, 'model':PCAmod,\n",
    "                               'var': PCAmod.explained_variance_ratio_.sum()})) # pending series to list\n",
    "    \n",
    "    # Calculate and store feature importances\n",
    "    weights = PCAmod.explained_variance_ratio_.reshape(-1,1)/PCAmod.explained_variance_ratio_.sum()\n",
    "    overall_contribution = np.abs(PCAmod.components_)*weights\n",
    "    abs_feature_values = overall_contribution.sum(axis=0)\n",
    "    feature_weight_list.append(pd.DataFrame({'n':n, \n",
    "                                             'features': X.columns,\n",
    "                                             'values':abs_feature_values/abs_feature_values.sum()}))\n",
    "    \n",
    "pca_df = pd.concat(pca_list, axis=1).T.set_index('n')\n",
    "display(pca_df.head(10))\n",
    "display(pca_df.tail(10))\n"
   ]
  },
  {
   "cell_type": "markdown",
   "id": "e3dce149",
   "metadata": {},
   "source": [
    "`نلاحظ أن عند استخدام عامودين فقط يتم التقاط 80.05% من التباين، ووصولا إلى 99.87% عند استخدام 225 عامود (أي 225 مكون). يمكننا أيضا رسم التباين الملتقط بناء على عدد المكونات كالتالي`"
   ]
  },
  {
   "cell_type": "code",
   "execution_count": 31,
   "id": "a70ae3f5",
   "metadata": {
    "scrolled": true
   },
   "outputs": [
    {
     "data": {
      "image/png": "[encoded data removed]",
      "text/plain": [
       "<Figure size 640x480 with 1 Axes>"
      ]
     },
     "metadata": {},
     "output_type": "display_data"
    }
   ],
   "source": [
    "ax = pca_df['var'].plot(kind='line')\n",
    "ax.set(xlabel='Number of dimensions',\n",
    "       ylabel='Percent explained variance',\n",
    "       title='Explained Variance vs Dimensions');\n",
    "ax.grid(True)\n",
    "plt.show()"
   ]
  },
  {
   "cell_type": "markdown",
   "id": "570cb66c",
   "metadata": {},
   "source": [
    "`نلاحظ من الرسمة أن نسبة التباين الملتقط ترتفع من 80% إلى 95% خلال فترة زيادة أبعاد المكونات الرئيسية من 2 وصولا إلى 50. وبعد ذلك تكون الزيادة طفيفة في مقدار التباين الملتقط. مما يعني أننا نستطيع الحصول على دقة ممتازةإذا تم استخدام 50 مكون أو أكثر `"
   ]
  },
  {
   "cell_type": "markdown",
   "id": "5a814a9e",
   "metadata": {},
   "source": [
    "### `Bonus Step: Finding Features Impact on Variance Capturing — خطوة إضافية : إيجاد أثر الميزات في التقاط التباين  `"
   ]
  },
  {
   "cell_type": "markdown",
   "id": "d9e4ae55",
   "metadata": {},
   "source": [
    "`استنتجنا سويًا أن تحليل المكونات الرئيسية هي تقنية لتقليل أبعاد جدول البيانات مع الاحتفاظ بأكبر قدر ممكن من المعلومات. تتمثل إحدى الفوائد الرئيسية لهذه التقنية في قدرتها على تحديد الميزات (الأعمدة) في جدول البيانات التي لها أكبر مشاركة في كمية التباين الذي تلتقطه المكونات الرئيسية. أي أننا نستطيع أن نستكشف أهمية الميزات بناء على نسبة التباين الذي يقدمه كل عامود. ففي الرسمة السابقة، قمنا برسم كمية التباين الملتقط بناء على عدد المكونات المستخدمة، الأن سوف نقوم بإنشاء جدول يحتوي على كمية المساهمة لكل عامود من الأعمدة المستقلة في نسبة التباين الملتقط كالتالي`"
   ]
  },
  {
   "cell_type": "code",
   "execution_count": 23,
   "id": "e89ca2f5",
   "metadata": {
    "scrolled": true
   },
   "outputs": [
    {
     "data": {
      "text/html": [
       "<div>\n",
       "<style scoped>\n",
       "    .dataframe tbody tr th:only-of-type {\n",
       "        vertical-align: middle;\n",
       "    }\n",
       "\n",
       "    .dataframe tbody tr th {\n",
       "        vertical-align: top;\n",
       "    }\n",
       "\n",
       "    .dataframe thead th {\n",
       "        text-align: right;\n",
       "    }\n",
       "</style>\n",
       "<table border=\"1\" class=\"dataframe\">\n",
       "  <thead>\n",
       "    <tr style=\"text-align: right;\">\n",
       "      <th>features</th>\n",
       "      <th>angle(X,gravityMean)</th>\n",
       "      <th>angle(Y,gravityMean)</th>\n",
       "      <th>angle(Z,gravityMean)</th>\n",
       "      <th>angle(tBodyAccJerkMean),gravityMean)</th>\n",
       "      <th>angle(tBodyAccMean,gravity)</th>\n",
       "      <th>angle(tBodyGyroJerkMean,gravityMean)</th>\n",
       "      <th>angle(tBodyGyroMean,gravityMean)</th>\n",
       "      <th>fBodyAcc-bandsEnergy()-1,16</th>\n",
       "      <th>fBodyAcc-bandsEnergy()-1,16.1</th>\n",
       "      <th>fBodyAcc-bandsEnergy()-1,16.2</th>\n",
       "      <th>...</th>\n",
       "      <th>tGravityAccMag-arCoeff()4</th>\n",
       "      <th>tGravityAccMag-energy()</th>\n",
       "      <th>tGravityAccMag-entropy()</th>\n",
       "      <th>tGravityAccMag-iqr()</th>\n",
       "      <th>tGravityAccMag-mad()</th>\n",
       "      <th>tGravityAccMag-max()</th>\n",
       "      <th>tGravityAccMag-mean()</th>\n",
       "      <th>tGravityAccMag-min()</th>\n",
       "      <th>tGravityAccMag-sma()</th>\n",
       "      <th>tGravityAccMag-std()</th>\n",
       "    </tr>\n",
       "    <tr>\n",
       "      <th>n</th>\n",
       "      <th></th>\n",
       "      <th></th>\n",
       "      <th></th>\n",
       "      <th></th>\n",
       "      <th></th>\n",
       "      <th></th>\n",
       "      <th></th>\n",
       "      <th></th>\n",
       "      <th></th>\n",
       "      <th></th>\n",
       "      <th></th>\n",
       "      <th></th>\n",
       "      <th></th>\n",
       "      <th></th>\n",
       "      <th></th>\n",
       "      <th></th>\n",
       "      <th></th>\n",
       "      <th></th>\n",
       "      <th></th>\n",
       "      <th></th>\n",
       "      <th></th>\n",
       "    </tr>\n",
       "  </thead>\n",
       "  <tbody>\n",
       "    <tr>\n",
       "      <th>1</th>\n",
       "      <td>0.000977</td>\n",
       "      <td>0.001256</td>\n",
       "      <td>0.000118</td>\n",
       "      <td>7.853842e-07</td>\n",
       "      <td>0.000083</td>\n",
       "      <td>0.000017</td>\n",
       "      <td>0.001091</td>\n",
       "      <td>0.001383</td>\n",
       "      <td>0.000892</td>\n",
       "      <td>0.000841</td>\n",
       "      <td>...</td>\n",
       "      <td>0.000020</td>\n",
       "      <td>0.001561</td>\n",
       "      <td>0.004109</td>\n",
       "      <td>0.001981</td>\n",
       "      <td>0.002407</td>\n",
       "      <td>0.002829</td>\n",
       "      <td>0.002836</td>\n",
       "      <td>0.000999</td>\n",
       "      <td>0.002836</td>\n",
       "      <td>0.002742</td>\n",
       "    </tr>\n",
       "    <tr>\n",
       "      <th>2</th>\n",
       "      <td>0.001884</td>\n",
       "      <td>0.001443</td>\n",
       "      <td>0.000854</td>\n",
       "      <td>2.951726e-06</td>\n",
       "      <td>0.000079</td>\n",
       "      <td>0.000114</td>\n",
       "      <td>0.000424</td>\n",
       "      <td>0.001720</td>\n",
       "      <td>0.002247</td>\n",
       "      <td>0.001157</td>\n",
       "      <td>...</td>\n",
       "      <td>0.000805</td>\n",
       "      <td>0.002093</td>\n",
       "      <td>0.005572</td>\n",
       "      <td>0.002464</td>\n",
       "      <td>0.003083</td>\n",
       "      <td>0.003865</td>\n",
       "      <td>0.003907</td>\n",
       "      <td>0.001417</td>\n",
       "      <td>0.003907</td>\n",
       "      <td>0.003566</td>\n",
       "    </tr>\n",
       "    <tr>\n",
       "      <th>3</th>\n",
       "      <td>0.002493</td>\n",
       "      <td>0.001747</td>\n",
       "      <td>0.001025</td>\n",
       "      <td>1.737450e-05</td>\n",
       "      <td>0.000107</td>\n",
       "      <td>0.000113</td>\n",
       "      <td>0.000456</td>\n",
       "      <td>0.001700</td>\n",
       "      <td>0.002206</td>\n",
       "      <td>0.001116</td>\n",
       "      <td>...</td>\n",
       "      <td>0.000914</td>\n",
       "      <td>0.002058</td>\n",
       "      <td>0.005542</td>\n",
       "      <td>0.002366</td>\n",
       "      <td>0.002966</td>\n",
       "      <td>0.003729</td>\n",
       "      <td>0.003744</td>\n",
       "      <td>0.001355</td>\n",
       "      <td>0.003744</td>\n",
       "      <td>0.003433</td>\n",
       "    </tr>\n",
       "    <tr>\n",
       "      <th>4</th>\n",
       "      <td>0.002857</td>\n",
       "      <td>0.001840</td>\n",
       "      <td>0.001131</td>\n",
       "      <td>3.054009e-05</td>\n",
       "      <td>0.000115</td>\n",
       "      <td>0.000137</td>\n",
       "      <td>0.000452</td>\n",
       "      <td>0.001661</td>\n",
       "      <td>0.002150</td>\n",
       "      <td>0.001113</td>\n",
       "      <td>...</td>\n",
       "      <td>0.000975</td>\n",
       "      <td>0.002007</td>\n",
       "      <td>0.005557</td>\n",
       "      <td>0.002308</td>\n",
       "      <td>0.002891</td>\n",
       "      <td>0.003617</td>\n",
       "      <td>0.003646</td>\n",
       "      <td>0.001326</td>\n",
       "      <td>0.003646</td>\n",
       "      <td>0.003344</td>\n",
       "    </tr>\n",
       "    <tr>\n",
       "      <th>5</th>\n",
       "      <td>0.002827</td>\n",
       "      <td>0.001838</td>\n",
       "      <td>0.001152</td>\n",
       "      <td>3.987153e-05</td>\n",
       "      <td>0.000117</td>\n",
       "      <td>0.000139</td>\n",
       "      <td>0.000451</td>\n",
       "      <td>0.001660</td>\n",
       "      <td>0.002229</td>\n",
       "      <td>0.001099</td>\n",
       "      <td>...</td>\n",
       "      <td>0.000962</td>\n",
       "      <td>0.002014</td>\n",
       "      <td>0.005508</td>\n",
       "      <td>0.002291</td>\n",
       "      <td>0.002862</td>\n",
       "      <td>0.003567</td>\n",
       "      <td>0.003596</td>\n",
       "      <td>0.001306</td>\n",
       "      <td>0.003596</td>\n",
       "      <td>0.003307</td>\n",
       "    </tr>\n",
       "  </tbody>\n",
       "</table>\n",
       "<p>5 rows × 562 columns</p>\n",
       "</div>"
      ],
      "text/plain": [
       "features  angle(X,gravityMean)  angle(Y,gravityMean)  angle(Z,gravityMean)  \\\n",
       "n                                                                            \n",
       "1                     0.000977              0.001256              0.000118   \n",
       "2                     0.001884              0.001443              0.000854   \n",
       "3                     0.002493              0.001747              0.001025   \n",
       "4                     0.002857              0.001840              0.001131   \n",
       "5                     0.002827              0.001838              0.001152   \n",
       "\n",
       "features  angle(tBodyAccJerkMean),gravityMean)  angle(tBodyAccMean,gravity)  \\\n",
       "n                                                                             \n",
       "1                                 7.853842e-07                     0.000083   \n",
       "2                                 2.951726e-06                     0.000079   \n",
       "3                                 1.737450e-05                     0.000107   \n",
       "4                                 3.054009e-05                     0.000115   \n",
       "5                                 3.987153e-05                     0.000117   \n",
       "\n",
       "features  angle(tBodyGyroJerkMean,gravityMean)  \\\n",
       "n                                                \n",
       "1                                     0.000017   \n",
       "2                                     0.000114   \n",
       "3                                     0.000113   \n",
       "4                                     0.000137   \n",
       "5                                     0.000139   \n",
       "\n",
       "features  angle(tBodyGyroMean,gravityMean)  fBodyAcc-bandsEnergy()-1,16  \\\n",
       "n                                                                         \n",
       "1                                 0.001091                     0.001383   \n",
       "2                                 0.000424                     0.001720   \n",
       "3                                 0.000456                     0.001700   \n",
       "4                                 0.000452                     0.001661   \n",
       "5                                 0.000451                     0.001660   \n",
       "\n",
       "features  fBodyAcc-bandsEnergy()-1,16.1  fBodyAcc-bandsEnergy()-1,16.2  ...  \\\n",
       "n                                                                       ...   \n",
       "1                              0.000892                       0.000841  ...   \n",
       "2                              0.002247                       0.001157  ...   \n",
       "3                              0.002206                       0.001116  ...   \n",
       "4                              0.002150                       0.001113  ...   \n",
       "5                              0.002229                       0.001099  ...   \n",
       "\n",
       "features  tGravityAccMag-arCoeff()4  tGravityAccMag-energy()  \\\n",
       "n                                                              \n",
       "1                          0.000020                 0.001561   \n",
       "2                          0.000805                 0.002093   \n",
       "3                          0.000914                 0.002058   \n",
       "4                          0.000975                 0.002007   \n",
       "5                          0.000962                 0.002014   \n",
       "\n",
       "features  tGravityAccMag-entropy()  tGravityAccMag-iqr()  \\\n",
       "n                                                          \n",
       "1                         0.004109              0.001981   \n",
       "2                         0.005572              0.002464   \n",
       "3                         0.005542              0.002366   \n",
       "4                         0.005557              0.002308   \n",
       "5                         0.005508              0.002291   \n",
       "\n",
       "features  tGravityAccMag-mad()  tGravityAccMag-max()  tGravityAccMag-mean()  \\\n",
       "n                                                                             \n",
       "1                     0.002407              0.002829               0.002836   \n",
       "2                     0.003083              0.003865               0.003907   \n",
       "3                     0.002966              0.003729               0.003744   \n",
       "4                     0.002891              0.003617               0.003646   \n",
       "5                     0.002862              0.003567               0.003596   \n",
       "\n",
       "features  tGravityAccMag-min()  tGravityAccMag-sma()  tGravityAccMag-std()  \n",
       "n                                                                           \n",
       "1                     0.000999              0.002836              0.002742  \n",
       "2                     0.001417              0.003907              0.003566  \n",
       "3                     0.001355              0.003744              0.003433  \n",
       "4                     0.001326              0.003646              0.003344  \n",
       "5                     0.001306              0.003596              0.003307  \n",
       "\n",
       "[5 rows x 562 columns]"
      ]
     },
     "execution_count": 23,
     "metadata": {},
     "output_type": "execute_result"
    }
   ],
   "source": [
    "features_df = (pd.concat(feature_weight_list)\n",
    "               .pivot(index='n', columns='features', values='values'))\n",
    "\n",
    "display(features_df.head())\n",
    "display(features_df.tail())\n"
   ]
  },
  {
   "cell_type": "markdown",
   "id": "14c7e65b",
   "metadata": {},
   "source": [
    "`ولتفسير معنى القيم نلاحظ أن فهرس العامود `\n",
    "\n",
    "`n`\n",
    "\n",
    "`يمثل عدد المكونات المستخدمة في كل مرة، فالصف الأول يمثل أن البيانات تم اختزالها في عامود واحد فقط (أي مكون أساسي وحيد). وكل قيمة عامود بالصف تمثل كمية التباين الملتقط من ذلك العامود، ومجموع القيم لكل صف يساوي مجموع نسبة التباين الملتقط. إن هذه التحاليل تساعدنا في معرفة أهمية الميزات وأثرها في عملية اجراء التوقعات، وهذه ميزة أخرى في تحليل المكونات الرئيسية إضافةً إلى قدرتها على تقليل حجم البيانات`"
   ]
  },
  {
   "cell_type": "markdown",
   "id": "647b3e52",
   "metadata": {},
   "source": [
    "___\n",
    "##  `ماذا تعلمنا؟`\n",
    "#####     `في التعلم الغير خاضع للإشراف تبحث الخوارزمية عن البنية الخفية أو العلاقات بين البيانات • `\n",
    "#####     `في التعلم الغير خاضع للإشراف لا يتم استخدام العامود المستهدف • `\n",
    "#####     `قد يستخدم التعلم الغير خاضع للإشراف في تعزيز التعلم الخاضع للإشراف مثل تقليل الوقت المستغرق لتدريب نماذج التصنيف • `\n",
    "#####   ` يمكن أن تكون الأبعاد الكبيرة مشكلة في تحليل البيانات والتعلم الآلي  • ` \n",
    "##### `Principle Component Analysis - PCA:`\n",
    "#####     `   هي تقنية شائعة لحل مشكلة الأبعاد الكبيرة عن طريق تقليل عدد الميزات في مجموعة البيانات مع الاحتفاظ بمعظم المعلومات المهمة •`\n",
    "#####     `  هذه التقنية تحدد الاتجاهات (أو المكونات الرئيسية) التي تلتقط أكبر قدر من التباين في البيانات  •`\n",
    "#####     `  تستخدم التقنية  لتقليل الوقت المستغرق لتدريب النماذج وفهم أهمية المزايا •`\n"
   ]
  }
 ],
 "metadata": {
  "kernelspec": {
   "display_name": "Python 3 (ipykernel)",
   "language": "python",
   "name": "python3"
  },
  "language_info": {
   "codemirror_mode": {
    "name": "ipython",
    "version": 3
   },
   "file_extension": ".py",
   "mimetype": "text/x-python",
   "name": "python",
   "nbconvert_exporter": "python",
   "pygments_lexer": "ipython3",
   "version": "3.9.13"
  }
 },
 "nbformat": 4,
 "nbformat_minor": 5
}
